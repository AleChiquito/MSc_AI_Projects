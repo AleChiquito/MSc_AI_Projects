{
 "cells": [
  {
   "cell_type": "markdown",
   "source": [
    "## Regression from scratch"
   ],
   "metadata": {
    "collapsed": false
   }
  },
  {
   "cell_type": "markdown",
   "source": [
    "Importing and showing dataset"
   ],
   "metadata": {
    "collapsed": false
   }
  },
  {
   "cell_type": "code",
   "execution_count": 246,
   "outputs": [],
   "source": [
    "import pandas as pd\n",
    "import numpy as np"
   ],
   "metadata": {
    "collapsed": false,
    "ExecuteTime": {
     "end_time": "2023-09-20T02:41:34.168743Z",
     "start_time": "2023-09-20T02:41:34.020563Z"
    }
   }
  },
  {
   "cell_type": "code",
   "execution_count": 247,
   "outputs": [
    {
     "data": {
      "text/plain": "         Date  Rented Bike Count  Hour  Temperature(°C)  Humidity(%)  \\\n0  01/12/2017                254     0             -5.2           37   \n1  01/12/2017                204     1             -5.5           38   \n2  01/12/2017                173     2             -6.0           39   \n3  01/12/2017                107     3             -6.2           40   \n4  01/12/2017                 78     4             -6.0           36   \n\n   Wind speed (m/s)  Visibility (10m)  Dew point temperature(°C)  \\\n0               2.2              2000                      -17.6   \n1               0.8              2000                      -17.6   \n2               1.0              2000                      -17.7   \n3               0.9              2000                      -17.6   \n4               2.3              2000                      -18.6   \n\n   Solar Radiation (MJ/m2)  Rainfall(mm)  Snowfall (cm) Seasons     Holiday  \\\n0                      0.0           0.0            0.0  Winter  No Holiday   \n1                      0.0           0.0            0.0  Winter  No Holiday   \n2                      0.0           0.0            0.0  Winter  No Holiday   \n3                      0.0           0.0            0.0  Winter  No Holiday   \n4                      0.0           0.0            0.0  Winter  No Holiday   \n\n  Functioning Day  \n0             Yes  \n1             Yes  \n2             Yes  \n3             Yes  \n4             Yes  ",
      "text/html": "<div>\n<style scoped>\n    .dataframe tbody tr th:only-of-type {\n        vertical-align: middle;\n    }\n\n    .dataframe tbody tr th {\n        vertical-align: top;\n    }\n\n    .dataframe thead th {\n        text-align: right;\n    }\n</style>\n<table border=\"1\" class=\"dataframe\">\n  <thead>\n    <tr style=\"text-align: right;\">\n      <th></th>\n      <th>Date</th>\n      <th>Rented Bike Count</th>\n      <th>Hour</th>\n      <th>Temperature(°C)</th>\n      <th>Humidity(%)</th>\n      <th>Wind speed (m/s)</th>\n      <th>Visibility (10m)</th>\n      <th>Dew point temperature(°C)</th>\n      <th>Solar Radiation (MJ/m2)</th>\n      <th>Rainfall(mm)</th>\n      <th>Snowfall (cm)</th>\n      <th>Seasons</th>\n      <th>Holiday</th>\n      <th>Functioning Day</th>\n    </tr>\n  </thead>\n  <tbody>\n    <tr>\n      <th>0</th>\n      <td>01/12/2017</td>\n      <td>254</td>\n      <td>0</td>\n      <td>-5.2</td>\n      <td>37</td>\n      <td>2.2</td>\n      <td>2000</td>\n      <td>-17.6</td>\n      <td>0.0</td>\n      <td>0.0</td>\n      <td>0.0</td>\n      <td>Winter</td>\n      <td>No Holiday</td>\n      <td>Yes</td>\n    </tr>\n    <tr>\n      <th>1</th>\n      <td>01/12/2017</td>\n      <td>204</td>\n      <td>1</td>\n      <td>-5.5</td>\n      <td>38</td>\n      <td>0.8</td>\n      <td>2000</td>\n      <td>-17.6</td>\n      <td>0.0</td>\n      <td>0.0</td>\n      <td>0.0</td>\n      <td>Winter</td>\n      <td>No Holiday</td>\n      <td>Yes</td>\n    </tr>\n    <tr>\n      <th>2</th>\n      <td>01/12/2017</td>\n      <td>173</td>\n      <td>2</td>\n      <td>-6.0</td>\n      <td>39</td>\n      <td>1.0</td>\n      <td>2000</td>\n      <td>-17.7</td>\n      <td>0.0</td>\n      <td>0.0</td>\n      <td>0.0</td>\n      <td>Winter</td>\n      <td>No Holiday</td>\n      <td>Yes</td>\n    </tr>\n    <tr>\n      <th>3</th>\n      <td>01/12/2017</td>\n      <td>107</td>\n      <td>3</td>\n      <td>-6.2</td>\n      <td>40</td>\n      <td>0.9</td>\n      <td>2000</td>\n      <td>-17.6</td>\n      <td>0.0</td>\n      <td>0.0</td>\n      <td>0.0</td>\n      <td>Winter</td>\n      <td>No Holiday</td>\n      <td>Yes</td>\n    </tr>\n    <tr>\n      <th>4</th>\n      <td>01/12/2017</td>\n      <td>78</td>\n      <td>4</td>\n      <td>-6.0</td>\n      <td>36</td>\n      <td>2.3</td>\n      <td>2000</td>\n      <td>-18.6</td>\n      <td>0.0</td>\n      <td>0.0</td>\n      <td>0.0</td>\n      <td>Winter</td>\n      <td>No Holiday</td>\n      <td>Yes</td>\n    </tr>\n  </tbody>\n</table>\n</div>"
     },
     "execution_count": 247,
     "metadata": {},
     "output_type": "execute_result"
    }
   ],
   "source": [
    "data = pd.read_csv('SeoulBikeData.csv', encoding='unicode_escape')\n",
    "data.head()"
   ],
   "metadata": {
    "collapsed": false,
    "ExecuteTime": {
     "end_time": "2023-09-20T02:41:34.279292Z",
     "start_time": "2023-09-20T02:41:34.028097Z"
    }
   }
  },
  {
   "cell_type": "code",
   "execution_count": 248,
   "outputs": [
    {
     "data": {
      "text/plain": "       Rented Bike Count         Hour  Temperature(°C)  Humidity(%)  \\\ncount        8760.000000  8760.000000      8760.000000  8760.000000   \nmean          704.602055    11.500000        12.882922    58.226256   \nstd           644.997468     6.922582        11.944825    20.362413   \nmin             0.000000     0.000000       -17.800000     0.000000   \n25%           191.000000     5.750000         3.500000    42.000000   \n50%           504.500000    11.500000        13.700000    57.000000   \n75%          1065.250000    17.250000        22.500000    74.000000   \nmax          3556.000000    23.000000        39.400000    98.000000   \n\n       Wind speed (m/s)  Visibility (10m)  Dew point temperature(°C)  \\\ncount       8760.000000       8760.000000                8760.000000   \nmean           1.724909       1436.825799                   4.073813   \nstd            1.036300        608.298712                  13.060369   \nmin            0.000000         27.000000                 -30.600000   \n25%            0.900000        940.000000                  -4.700000   \n50%            1.500000       1698.000000                   5.100000   \n75%            2.300000       2000.000000                  14.800000   \nmax            7.400000       2000.000000                  27.200000   \n\n       Solar Radiation (MJ/m2)  Rainfall(mm)  Snowfall (cm)  \ncount              8760.000000   8760.000000    8760.000000  \nmean                  0.569111      0.148687       0.075068  \nstd                   0.868746      1.128193       0.436746  \nmin                   0.000000      0.000000       0.000000  \n25%                   0.000000      0.000000       0.000000  \n50%                   0.010000      0.000000       0.000000  \n75%                   0.930000      0.000000       0.000000  \nmax                   3.520000     35.000000       8.800000  ",
      "text/html": "<div>\n<style scoped>\n    .dataframe tbody tr th:only-of-type {\n        vertical-align: middle;\n    }\n\n    .dataframe tbody tr th {\n        vertical-align: top;\n    }\n\n    .dataframe thead th {\n        text-align: right;\n    }\n</style>\n<table border=\"1\" class=\"dataframe\">\n  <thead>\n    <tr style=\"text-align: right;\">\n      <th></th>\n      <th>Rented Bike Count</th>\n      <th>Hour</th>\n      <th>Temperature(°C)</th>\n      <th>Humidity(%)</th>\n      <th>Wind speed (m/s)</th>\n      <th>Visibility (10m)</th>\n      <th>Dew point temperature(°C)</th>\n      <th>Solar Radiation (MJ/m2)</th>\n      <th>Rainfall(mm)</th>\n      <th>Snowfall (cm)</th>\n    </tr>\n  </thead>\n  <tbody>\n    <tr>\n      <th>count</th>\n      <td>8760.000000</td>\n      <td>8760.000000</td>\n      <td>8760.000000</td>\n      <td>8760.000000</td>\n      <td>8760.000000</td>\n      <td>8760.000000</td>\n      <td>8760.000000</td>\n      <td>8760.000000</td>\n      <td>8760.000000</td>\n      <td>8760.000000</td>\n    </tr>\n    <tr>\n      <th>mean</th>\n      <td>704.602055</td>\n      <td>11.500000</td>\n      <td>12.882922</td>\n      <td>58.226256</td>\n      <td>1.724909</td>\n      <td>1436.825799</td>\n      <td>4.073813</td>\n      <td>0.569111</td>\n      <td>0.148687</td>\n      <td>0.075068</td>\n    </tr>\n    <tr>\n      <th>std</th>\n      <td>644.997468</td>\n      <td>6.922582</td>\n      <td>11.944825</td>\n      <td>20.362413</td>\n      <td>1.036300</td>\n      <td>608.298712</td>\n      <td>13.060369</td>\n      <td>0.868746</td>\n      <td>1.128193</td>\n      <td>0.436746</td>\n    </tr>\n    <tr>\n      <th>min</th>\n      <td>0.000000</td>\n      <td>0.000000</td>\n      <td>-17.800000</td>\n      <td>0.000000</td>\n      <td>0.000000</td>\n      <td>27.000000</td>\n      <td>-30.600000</td>\n      <td>0.000000</td>\n      <td>0.000000</td>\n      <td>0.000000</td>\n    </tr>\n    <tr>\n      <th>25%</th>\n      <td>191.000000</td>\n      <td>5.750000</td>\n      <td>3.500000</td>\n      <td>42.000000</td>\n      <td>0.900000</td>\n      <td>940.000000</td>\n      <td>-4.700000</td>\n      <td>0.000000</td>\n      <td>0.000000</td>\n      <td>0.000000</td>\n    </tr>\n    <tr>\n      <th>50%</th>\n      <td>504.500000</td>\n      <td>11.500000</td>\n      <td>13.700000</td>\n      <td>57.000000</td>\n      <td>1.500000</td>\n      <td>1698.000000</td>\n      <td>5.100000</td>\n      <td>0.010000</td>\n      <td>0.000000</td>\n      <td>0.000000</td>\n    </tr>\n    <tr>\n      <th>75%</th>\n      <td>1065.250000</td>\n      <td>17.250000</td>\n      <td>22.500000</td>\n      <td>74.000000</td>\n      <td>2.300000</td>\n      <td>2000.000000</td>\n      <td>14.800000</td>\n      <td>0.930000</td>\n      <td>0.000000</td>\n      <td>0.000000</td>\n    </tr>\n    <tr>\n      <th>max</th>\n      <td>3556.000000</td>\n      <td>23.000000</td>\n      <td>39.400000</td>\n      <td>98.000000</td>\n      <td>7.400000</td>\n      <td>2000.000000</td>\n      <td>27.200000</td>\n      <td>3.520000</td>\n      <td>35.000000</td>\n      <td>8.800000</td>\n    </tr>\n  </tbody>\n</table>\n</div>"
     },
     "execution_count": 248,
     "metadata": {},
     "output_type": "execute_result"
    }
   ],
   "source": [
    "data.describe()"
   ],
   "metadata": {
    "collapsed": false,
    "ExecuteTime": {
     "end_time": "2023-09-20T02:41:34.292613Z",
     "start_time": "2023-09-20T02:41:34.067505Z"
    }
   }
  },
  {
   "cell_type": "markdown",
   "source": [
    "Verifying the number of null values"
   ],
   "metadata": {
    "collapsed": false
   }
  },
  {
   "cell_type": "code",
   "execution_count": 249,
   "outputs": [
    {
     "data": {
      "text/plain": "Date                         8760\nRented Bike Count            8760\nHour                         8760\nTemperature(°C)              8760\nHumidity(%)                  8760\nWind speed (m/s)             8760\nVisibility (10m)             8760\nDew point temperature(°C)    8760\nSolar Radiation (MJ/m2)      8760\nRainfall(mm)                 8760\nSnowfall (cm)                8760\nSeasons                      8760\nHoliday                      8760\nFunctioning Day              8760\ndtype: int64"
     },
     "execution_count": 249,
     "metadata": {},
     "output_type": "execute_result"
    }
   ],
   "source": [
    "data.isnull().count()"
   ],
   "metadata": {
    "collapsed": false,
    "ExecuteTime": {
     "end_time": "2023-09-20T02:41:34.303425Z",
     "start_time": "2023-09-20T02:41:34.085210Z"
    }
   }
  },
  {
   "cell_type": "markdown",
   "source": [
    "The next 2 lines where useful to have a preview of the variables."
   ],
   "metadata": {
    "collapsed": false
   }
  },
  {
   "cell_type": "code",
   "execution_count": 250,
   "outputs": [],
   "source": [
    "import matplotlib.pyplot as plt"
   ],
   "metadata": {
    "collapsed": false,
    "ExecuteTime": {
     "end_time": "2023-09-20T02:41:34.306454Z",
     "start_time": "2023-09-20T02:41:34.094891Z"
    }
   }
  },
  {
   "cell_type": "code",
   "execution_count": 251,
   "outputs": [
    {
     "data": {
      "text/plain": "<Figure size 640x480 with 1 Axes>",
      "image/png": "[encoded data removed]"
     },
     "metadata": {},
     "output_type": "display_data"
    }
   ],
   "source": [
    "plt.scatter(data['Rented Bike Count'], data['Seasons'])\n",
    "plt.ylabel('Seasons')\n",
    "plt.xlabel('Rented Bike Count')\n",
    "plt.show()"
   ],
   "metadata": {
    "collapsed": false,
    "ExecuteTime": {
     "end_time": "2023-09-20T02:41:34.378707Z",
     "start_time": "2023-09-20T02:41:34.114384Z"
    }
   }
  },
  {
   "cell_type": "markdown",
   "source": [
    "Defining Y - Rented Bike Count"
   ],
   "metadata": {
    "collapsed": false
   }
  },
  {
   "cell_type": "code",
   "execution_count": 252,
   "outputs": [
    {
     "data": {
      "text/plain": "array([[254],\n       [204],\n       [173],\n       ...,\n       [694],\n       [712],\n       [584]])"
     },
     "execution_count": 252,
     "metadata": {},
     "output_type": "execute_result"
    }
   ],
   "source": [
    "Y = data['Rented Bike Count'].to_numpy()\n",
    "Y = Y.reshape((Y.shape[0], 1))\n",
    "Y_backup = Y\n",
    "Y"
   ],
   "metadata": {
    "collapsed": false,
    "ExecuteTime": {
     "end_time": "2023-09-20T02:41:34.379281Z",
     "start_time": "2023-09-20T02:41:34.206265Z"
    }
   }
  },
  {
   "cell_type": "code",
   "execution_count": 253,
   "outputs": [
    {
     "data": {
      "text/plain": "(8760, 1)"
     },
     "execution_count": 253,
     "metadata": {},
     "output_type": "execute_result"
    }
   ],
   "source": [
    "Y.shape"
   ],
   "metadata": {
    "collapsed": false,
    "ExecuteTime": {
     "end_time": "2023-09-20T02:41:34.379576Z",
     "start_time": "2023-09-20T02:41:34.210326Z"
    }
   }
  },
  {
   "cell_type": "markdown",
   "source": [
    "Defining X"
   ],
   "metadata": {
    "collapsed": false
   }
  },
  {
   "cell_type": "code",
   "execution_count": 254,
   "outputs": [],
   "source": [
    "seasons = pd.Categorical(data['Seasons'])\n",
    "seasons = seasons.rename_categories([1,2,3,4])\n",
    "holidays = pd.Categorical(data['Holiday'])\n",
    "holidays = holidays.rename_categories([0,1])"
   ],
   "metadata": {
    "collapsed": false,
    "ExecuteTime": {
     "end_time": "2023-09-20T02:41:34.379683Z",
     "start_time": "2023-09-20T02:41:34.215297Z"
    }
   }
  },
  {
   "cell_type": "code",
   "execution_count": 255,
   "outputs": [],
   "source": [
    "data['Seasons'] = seasons\n",
    "data['Holiday'] = holidays"
   ],
   "metadata": {
    "collapsed": false,
    "ExecuteTime": {
     "end_time": "2023-09-20T02:41:34.379789Z",
     "start_time": "2023-09-20T02:41:34.222679Z"
    }
   }
  },
  {
   "cell_type": "code",
   "execution_count": 256,
   "outputs": [
    {
     "data": {
      "text/plain": "array([[ 0. , -5.2, 37. , ...,  0. ,  4. ,  1. ],\n       [ 1. , -5.5, 38. , ...,  0. ,  4. ,  1. ],\n       [ 2. , -6. , 39. , ...,  0. ,  4. ,  1. ],\n       ...,\n       [21. ,  2.6, 39. , ...,  0. ,  1. ,  1. ],\n       [22. ,  2.1, 41. , ...,  0. ,  1. ,  1. ],\n       [23. ,  1.9, 43. , ...,  0. ,  1. ,  1. ]])"
     },
     "execution_count": 256,
     "metadata": {},
     "output_type": "execute_result"
    }
   ],
   "source": [
    "X = data.drop(columns=['Date', 'Rented Bike Count','Functioning Day']).to_numpy()\n",
    "X_backup = X\n",
    "X"
   ],
   "metadata": {
    "collapsed": false,
    "ExecuteTime": {
     "end_time": "2023-09-20T02:41:34.380527Z",
     "start_time": "2023-09-20T02:41:34.226579Z"
    }
   }
  },
  {
   "cell_type": "markdown",
   "source": [
    "Insert a column of 1s in the first place"
   ],
   "metadata": {
    "collapsed": false
   }
  },
  {
   "cell_type": "code",
   "execution_count": 257,
   "outputs": [
    {
     "data": {
      "text/plain": "array([[ 1. ,  0. , -5.2, ...,  0. ,  4. ,  1. ],\n       [ 1. ,  1. , -5.5, ...,  0. ,  4. ,  1. ],\n       [ 1. ,  2. , -6. , ...,  0. ,  4. ,  1. ],\n       ...,\n       [ 1. , 21. ,  2.6, ...,  0. ,  1. ,  1. ],\n       [ 1. , 22. ,  2.1, ...,  0. ,  1. ,  1. ],\n       [ 1. , 23. ,  1.9, ...,  0. ,  1. ,  1. ]])"
     },
     "execution_count": 257,
     "metadata": {},
     "output_type": "execute_result"
    }
   ],
   "source": [
    "X = np.insert(X, 0, np.ones((X.shape[0])), axis = 1)\n",
    "X"
   ],
   "metadata": {
    "collapsed": false,
    "ExecuteTime": {
     "end_time": "2023-09-20T02:41:34.380688Z",
     "start_time": "2023-09-20T02:41:34.232006Z"
    }
   }
  },
  {
   "cell_type": "markdown",
   "source": [
    "Creating the transpose of the matrix"
   ],
   "metadata": {
    "collapsed": false
   }
  },
  {
   "cell_type": "code",
   "execution_count": 258,
   "outputs": [],
   "source": [
    "X_T = X.T"
   ],
   "metadata": {
    "collapsed": false,
    "ExecuteTime": {
     "end_time": "2023-09-20T02:41:34.380736Z",
     "start_time": "2023-09-20T02:41:34.236332Z"
    }
   }
  },
  {
   "cell_type": "code",
   "execution_count": 259,
   "outputs": [
    {
     "data": {
      "text/plain": "array([[ 1. ,  1. ,  1. , ...,  1. ,  1. ,  1. ],\n       [ 0. ,  1. ,  2. , ..., 21. , 22. , 23. ],\n       [-5.2, -5.5, -6. , ...,  2.6,  2.1,  1.9],\n       ...,\n       [ 0. ,  0. ,  0. , ...,  0. ,  0. ,  0. ],\n       [ 4. ,  4. ,  4. , ...,  1. ,  1. ,  1. ],\n       [ 1. ,  1. ,  1. , ...,  1. ,  1. ,  1. ]])"
     },
     "execution_count": 259,
     "metadata": {},
     "output_type": "execute_result"
    }
   ],
   "source": [
    "X_T"
   ],
   "metadata": {
    "collapsed": false,
    "ExecuteTime": {
     "end_time": "2023-09-20T02:41:34.380818Z",
     "start_time": "2023-09-20T02:41:34.238863Z"
    }
   }
  },
  {
   "cell_type": "markdown",
   "source": [
    "Creating the thethas array"
   ],
   "metadata": {
    "collapsed": false
   }
  },
  {
   "cell_type": "code",
   "execution_count": 260,
   "outputs": [
    {
     "name": "stdout",
     "output_type": "stream",
     "text": [
      "(12, 1)\n"
     ]
    }
   ],
   "source": [
    "theta = np.random.rand(X.shape[1], 1)\n",
    "print(theta.shape)"
   ],
   "metadata": {
    "collapsed": false,
    "ExecuteTime": {
     "end_time": "2023-09-20T02:41:34.380881Z",
     "start_time": "2023-09-20T02:41:34.245179Z"
    }
   }
  },
  {
   "cell_type": "code",
   "execution_count": 261,
   "outputs": [
    {
     "data": {
      "text/plain": "array([[0.26091688],\n       [0.89250175],\n       [0.94541832],\n       [0.01861058],\n       [0.81983965],\n       [0.81043599],\n       [0.76261065],\n       [0.86289559],\n       [0.21960628],\n       [0.42179052],\n       [0.54601408],\n       [0.69537535]])"
     },
     "execution_count": 261,
     "metadata": {},
     "output_type": "execute_result"
    }
   ],
   "source": [
    "theta"
   ],
   "metadata": {
    "collapsed": false,
    "ExecuteTime": {
     "end_time": "2023-09-20T02:41:34.380945Z",
     "start_time": "2023-09-20T02:41:34.249720Z"
    }
   }
  },
  {
   "cell_type": "markdown",
   "source": [
    "Creating the hypothesis"
   ],
   "metadata": {
    "collapsed": false
   }
  },
  {
   "cell_type": "code",
   "execution_count": 262,
   "outputs": [
    {
     "data": {
      "text/plain": "array([[1608.16644351],\n       [1607.64615484],\n       [1608.17226486],\n       ...,\n       [1611.06287695],\n       [1523.83251665],\n       [1565.72221258]])"
     },
     "execution_count": 262,
     "metadata": {},
     "output_type": "execute_result"
    }
   ],
   "source": [
    "h = X@theta\n",
    "h"
   ],
   "metadata": {
    "collapsed": false,
    "ExecuteTime": {
     "end_time": "2023-09-20T02:41:34.396853Z",
     "start_time": "2023-09-20T02:41:34.254370Z"
    }
   }
  },
  {
   "cell_type": "code",
   "execution_count": 263,
   "outputs": [
    {
     "data": {
      "text/plain": "8760"
     },
     "execution_count": 263,
     "metadata": {},
     "output_type": "execute_result"
    }
   ],
   "source": [
    "m = X.shape[0]\n",
    "m"
   ],
   "metadata": {
    "collapsed": false,
    "ExecuteTime": {
     "end_time": "2023-09-20T02:41:34.550088Z",
     "start_time": "2023-09-20T02:41:34.309640Z"
    }
   }
  },
  {
   "cell_type": "markdown",
   "source": [
    "Mean Square Error function"
   ],
   "metadata": {
    "collapsed": false
   }
  },
  {
   "cell_type": "code",
   "execution_count": 264,
   "outputs": [],
   "source": [
    "def MSE(X, theta, Y):\n",
    "  return (1 / 2 * m) * (X@theta - Y).T @ (X@theta - Y)"
   ],
   "metadata": {
    "collapsed": false,
    "ExecuteTime": {
     "end_time": "2023-09-20T02:41:34.550682Z",
     "start_time": "2023-09-20T02:41:34.372225Z"
    }
   }
  },
  {
   "cell_type": "markdown",
   "source": [
    "Printing the MSE before the training"
   ],
   "metadata": {
    "collapsed": false
   }
  },
  {
   "cell_type": "code",
   "execution_count": 265,
   "outputs": [
    {
     "name": "stdout",
     "output_type": "stream",
     "text": [
      "[[2.90371558e+13]]\n"
     ]
    }
   ],
   "source": [
    "print(MSE(X, theta, Y))"
   ],
   "metadata": {
    "collapsed": false,
    "ExecuteTime": {
     "end_time": "2023-09-20T02:41:34.667984Z",
     "start_time": "2023-09-20T02:41:34.391516Z"
    }
   }
  },
  {
   "cell_type": "markdown",
   "source": [
    "Defining train function"
   ],
   "metadata": {
    "collapsed": false
   }
  },
  {
   "cell_type": "code",
   "execution_count": 266,
   "outputs": [],
   "source": [
    "from tqdm import tqdm\n",
    "\n",
    "def train(X, Y, theta, learning_rate = 0.001, epochs = 300):\n",
    "  for epoch in tqdm(range(epochs)):\n",
    "    theta = theta - (learning_rate / m) * X_T @ (h - Y)\n",
    "  return theta\n"
   ],
   "metadata": {
    "collapsed": false,
    "ExecuteTime": {
     "end_time": "2023-09-20T02:41:34.683988Z",
     "start_time": "2023-09-20T02:41:34.409772Z"
    }
   }
  },
  {
   "cell_type": "code",
   "execution_count": 267,
   "outputs": [
    {
     "name": "stderr",
     "output_type": "stream",
     "text": [
      "100%|██████████| 100/100 [00:00<00:00, 9808.71it/s]\n"
     ]
    }
   ],
   "source": [
    "theta = train(X,Y,theta,learning_rate=0.001,epochs=100)"
   ],
   "metadata": {
    "collapsed": false,
    "ExecuteTime": {
     "end_time": "2023-09-20T02:41:34.684253Z",
     "start_time": "2023-09-20T02:41:34.417157Z"
    }
   }
  },
  {
   "cell_type": "markdown",
   "source": [
    "Printing the MSE after the training"
   ],
   "metadata": {
    "collapsed": false
   }
  },
  {
   "cell_type": "code",
   "execution_count": 268,
   "outputs": [
    {
     "name": "stdout",
     "output_type": "stream",
     "text": [
      "[[8.02964442e+23]]\n"
     ]
    }
   ],
   "source": [
    "print(MSE(X, theta, Y))"
   ],
   "metadata": {
    "collapsed": false,
    "ExecuteTime": {
     "end_time": "2023-09-20T02:41:34.684478Z",
     "start_time": "2023-09-20T02:41:34.437822Z"
    }
   }
  },
  {
   "cell_type": "markdown",
   "source": [
    "Printing the final thetas"
   ],
   "metadata": {
    "collapsed": false
   }
  },
  {
   "cell_type": "code",
   "execution_count": 269,
   "outputs": [
    {
     "name": "stdout",
     "output_type": "stream",
     "text": [
      "[[-4.88132331e+01]\n",
      " [-4.19443667e+02]\n",
      " [-2.62228410e+02]\n",
      " [-2.58564919e+03]\n",
      " [-8.45600755e+01]\n",
      " [-9.26296775e+04]\n",
      " [ 2.08038063e+02]\n",
      " [-1.93819674e+01]\n",
      " [-6.94994238e+00]\n",
      " [-4.46861403e+00]\n",
      " [-1.38594862e+02]\n",
      " [-4.46402687e+01]]\n"
     ]
    }
   ],
   "source": [
    "print(theta)"
   ],
   "metadata": {
    "collapsed": false,
    "ExecuteTime": {
     "end_time": "2023-09-20T02:41:34.684819Z",
     "start_time": "2023-09-20T02:41:34.535659Z"
    }
   }
  },
  {
   "cell_type": "markdown",
   "source": [
    "## Using Sklearn library"
   ],
   "metadata": {
    "collapsed": false
   }
  },
  {
   "cell_type": "markdown",
   "source": [
    "Split the data, using 40% to test and 60% to train"
   ],
   "metadata": {
    "collapsed": false
   }
  },
  {
   "cell_type": "code",
   "execution_count": 270,
   "outputs": [],
   "source": [
    "from sklearn.model_selection import train_test_split"
   ],
   "metadata": {
    "collapsed": false,
    "ExecuteTime": {
     "end_time": "2023-09-20T02:41:34.684848Z",
     "start_time": "2023-09-20T02:41:34.540905Z"
    }
   }
  },
  {
   "cell_type": "code",
   "execution_count": 271,
   "outputs": [],
   "source": [
    "X_train, X_test, Y_train, Y_test = train_test_split(X_backup, Y_backup, test_size = 0.8, random_state=0)"
   ],
   "metadata": {
    "collapsed": false,
    "ExecuteTime": {
     "end_time": "2023-09-20T02:41:34.685334Z",
     "start_time": "2023-09-20T02:41:34.552944Z"
    }
   }
  },
  {
   "cell_type": "markdown",
   "source": [
    "Importing Linear Regression model"
   ],
   "metadata": {
    "collapsed": false
   }
  },
  {
   "cell_type": "code",
   "execution_count": 272,
   "outputs": [
    {
     "data": {
      "text/plain": "array([[20. , 23.7, 49. , ...,  0. ,  1. ,  1. ],\n       [20. , 14.4, 61. , ...,  0. ,  1. ,  1. ],\n       [ 9. , -0.4, 57. , ...,  0. ,  1. ,  1. ],\n       ...,\n       [11. , 25.5, 57. , ...,  0. ,  3. ,  1. ],\n       [ 0. ,  8.3, 59. , ...,  0. ,  2. ,  1. ],\n       [20. ,  7.1, 83. , ...,  0. ,  2. ,  1. ]])"
     },
     "execution_count": 272,
     "metadata": {},
     "output_type": "execute_result"
    }
   ],
   "source": [
    "X_train"
   ],
   "metadata": {
    "collapsed": false,
    "ExecuteTime": {
     "end_time": "2023-09-20T02:41:34.696361Z",
     "start_time": "2023-09-20T02:41:34.558640Z"
    }
   }
  },
  {
   "cell_type": "code",
   "execution_count": 273,
   "outputs": [],
   "source": [
    "from sklearn.linear_model import LinearRegression"
   ],
   "metadata": {
    "collapsed": false,
    "ExecuteTime": {
     "end_time": "2023-09-20T02:41:34.696643Z",
     "start_time": "2023-09-20T02:41:34.563411Z"
    }
   }
  },
  {
   "cell_type": "code",
   "execution_count": 274,
   "outputs": [],
   "source": [
    "model = LinearRegression()"
   ],
   "metadata": {
    "collapsed": false,
    "ExecuteTime": {
     "end_time": "2023-09-20T02:41:34.873456Z",
     "start_time": "2023-09-20T02:41:34.570140Z"
    }
   }
  },
  {
   "cell_type": "markdown",
   "source": [
    "Fitting the model"
   ],
   "metadata": {
    "collapsed": false
   }
  },
  {
   "cell_type": "code",
   "execution_count": 275,
   "outputs": [
    {
     "data": {
      "text/plain": "LinearRegression()",
      "text/html": "<style>#sk-container-id-8 {color: black;}#sk-container-id-8 pre{padding: 0;}#sk-container-id-8 div.sk-toggleable {background-color: white;}#sk-container-id-8 label.sk-toggleable__label {cursor: pointer;display: block;width: 100%;margin-bottom: 0;padding: 0.3em;box-sizing: border-box;text-align: center;}#sk-container-id-8 label.sk-toggleable__label-arrow:before {content: \"▸\";float: left;margin-right: 0.25em;color: #696969;}#sk-container-id-8 label.sk-toggleable__label-arrow:hover:before {color: black;}#sk-container-id-8 div.sk-estimator:hover label.sk-toggleable__label-arrow:before {color: black;}#sk-container-id-8 div.sk-toggleable__content {max-height: 0;max-width: 0;overflow: hidden;text-align: left;background-color: #f0f8ff;}#sk-container-id-8 div.sk-toggleable__content pre {margin: 0.2em;color: black;border-radius: 0.25em;background-color: #f0f8ff;}#sk-container-id-8 input.sk-toggleable__control:checked~div.sk-toggleable__content {max-height: 200px;max-width: 100%;overflow: auto;}#sk-container-id-8 input.sk-toggleable__control:checked~label.sk-toggleable__label-arrow:before {content: \"▾\";}#sk-container-id-8 div.sk-estimator input.sk-toggleable__control:checked~label.sk-toggleable__label {background-color: #d4ebff;}#sk-container-id-8 div.sk-label input.sk-toggleable__control:checked~label.sk-toggleable__label {background-color: #d4ebff;}#sk-container-id-8 input.sk-hidden--visually {border: 0;clip: rect(1px 1px 1px 1px);clip: rect(1px, 1px, 1px, 1px);height: 1px;margin: -1px;overflow: hidden;padding: 0;position: absolute;width: 1px;}#sk-container-id-8 div.sk-estimator {font-family: monospace;background-color: #f0f8ff;border: 1px dotted black;border-radius: 0.25em;box-sizing: border-box;margin-bottom: 0.5em;}#sk-container-id-8 div.sk-estimator:hover {background-color: #d4ebff;}#sk-container-id-8 div.sk-parallel-item::after {content: \"\";width: 100%;border-bottom: 1px solid gray;flex-grow: 1;}#sk-container-id-8 div.sk-label:hover label.sk-toggleable__label {background-color: #d4ebff;}#sk-container-id-8 div.sk-serial::before {content: \"\";position: absolute;border-left: 1px solid gray;box-sizing: border-box;top: 0;bottom: 0;left: 50%;z-index: 0;}#sk-container-id-8 div.sk-serial {display: flex;flex-direction: column;align-items: center;background-color: white;padding-right: 0.2em;padding-left: 0.2em;position: relative;}#sk-container-id-8 div.sk-item {position: relative;z-index: 1;}#sk-container-id-8 div.sk-parallel {display: flex;align-items: stretch;justify-content: center;background-color: white;position: relative;}#sk-container-id-8 div.sk-item::before, #sk-container-id-8 div.sk-parallel-item::before {content: \"\";position: absolute;border-left: 1px solid gray;box-sizing: border-box;top: 0;bottom: 0;left: 50%;z-index: -1;}#sk-container-id-8 div.sk-parallel-item {display: flex;flex-direction: column;z-index: 1;position: relative;background-color: white;}#sk-container-id-8 div.sk-parallel-item:first-child::after {align-self: flex-end;width: 50%;}#sk-container-id-8 div.sk-parallel-item:last-child::after {align-self: flex-start;width: 50%;}#sk-container-id-8 div.sk-parallel-item:only-child::after {width: 0;}#sk-container-id-8 div.sk-dashed-wrapped {border: 1px dashed gray;margin: 0 0.4em 0.5em 0.4em;box-sizing: border-box;padding-bottom: 0.4em;background-color: white;}#sk-container-id-8 div.sk-label label {font-family: monospace;font-weight: bold;display: inline-block;line-height: 1.2em;}#sk-container-id-8 div.sk-label-container {text-align: center;}#sk-container-id-8 div.sk-container {/* jupyter's `normalize.less` sets `[hidden] { display: none; }` but bootstrap.min.css set `[hidden] { display: none !important; }` so we also need the `!important` here to be able to override the default hidden behavior on the sphinx rendered scikit-learn.org. See: https://github.com/scikit-learn/scikit-learn/issues/21755 */display: inline-block !important;position: relative;}#sk-container-id-8 div.sk-text-repr-fallback {display: none;}</style><div id=\"sk-container-id-8\" class=\"sk-top-container\"><div class=\"sk-text-repr-fallback\"><pre>LinearRegression()</pre><b>In a Jupyter environment, please rerun this cell to show the HTML representation or trust the notebook. <br />On GitHub, the HTML representation is unable to render, please try loading this page with nbviewer.org.</b></div><div class=\"sk-container\" hidden><div class=\"sk-item\"><div class=\"sk-estimator sk-toggleable\"><input class=\"sk-toggleable__control sk-hidden--visually\" id=\"sk-estimator-id-8\" type=\"checkbox\" checked><label for=\"sk-estimator-id-8\" class=\"sk-toggleable__label sk-toggleable__label-arrow\">LinearRegression</label><div class=\"sk-toggleable__content\"><pre>LinearRegression()</pre></div></div></div></div></div>"
     },
     "execution_count": 275,
     "metadata": {},
     "output_type": "execute_result"
    }
   ],
   "source": [
    "model.fit(X_train, Y_train)"
   ],
   "metadata": {
    "collapsed": false,
    "ExecuteTime": {
     "end_time": "2023-09-20T02:41:34.900084Z",
     "start_time": "2023-09-20T02:41:34.575672Z"
    }
   }
  },
  {
   "cell_type": "markdown",
   "source": [
    "Showing the coefficients of the model"
   ],
   "metadata": {
    "collapsed": false
   }
  },
  {
   "cell_type": "code",
   "execution_count": 276,
   "outputs": [
    {
     "data": {
      "text/plain": "array([555.8095073])"
     },
     "execution_count": 276,
     "metadata": {},
     "output_type": "execute_result"
    }
   ],
   "source": [
    "c = model.intercept_\n",
    "c"
   ],
   "metadata": {
    "collapsed": false,
    "ExecuteTime": {
     "end_time": "2023-09-20T02:41:34.900321Z",
     "start_time": "2023-09-20T02:41:34.594576Z"
    }
   }
  },
  {
   "cell_type": "code",
   "execution_count": 277,
   "outputs": [
    {
     "data": {
      "text/plain": "array([[ 2.82455626e+01,  1.72920892e+01, -1.06447166e+01,\n         2.13642386e+01,  2.69244781e-02,  1.29882370e+01,\n        -7.89041062e+01, -4.82951646e+01,  4.50039165e+01,\n        -7.07196963e+01,  3.31603114e+02]])"
     },
     "execution_count": 277,
     "metadata": {},
     "output_type": "execute_result"
    }
   ],
   "source": [
    "m = model.coef_\n",
    "m"
   ],
   "metadata": {
    "collapsed": false,
    "ExecuteTime": {
     "end_time": "2023-09-20T02:41:34.900429Z",
     "start_time": "2023-09-20T02:41:34.668210Z"
    }
   }
  },
  {
   "cell_type": "markdown",
   "source": [
    "Making a prediction"
   ],
   "metadata": {
    "collapsed": false
   }
  },
  {
   "cell_type": "code",
   "execution_count": 278,
   "outputs": [
    {
     "data": {
      "text/plain": "array([[1553.94183323],\n       [1172.40723943],\n       [ 367.43483759],\n       ...,\n       [ 858.20646168],\n       [ 366.89555567],\n       [ 683.26273125]])"
     },
     "execution_count": 278,
     "metadata": {},
     "output_type": "execute_result"
    }
   ],
   "source": [
    "y_pred_train = model.predict(X_train)\n",
    "y_pred_train"
   ],
   "metadata": {
    "collapsed": false,
    "ExecuteTime": {
     "end_time": "2023-09-20T02:41:34.900490Z",
     "start_time": "2023-09-20T02:41:34.668581Z"
    }
   }
  },
  {
   "cell_type": "markdown",
   "source": [
    "Plotting the predictions vs the training data"
   ],
   "metadata": {
    "collapsed": false
   }
  },
  {
   "cell_type": "code",
   "execution_count": 279,
   "outputs": [
    {
     "data": {
      "text/plain": "<Figure size 640x480 with 1 Axes>",
      "image/png": "[encoded data removed]"
     },
     "metadata": {},
     "output_type": "display_data"
    }
   ],
   "source": [
    "plt.scatter(Y_train, y_pred_train)\n",
    "plt.xlabel(\"Training data\")\n",
    "plt.ylabel(\"Predictions\")\n",
    "plt.show()"
   ],
   "metadata": {
    "collapsed": false,
    "ExecuteTime": {
     "end_time": "2023-09-20T02:41:34.931191Z",
     "start_time": "2023-09-20T02:41:34.668703Z"
    }
   }
  },
  {
   "cell_type": "markdown",
   "source": [
    "Mean Square Error library"
   ],
   "metadata": {
    "collapsed": false
   }
  },
  {
   "cell_type": "code",
   "execution_count": 280,
   "outputs": [],
   "source": [
    "from sklearn.metrics import mean_squared_error"
   ],
   "metadata": {
    "collapsed": false,
    "ExecuteTime": {
     "end_time": "2023-09-20T02:41:34.931323Z",
     "start_time": "2023-09-20T02:41:34.908107Z"
    }
   }
  },
  {
   "cell_type": "code",
   "execution_count": 281,
   "outputs": [
    {
     "data": {
      "text/plain": "216033.4309167828"
     },
     "execution_count": 281,
     "metadata": {},
     "output_type": "execute_result"
    }
   ],
   "source": [
    "mean_squared_error(Y_train, y_pred_train)"
   ],
   "metadata": {
    "collapsed": false,
    "ExecuteTime": {
     "end_time": "2023-09-20T02:41:34.931412Z",
     "start_time": "2023-09-20T02:41:34.916093Z"
    }
   }
  },
  {
   "cell_type": "code",
   "execution_count": 282,
   "outputs": [],
   "source": [
    "y_pred_test = model.predict(X_test)"
   ],
   "metadata": {
    "collapsed": false,
    "ExecuteTime": {
     "end_time": "2023-09-20T02:41:34.931465Z",
     "start_time": "2023-09-20T02:41:34.922691Z"
    }
   }
  },
  {
   "cell_type": "code",
   "execution_count": 283,
   "outputs": [
    {
     "data": {
      "text/plain": "<Figure size 640x480 with 1 Axes>",
      "image/png": "[encoded data removed]"
     },
     "metadata": {},
     "output_type": "display_data"
    }
   ],
   "source": [
    "plt.scatter(Y_test, y_pred_test)\n",
    "plt.xlabel(\"Testing data\")\n",
    "plt.ylabel(\"Predictions\")\n",
    "plt.show()"
   ],
   "metadata": {
    "collapsed": false,
    "ExecuteTime": {
     "end_time": "2023-09-20T02:41:35.166672Z",
     "start_time": "2023-09-20T02:41:34.928978Z"
    }
   }
  },
  {
   "cell_type": "code",
   "execution_count": 284,
   "outputs": [
    {
     "data": {
      "text/plain": "216384.26594373508"
     },
     "execution_count": 284,
     "metadata": {},
     "output_type": "execute_result"
    }
   ],
   "source": [
    "mean_squared_error(Y_test, y_pred_test)"
   ],
   "metadata": {
    "collapsed": false,
    "ExecuteTime": {
     "end_time": "2023-09-20T02:41:35.233684Z",
     "start_time": "2023-09-20T02:41:35.168721Z"
    }
   }
  },
  {
   "cell_type": "code",
   "execution_count": 285,
   "outputs": [],
   "source": [
    "from sklearn.metrics import r2_score"
   ],
   "metadata": {
    "collapsed": false,
    "ExecuteTime": {
     "end_time": "2023-09-20T02:41:35.237113Z",
     "start_time": "2023-09-20T02:41:35.192316Z"
    }
   }
  },
  {
   "cell_type": "code",
   "execution_count": 286,
   "outputs": [
    {
     "data": {
      "text/plain": "0.487510262856776"
     },
     "execution_count": 286,
     "metadata": {},
     "output_type": "execute_result"
    }
   ],
   "source": [
    "r2_score(Y_train, y_pred_train)"
   ],
   "metadata": {
    "collapsed": false,
    "ExecuteTime": {
     "end_time": "2023-09-20T02:41:35.237273Z",
     "start_time": "2023-09-20T02:41:35.196703Z"
    }
   }
  },
  {
   "cell_type": "code",
   "execution_count": 287,
   "outputs": [
    {
     "data": {
      "text/plain": "0.47804938570140243"
     },
     "execution_count": 287,
     "metadata": {},
     "output_type": "execute_result"
    }
   ],
   "source": [
    "r2_score(Y_test, y_pred_test)"
   ],
   "metadata": {
    "collapsed": false,
    "ExecuteTime": {
     "end_time": "2023-09-20T02:41:46.357872Z",
     "start_time": "2023-09-20T02:41:46.348063Z"
    }
   }
  }
 ],
 "metadata": {
  "kernelspec": {
   "display_name": "Python 3",
   "language": "python",
   "name": "python3"
  },
  "language_info": {
   "codemirror_mode": {
    "name": "ipython",
    "version": 2
   },
   "file_extension": ".py",
   "mimetype": "text/x-python",
   "name": "python",
   "nbconvert_exporter": "python",
   "pygments_lexer": "ipython2",
   "version": "2.7.6"
  }
 },
 "nbformat": 4,
 "nbformat_minor": 0
}
