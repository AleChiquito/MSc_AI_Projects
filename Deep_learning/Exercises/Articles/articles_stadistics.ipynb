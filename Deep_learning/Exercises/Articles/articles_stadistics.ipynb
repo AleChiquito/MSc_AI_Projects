{
 "cells": [
  {
   "cell_type": "code",
   "execution_count": 54,
   "metadata": {
    "collapsed": true,
    "ExecuteTime": {
     "end_time": "2023-08-15T19:46:28.315275Z",
     "start_time": "2023-08-15T19:46:28.312511Z"
    }
   },
   "outputs": [],
   "source": [
    "import numpy as np\n",
    "import pandas as pd"
   ]
  },
  {
   "cell_type": "code",
   "execution_count": 55,
   "outputs": [
    {
     "data": {
      "text/plain": "                                                 Title  \\\n0    What is Machine Learning and how do we use it ...   \n1     10 Companies Using Machine Learning in Cool Ways   \n2    How Artificial Intelligence Is Revolutionizing...   \n3    Dbrain and the Blockchain of Artificial Intell...   \n4    Nasa finds entire solar system filled with eig...   \n..                                                 ...   \n156  [Log] 83: How Google Uses Machine Learning And...   \n157  [Log] 84: Zuck Knows If You've Been Bad Or Goo...   \n158  [Log] 85: Microsoft Improves Windows Phone Voi...   \n159  [Log] 86: How Google's Acquisition Of DNNresea...   \n160   [Log] 87: Google's Cloud Is Eating Apple's Lunch   \n\n                                                   url  Word count  \\\n0    https://blog.signals.network/what-is-machine-l...        1888   \n1                                                  NaN        1742   \n2                                                  NaN         962   \n3                                                  NaN        1221   \n4                                                  NaN        2039   \n..                                                 ...         ...   \n156  [Log] 83: http://feedproxy.google.com/~r/Techc...        3239   \n157  [Log] 84: http://feedproxy.google.com/~r/Techc...        2566   \n158  [Log] 85: http://feedproxy.google.com/~r/Techc...        2089   \n159  [Log] 86: http://feedproxy.google.com/~r/Techc...        1530   \n160  [Log] 87: http://feedproxy.google.com/~r/Techc...         953   \n\n     # of Links  # of comments  # Images video  Elapsed days  # Shares  \n0             1            2.0               2            34    200000  \n1             9            NaN               9             5     25000  \n2             6            0.0               1            10     42000  \n3             3            NaN               2            68    200000  \n4             1          104.0               4           131    200000  \n..          ...            ...             ...           ...       ...  \n156           3           11.0               1            84      3239  \n157           3            8.0               4            85     25019  \n158           4            4.0               1            86     49614  \n159           4           12.0               3            87     33660  \n160           6           13.0               2            88      5956  \n\n[161 rows x 8 columns]",
      "text/html": "<div>\n<style scoped>\n    .dataframe tbody tr th:only-of-type {\n        vertical-align: middle;\n    }\n\n    .dataframe tbody tr th {\n        vertical-align: top;\n    }\n\n    .dataframe thead th {\n        text-align: right;\n    }\n</style>\n<table border=\"1\" class=\"dataframe\">\n  <thead>\n    <tr style=\"text-align: right;\">\n      <th></th>\n      <th>Title</th>\n      <th>url</th>\n      <th>Word count</th>\n      <th># of Links</th>\n      <th># of comments</th>\n      <th># Images video</th>\n      <th>Elapsed days</th>\n      <th># Shares</th>\n    </tr>\n  </thead>\n  <tbody>\n    <tr>\n      <th>0</th>\n      <td>What is Machine Learning and how do we use it ...</td>\n      <td>https://blog.signals.network/what-is-machine-l...</td>\n      <td>1888</td>\n      <td>1</td>\n      <td>2.0</td>\n      <td>2</td>\n      <td>34</td>\n      <td>200000</td>\n    </tr>\n    <tr>\n      <th>1</th>\n      <td>10 Companies Using Machine Learning in Cool Ways</td>\n      <td>NaN</td>\n      <td>1742</td>\n      <td>9</td>\n      <td>NaN</td>\n      <td>9</td>\n      <td>5</td>\n      <td>25000</td>\n    </tr>\n    <tr>\n      <th>2</th>\n      <td>How Artificial Intelligence Is Revolutionizing...</td>\n      <td>NaN</td>\n      <td>962</td>\n      <td>6</td>\n      <td>0.0</td>\n      <td>1</td>\n      <td>10</td>\n      <td>42000</td>\n    </tr>\n    <tr>\n      <th>3</th>\n      <td>Dbrain and the Blockchain of Artificial Intell...</td>\n      <td>NaN</td>\n      <td>1221</td>\n      <td>3</td>\n      <td>NaN</td>\n      <td>2</td>\n      <td>68</td>\n      <td>200000</td>\n    </tr>\n    <tr>\n      <th>4</th>\n      <td>Nasa finds entire solar system filled with eig...</td>\n      <td>NaN</td>\n      <td>2039</td>\n      <td>1</td>\n      <td>104.0</td>\n      <td>4</td>\n      <td>131</td>\n      <td>200000</td>\n    </tr>\n    <tr>\n      <th>...</th>\n      <td>...</td>\n      <td>...</td>\n      <td>...</td>\n      <td>...</td>\n      <td>...</td>\n      <td>...</td>\n      <td>...</td>\n      <td>...</td>\n    </tr>\n    <tr>\n      <th>156</th>\n      <td>[Log] 83: How Google Uses Machine Learning And...</td>\n      <td>[Log] 83: http://feedproxy.google.com/~r/Techc...</td>\n      <td>3239</td>\n      <td>3</td>\n      <td>11.0</td>\n      <td>1</td>\n      <td>84</td>\n      <td>3239</td>\n    </tr>\n    <tr>\n      <th>157</th>\n      <td>[Log] 84: Zuck Knows If You've Been Bad Or Goo...</td>\n      <td>[Log] 84: http://feedproxy.google.com/~r/Techc...</td>\n      <td>2566</td>\n      <td>3</td>\n      <td>8.0</td>\n      <td>4</td>\n      <td>85</td>\n      <td>25019</td>\n    </tr>\n    <tr>\n      <th>158</th>\n      <td>[Log] 85: Microsoft Improves Windows Phone Voi...</td>\n      <td>[Log] 85: http://feedproxy.google.com/~r/Techc...</td>\n      <td>2089</td>\n      <td>4</td>\n      <td>4.0</td>\n      <td>1</td>\n      <td>86</td>\n      <td>49614</td>\n    </tr>\n    <tr>\n      <th>159</th>\n      <td>[Log] 86: How Google's Acquisition Of DNNresea...</td>\n      <td>[Log] 86: http://feedproxy.google.com/~r/Techc...</td>\n      <td>1530</td>\n      <td>4</td>\n      <td>12.0</td>\n      <td>3</td>\n      <td>87</td>\n      <td>33660</td>\n    </tr>\n    <tr>\n      <th>160</th>\n      <td>[Log] 87: Google's Cloud Is Eating Apple's Lunch</td>\n      <td>[Log] 87: http://feedproxy.google.com/~r/Techc...</td>\n      <td>953</td>\n      <td>6</td>\n      <td>13.0</td>\n      <td>2</td>\n      <td>88</td>\n      <td>5956</td>\n    </tr>\n  </tbody>\n</table>\n<p>161 rows × 8 columns</p>\n</div>"
     },
     "execution_count": 55,
     "metadata": {},
     "output_type": "execute_result"
    }
   ],
   "source": [
    "data = pd.read_csv('articulos_ml.csv')\n",
    "data"
   ],
   "metadata": {
    "collapsed": false,
    "ExecuteTime": {
     "end_time": "2023-08-15T19:46:29.051570Z",
     "start_time": "2023-08-15T19:46:29.044828Z"
    }
   }
  },
  {
   "cell_type": "code",
   "execution_count": 56,
   "outputs": [],
   "source": [
    "def get_info():\n",
    "    return data.count(), data.columns\n",
    "\n",
    "rows, columns = get_info()"
   ],
   "metadata": {
    "collapsed": false,
    "ExecuteTime": {
     "end_time": "2023-08-15T19:46:29.860364Z",
     "start_time": "2023-08-15T19:46:29.858592Z"
    }
   }
  },
  {
   "cell_type": "code",
   "execution_count": 43,
   "outputs": [],
   "source": [
    "def finding_NaN():\n",
    "    for i in range(len(columns)):\n",
    "        for j in range(len(rows)):\n",
    "            if data[i][j] is Null:\n",
    "\n"
   ],
   "metadata": {
    "collapsed": false,
    "ExecuteTime": {
     "end_time": "2023-08-15T06:24:41.667309Z",
     "start_time": "2023-08-15T06:24:41.666868Z"
    }
   }
  },
  {
   "cell_type": "code",
   "execution_count": 57,
   "outputs": [
    {
     "name": "stderr",
     "output_type": "stream",
     "text": [
      "/var/folders/qc/0kbw0c7n6cg2vt6xf9gp3g2h0000gn/T/ipykernel_2908/2546163906.py:1: FutureWarning: Using the level keyword in DataFrame and Series aggregations is deprecated and will be removed in a future version. Use groupby instead. ser.count(level=1) should use ser.groupby(level=1).count().\n",
      "  print(data['url'].count(np.NAN))\n"
     ]
    },
    {
     "ename": "ValueError",
     "evalue": "Series.count level is only valid with a MultiIndex",
     "output_type": "error",
     "traceback": [
      "\u001B[0;31m---------------------------------------------------------------------------\u001B[0m",
      "\u001B[0;31mValueError\u001B[0m                                Traceback (most recent call last)",
      "Cell \u001B[0;32mIn[57], line 1\u001B[0m\n\u001B[0;32m----> 1\u001B[0m \u001B[38;5;28mprint\u001B[39m(\u001B[43mdata\u001B[49m\u001B[43m[\u001B[49m\u001B[38;5;124;43m'\u001B[39;49m\u001B[38;5;124;43murl\u001B[39;49m\u001B[38;5;124;43m'\u001B[39;49m\u001B[43m]\u001B[49m\u001B[38;5;241;43m.\u001B[39;49m\u001B[43mcount\u001B[49m\u001B[43m(\u001B[49m\u001B[43mnp\u001B[49m\u001B[38;5;241;43m.\u001B[39;49m\u001B[43mNAN\u001B[49m\u001B[43m)\u001B[49m)\n",
      "File \u001B[0;32m~/anaconda3/envs/tensorflow_1_1/lib/python3.8/site-packages/pandas/core/series.py:2129\u001B[0m, in \u001B[0;36mSeries.count\u001B[0;34m(self, level)\u001B[0m\n\u001B[1;32m   2121\u001B[0m     warnings\u001B[38;5;241m.\u001B[39mwarn(\n\u001B[1;32m   2122\u001B[0m         \u001B[38;5;124m\"\u001B[39m\u001B[38;5;124mUsing the level keyword in DataFrame and Series aggregations is \u001B[39m\u001B[38;5;124m\"\u001B[39m\n\u001B[1;32m   2123\u001B[0m         \u001B[38;5;124m\"\u001B[39m\u001B[38;5;124mdeprecated and will be removed in a future version. Use groupby \u001B[39m\u001B[38;5;124m\"\u001B[39m\n\u001B[0;32m   (...)\u001B[0m\n\u001B[1;32m   2126\u001B[0m         stacklevel\u001B[38;5;241m=\u001B[39mfind_stack_level(),\n\u001B[1;32m   2127\u001B[0m     )\n\u001B[1;32m   2128\u001B[0m     \u001B[38;5;28;01mif\u001B[39;00m \u001B[38;5;129;01mnot\u001B[39;00m \u001B[38;5;28misinstance\u001B[39m(\u001B[38;5;28mself\u001B[39m\u001B[38;5;241m.\u001B[39mindex, MultiIndex):\n\u001B[0;32m-> 2129\u001B[0m         \u001B[38;5;28;01mraise\u001B[39;00m \u001B[38;5;167;01mValueError\u001B[39;00m(\u001B[38;5;124m\"\u001B[39m\u001B[38;5;124mSeries.count level is only valid with a MultiIndex\u001B[39m\u001B[38;5;124m\"\u001B[39m)\n\u001B[1;32m   2131\u001B[0m index \u001B[38;5;241m=\u001B[39m \u001B[38;5;28mself\u001B[39m\u001B[38;5;241m.\u001B[39mindex\n\u001B[1;32m   2132\u001B[0m \u001B[38;5;28;01massert\u001B[39;00m \u001B[38;5;28misinstance\u001B[39m(index, MultiIndex)  \u001B[38;5;66;03m# for mypy\u001B[39;00m\n",
      "\u001B[0;31mValueError\u001B[0m: Series.count level is only valid with a MultiIndex"
     ]
    }
   ],
   "source": [
    "print(data['url'].count(np.NAN))"
   ],
   "metadata": {
    "collapsed": false,
    "ExecuteTime": {
     "end_time": "2023-08-15T19:46:33.260380Z",
     "start_time": "2023-08-15T19:46:33.078992Z"
    }
   }
  },
  {
   "cell_type": "code",
   "execution_count": null,
   "outputs": [],
   "source": [],
   "metadata": {
    "collapsed": false
   }
  }
 ],
 "metadata": {
  "kernelspec": {
   "display_name": "Python 3",
   "language": "python",
   "name": "python3"
  },
  "language_info": {
   "codemirror_mode": {
    "name": "ipython",
    "version": 2
   },
   "file_extension": ".py",
   "mimetype": "text/x-python",
   "name": "python",
   "nbconvert_exporter": "python",
   "pygments_lexer": "ipython2",
   "version": "2.7.6"
  }
 },
 "nbformat": 4,
 "nbformat_minor": 0
}
