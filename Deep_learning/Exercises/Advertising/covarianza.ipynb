{
 "cells": [
  {
   "cell_type": "code",
   "execution_count": 52,
   "metadata": {
    "collapsed": true,
    "ExecuteTime": {
     "end_time": "2023-08-11T20:02:05.676357Z",
     "start_time": "2023-08-11T20:02:05.674321Z"
    }
   },
   "outputs": [],
   "source": [
    "import math\n",
    "import statistics\n",
    "import pandas as pd\n",
    "import numpy as np\n",
    "from matplotlib import pyplot as plt"
   ]
  },
  {
   "cell_type": "code",
   "execution_count": 53,
   "outputs": [
    {
     "data": {
      "text/plain": "   Unnamed: 0     TV  Radio  Newspaper  Sales\n0           1  230.1   37.8       69.2   22.1\n1           2   44.5   39.3       45.1   10.4\n2           3   17.2   45.9       69.3    9.3\n3           4  151.5   41.3       58.5   18.5\n4           5  180.8   10.8       58.4   12.9",
      "text/html": "<div>\n<style scoped>\n    .dataframe tbody tr th:only-of-type {\n        vertical-align: middle;\n    }\n\n    .dataframe tbody tr th {\n        vertical-align: top;\n    }\n\n    .dataframe thead th {\n        text-align: right;\n    }\n</style>\n<table border=\"1\" class=\"dataframe\">\n  <thead>\n    <tr style=\"text-align: right;\">\n      <th></th>\n      <th>Unnamed: 0</th>\n      <th>TV</th>\n      <th>Radio</th>\n      <th>Newspaper</th>\n      <th>Sales</th>\n    </tr>\n  </thead>\n  <tbody>\n    <tr>\n      <th>0</th>\n      <td>1</td>\n      <td>230.1</td>\n      <td>37.8</td>\n      <td>69.2</td>\n      <td>22.1</td>\n    </tr>\n    <tr>\n      <th>1</th>\n      <td>2</td>\n      <td>44.5</td>\n      <td>39.3</td>\n      <td>45.1</td>\n      <td>10.4</td>\n    </tr>\n    <tr>\n      <th>2</th>\n      <td>3</td>\n      <td>17.2</td>\n      <td>45.9</td>\n      <td>69.3</td>\n      <td>9.3</td>\n    </tr>\n    <tr>\n      <th>3</th>\n      <td>4</td>\n      <td>151.5</td>\n      <td>41.3</td>\n      <td>58.5</td>\n      <td>18.5</td>\n    </tr>\n    <tr>\n      <th>4</th>\n      <td>5</td>\n      <td>180.8</td>\n      <td>10.8</td>\n      <td>58.4</td>\n      <td>12.9</td>\n    </tr>\n  </tbody>\n</table>\n</div>"
     },
     "execution_count": 53,
     "metadata": {},
     "output_type": "execute_result"
    }
   ],
   "source": [
    "data = pd.read_csv('Advertising.csv')\n",
    "data.head()"
   ],
   "metadata": {
    "collapsed": false,
    "ExecuteTime": {
     "end_time": "2023-08-11T20:02:07.445710Z",
     "start_time": "2023-08-11T20:02:07.396535Z"
    }
   }
  },
  {
   "cell_type": "code",
   "execution_count": 41,
   "outputs": [
    {
     "name": "stdout",
     "output_type": "stream",
     "text": [
      "Covarianza tv:  348.6382437499999\n",
      "Covarianza Radio 44.412509999999976\n",
      "Covarianza Newspaper:  25.811684999999997\n"
     ]
    }
   ],
   "source": [
    "def covarianza(x,y):\n",
    "    cov = 0\n",
    "    for i in range(len(y)):\n",
    "        cov += (x[i]-np.mean(x))*(y[i]-np.mean(y))\n",
    "    cov = cov/len(y)\n",
    "    return cov\n",
    "print(\"Covarianza tv: \", covarianza(data['TV'],data['Sales']))\n",
    "print(\"Covarianza Radio\",covarianza(data['Radio'],data['Sales']))\n",
    "print(\"Covarianza Newspaper: \",covarianza(data['Newspaper'],data['Sales']))"
   ],
   "metadata": {
    "collapsed": false,
    "ExecuteTime": {
     "end_time": "2023-08-10T20:33:52.122531Z",
     "start_time": "2023-08-10T20:33:52.100344Z"
    }
   }
  },
  {
   "cell_type": "code",
   "execution_count": 42,
   "outputs": [
    {
     "name": "stdout",
     "output_type": "stream",
     "text": [
      "['_________', 'TV', 'Radio', 'Newspaper', 'Sales']\n",
      "['TV', 7334.095143750006, 69.51317999999996, 105.38985499999998, 348.6382437499999]\n",
      "['Radio', 69.51317999999996, 219.32560400000003, 113.92449400000008, 44.412509999999976]\n",
      "['Newspaper', 105.38985499999998, 113.92449400000008, 471.9367840000003, 25.811684999999997]\n",
      "['Sales', 348.6382437499999, 44.412509999999976, 25.811684999999997, 27.085743749999985]\n"
     ]
    }
   ],
   "source": [
    "col_names = ['TV', 'Radio', 'Newspaper', 'Sales']\n",
    "\n",
    "matrix = [['_________'] + col_names]\n",
    "for col1 in col_names:\n",
    "  row = [col1]\n",
    "  for col2 in col_names:\n",
    "    # print(col1, col2)\n",
    "    row.append(covarianza(data[col1],data[col2]))\n",
    "  matrix.append(row)\n",
    "\n",
    "# print(matrix)\n",
    "for row in matrix:\n",
    "    print(row)\n"
   ],
   "metadata": {
    "collapsed": false,
    "ExecuteTime": {
     "end_time": "2023-08-10T20:33:53.016671Z",
     "start_time": "2023-08-10T20:33:52.890583Z"
    }
   }
  },
  {
   "cell_type": "code",
   "execution_count": 43,
   "outputs": [
    {
     "data": {
      "text/plain": "             Unnamed: 0           TV       Radio   Newspaper       Sales\nUnnamed: 0  3350.000000    88.027387  -95.110050 -195.311558  -15.587186\nTV            88.027387  7370.949893   69.862492  105.919452  350.390195\nRadio        -95.110050    69.862492  220.427743  114.496979   44.635688\nNewspaper   -195.311558   105.919452  114.496979  474.308326   25.941392\nSales        -15.587186   350.390195   44.635688   25.941392   27.221853",
      "text/html": "<div>\n<style scoped>\n    .dataframe tbody tr th:only-of-type {\n        vertical-align: middle;\n    }\n\n    .dataframe tbody tr th {\n        vertical-align: top;\n    }\n\n    .dataframe thead th {\n        text-align: right;\n    }\n</style>\n<table border=\"1\" class=\"dataframe\">\n  <thead>\n    <tr style=\"text-align: right;\">\n      <th></th>\n      <th>Unnamed: 0</th>\n      <th>TV</th>\n      <th>Radio</th>\n      <th>Newspaper</th>\n      <th>Sales</th>\n    </tr>\n  </thead>\n  <tbody>\n    <tr>\n      <th>Unnamed: 0</th>\n      <td>3350.000000</td>\n      <td>88.027387</td>\n      <td>-95.110050</td>\n      <td>-195.311558</td>\n      <td>-15.587186</td>\n    </tr>\n    <tr>\n      <th>TV</th>\n      <td>88.027387</td>\n      <td>7370.949893</td>\n      <td>69.862492</td>\n      <td>105.919452</td>\n      <td>350.390195</td>\n    </tr>\n    <tr>\n      <th>Radio</th>\n      <td>-95.110050</td>\n      <td>69.862492</td>\n      <td>220.427743</td>\n      <td>114.496979</td>\n      <td>44.635688</td>\n    </tr>\n    <tr>\n      <th>Newspaper</th>\n      <td>-195.311558</td>\n      <td>105.919452</td>\n      <td>114.496979</td>\n      <td>474.308326</td>\n      <td>25.941392</td>\n    </tr>\n    <tr>\n      <th>Sales</th>\n      <td>-15.587186</td>\n      <td>350.390195</td>\n      <td>44.635688</td>\n      <td>25.941392</td>\n      <td>27.221853</td>\n    </tr>\n  </tbody>\n</table>\n</div>"
     },
     "execution_count": 43,
     "metadata": {},
     "output_type": "execute_result"
    }
   ],
   "source": [
    "data.cov()"
   ],
   "metadata": {
    "collapsed": false,
    "ExecuteTime": {
     "end_time": "2023-08-10T20:33:53.982225Z",
     "start_time": "2023-08-10T20:33:53.971871Z"
    }
   }
  },
  {
   "cell_type": "code",
   "execution_count": 44,
   "outputs": [
    {
     "name": "stdout",
     "output_type": "stream",
     "text": [
      "Pearson TV - Sales:  0.7822244248616061\n"
     ]
    }
   ],
   "source": [
    "def pearson(x,y):\n",
    "    corr_pearson = 0\n",
    "    corr_pearson = ( (covarianza(x,y)) / math.sqrt(covarianza(x,x) * covarianza(y,y)) )\n",
    "    return corr_pearson\n",
    "\n",
    "print(\"Pearson TV - Sales: \", pearson(data['TV'],data['Sales']))"
   ],
   "metadata": {
    "collapsed": false,
    "ExecuteTime": {
     "end_time": "2023-08-10T20:33:54.875379Z",
     "start_time": "2023-08-10T20:33:54.846320Z"
    }
   }
  },
  {
   "cell_type": "code",
   "execution_count": 45,
   "outputs": [
    {
     "name": "stdout",
     "output_type": "stream",
     "text": [
      "0.7822244248616061\n",
      "0.576222574571055\n",
      "0.22829902637616528\n"
     ]
    }
   ],
   "source": [
    "def correlacion_Pearson(X, Y):\n",
    "  return covarianza(X, Y) / math.sqrt(covarianza(X, X) * covarianza(Y, Y))\n",
    "\n",
    "colnames = ['TV', 'Radio', 'Newspaper']\n",
    "\n",
    "for col in colnames:\n",
    "  print(correlacion_Pearson(data[col], data['Sales']))"
   ],
   "metadata": {
    "collapsed": false,
    "ExecuteTime": {
     "end_time": "2023-08-10T20:33:56.065597Z",
     "start_time": "2023-08-10T20:33:55.984366Z"
    }
   }
  },
  {
   "cell_type": "code",
   "execution_count": 46,
   "outputs": [
    {
     "name": "stdout",
     "output_type": "stream",
     "text": [
      "                 TV     Radio  Newspaper     Sales\n",
      "TV         1.000000  0.054809   0.056648  0.782224\n",
      "Radio      0.054809  1.000000   0.354104  0.576223\n",
      "Newspaper  0.056648  0.354104   1.000000  0.228299\n",
      "Sales      0.782224  0.576223   0.228299  1.000000\n"
     ]
    }
   ],
   "source": [
    "colnames = ['TV', 'Radio', 'Newspaper', 'Sales']\n",
    "print(data[colnames].corr())"
   ],
   "metadata": {
    "collapsed": false,
    "ExecuteTime": {
     "end_time": "2023-08-10T20:33:57.288560Z",
     "start_time": "2023-08-10T20:33:57.262673Z"
    }
   }
  },
  {
   "cell_type": "code",
   "execution_count": 50,
   "outputs": [
    {
     "data": {
      "text/plain": "<Figure size 1000x1000 with 2 Axes>",
      "image/png": "[encoded data removed]"
     },
     "metadata": {},
     "output_type": "display_data"
    }
   ],
   "source": [
    "import seaborn as sns\n",
    "\n",
    "def mapa_de_calor_correlacion(data):\n",
    "    correlaciones = data[colnames].corr()\n",
    "    fig, ax = plt.subplots(figsize=(10,10))\n",
    "    sns.heatmap(correlaciones, vmax=1.0, center=0, fmt='.2f', square=True, linewidths=1, annot=True, cbar_kws={\"shrink\": .60})\n",
    "    plt.show();\n",
    "colnames = ['TV', 'Radio', 'Newspaper', 'Sales']\n",
    "\n",
    "mapa_de_calor_correlacion(data)"
   ],
   "metadata": {
    "collapsed": false,
    "ExecuteTime": {
     "end_time": "2023-08-10T20:34:45.349079Z",
     "start_time": "2023-08-10T20:34:43.450179Z"
    }
   }
  },
  {
   "cell_type": "code",
   "execution_count": null,
   "outputs": [],
   "source": [],
   "metadata": {
    "collapsed": false
   }
  }
 ],
 "metadata": {
  "kernelspec": {
   "display_name": "Python 3",
   "language": "python",
   "name": "python3"
  },
  "language_info": {
   "codemirror_mode": {
    "name": "ipython",
    "version": 2
   },
   "file_extension": ".py",
   "mimetype": "text/x-python",
   "name": "python",
   "nbconvert_exporter": "python",
   "pygments_lexer": "ipython2",
   "version": "2.7.6"
  }
 },
 "nbformat": 4,
 "nbformat_minor": 0
}
