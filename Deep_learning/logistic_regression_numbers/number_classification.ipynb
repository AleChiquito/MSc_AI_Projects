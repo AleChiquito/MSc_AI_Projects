{
 "cells": [
  {
   "cell_type": "code",
   "execution_count": 1,
   "outputs": [],
   "source": [
    "from sklearn.datasets import load_digits\n",
    "digits = load_digits()"
   ],
   "metadata": {
    "collapsed": false,
    "ExecuteTime": {
     "end_time": "2023-09-12T04:40:10.809533Z",
     "start_time": "2023-09-12T04:40:08.794396Z"
    }
   }
  },
  {
   "cell_type": "code",
   "execution_count": 2,
   "metadata": {
    "collapsed": true,
    "ExecuteTime": {
     "end_time": "2023-09-12T04:40:10.817153Z",
     "start_time": "2023-09-12T04:40:10.809960Z"
    }
   },
   "outputs": [
    {
     "name": "stdout",
     "output_type": "stream",
     "text": [
      "(1797, 64)\n",
      "(1797,)\n"
     ]
    }
   ],
   "source": [
    "print(digits.data.shape)\n",
    "print(digits.target.shape)"
   ]
  },
  {
   "cell_type": "code",
   "execution_count": 3,
   "outputs": [],
   "source": [
    "X = digits.data\n",
    "Y = digits.target"
   ],
   "metadata": {
    "collapsed": false,
    "ExecuteTime": {
     "end_time": "2023-09-12T04:40:10.817296Z",
     "start_time": "2023-09-12T04:40:10.812113Z"
    }
   }
  },
  {
   "cell_type": "code",
   "execution_count": 4,
   "outputs": [
    {
     "name": "stdout",
     "output_type": "stream",
     "text": [
      "[[ 0.  0.  5. ...  0.  0.  0.]\n",
      " [ 0.  0.  0. ... 10.  0.  0.]\n",
      " [ 0.  0.  0. ... 16.  9.  0.]\n",
      " ...\n",
      " [ 0.  0.  1. ...  6.  0.  0.]\n",
      " [ 0.  0.  2. ... 12.  0.  0.]\n",
      " [ 0.  0. 10. ... 12.  1.  0.]] 1797\n",
      "[0 1 2 ... 8 9 8] 1797\n"
     ]
    }
   ],
   "source": [
    "print(X, len(X))\n",
    "print(Y, len(Y))"
   ],
   "metadata": {
    "collapsed": false,
    "ExecuteTime": {
     "end_time": "2023-09-12T04:40:10.817498Z",
     "start_time": "2023-09-12T04:40:10.814294Z"
    }
   }
  },
  {
   "cell_type": "code",
   "execution_count": 5,
   "outputs": [
    {
     "name": "stdout",
     "output_type": "stream",
     "text": [
      "0.0 16.0\n"
     ]
    }
   ],
   "source": [
    "print(X.min(), X.max())"
   ],
   "metadata": {
    "collapsed": false,
    "ExecuteTime": {
     "end_time": "2023-09-12T04:40:10.819955Z",
     "start_time": "2023-09-12T04:40:10.817773Z"
    }
   }
  },
  {
   "cell_type": "code",
   "execution_count": 6,
   "outputs": [],
   "source": [
    "import numpy as np\n",
    "import matplotlib.pyplot as plt"
   ],
   "metadata": {
    "collapsed": false,
    "ExecuteTime": {
     "end_time": "2023-09-12T04:40:11.187955Z",
     "start_time": "2023-09-12T04:40:10.820926Z"
    }
   }
  },
  {
   "cell_type": "code",
   "execution_count": 7,
   "outputs": [
    {
     "data": {
      "text/plain": "<Figure size 2000x400 with 0 Axes>"
     },
     "execution_count": 7,
     "metadata": {},
     "output_type": "execute_result"
    },
    {
     "data": {
      "text/plain": "<Figure size 2000x400 with 0 Axes>"
     },
     "metadata": {},
     "output_type": "display_data"
    }
   ],
   "source": [
    "plt.figure(figsize=(20,4))"
   ],
   "metadata": {
    "collapsed": false,
    "ExecuteTime": {
     "end_time": "2023-09-12T04:40:11.192356Z",
     "start_time": "2023-09-12T04:40:11.188365Z"
    }
   }
  },
  {
   "cell_type": "code",
   "execution_count": null,
   "outputs": [],
   "source": [],
   "metadata": {
    "collapsed": false
   }
  },
  {
   "cell_type": "code",
   "execution_count": 8,
   "outputs": [],
   "source": [
    "inicial = 500"
   ],
   "metadata": {
    "collapsed": false,
    "ExecuteTime": {
     "end_time": "2023-09-12T04:40:11.192528Z",
     "start_time": "2023-09-12T04:40:11.190554Z"
    }
   }
  },
  {
   "cell_type": "code",
   "execution_count": 9,
   "outputs": [
    {
     "data": {
      "text/plain": "<Figure size 640x480 with 10 Axes>",
      "image/png": "[encoded data removed]"
     },
     "metadata": {},
     "output_type": "display_data"
    }
   ],
   "source": [
    "for index, (imagen, etiqueta) in enumerate(zip(X[inicial:inicial+10], Y[inicial:inicial+10])):\n",
    " plt.subplot(1, 10, index + 1)\n",
    " plt.imshow(np.reshape(imagen, (8,8)), cmap=plt.cm.gray)\n",
    " plt.title('Valor: %i\\n' % etiqueta, fontsize = 15)"
   ],
   "metadata": {
    "collapsed": false,
    "ExecuteTime": {
     "end_time": "2023-09-12T04:40:11.575705Z",
     "start_time": "2023-09-12T04:40:11.190769Z"
    }
   }
  },
  {
   "cell_type": "markdown",
   "source": [
    "Dividir datos de train y test"
   ],
   "metadata": {
    "collapsed": false
   }
  },
  {
   "cell_type": "code",
   "execution_count": 9,
   "outputs": [],
   "source": [
    "from sklearn.model_selection import train_test_split\n",
    "\n",
    "x_train, x_test, y_train, y_test = train_test_split(X,Y,test_size=0.40,random_state=42,shuffle=True)"
   ],
   "metadata": {
    "collapsed": false,
    "ExecuteTime": {
     "end_time": "2023-09-12T04:40:11.576742Z",
     "start_time": "2023-09-12T04:40:11.575898Z"
    }
   }
  },
  {
   "cell_type": "markdown",
   "source": [
    "Gradiente"
   ],
   "metadata": {
    "collapsed": false
   }
  },
  {
   "cell_type": "code",
   "execution_count": null,
   "outputs": [],
   "source": [
    "def sigmoide(z):\n",
    " return (1/ (1+ np.exp(-z)))"
   ],
   "metadata": {
    "collapsed": false
   }
  },
  {
   "cell_type": "code",
   "execution_count": 10,
   "outputs": [],
   "source": [
    "def gradiente_descendente(X, Y, theta_0, theta_1, lr, epocas):\n",
    "    m, n = X.shape\n",
    "    for epoca in range(epocas):\n",
    "        gradiente_0, gradiente_1 = 0 ,0\n",
    "        for i in range(m):\n",
    "            z = X*theta\n",
    "            h_i = sigmoide(z)\n",
    "            gradiente_0 += h_i - Y[i]\n",
    "            gradiente_1 += (h_i - Y[i]) * X[i]\n",
    "\n",
    "    theta_0 -= lr * (gradiente_0 / m)\n",
    "    theta_1 -= lr * (gradiente_1 / m)\n",
    "    print(\"Theta 0: \", theta_0, \" Theta 1: \", theta_1, \" Época: \", epocas)\n",
    "    return theta_0, theta_1"
   ],
   "metadata": {
    "collapsed": false,
    "ExecuteTime": {
     "end_time": "2023-09-12T04:40:11.580374Z",
     "start_time": "2023-09-12T04:40:11.578901Z"
    }
   }
  },
  {
   "cell_type": "code",
   "execution_count": 11,
   "outputs": [
    {
     "name": "stdout",
     "output_type": "stream",
     "text": [
      "Theta 0:  [ 0.13472454  0.13016694  0.05665275 -0.04281302 -0.04299666  0.04799666\n",
      "  0.11429048  0.13277963  0.13464107  0.10481636 -0.02101002 -0.04496661\n",
      " -0.01946578  0.01208681  0.10702838  0.13310518  0.1346828   0.09570117\n",
      " -0.01382304  0.02983306  0.02825543  0.01762938  0.10789649  0.13397329\n",
      "  0.13470785  0.09767947 -0.00164441  0.00240401 -0.01418197  0.02145242\n",
      "  0.09995826  0.13469115  0.13472454  0.09963272  0.01971619 -0.00135225\n",
      " -0.01979967  0.00356427  0.09108514  0.13472454  0.13459098  0.11096828\n",
      "  0.0315025   0.02630217  0.01964107  0.01117696  0.0828798   0.13431553\n",
      "  0.13461603  0.12415693  0.0221202  -0.00836394 -0.0065192   0.00334725\n",
      "  0.07884808  0.13162771  0.13471619  0.13053422  0.0513606  -0.04661102\n",
      " -0.04241235  0.03326377  0.10370618  0.1292571 ]  Theta 1:  [ 0.5         0.52317195  0.45109349 -0.28156093 -0.24787145  0.39028381\n",
      "  0.54626043  0.51009182  0.50078464  0.55242905 -0.10282972 -0.31995826\n",
      " -0.14347245  0.08949917  0.569399    0.50984975  0.50019199  0.5489399\n",
      " -0.07492487  0.13355593  0.05698664  0.1224374   0.5557596   0.50480801\n",
      "  0.50006678  0.54706177 -0.0510601   0.14158598 -0.08443239  0.25402337\n",
      "  0.52308013  0.50023372  0.5         0.48469115  0.04749583  0.04185309\n",
      " -0.14901503  0.09611853  0.57554257  0.5         0.50075125  0.50717863\n",
      "  0.00701169  0.06458264  0.05020868  0.11296327  0.52788815  0.5034808\n",
      "  0.5001419   0.53589316  0.1190818  -0.07066778 -0.1607596  -0.11416528\n",
      "  0.44218698  0.50424875  0.50002504  0.51904841  0.39783806 -0.35782972\n",
      " -0.44892321  0.16292988  0.42353923  0.46616861]  Época:  300\n"
     ]
    }
   ],
   "source": [
    "theta_0, theta_1 = gradiente_descendente(X,Y,0,0.5,0.03,300)"
   ],
   "metadata": {
    "collapsed": false,
    "ExecuteTime": {
     "end_time": "2023-09-12T04:40:13.282717Z",
     "start_time": "2023-09-12T04:40:11.592277Z"
    }
   }
  },
  {
   "cell_type": "code",
   "execution_count": 12,
   "outputs": [
    {
     "data": {
      "text/plain": "array([ 0.13472454,  0.13016694,  0.05665275, -0.04281302, -0.04299666,\n        0.04799666,  0.11429048,  0.13277963,  0.13464107,  0.10481636,\n       -0.02101002, -0.04496661, -0.01946578,  0.01208681,  0.10702838,\n        0.13310518,  0.1346828 ,  0.09570117, -0.01382304,  0.02983306,\n        0.02825543,  0.01762938,  0.10789649,  0.13397329,  0.13470785,\n        0.09767947, -0.00164441,  0.00240401, -0.01418197,  0.02145242,\n        0.09995826,  0.13469115,  0.13472454,  0.09963272,  0.01971619,\n       -0.00135225, -0.01979967,  0.00356427,  0.09108514,  0.13472454,\n        0.13459098,  0.11096828,  0.0315025 ,  0.02630217,  0.01964107,\n        0.01117696,  0.0828798 ,  0.13431553,  0.13461603,  0.12415693,\n        0.0221202 , -0.00836394, -0.0065192 ,  0.00334725,  0.07884808,\n        0.13162771,  0.13471619,  0.13053422,  0.0513606 , -0.04661102,\n       -0.04241235,  0.03326377,  0.10370618,  0.1292571 ])"
     },
     "execution_count": 12,
     "metadata": {},
     "output_type": "execute_result"
    }
   ],
   "source": [
    "theta_0"
   ],
   "metadata": {
    "collapsed": false,
    "ExecuteTime": {
     "end_time": "2023-09-12T04:40:13.283462Z",
     "start_time": "2023-09-12T04:40:13.277003Z"
    }
   }
  },
  {
   "cell_type": "markdown",
   "source": [
    "Función Sigmoide"
   ],
   "metadata": {
    "collapsed": false
   }
  },
  {
   "cell_type": "code",
   "execution_count": 13,
   "outputs": [],
   "source": [],
   "metadata": {
    "collapsed": false,
    "ExecuteTime": {
     "end_time": "2023-09-12T04:40:13.283592Z",
     "start_time": "2023-09-12T04:40:13.280685Z"
    }
   }
  },
  {
   "cell_type": "code",
   "execution_count": 13,
   "outputs": [],
   "source": [],
   "metadata": {
    "collapsed": false,
    "ExecuteTime": {
     "end_time": "2023-09-12T04:40:13.285379Z",
     "start_time": "2023-09-12T04:40:13.282551Z"
    }
   }
  }
 ],
 "metadata": {
  "kernelspec": {
   "display_name": "Python 3",
   "language": "python",
   "name": "python3"
  },
  "language_info": {
   "codemirror_mode": {
    "name": "ipython",
    "version": 2
   },
   "file_extension": ".py",
   "mimetype": "text/x-python",
   "name": "python",
   "nbconvert_exporter": "python",
   "pygments_lexer": "ipython2",
   "version": "2.7.6"
  }
 },
 "nbformat": 4,
 "nbformat_minor": 0
}
