{
 "cells": [
  {
   "cell_type": "markdown",
   "id": "5a74dc9e",
   "metadata": {
    "id": "5a74dc9e"
   },
   "source": [
    "# Deep Learning Homework 2\n",
    "Covariance, correlation, data handling and gradient descent"
   ]
  },
  {
   "cell_type": "code",
   "execution_count": 1,
   "id": "4f59b7f5",
   "metadata": {
    "id": "4f59b7f5",
    "outputId": "4da7ea89-6652-451e-b987-0ad266651bce",
    "ExecuteTime": {
     "end_time": "2023-09-05T05:14:58.838351Z",
     "start_time": "2023-09-05T05:14:58.477682Z"
    }
   },
   "outputs": [
    {
     "name": "stdout",
     "output_type": "stream",
     "text": [
      "zsh:1: command not found: lscpu\r\n",
      "zsh:1: command not found: lscpu\r\n",
      "zsh:1: command not found: lscpu\r\n"
     ]
    }
   ],
   "source": [
    "!lscpu | grep 'Model name'\n",
    "!lscpu | grep 'Core(s) per socket:'\n",
    "!lscpu | grep 'Thread(s) per core'"
   ]
  },
  {
   "cell_type": "markdown",
   "id": "f1e487de",
   "metadata": {
    "id": "f1e487de"
   },
   "source": [
    "## Import modules"
   ]
  },
  {
   "cell_type": "code",
   "execution_count": 2,
   "id": "1b9379f9",
   "metadata": {
    "id": "1b9379f9",
    "ExecuteTime": {
     "end_time": "2023-09-05T05:14:58.988883Z",
     "start_time": "2023-09-05T05:14:58.838925Z"
    }
   },
   "outputs": [
    {
     "ename": "ModuleNotFoundError",
     "evalue": "No module named 'miceforest'",
     "output_type": "error",
     "traceback": [
      "\u001B[0;31m---------------------------------------------------------------------------\u001B[0m",
      "\u001B[0;31mModuleNotFoundError\u001B[0m                       Traceback (most recent call last)",
      "Cell \u001B[0;32mIn[2], line 6\u001B[0m\n\u001B[1;32m      4\u001B[0m \u001B[38;5;28;01mimport\u001B[39;00m \u001B[38;5;21;01mmatplotlib\u001B[39;00m\u001B[38;5;21;01m.\u001B[39;00m\u001B[38;5;21;01mpyplot\u001B[39;00m \u001B[38;5;28;01mas\u001B[39;00m \u001B[38;5;21;01mplt\u001B[39;00m\n\u001B[1;32m      5\u001B[0m \u001B[38;5;66;03m#!!pip install miceforest\u001B[39;00m\n\u001B[0;32m----> 6\u001B[0m \u001B[38;5;28;01mfrom\u001B[39;00m \u001B[38;5;21;01mmiceforest\u001B[39;00m \u001B[38;5;28;01mimport\u001B[39;00m ImputationKernel\n",
      "\u001B[0;31mModuleNotFoundError\u001B[0m: No module named 'miceforest'"
     ]
    }
   ],
   "source": [
    "import pandas as pd\n",
    "import numpy as np\n",
    "import math\n",
    "import matplotlib.pyplot as plt\n",
    "#!!pip install miceforest\n",
    "from miceforest import ImputationKernel"
   ]
  },
  {
   "cell_type": "markdown",
   "id": "d334c2af",
   "metadata": {
    "id": "d334c2af"
   },
   "source": [
    "## Read data from csv file"
   ]
  },
  {
   "cell_type": "markdown",
   "id": "13197af2",
   "metadata": {},
   "source": [
    "### Read advertising csv"
   ]
  },
  {
   "cell_type": "code",
   "execution_count": null,
   "id": "f4306a55",
   "metadata": {
    "ExecuteTime": {
     "start_time": "2023-09-05T05:14:58.987321Z"
    }
   },
   "outputs": [],
   "source": [
    "df_advertising = pd.read_csv('Advertising.csv')\n",
    "df_advertising"
   ]
  },
  {
   "cell_type": "code",
   "execution_count": null,
   "id": "fa95ca3c",
   "metadata": {},
   "outputs": [],
   "source": [
    "df_advertising.info()"
   ]
  },
  {
   "cell_type": "markdown",
   "id": "56b2ee13",
   "metadata": {},
   "source": [
    "### Read articulos csv"
   ]
  },
  {
   "cell_type": "code",
   "execution_count": null,
   "id": "f645285e",
   "metadata": {
    "id": "f645285e",
    "outputId": "e2e1de1a-cc5d-4fae-fb3d-fe1b211d8658"
   },
   "outputs": [],
   "source": [
    "df_papers = pd.read_csv('articulos_ml.csv')\n",
    "df_papers"
   ]
  },
  {
   "cell_type": "code",
   "execution_count": null,
   "id": "451fa9cd",
   "metadata": {
    "id": "451fa9cd",
    "outputId": "f4b51f22-3f3e-422b-e4e2-c3a04638dbc7"
   },
   "outputs": [],
   "source": [
    "df_papers.info()"
   ]
  },
  {
   "cell_type": "markdown",
   "id": "e23db7ab",
   "metadata": {},
   "source": [
    "## Data imputation and cleaning data"
   ]
  },
  {
   "cell_type": "markdown",
   "id": "4ca9dcd3",
   "metadata": {},
   "source": [
    "### Remove row in Advertising dataset"
   ]
  },
  {
   "cell_type": "code",
   "execution_count": null,
   "id": "a07bdf17",
   "metadata": {},
   "outputs": [],
   "source": [
    "df_advertising = df_advertising[df_advertising.columns[1::]]\n",
    "df_advertising"
   ]
  },
  {
   "cell_type": "markdown",
   "id": "bff6815e",
   "metadata": {
    "id": "bff6815e"
   },
   "source": [
    "### Fill missing values with Multiple Imputation on Articulos dataset\n",
    "This is a multivariate imputation technique, meaning that the missing information is filled by taking into consideration the information from the other columns."
   ]
  },
  {
   "cell_type": "code",
   "execution_count": null,
   "id": "0846cfd7",
   "metadata": {
    "id": "0846cfd7"
   },
   "outputs": [],
   "source": [
    "mice_kernel = ImputationKernel(data = df_papers[df_papers.columns[2::]],\n",
    "                               save_all_iterations = True,\n",
    "                               random_state = 2023)"
   ]
  },
  {
   "cell_type": "code",
   "execution_count": null,
   "id": "0ab885c8",
   "metadata": {
    "id": "0ab885c8",
    "outputId": "04a728cd-c4bd-40fe-d5d5-c08846309555"
   },
   "outputs": [],
   "source": [
    "mice_kernel.mice(2)\n",
    "mice_imputation_df_papers = mice_kernel.complete_data()\n",
    "mice_imputation_df_papers"
   ]
  },
  {
   "cell_type": "markdown",
   "id": "ab36521a",
   "metadata": {},
   "source": [
    "## See how data is related"
   ]
  },
  {
   "cell_type": "code",
   "execution_count": null,
   "id": "84060ab3",
   "metadata": {},
   "outputs": [],
   "source": [
    "def plotCaracteristicas(data):\n",
    "    col_list = data.columns\n",
    "    title = \"Relation between %s and %s\"\n",
    "    plt.figure(figsize=(10, 14))\n",
    "    i = 0\n",
    "    for col in col_list:\n",
    "        i+=1\n",
    "        plt.subplot(7,2,i)\n",
    "        plt.plot(data[col],data[col_list[-1]],marker='.',linestyle='none')\n",
    "        plt.title(title % (col, col_list[-1]))   \n",
    "        plt.tight_layout()"
   ]
  },
  {
   "cell_type": "markdown",
   "id": "8954654c",
   "metadata": {},
   "source": [
    "We expect that correlation is bigger between \"TV\" and \"Sales\""
   ]
  },
  {
   "cell_type": "code",
   "execution_count": null,
   "id": "eef57ab6",
   "metadata": {},
   "outputs": [],
   "source": [
    "plotCaracteristicas(df_advertising)"
   ]
  },
  {
   "cell_type": "markdown",
   "id": "3b7ee696",
   "metadata": {},
   "source": [
    "We expect that correlation is bigger between \"Word count\" and \"# Shares\""
   ]
  },
  {
   "cell_type": "code",
   "execution_count": null,
   "id": "65d448d8",
   "metadata": {},
   "outputs": [],
   "source": [
    "plotCaracteristicas(mice_imputation_df_papers)"
   ]
  },
  {
   "cell_type": "markdown",
   "id": "da9c868d",
   "metadata": {},
   "source": [
    "## Covariance and Pearson's correlation"
   ]
  },
  {
   "cell_type": "markdown",
   "id": "8052c26a",
   "metadata": {
    "id": "8052c26a"
   },
   "source": [
    "### Defining functions for covariance and correlation"
   ]
  },
  {
   "cell_type": "code",
   "execution_count": null,
   "id": "564bb579",
   "metadata": {
    "id": "564bb579"
   },
   "outputs": [],
   "source": [
    "def cov(x, y):\n",
    "  x = np.array(x); y = np.array(y)\n",
    "  COV = 0\n",
    "  for i in range(len(x)):\n",
    "    COV += (x[i] - np.mean(x))*(y[i] - np.mean(y))\n",
    "  return COV/len(x)"
   ]
  },
  {
   "cell_type": "code",
   "execution_count": null,
   "id": "4a983c49",
   "metadata": {
    "id": "4a983c49"
   },
   "outputs": [],
   "source": [
    "def cov_matrix(df):\n",
    "  M_cov = []\n",
    "  for x in df.columns:\n",
    "    m_cov = []\n",
    "    for y in df.columns:\n",
    "      m_cov.append(cov(df[x], df[y]))\n",
    "    M_cov.append(m_cov)\n",
    "  return np.array(M_cov)"
   ]
  },
  {
   "cell_type": "code",
   "execution_count": null,
   "id": "8064018b",
   "metadata": {
    "id": "8064018b"
   },
   "outputs": [],
   "source": [
    "def corr_matrix(df):\n",
    "  M_corr = []\n",
    "  for x in df.columns:\n",
    "    m_corr = []\n",
    "    for y in df.columns:\n",
    "      m_corr.append(cov(df[x], df[y])/math.sqrt(cov(df[x], df[x])*cov(df[y], df[y])))\n",
    "    M_corr.append(m_corr)\n",
    "  return np.array(M_corr)"
   ]
  },
  {
   "cell_type": "markdown",
   "id": "7c33e6cd",
   "metadata": {
    "id": "7c33e6cd"
   },
   "source": [
    "## Covariance"
   ]
  },
  {
   "cell_type": "markdown",
   "id": "ae828333",
   "metadata": {},
   "source": [
    "### Covariance for Advertising"
   ]
  },
  {
   "cell_type": "code",
   "execution_count": null,
   "id": "51012927",
   "metadata": {},
   "outputs": [],
   "source": [
    "np.set_printoptions(precision=2)\n",
    "M_cov_advertising = cov_matrix(df_advertising)\n",
    "\n",
    "df_advertising.columns, M_cov_advertising"
   ]
  },
  {
   "cell_type": "markdown",
   "id": "62ba8978",
   "metadata": {},
   "source": [
    "### Covariance for Articulos"
   ]
  },
  {
   "cell_type": "code",
   "execution_count": null,
   "id": "2dfb8fff",
   "metadata": {
    "id": "2dfb8fff",
    "outputId": "ee03eead-d394-4d35-8436-5f9e9fe407b5"
   },
   "outputs": [],
   "source": [
    "np.set_printoptions(precision=2)\n",
    "M_cov_articulos = cov_matrix(mice_imputation_df_papers)\n",
    "mice_imputation_df_papers.columns, M_cov_articulos"
   ]
  },
  {
   "cell_type": "code",
   "execution_count": null,
   "id": "72ce8e95",
   "metadata": {
    "id": "72ce8e95"
   },
   "outputs": [],
   "source": [
    "np.set_printoptions(precision=8)"
   ]
  },
  {
   "cell_type": "markdown",
   "id": "d40b8ae1",
   "metadata": {
    "id": "d40b8ae1"
   },
   "source": [
    "## Pearson's correlation"
   ]
  },
  {
   "cell_type": "markdown",
   "id": "a3e870d9",
   "metadata": {},
   "source": [
    "### Correlation for Advertising\n",
    "It turns out that \"TV\" and \"Sales\" has a bigger correlation"
   ]
  },
  {
   "cell_type": "code",
   "execution_count": null,
   "id": "07b98460",
   "metadata": {
    "id": "07b98460",
    "outputId": "b5c9413b-ebea-4087-b042-660f04866293"
   },
   "outputs": [],
   "source": [
    "M_corr_advertising = corr_matrix(df_advertising)\n",
    "df_advertising.columns, M_corr_advertising"
   ]
  },
  {
   "cell_type": "code",
   "execution_count": null,
   "id": "9f69de1a",
   "metadata": {},
   "outputs": [],
   "source": [
    "x,y = 'TV', 'Sales'\n",
    "title = \"Relation between %s and %s\"\n",
    "fig = plt.figure(figsize=(2, 2))\n",
    "plt.plot(df_advertising[x],df_advertising[y],marker='.',linestyle='none')\n",
    "plt.tight_layout()\n",
    "plt.title(title % (x, y))  "
   ]
  },
  {
   "cell_type": "markdown",
   "id": "d8474e29",
   "metadata": {},
   "source": [
    "### Correlation for Articulos\n",
    "But here our hypothesis was grong, turns out that \"# of comments\" and \"# Shares\" has a bigger correlation"
   ]
  },
  {
   "cell_type": "code",
   "execution_count": null,
   "id": "d4c919b8",
   "metadata": {},
   "outputs": [],
   "source": [
    "M_corr_articulos = corr_matrix(mice_imputation_df_papers)\n",
    "mice_imputation_df_papers.columns, M_corr_articulos"
   ]
  },
  {
   "cell_type": "code",
   "execution_count": null,
   "id": "6f92cef0",
   "metadata": {},
   "outputs": [],
   "source": [
    "x,y = '# of comments', '# Shares'\n",
    "#x,y = 'Word count', '# Shares'\n",
    "title = \"Relation between %s and %s\"\n",
    "fig = plt.figure(figsize=(2.5, 2))\n",
    "plt.plot(mice_imputation_df_papers[x],mice_imputation_df_papers[y],marker='.',linestyle='none')\n",
    "plt.tight_layout()\n",
    "plt.title(title % (x, y))  "
   ]
  },
  {
   "cell_type": "markdown",
   "id": "7f81b6ee",
   "metadata": {},
   "source": [
    "## Regression by Gradicent descent"
   ]
  },
  {
   "cell_type": "markdown",
   "id": "bce1a831",
   "metadata": {},
   "source": [
    "### Defining gradient descedent calculations function"
   ]
  },
  {
   "cell_type": "code",
   "execution_count": null,
   "id": "6f17c95b",
   "metadata": {},
   "outputs": [],
   "source": [
    "def GD(trX, trY, b_0, b_1, learningRate, num_steps):\n",
    "    criteria = 1e-8\n",
    "    for step in range(0, num_steps+1):\n",
    "        b_0_gradient = 0\n",
    "        b_1_gradient = 0\n",
    "        N = float(len(trX))\n",
    "        for i in range(0, len(trX)):\n",
    "            b_0_gradient -= (2/N) * (trY[i] - (b_0 + b_1 * trX[i]))\n",
    "            b_1_gradient -= (2/N) * (trY[i] - (b_0 + b_1 * trX[i])) * trX[i]\n",
    "\n",
    "        b_0 = b_0 - (learningRate * b_0_gradient)\n",
    "        b_1 = b_1 - (learningRate * b_1_gradient)\n",
    "        if max(abs(learningRate * b_0_gradient), abs(learningRate * b_1_gradient)) < criteria:\n",
    "            break\n",
    "\n",
    "    # Results\n",
    "    print(\"theta_0 and theta_1 are:\", b_0, b_1, \"in\", step, 'epochs')\n",
    "    return b_0, b_1"
   ]
  },
  {
   "cell_type": "markdown",
   "id": "3327ce2b",
   "metadata": {},
   "source": [
    "### Defining auxiliar plot function"
   ]
  },
  {
   "cell_type": "code",
   "execution_count": null,
   "id": "4bd8affa",
   "metadata": {},
   "outputs": [],
   "source": [
    "def plot(X,Y, theta_0, theta_1):\n",
    "    plt.scatter(X,Y, label='Y - data')\n",
    "    h = theta_0 + theta_1 * X\n",
    "    plt.plot(X,h, 'r', label='h - model line')\n",
    "    plt.legend(loc=\"upper left\")"
   ]
  },
  {
   "cell_type": "markdown",
   "id": "debb3d38",
   "metadata": {},
   "source": [
    "### Regression for Advertising dataset with the most correlative variables"
   ]
  },
  {
   "cell_type": "code",
   "execution_count": null,
   "id": "b35465a4",
   "metadata": {},
   "outputs": [],
   "source": [
    "trX, trY = np.array(df_advertising['TV']), np.array(df_advertising['Sales'])\n",
    "# Defining initial parameters\n",
    "epochs = 10000\n",
    "alpha = .000001\n",
    "theta_0 = 0\n",
    "theta_1 = 10\n",
    "\n",
    "theta_0, theta_1 = GD(trX, trY, theta_0, theta_1, alpha, epochs)\n",
    "plot(trX, trY, theta_0, theta_1)"
   ]
  },
  {
   "cell_type": "markdown",
   "id": "abec0a62",
   "metadata": {},
   "source": [
    "### Regression for Articles dataset with the most correlative variables"
   ]
  },
  {
   "cell_type": "code",
   "execution_count": null,
   "id": "26d6cfad",
   "metadata": {},
   "outputs": [],
   "source": [
    "#trX, trY = np.array(df_advertising['TV']), np.array(df_advertising['Sales'])\n",
    "x,y = '# of comments', '# Shares'\n",
    "trX, trY = mice_imputation_df_papers[x],mice_imputation_df_papers[y]\n",
    "# Defining initial parameters\n",
    "epochs = 10000\n",
    "alpha = .000001\n",
    "theta_0 = 0\n",
    "theta_1 = 0\n",
    "\n",
    "theta_0, theta_1 = GD(trX, trY, theta_0, theta_1, alpha, epochs)\n",
    "plot(trX, trY, theta_0, theta_1)"
   ]
  },
  {
   "cell_type": "code",
   "execution_count": null,
   "id": "a095cd2a",
   "metadata": {},
   "outputs": [],
   "source": [
    "#trX, trY = np.array(df_advertising['TV']), np.array(df_advertising['Sales'])\n",
    "x,y = 'Word count', '# Shares'\n",
    "trX, trY = mice_imputation_df_papers[x],mice_imputation_df_papers[y]\n",
    "# Defining initial parameters\n",
    "epochs = 10000\n",
    "alpha = .00000001\n",
    "theta_0 = 0\n",
    "theta_1 = 0\n",
    "\n",
    "theta_0, theta_1 = GD(trX, trY, theta_0, theta_1, alpha, epochs)\n",
    "plot(trX, trY, theta_0, theta_1)"
   ]
  }
 ],
 "metadata": {
  "colab": {
   "provenance": []
  },
  "kernelspec": {
   "display_name": "Python 3",
   "language": "python",
   "name": "python3"
  },
  "language_info": {
   "codemirror_mode": {
    "name": "ipython",
    "version": 3
   },
   "file_extension": ".py",
   "mimetype": "text/x-python",
   "name": "python",
   "nbconvert_exporter": "python",
   "pygments_lexer": "ipython3",
   "version": "3.8.8"
  }
 },
 "nbformat": 4,
 "nbformat_minor": 5
}
