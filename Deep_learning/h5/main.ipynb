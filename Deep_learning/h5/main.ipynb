{
 "cells": [
  {
   "cell_type": "markdown",
   "metadata": {},
   "source": [
    "## H5"
   ]
  },
  {
   "cell_type": "code",
   "execution_count": null,
   "metadata": {},
   "outputs": [],
   "source": [
    "import pandas as pd\n",
    "import numpy as np\n",
    "import tensorflow as tf\n",
    "import cv2\n",
    "import os\n",
    "from sklearn.model_selection import  train_test_split\n",
    "import h5py"
   ]
  },
  {
   "cell_type": "code",
   "execution_count": null,
   "metadata": {},
   "outputs": [],
   "source": [
    "folder_dogs = 'cats_and_dogs_small/dogs/' \n",
    "folder_cats = 'cats_and_dogs_small/cats/'\n",
    "\n",
    "img_dogs_and_cats = []\n",
    "labels_dogs_and_cats = []"
   ]
  },
  {
   "cell_type": "code",
   "execution_count": null,
   "metadata": {},
   "outputs": [
    {
     "name": "stdout",
     "output_type": "stream",
     "text": [
      "<class 'list'> <class 'list'>\n",
      "4000 4000\n"
     ]
    }
   ],
   "source": [
    "for index, images_folder in enumerate([folder_dogs, folder_cats]):\n",
    "    for image in os.listdir(images_folder):\n",
    "        if image.endswith(('.jpg')):\n",
    "            path = images_folder + image\n",
    "            image = cv2.imread(path)\n",
    "            if image is not None:\n",
    "                image = cv2.resize(image, (150, 150))\n",
    "                img_dogs_and_cats.append(image)\n",
    "                labels_dogs_and_cats.append(index)\n",
    "\n",
    "print(type(img_dogs_and_cats), type(labels_dogs_and_cats))\n",
    "print(len(img_dogs_and_cats), len(labels_dogs_and_cats))\n"
   ]
  },
  {
   "cell_type": "code",
   "execution_count": null,
   "metadata": {},
   "outputs": [
    {
     "name": "stdout",
     "output_type": "stream",
     "text": [
      "<class 'numpy.ndarray'> <class 'numpy.ndarray'>\n",
      "(4000, 150, 150, 3) (4000,)\n"
     ]
    }
   ],
   "source": [
    "img_dogs_and_cats = np.array(img_dogs_and_cats)\n",
    "labels_dogs_and_cats = np.array(labels_dogs_and_cats)\n",
    "\n",
    "print(type(img_dogs_and_cats), type(labels_dogs_and_cats))\n",
    "print(img_dogs_and_cats.shape, labels_dogs_and_cats.shape)"
   ]
  },
  {
   "cell_type": "code",
   "execution_count": null,
   "metadata": {},
   "outputs": [
    {
     "data": {
      "text/plain": [
       "array([2129, 2543, 2012, ..., 1329, 3884, 3936])"
      ]
     },
     "execution_count": 29,
     "metadata": {},
     "output_type": "execute_result"
    }
   ],
   "source": [
    "temp_index = np.arange(len(img_dogs_and_cats))\n",
    "np.random.shuffle(temp_index)\n",
    "temp_index"
   ]
  },
  {
   "cell_type": "code",
   "execution_count": null,
   "metadata": {},
   "outputs": [],
   "source": [
    "img_dogs_and_cats = img_dogs_and_cats[temp_index]\n",
    "labels_dogs_and_cats = labels_dogs_and_cats[temp_index]"
   ]
  },
  {
   "cell_type": "code",
   "execution_count": null,
   "metadata": {},
   "outputs": [
    {
     "name": "stdout",
     "output_type": "stream",
     "text": [
      "(2800, 150, 150, 3) (2800,)\n",
      "(840, 150, 150, 3) (840,)\n",
      "(360, 150, 150, 3) (360,)\n"
     ]
    }
   ],
   "source": [
    "X_train, X_test, y_train, y_test = train_test_split(img_dogs_and_cats, labels_dogs_and_cats, test_size=0.3, random_state=42)\n",
    "X_val, X_test, y_val, y_test = train_test_split(X_test, y_test, test_size=0.7, random_state=42)\n",
    "\n",
    "print(X_train.shape, y_train.shape)\n",
    "\n",
    "print(X_test.shape, y_test.shape)\n",
    "print(X_val.shape, y_val.shape)"
   ]
  },
  {
   "cell_type": "code",
   "execution_count": null,
   "metadata": {},
   "outputs": [],
   "source": []
  }
 ],
 "metadata": {
  "kernelspec": {
   "display_name": "tensorflow_1_1",
   "language": "python",
   "name": "python3"
  },
  "language_info": {
   "codemirror_mode": {
    "name": "ipython",
    "version": 3
   },
   "file_extension": ".py",
   "mimetype": "text/x-python",
   "name": "python",
   "nbconvert_exporter": "python",
   "pygments_lexer": "ipython3",
   "version": "3.8.16"
  }
 },
 "nbformat": 4,
 "nbformat_minor": 2
}
