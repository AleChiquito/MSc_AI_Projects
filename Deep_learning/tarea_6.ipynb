{
 "nbformat": 4,
 "nbformat_minor": 0,
 "metadata": {
  "colab": {
   "provenance": []
  },
  "kernelspec": {
   "name": "python3",
   "language": "python",
   "display_name": "Python 3 (ipykernel)"
  },
  "language_info": {
   "name": "python"
  }
 },
 "cells": [
  {
   "cell_type": "code",
   "execution_count": 1,
   "metadata": {
    "colab": {
     "base_uri": "https://localhost:8080/"
    },
    "id": "BO4hRTDaFO--",
    "outputId": "28026938-b4bc-4fe6-cdbd-718e8c3513bd",
    "ExecuteTime": {
     "end_time": "2023-09-19T01:42:45.451902Z",
     "start_time": "2023-09-19T01:42:45.267868Z"
    }
   },
   "outputs": [
    {
     "ename": "ModuleNotFoundError",
     "evalue": "No module named 'google'",
     "output_type": "error",
     "traceback": [
      "\u001B[0;31m---------------------------------------------------------------------------\u001B[0m",
      "\u001B[0;31mModuleNotFoundError\u001B[0m                       Traceback (most recent call last)",
      "Cell \u001B[0;32mIn[1], line 2\u001B[0m\n\u001B[1;32m      1\u001B[0m \u001B[38;5;28;01mimport\u001B[39;00m \u001B[38;5;21;01msys\u001B[39;00m\n\u001B[0;32m----> 2\u001B[0m \u001B[38;5;28;01mfrom\u001B[39;00m \u001B[38;5;21;01mgoogle\u001B[39;00m\u001B[38;5;21;01m.\u001B[39;00m\u001B[38;5;21;01mcolab\u001B[39;00m \u001B[38;5;28;01mimport\u001B[39;00m drive\n\u001B[1;32m      4\u001B[0m drive\u001B[38;5;241m.\u001B[39mmount(\u001B[38;5;124m'\u001B[39m\u001B[38;5;124m/content/drive\u001B[39m\u001B[38;5;124m'\u001B[39m, force_remount\u001B[38;5;241m=\u001B[39m\u001B[38;5;28;01mTrue\u001B[39;00m)\n\u001B[1;32m      5\u001B[0m sys\u001B[38;5;241m.\u001B[39mpath\u001B[38;5;241m.\u001B[39mappend(\u001B[38;5;124m'\u001B[39m\u001B[38;5;124m/content/drive/MyDrive/Colab_Notebooks/DL_course/Clase_2\u001B[39m\u001B[38;5;124m'\u001B[39m)\n",
      "\u001B[0;31mModuleNotFoundError\u001B[0m: No module named 'google'"
     ]
    }
   ],
   "source": [
    "import sys\n",
    "from google.colab import drive\n",
    "\n",
    "drive.mount('/content/drive', force_remount=True)\n",
    "sys.path.append('/content/drive/MyDrive/Colab_Notebooks/DL_course/Clase_2')"
   ]
  },
  {
   "cell_type": "code",
   "source": [
    "import pandas as pd, numpy as np\n",
    "data = pd.read_csv('/content/drive/MyDrive/Advertising.csv')"
   ],
   "metadata": {
    "id": "LO0nJpYZFkfK"
   },
   "execution_count": null,
   "outputs": []
  },
  {
   "cell_type": "code",
   "source": [
    "data"
   ],
   "metadata": {
    "colab": {
     "base_uri": "https://localhost:8080/",
     "height": 423
    },
    "id": "TebTj3hrFqI-",
    "outputId": "9dbed678-f09c-46b2-8617-155cb6741d60"
   },
   "execution_count": null,
   "outputs": []
  },
  {
   "cell_type": "code",
   "source": [
    "X = data.iloc[:, 1:4].to_numpy()\n",
    "\n",
    "print(X.shape)"
   ],
   "metadata": {
    "colab": {
     "base_uri": "https://localhost:8080/"
    },
    "id": "5Zb3ReRnFrKx",
    "outputId": "44957c7d-1d99-4c10-c305-43581eb17fe8"
   },
   "execution_count": null,
   "outputs": []
  },
  {
   "cell_type": "code",
   "source": [
    "X = np.insert(X, 0, np.ones((X.shape[0])), axis = 1)\n",
    "print(X.shape)"
   ],
   "metadata": {
    "colab": {
     "base_uri": "https://localhost:8080/"
    },
    "id": "9WFDae-wGSoX",
    "outputId": "3d8b0c36-9c49-4af9-d4ee-18b4b32c259c"
   },
   "execution_count": null,
   "outputs": []
  },
  {
   "cell_type": "code",
   "source": [
    "print(X)"
   ],
   "metadata": {
    "colab": {
     "base_uri": "https://localhost:8080/"
    },
    "id": "w4BwwPzqGw94",
    "outputId": "b7820d02-75ac-452b-8441-2e6d3a4cdfa8"
   },
   "execution_count": null,
   "outputs": []
  },
  {
   "cell_type": "code",
   "source": [
    "Y = data.iloc[:, 4].to_numpy()\n",
    "print(Y.shape)"
   ],
   "metadata": {
    "colab": {
     "base_uri": "https://localhost:8080/"
    },
    "id": "E5eqlFzpHIKc",
    "outputId": "15a546be-a123-4665-ec4a-818c60fed259"
   },
   "execution_count": null,
   "outputs": []
  },
  {
   "cell_type": "code",
   "source": [
    "Y = Y.reshape((Y.shape[0], 1))"
   ],
   "metadata": {
    "id": "qm4MvFdOHVyR"
   },
   "execution_count": null,
   "outputs": []
  },
  {
   "cell_type": "code",
   "source": [
    "print(Y.shape)"
   ],
   "metadata": {
    "colab": {
     "base_uri": "https://localhost:8080/"
    },
    "id": "6_Cpti0AHqPW",
    "outputId": "d78fc1ed-6890-42a4-e2f4-860f0b61f57a"
   },
   "execution_count": null,
   "outputs": []
  },
  {
   "cell_type": "code",
   "source": [
    "theta = np.random.rand(X.shape[1], 1)\n",
    "print(theta.shape)"
   ],
   "metadata": {
    "colab": {
     "base_uri": "https://localhost:8080/"
    },
    "id": "LdMz4su0HrfE",
    "outputId": "d2efe8f8-5251-447c-c055-034288434f43"
   },
   "execution_count": null,
   "outputs": []
  },
  {
   "cell_type": "code",
   "source": [
    "print(theta)"
   ],
   "metadata": {
    "colab": {
     "base_uri": "https://localhost:8080/"
    },
    "id": "8lWBH4WmLNtV",
    "outputId": "4a1c0c6b-2cce-46cb-d821-a3e1f2e8e0c1"
   },
   "execution_count": null,
   "outputs": []
  },
  {
   "cell_type": "code",
   "source": [
    "h = X@theta\n",
    "\n",
    "print(h.shape)"
   ],
   "metadata": {
    "colab": {
     "base_uri": "https://localhost:8080/"
    },
    "id": "7kUBZZnOJ_qY",
    "outputId": "acc1f779-4833-40e8-c0ae-1bd7bda427af"
   },
   "execution_count": null,
   "outputs": []
  },
  {
   "cell_type": "markdown",
   "source": [
    "$$J(\\theta)  = \\frac{1}{2m}(X.\\theta - Y)^T . (X.\\theta - Y)$$"
   ],
   "metadata": {
    "id": "_vHJaBGcKUwj"
   }
  },
  {
   "cell_type": "code",
   "source": [
    "def MSE(X, theta, Y):\n",
    "  return (1 / 2 * X.shape[0]) * (X@theta - Y).T @ (X@theta - Y)"
   ],
   "metadata": {
    "id": "q0MpsYiwKYpS"
   },
   "execution_count": null,
   "outputs": []
  },
  {
   "cell_type": "code",
   "source": [
    "print(MSE(X, theta, Y))"
   ],
   "metadata": {
    "colab": {
     "base_uri": "https://localhost:8080/"
    },
    "id": "dB9ul24rKMXl",
    "outputId": "990cf446-00e3-466a-a16b-5ce050ae8b8d"
   },
   "execution_count": null,
   "outputs": []
  },
  {
   "cell_type": "markdown",
   "source": [
    "$$\\begin{bmatrix}\n",
    "{\\theta_0} \\\\\n",
    "{\\theta_1} \\\\\n",
    ".\\\\\n",
    ".\\\\\n",
    ".\\\\\n",
    "{\\theta_n}\\\\\n",
    "\\end{bmatrix}=\n",
    "\\begin{bmatrix}\n",
    "{\\theta_0} \\\\\n",
    "{\\theta_1} \\\\\n",
    ".\\\\\n",
    ".\\\\\n",
    ".\\\\\n",
    "{\\theta_n}\\\\\n",
    "\\end{bmatrix}\n",
    "-\\alpha /m\n",
    "\\begin{bmatrix}\n",
    "\\frac{\\partial J(\\theta)}{\\partial \\theta_0} \\\\\n",
    "\\frac{\\partial J(\\theta)}{\\partial \\theta_1} \\\\\n",
    ".\\\\\n",
    ".\\\\\n",
    ".\\\\\n",
    "\\frac{\\partial J(\\theta)}{\\partial \\theta_n}\\\\\n",
    "\\end{bmatrix}$$\n"
   ],
   "metadata": {
    "id": "Fay9o7nGL0EP"
   }
  },
  {
   "cell_type": "markdown",
   "source": [
    "$$\n",
    "\\begin{bmatrix}\n",
    "\\frac{\\partial J(\\theta)}{\\partial \\theta_0} \\\\\n",
    "\\frac{\\partial J(\\theta)}{\\partial \\theta_1} \\\\\n",
    ".\\\\\n",
    ".\\\\\n",
    ".\\\\\n",
    "\\frac{\\partial J(\\theta)}{\\partial \\theta_{n}}\\\\\n",
    "\\end{bmatrix}\n",
    "=\\frac{1}{m}(h_\\theta - Y)X^T = \\frac{1}{m}(X.\\theta - Y)X^T\n",
    "$$\n"
   ],
   "metadata": {
    "id": "LsPZCzoRMcI5"
   }
  },
  {
   "cell_type": "code",
   "source": [
    "from tqdm import tqdm\n",
    "\n",
    "def train(X, Y, theta, learning_rate = 1e-3, epochs = 100):\n",
    "  for epoch in tqdm(range(epochs)):\n",
    "    theta = theta - (learning_rate / X.shape[0]) * X.T @ (X@theta - Y)\n",
    "  return theta\n"
   ],
   "metadata": {
    "id": "2LRm1xYsK9xk"
   },
   "execution_count": null,
   "outputs": []
  },
  {
   "cell_type": "code",
   "source": [
    "print(MSE(X, theta, Y))\n",
    "theta = train(X, Y, theta = theta, learning_rate = 5e-5, epochs = 1000000)\n",
    "\n",
    "print(MSE(X, theta, Y))"
   ],
   "metadata": {
    "colab": {
     "base_uri": "https://localhost:8080/"
    },
    "id": "Bba7P1RbL8zF",
    "outputId": "744bc91d-bb86-4216-99a0-19d04903f70b"
   },
   "execution_count": null,
   "outputs": []
  },
  {
   "cell_type": "code",
   "source": [
    "print(theta)"
   ],
   "metadata": {
    "colab": {
     "base_uri": "https://localhost:8080/"
    },
    "id": "lwoH2cEzN7b2",
    "outputId": "66876b5e-32a9-4f0d-cee4-aa1231d0f5a0"
   },
   "execution_count": null,
   "outputs": []
  },
  {
   "cell_type": "code",
   "source": [],
   "metadata": {
    "id": "4c4_0UKMPDC8"
   },
   "execution_count": null,
   "outputs": []
  }
 ]
}
