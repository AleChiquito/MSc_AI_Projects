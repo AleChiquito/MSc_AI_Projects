{
  "nbformat": 4,
  "nbformat_minor": 0,
  "metadata": {
    "colab": {
      "provenance": []
    },
    "kernelspec": {
      "name": "python3",
      "display_name": "Python 3"
    },
    "language_info": {
      "name": "python"
    }
  },
  "cells": [
    {
      "cell_type": "code",
      "execution_count": 1,
      "metadata": {
        "colab": {
          "base_uri": "https://localhost:8080/"
        },
        "id": "BO4hRTDaFO--",
        "outputId": "28026938-b4bc-4fe6-cdbd-718e8c3513bd"
      },
      "outputs": [
        {
          "output_type": "stream",
          "name": "stdout",
          "text": [
            "Mounted at /content/drive\n"
          ]
        }
      ],
      "source": [
        "import sys\n",
        "from google.colab import drive\n",
        "\n",
        "drive.mount('/content/drive', force_remount=True)\n",
        "sys.path.append('/content/drive/MyDrive/Colab_Notebooks/DL_course/Clase_2')"
      ]
    },
    {
      "cell_type": "code",
      "source": [
        "import pandas as pd, numpy as np\n",
        "data = pd.read_csv('/content/drive/MyDrive/Advertising.csv')"
      ],
      "metadata": {
        "id": "LO0nJpYZFkfK"
      },
      "execution_count": 2,
      "outputs": []
    },
    {
      "cell_type": "code",
      "source": [
        "data"
      ],
      "metadata": {
        "colab": {
          "base_uri": "https://localhost:8080/",
          "height": 423
        },
        "id": "TebTj3hrFqI-",
        "outputId": "9dbed678-f09c-46b2-8617-155cb6741d60"
      },
      "execution_count": 3,
      "outputs": [
        {
          "output_type": "execute_result",
          "data": {
            "text/plain": [
              "     Unnamed: 0     TV  Radio  Newspaper  Sales\n",
              "0             1  230.1   37.8       69.2   22.1\n",
              "1             2   44.5   39.3       45.1   10.4\n",
              "2             3   17.2   45.9       69.3    9.3\n",
              "3             4  151.5   41.3       58.5   18.5\n",
              "4             5  180.8   10.8       58.4   12.9\n",
              "..          ...    ...    ...        ...    ...\n",
              "195         196   38.2    3.7       13.8    7.6\n",
              "196         197   94.2    4.9        8.1    9.7\n",
              "197         198  177.0    9.3        6.4   12.8\n",
              "198         199  283.6   42.0       66.2   25.5\n",
              "199         200  232.1    8.6        8.7   13.4\n",
              "\n",
              "[200 rows x 5 columns]"
            ],
            "text/html": [
              "\n",
              "  <div id=\"df-7d7621a0-e0fc-419f-8286-c93680bec770\" class=\"colab-df-container\">\n",
              "    <div>\n",
              "<style scoped>\n",
              "    .dataframe tbody tr th:only-of-type {\n",
              "        vertical-align: middle;\n",
              "    }\n",
              "\n",
              "    .dataframe tbody tr th {\n",
              "        vertical-align: top;\n",
              "    }\n",
              "\n",
              "    .dataframe thead th {\n",
              "        text-align: right;\n",
              "    }\n",
              "</style>\n",
              "<table border=\"1\" class=\"dataframe\">\n",
              "  <thead>\n",
              "    <tr style=\"text-align: right;\">\n",
              "      <th></th>\n",
              "      <th>Unnamed: 0</th>\n",
              "      <th>TV</th>\n",
              "      <th>Radio</th>\n",
              "      <th>Newspaper</th>\n",
              "      <th>Sales</th>\n",
              "    </tr>\n",
              "  </thead>\n",
              "  <tbody>\n",
              "    <tr>\n",
              "      <th>0</th>\n",
              "      <td>1</td>\n",
              "      <td>230.1</td>\n",
              "      <td>37.8</td>\n",
              "      <td>69.2</td>\n",
              "      <td>22.1</td>\n",
              "    </tr>\n",
              "    <tr>\n",
              "      <th>1</th>\n",
              "      <td>2</td>\n",
              "      <td>44.5</td>\n",
              "      <td>39.3</td>\n",
              "      <td>45.1</td>\n",
              "      <td>10.4</td>\n",
              "    </tr>\n",
              "    <tr>\n",
              "      <th>2</th>\n",
              "      <td>3</td>\n",
              "      <td>17.2</td>\n",
              "      <td>45.9</td>\n",
              "      <td>69.3</td>\n",
              "      <td>9.3</td>\n",
              "    </tr>\n",
              "    <tr>\n",
              "      <th>3</th>\n",
              "      <td>4</td>\n",
              "      <td>151.5</td>\n",
              "      <td>41.3</td>\n",
              "      <td>58.5</td>\n",
              "      <td>18.5</td>\n",
              "    </tr>\n",
              "    <tr>\n",
              "      <th>4</th>\n",
              "      <td>5</td>\n",
              "      <td>180.8</td>\n",
              "      <td>10.8</td>\n",
              "      <td>58.4</td>\n",
              "      <td>12.9</td>\n",
              "    </tr>\n",
              "    <tr>\n",
              "      <th>...</th>\n",
              "      <td>...</td>\n",
              "      <td>...</td>\n",
              "      <td>...</td>\n",
              "      <td>...</td>\n",
              "      <td>...</td>\n",
              "    </tr>\n",
              "    <tr>\n",
              "      <th>195</th>\n",
              "      <td>196</td>\n",
              "      <td>38.2</td>\n",
              "      <td>3.7</td>\n",
              "      <td>13.8</td>\n",
              "      <td>7.6</td>\n",
              "    </tr>\n",
              "    <tr>\n",
              "      <th>196</th>\n",
              "      <td>197</td>\n",
              "      <td>94.2</td>\n",
              "      <td>4.9</td>\n",
              "      <td>8.1</td>\n",
              "      <td>9.7</td>\n",
              "    </tr>\n",
              "    <tr>\n",
              "      <th>197</th>\n",
              "      <td>198</td>\n",
              "      <td>177.0</td>\n",
              "      <td>9.3</td>\n",
              "      <td>6.4</td>\n",
              "      <td>12.8</td>\n",
              "    </tr>\n",
              "    <tr>\n",
              "      <th>198</th>\n",
              "      <td>199</td>\n",
              "      <td>283.6</td>\n",
              "      <td>42.0</td>\n",
              "      <td>66.2</td>\n",
              "      <td>25.5</td>\n",
              "    </tr>\n",
              "    <tr>\n",
              "      <th>199</th>\n",
              "      <td>200</td>\n",
              "      <td>232.1</td>\n",
              "      <td>8.6</td>\n",
              "      <td>8.7</td>\n",
              "      <td>13.4</td>\n",
              "    </tr>\n",
              "  </tbody>\n",
              "</table>\n",
              "<p>200 rows × 5 columns</p>\n",
              "</div>\n",
              "    <div class=\"colab-df-buttons\">\n",
              "\n",
              "  <div class=\"colab-df-container\">\n",
              "    <button class=\"colab-df-convert\" onclick=\"convertToInteractive('df-7d7621a0-e0fc-419f-8286-c93680bec770')\"\n",
              "            title=\"Convert this dataframe to an interactive table.\"\n",
              "            style=\"display:none;\">\n",
              "\n",
              "  <svg xmlns=\"http://www.w3.org/2000/svg\" height=\"24px\" viewBox=\"0 -960 960 960\">\n",
              "    <path d=\"M120-120v-720h720v720H120Zm60-500h600v-160H180v160Zm220 220h160v-160H400v160Zm0 220h160v-160H400v160ZM180-400h160v-160H180v160Zm440 0h160v-160H620v160ZM180-180h160v-160H180v160Zm440 0h160v-160H620v160Z\"/>\n",
              "  </svg>\n",
              "    </button>\n",
              "\n",
              "  <style>\n",
              "    .colab-df-container {\n",
              "      display:flex;\n",
              "      gap: 12px;\n",
              "    }\n",
              "\n",
              "    .colab-df-convert {\n",
              "      background-color: #E8F0FE;\n",
              "      border: none;\n",
              "      border-radius: 50%;\n",
              "      cursor: pointer;\n",
              "      display: none;\n",
              "      fill: #1967D2;\n",
              "      height: 32px;\n",
              "      padding: 0 0 0 0;\n",
              "      width: 32px;\n",
              "    }\n",
              "\n",
              "    .colab-df-convert:hover {\n",
              "      background-color: #E2EBFA;\n",
              "      box-shadow: 0px 1px 2px rgba(60, 64, 67, 0.3), 0px 1px 3px 1px rgba(60, 64, 67, 0.15);\n",
              "      fill: #174EA6;\n",
              "    }\n",
              "\n",
              "    .colab-df-buttons div {\n",
              "      margin-bottom: 4px;\n",
              "    }\n",
              "\n",
              "    [theme=dark] .colab-df-convert {\n",
              "      background-color: #3B4455;\n",
              "      fill: #D2E3FC;\n",
              "    }\n",
              "\n",
              "    [theme=dark] .colab-df-convert:hover {\n",
              "      background-color: #434B5C;\n",
              "      box-shadow: 0px 1px 3px 1px rgba(0, 0, 0, 0.15);\n",
              "      filter: drop-shadow(0px 1px 2px rgba(0, 0, 0, 0.3));\n",
              "      fill: #FFFFFF;\n",
              "    }\n",
              "  </style>\n",
              "\n",
              "    <script>\n",
              "      const buttonEl =\n",
              "        document.querySelector('#df-7d7621a0-e0fc-419f-8286-c93680bec770 button.colab-df-convert');\n",
              "      buttonEl.style.display =\n",
              "        google.colab.kernel.accessAllowed ? 'block' : 'none';\n",
              "\n",
              "      async function convertToInteractive(key) {\n",
              "        const element = document.querySelector('#df-7d7621a0-e0fc-419f-8286-c93680bec770');\n",
              "        const dataTable =\n",
              "          await google.colab.kernel.invokeFunction('convertToInteractive',\n",
              "                                                    [key], {});\n",
              "        if (!dataTable) return;\n",
              "\n",
              "        const docLinkHtml = 'Like what you see? Visit the ' +\n",
              "          '<a target=\"_blank\" href=https://colab.research.google.com/notebooks/data_table.ipynb>data table notebook</a>'\n",
              "          + ' to learn more about interactive tables.';\n",
              "        element.innerHTML = '';\n",
              "        dataTable['output_type'] = 'display_data';\n",
              "        await google.colab.output.renderOutput(dataTable, element);\n",
              "        const docLink = document.createElement('div');\n",
              "        docLink.innerHTML = docLinkHtml;\n",
              "        element.appendChild(docLink);\n",
              "      }\n",
              "    </script>\n",
              "  </div>\n",
              "\n",
              "\n",
              "<div id=\"df-8223c8e2-b97a-46db-b8a0-26e824b7f8a6\">\n",
              "  <button class=\"colab-df-quickchart\" onclick=\"quickchart('df-8223c8e2-b97a-46db-b8a0-26e824b7f8a6')\"\n",
              "            title=\"Suggest charts.\"\n",
              "            style=\"display:none;\">\n",
              "\n",
              "<svg xmlns=\"http://www.w3.org/2000/svg\" height=\"24px\"viewBox=\"0 0 24 24\"\n",
              "     width=\"24px\">\n",
              "    <g>\n",
              "        <path d=\"M19 3H5c-1.1 0-2 .9-2 2v14c0 1.1.9 2 2 2h14c1.1 0 2-.9 2-2V5c0-1.1-.9-2-2-2zM9 17H7v-7h2v7zm4 0h-2V7h2v10zm4 0h-2v-4h2v4z\"/>\n",
              "    </g>\n",
              "</svg>\n",
              "  </button>\n",
              "\n",
              "<style>\n",
              "  .colab-df-quickchart {\n",
              "    background-color: #E8F0FE;\n",
              "    border: none;\n",
              "    border-radius: 50%;\n",
              "    cursor: pointer;\n",
              "    display: none;\n",
              "    fill: #1967D2;\n",
              "    height: 32px;\n",
              "    padding: 0 0 0 0;\n",
              "    width: 32px;\n",
              "  }\n",
              "\n",
              "  .colab-df-quickchart:hover {\n",
              "    background-color: #E2EBFA;\n",
              "    box-shadow: 0px 1px 2px rgba(60, 64, 67, 0.3), 0px 1px 3px 1px rgba(60, 64, 67, 0.15);\n",
              "    fill: #174EA6;\n",
              "  }\n",
              "\n",
              "  [theme=dark] .colab-df-quickchart {\n",
              "    background-color: #3B4455;\n",
              "    fill: #D2E3FC;\n",
              "  }\n",
              "\n",
              "  [theme=dark] .colab-df-quickchart:hover {\n",
              "    background-color: #434B5C;\n",
              "    box-shadow: 0px 1px 3px 1px rgba(0, 0, 0, 0.15);\n",
              "    filter: drop-shadow(0px 1px 2px rgba(0, 0, 0, 0.3));\n",
              "    fill: #FFFFFF;\n",
              "  }\n",
              "</style>\n",
              "\n",
              "  <script>\n",
              "    async function quickchart(key) {\n",
              "      const charts = await google.colab.kernel.invokeFunction(\n",
              "          'suggestCharts', [key], {});\n",
              "    }\n",
              "    (() => {\n",
              "      let quickchartButtonEl =\n",
              "        document.querySelector('#df-8223c8e2-b97a-46db-b8a0-26e824b7f8a6 button');\n",
              "      quickchartButtonEl.style.display =\n",
              "        google.colab.kernel.accessAllowed ? 'block' : 'none';\n",
              "    })();\n",
              "  </script>\n",
              "</div>\n",
              "    </div>\n",
              "  </div>\n"
            ]
          },
          "metadata": {},
          "execution_count": 3
        }
      ]
    },
    {
      "cell_type": "code",
      "source": [
        "X = data.iloc[:, 1:4].to_numpy()\n",
        "\n",
        "print(X.shape)"
      ],
      "metadata": {
        "colab": {
          "base_uri": "https://localhost:8080/"
        },
        "id": "5Zb3ReRnFrKx",
        "outputId": "44957c7d-1d99-4c10-c305-43581eb17fe8"
      },
      "execution_count": 4,
      "outputs": [
        {
          "output_type": "stream",
          "name": "stdout",
          "text": [
            "(200, 3)\n"
          ]
        }
      ]
    },
    {
      "cell_type": "code",
      "source": [
        "X = np.insert(X, 0, np.ones((X.shape[0])), axis = 1)\n",
        "print(X.shape)"
      ],
      "metadata": {
        "colab": {
          "base_uri": "https://localhost:8080/"
        },
        "id": "9WFDae-wGSoX",
        "outputId": "3d8b0c36-9c49-4af9-d4ee-18b4b32c259c"
      },
      "execution_count": 5,
      "outputs": [
        {
          "output_type": "stream",
          "name": "stdout",
          "text": [
            "(200, 4)\n"
          ]
        }
      ]
    },
    {
      "cell_type": "code",
      "source": [
        "print(X)"
      ],
      "metadata": {
        "colab": {
          "base_uri": "https://localhost:8080/"
        },
        "id": "w4BwwPzqGw94",
        "outputId": "b7820d02-75ac-452b-8441-2e6d3a4cdfa8"
      },
      "execution_count": 6,
      "outputs": [
        {
          "output_type": "stream",
          "name": "stdout",
          "text": [
            "[[  1.  230.1  37.8  69.2]\n",
            " [  1.   44.5  39.3  45.1]\n",
            " [  1.   17.2  45.9  69.3]\n",
            " [  1.  151.5  41.3  58.5]\n",
            " [  1.  180.8  10.8  58.4]\n",
            " [  1.    8.7  48.9  75. ]\n",
            " [  1.   57.5  32.8  23.5]\n",
            " [  1.  120.2  19.6  11.6]\n",
            " [  1.    8.6   2.1   1. ]\n",
            " [  1.  199.8   2.6  21.2]\n",
            " [  1.   66.1   5.8  24.2]\n",
            " [  1.  214.7  24.    4. ]\n",
            " [  1.   23.8  35.1  65.9]\n",
            " [  1.   97.5   7.6   7.2]\n",
            " [  1.  204.1  32.9  46. ]\n",
            " [  1.  195.4  47.7  52.9]\n",
            " [  1.   67.8  36.6 114. ]\n",
            " [  1.  281.4  39.6  55.8]\n",
            " [  1.   69.2  20.5  18.3]\n",
            " [  1.  147.3  23.9  19.1]\n",
            " [  1.  218.4  27.7  53.4]\n",
            " [  1.  237.4   5.1  23.5]\n",
            " [  1.   13.2  15.9  49.6]\n",
            " [  1.  228.3  16.9  26.2]\n",
            " [  1.   62.3  12.6  18.3]\n",
            " [  1.  262.9   3.5  19.5]\n",
            " [  1.  142.9  29.3  12.6]\n",
            " [  1.  240.1  16.7  22.9]\n",
            " [  1.  248.8  27.1  22.9]\n",
            " [  1.   70.6  16.   40.8]\n",
            " [  1.  292.9  28.3  43.2]\n",
            " [  1.  112.9  17.4  38.6]\n",
            " [  1.   97.2   1.5  30. ]\n",
            " [  1.  265.6  20.    0.3]\n",
            " [  1.   95.7   1.4   7.4]\n",
            " [  1.  290.7   4.1   8.5]\n",
            " [  1.  266.9  43.8   5. ]\n",
            " [  1.   74.7  49.4  45.7]\n",
            " [  1.   43.1  26.7  35.1]\n",
            " [  1.  228.   37.7  32. ]\n",
            " [  1.  202.5  22.3  31.6]\n",
            " [  1.  177.   33.4  38.7]\n",
            " [  1.  293.6  27.7   1.8]\n",
            " [  1.  206.9   8.4  26.4]\n",
            " [  1.   25.1  25.7  43.3]\n",
            " [  1.  175.1  22.5  31.5]\n",
            " [  1.   89.7   9.9  35.7]\n",
            " [  1.  239.9  41.5  18.5]\n",
            " [  1.  227.2  15.8  49.9]\n",
            " [  1.   66.9  11.7  36.8]\n",
            " [  1.  199.8   3.1  34.6]\n",
            " [  1.  100.4   9.6   3.6]\n",
            " [  1.  216.4  41.7  39.6]\n",
            " [  1.  182.6  46.2  58.7]\n",
            " [  1.  262.7  28.8  15.9]\n",
            " [  1.  198.9  49.4  60. ]\n",
            " [  1.    7.3  28.1  41.4]\n",
            " [  1.  136.2  19.2  16.6]\n",
            " [  1.  210.8  49.6  37.7]\n",
            " [  1.  210.7  29.5   9.3]\n",
            " [  1.   53.5   2.   21.4]\n",
            " [  1.  261.3  42.7  54.7]\n",
            " [  1.  239.3  15.5  27.3]\n",
            " [  1.  102.7  29.6   8.4]\n",
            " [  1.  131.1  42.8  28.9]\n",
            " [  1.   69.    9.3   0.9]\n",
            " [  1.   31.5  24.6   2.2]\n",
            " [  1.  139.3  14.5  10.2]\n",
            " [  1.  237.4  27.5  11. ]\n",
            " [  1.  216.8  43.9  27.2]\n",
            " [  1.  199.1  30.6  38.7]\n",
            " [  1.  109.8  14.3  31.7]\n",
            " [  1.   26.8  33.   19.3]\n",
            " [  1.  129.4   5.7  31.3]\n",
            " [  1.  213.4  24.6  13.1]\n",
            " [  1.   16.9  43.7  89.4]\n",
            " [  1.   27.5   1.6  20.7]\n",
            " [  1.  120.5  28.5  14.2]\n",
            " [  1.    5.4  29.9   9.4]\n",
            " [  1.  116.    7.7  23.1]\n",
            " [  1.   76.4  26.7  22.3]\n",
            " [  1.  239.8   4.1  36.9]\n",
            " [  1.   75.3  20.3  32.5]\n",
            " [  1.   68.4  44.5  35.6]\n",
            " [  1.  213.5  43.   33.8]\n",
            " [  1.  193.2  18.4  65.7]\n",
            " [  1.   76.3  27.5  16. ]\n",
            " [  1.  110.7  40.6  63.2]\n",
            " [  1.   88.3  25.5  73.4]\n",
            " [  1.  109.8  47.8  51.4]\n",
            " [  1.  134.3   4.9   9.3]\n",
            " [  1.   28.6   1.5  33. ]\n",
            " [  1.  217.7  33.5  59. ]\n",
            " [  1.  250.9  36.5  72.3]\n",
            " [  1.  107.4  14.   10.9]\n",
            " [  1.  163.3  31.6  52.9]\n",
            " [  1.  197.6   3.5   5.9]\n",
            " [  1.  184.9  21.   22. ]\n",
            " [  1.  289.7  42.3  51.2]\n",
            " [  1.  135.2  41.7  45.9]\n",
            " [  1.  222.4   4.3  49.8]\n",
            " [  1.  296.4  36.3 100.9]\n",
            " [  1.  280.2  10.1  21.4]\n",
            " [  1.  187.9  17.2  17.9]\n",
            " [  1.  238.2  34.3   5.3]\n",
            " [  1.  137.9  46.4  59. ]\n",
            " [  1.   25.   11.   29.7]\n",
            " [  1.   90.4   0.3  23.2]\n",
            " [  1.   13.1   0.4  25.6]\n",
            " [  1.  255.4  26.9   5.5]\n",
            " [  1.  225.8   8.2  56.5]\n",
            " [  1.  241.7  38.   23.2]\n",
            " [  1.  175.7  15.4   2.4]\n",
            " [  1.  209.6  20.6  10.7]\n",
            " [  1.   78.2  46.8  34.5]\n",
            " [  1.   75.1  35.   52.7]\n",
            " [  1.  139.2  14.3  25.6]\n",
            " [  1.   76.4   0.8  14.8]\n",
            " [  1.  125.7  36.9  79.2]\n",
            " [  1.   19.4  16.   22.3]\n",
            " [  1.  141.3  26.8  46.2]\n",
            " [  1.   18.8  21.7  50.4]\n",
            " [  1.  224.    2.4  15.6]\n",
            " [  1.  123.1  34.6  12.4]\n",
            " [  1.  229.5  32.3  74.2]\n",
            " [  1.   87.2  11.8  25.9]\n",
            " [  1.    7.8  38.9  50.6]\n",
            " [  1.   80.2   0.    9.2]\n",
            " [  1.  220.3  49.    3.2]\n",
            " [  1.   59.6  12.   43.1]\n",
            " [  1.    0.7  39.6   8.7]\n",
            " [  1.  265.2   2.9  43. ]\n",
            " [  1.    8.4  27.2   2.1]\n",
            " [  1.  219.8  33.5  45.1]\n",
            " [  1.   36.9  38.6  65.6]\n",
            " [  1.   48.3  47.    8.5]\n",
            " [  1.   25.6  39.    9.3]\n",
            " [  1.  273.7  28.9  59.7]\n",
            " [  1.   43.   25.9  20.5]\n",
            " [  1.  184.9  43.9   1.7]\n",
            " [  1.   73.4  17.   12.9]\n",
            " [  1.  193.7  35.4  75.6]\n",
            " [  1.  220.5  33.2  37.9]\n",
            " [  1.  104.6   5.7  34.4]\n",
            " [  1.   96.2  14.8  38.9]\n",
            " [  1.  140.3   1.9   9. ]\n",
            " [  1.  240.1   7.3   8.7]\n",
            " [  1.  243.2  49.   44.3]\n",
            " [  1.   38.   40.3  11.9]\n",
            " [  1.   44.7  25.8  20.6]\n",
            " [  1.  280.7  13.9  37. ]\n",
            " [  1.  121.    8.4  48.7]\n",
            " [  1.  197.6  23.3  14.2]\n",
            " [  1.  171.3  39.7  37.7]\n",
            " [  1.  187.8  21.1   9.5]\n",
            " [  1.    4.1  11.6   5.7]\n",
            " [  1.   93.9  43.5  50.5]\n",
            " [  1.  149.8   1.3  24.3]\n",
            " [  1.   11.7  36.9  45.2]\n",
            " [  1.  131.7  18.4  34.6]\n",
            " [  1.  172.5  18.1  30.7]\n",
            " [  1.   85.7  35.8  49.3]\n",
            " [  1.  188.4  18.1  25.6]\n",
            " [  1.  163.5  36.8   7.4]\n",
            " [  1.  117.2  14.7   5.4]\n",
            " [  1.  234.5   3.4  84.8]\n",
            " [  1.   17.9  37.6  21.6]\n",
            " [  1.  206.8   5.2  19.4]\n",
            " [  1.  215.4  23.6  57.6]\n",
            " [  1.  284.3  10.6   6.4]\n",
            " [  1.   50.   11.6  18.4]\n",
            " [  1.  164.5  20.9  47.4]\n",
            " [  1.   19.6  20.1  17. ]\n",
            " [  1.  168.4   7.1  12.8]\n",
            " [  1.  222.4   3.4  13.1]\n",
            " [  1.  276.9  48.9  41.8]\n",
            " [  1.  248.4  30.2  20.3]\n",
            " [  1.  170.2   7.8  35.2]\n",
            " [  1.  276.7   2.3  23.7]\n",
            " [  1.  165.6  10.   17.6]\n",
            " [  1.  156.6   2.6   8.3]\n",
            " [  1.  218.5   5.4  27.4]\n",
            " [  1.   56.2   5.7  29.7]\n",
            " [  1.  287.6  43.   71.8]\n",
            " [  1.  253.8  21.3  30. ]\n",
            " [  1.  205.   45.1  19.6]\n",
            " [  1.  139.5   2.1  26.6]\n",
            " [  1.  191.1  28.7  18.2]\n",
            " [  1.  286.   13.9   3.7]\n",
            " [  1.   18.7  12.1  23.4]\n",
            " [  1.   39.5  41.1   5.8]\n",
            " [  1.   75.5  10.8   6. ]\n",
            " [  1.   17.2   4.1  31.6]\n",
            " [  1.  166.8  42.    3.6]\n",
            " [  1.  149.7  35.6   6. ]\n",
            " [  1.   38.2   3.7  13.8]\n",
            " [  1.   94.2   4.9   8.1]\n",
            " [  1.  177.    9.3   6.4]\n",
            " [  1.  283.6  42.   66.2]\n",
            " [  1.  232.1   8.6   8.7]]\n"
          ]
        }
      ]
    },
    {
      "cell_type": "code",
      "source": [
        "Y = data.iloc[:, 4].to_numpy()\n",
        "print(Y.shape)"
      ],
      "metadata": {
        "colab": {
          "base_uri": "https://localhost:8080/"
        },
        "id": "E5eqlFzpHIKc",
        "outputId": "15a546be-a123-4665-ec4a-818c60fed259"
      },
      "execution_count": 7,
      "outputs": [
        {
          "output_type": "stream",
          "name": "stdout",
          "text": [
            "(200,)\n"
          ]
        }
      ]
    },
    {
      "cell_type": "code",
      "source": [
        "Y = Y.reshape((Y.shape[0], 1))"
      ],
      "metadata": {
        "id": "qm4MvFdOHVyR"
      },
      "execution_count": 8,
      "outputs": []
    },
    {
      "cell_type": "code",
      "source": [
        "print(Y.shape)"
      ],
      "metadata": {
        "colab": {
          "base_uri": "https://localhost:8080/"
        },
        "id": "6_Cpti0AHqPW",
        "outputId": "d78fc1ed-6890-42a4-e2f4-860f0b61f57a"
      },
      "execution_count": 9,
      "outputs": [
        {
          "output_type": "stream",
          "name": "stdout",
          "text": [
            "(200, 1)\n"
          ]
        }
      ]
    },
    {
      "cell_type": "code",
      "source": [
        "theta = np.random.rand(X.shape[1], 1)\n",
        "print(theta.shape)"
      ],
      "metadata": {
        "colab": {
          "base_uri": "https://localhost:8080/"
        },
        "id": "LdMz4su0HrfE",
        "outputId": "d2efe8f8-5251-447c-c055-034288434f43"
      },
      "execution_count": 10,
      "outputs": [
        {
          "output_type": "stream",
          "name": "stdout",
          "text": [
            "(4, 1)\n"
          ]
        }
      ]
    },
    {
      "cell_type": "code",
      "source": [
        "print(theta)"
      ],
      "metadata": {
        "colab": {
          "base_uri": "https://localhost:8080/"
        },
        "id": "8lWBH4WmLNtV",
        "outputId": "4a1c0c6b-2cce-46cb-d821-a3e1f2e8e0c1"
      },
      "execution_count": 11,
      "outputs": [
        {
          "output_type": "stream",
          "name": "stdout",
          "text": [
            "[[0.04399887]\n",
            " [0.83184457]\n",
            " [0.00953762]\n",
            " [0.3345918 ]]\n"
          ]
        }
      ]
    },
    {
      "cell_type": "code",
      "source": [
        "h = X@theta\n",
        "\n",
        "print(h.shape)"
      ],
      "metadata": {
        "colab": {
          "base_uri": "https://localhost:8080/"
        },
        "id": "7kUBZZnOJ_qY",
        "outputId": "acc1f779-4833-40e8-c0ae-1bd7bda427af"
      },
      "execution_count": 12,
      "outputs": [
        {
          "output_type": "stream",
          "name": "stdout",
          "text": [
            "(200, 1)\n"
          ]
        }
      ]
    },
    {
      "cell_type": "markdown",
      "source": [
        "$$J(\\theta)  = \\frac{1}{2m}(X.\\theta - Y)^T . (X.\\theta - Y)$$"
      ],
      "metadata": {
        "id": "_vHJaBGcKUwj"
      }
    },
    {
      "cell_type": "code",
      "source": [
        "def MSE(X, theta, Y):\n",
        "  return (1 / 2 * X.shape[0]) * (X@theta - Y).T @ (X@theta - Y)"
      ],
      "metadata": {
        "id": "q0MpsYiwKYpS"
      },
      "execution_count": 13,
      "outputs": []
    },
    {
      "cell_type": "code",
      "source": [
        "print(MSE(X, theta, Y))"
      ],
      "metadata": {
        "colab": {
          "base_uri": "https://localhost:8080/"
        },
        "id": "dB9ul24rKMXl",
        "outputId": "990cf446-00e3-466a-a16b-5ce050ae8b8d"
      },
      "execution_count": 14,
      "outputs": [
        {
          "output_type": "stream",
          "name": "stdout",
          "text": [
            "[[3.7453265e+08]]\n"
          ]
        }
      ]
    },
    {
      "cell_type": "markdown",
      "source": [
        "$$\\begin{bmatrix}\n",
        "{\\theta_0} \\\\\n",
        "{\\theta_1} \\\\\n",
        ".\\\\\n",
        ".\\\\\n",
        ".\\\\\n",
        "{\\theta_n}\\\\\n",
        "\\end{bmatrix}=\n",
        "\\begin{bmatrix}\n",
        "{\\theta_0} \\\\\n",
        "{\\theta_1} \\\\\n",
        ".\\\\\n",
        ".\\\\\n",
        ".\\\\\n",
        "{\\theta_n}\\\\\n",
        "\\end{bmatrix}\n",
        "-\\alpha /m\n",
        "\\begin{bmatrix}\n",
        "\\frac{\\partial J(\\theta)}{\\partial \\theta_0} \\\\\n",
        "\\frac{\\partial J(\\theta)}{\\partial \\theta_1} \\\\\n",
        ".\\\\\n",
        ".\\\\\n",
        ".\\\\\n",
        "\\frac{\\partial J(\\theta)}{\\partial \\theta_n}\\\\\n",
        "\\end{bmatrix}$$\n"
      ],
      "metadata": {
        "id": "Fay9o7nGL0EP"
      }
    },
    {
      "cell_type": "markdown",
      "source": [
        "$$\n",
        "\\begin{bmatrix}\n",
        "\\frac{\\partial J(\\theta)}{\\partial \\theta_0} \\\\\n",
        "\\frac{\\partial J(\\theta)}{\\partial \\theta_1} \\\\\n",
        ".\\\\\n",
        ".\\\\\n",
        ".\\\\\n",
        "\\frac{\\partial J(\\theta)}{\\partial \\theta_{n}}\\\\\n",
        "\\end{bmatrix}\n",
        "=\\frac{1}{m}(h_\\theta - Y)X^T = \\frac{1}{m}(X.\\theta - Y)X^T\n",
        "$$\n"
      ],
      "metadata": {
        "id": "LsPZCzoRMcI5"
      }
    },
    {
      "cell_type": "code",
      "source": [
        "from tqdm import tqdm\n",
        "\n",
        "def train(X, Y, theta, learning_rate = 1e-3, epochs = 100):\n",
        "  for epoch in tqdm(range(epochs)):\n",
        "    theta = theta - (learning_rate / X.shape[0]) * X.T @ (X@theta - Y)\n",
        "  return theta\n"
      ],
      "metadata": {
        "id": "2LRm1xYsK9xk"
      },
      "execution_count": 15,
      "outputs": []
    },
    {
      "cell_type": "code",
      "source": [
        "print(MSE(X, theta, Y))\n",
        "theta = train(X, Y, theta = theta, learning_rate = 5e-5, epochs = 1000000)\n",
        "\n",
        "print(MSE(X, theta, Y))"
      ],
      "metadata": {
        "colab": {
          "base_uri": "https://localhost:8080/"
        },
        "id": "Bba7P1RbL8zF",
        "outputId": "744bc91d-bb86-4216-99a0-19d04903f70b"
      },
      "execution_count": 16,
      "outputs": [
        {
          "output_type": "stream",
          "name": "stdout",
          "text": [
            "[[3.7453265e+08]]\n"
          ]
        },
        {
          "output_type": "stream",
          "name": "stderr",
          "text": [
            "100%|██████████| 1000000/1000000 [00:17<00:00, 55858.23it/s]"
          ]
        },
        {
          "output_type": "stream",
          "name": "stdout",
          "text": [
            "[[55682.53748894]]\n"
          ]
        },
        {
          "output_type": "stream",
          "name": "stderr",
          "text": [
            "\n"
          ]
        }
      ]
    },
    {
      "cell_type": "code",
      "source": [
        "print(theta)"
      ],
      "metadata": {
        "colab": {
          "base_uri": "https://localhost:8080/"
        },
        "id": "lwoH2cEzN7b2",
        "outputId": "66876b5e-32a9-4f0d-cee4-aa1231d0f5a0"
      },
      "execution_count": 17,
      "outputs": [
        {
          "output_type": "stream",
          "name": "stdout",
          "text": [
            "[[ 2.93693107e+00]\n",
            " [ 4.57699933e-02]\n",
            " [ 1.88552482e-01]\n",
            " [-1.02559828e-03]]\n"
          ]
        }
      ]
    },
    {
      "cell_type": "code",
      "source": [],
      "metadata": {
        "id": "4c4_0UKMPDC8"
      },
      "execution_count": null,
      "outputs": []
    }
  ]
}