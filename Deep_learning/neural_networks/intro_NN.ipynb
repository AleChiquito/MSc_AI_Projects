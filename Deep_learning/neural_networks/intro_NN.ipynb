{
 "cells": [
  {
   "cell_type": "markdown",
   "source": [
    "## Tensorflow"
   ],
   "metadata": {
    "collapsed": false
   }
  },
  {
   "cell_type": "code",
   "execution_count": 93,
   "outputs": [],
   "source": [
    "from sklearn.datasets import load_digits\n",
    "digits = load_digits()"
   ],
   "metadata": {
    "collapsed": false,
    "ExecuteTime": {
     "end_time": "2023-10-03T20:02:51.990024Z",
     "start_time": "2023-10-03T20:02:51.945048Z"
    }
   }
  },
  {
   "cell_type": "code",
   "execution_count": 94,
   "outputs": [
    {
     "data": {
      "text/plain": "{'data': array([[ 0.,  0.,  5., ...,  0.,  0.,  0.],\n        [ 0.,  0.,  0., ..., 10.,  0.,  0.],\n        [ 0.,  0.,  0., ..., 16.,  9.,  0.],\n        ...,\n        [ 0.,  0.,  1., ...,  6.,  0.,  0.],\n        [ 0.,  0.,  2., ..., 12.,  0.,  0.],\n        [ 0.,  0., 10., ..., 12.,  1.,  0.]]),\n 'target': array([0, 1, 2, ..., 8, 9, 8]),\n 'frame': None,\n 'feature_names': ['pixel_0_0',\n  'pixel_0_1',\n  'pixel_0_2',\n  'pixel_0_3',\n  'pixel_0_4',\n  'pixel_0_5',\n  'pixel_0_6',\n  'pixel_0_7',\n  'pixel_1_0',\n  'pixel_1_1',\n  'pixel_1_2',\n  'pixel_1_3',\n  'pixel_1_4',\n  'pixel_1_5',\n  'pixel_1_6',\n  'pixel_1_7',\n  'pixel_2_0',\n  'pixel_2_1',\n  'pixel_2_2',\n  'pixel_2_3',\n  'pixel_2_4',\n  'pixel_2_5',\n  'pixel_2_6',\n  'pixel_2_7',\n  'pixel_3_0',\n  'pixel_3_1',\n  'pixel_3_2',\n  'pixel_3_3',\n  'pixel_3_4',\n  'pixel_3_5',\n  'pixel_3_6',\n  'pixel_3_7',\n  'pixel_4_0',\n  'pixel_4_1',\n  'pixel_4_2',\n  'pixel_4_3',\n  'pixel_4_4',\n  'pixel_4_5',\n  'pixel_4_6',\n  'pixel_4_7',\n  'pixel_5_0',\n  'pixel_5_1',\n  'pixel_5_2',\n  'pixel_5_3',\n  'pixel_5_4',\n  'pixel_5_5',\n  'pixel_5_6',\n  'pixel_5_7',\n  'pixel_6_0',\n  'pixel_6_1',\n  'pixel_6_2',\n  'pixel_6_3',\n  'pixel_6_4',\n  'pixel_6_5',\n  'pixel_6_6',\n  'pixel_6_7',\n  'pixel_7_0',\n  'pixel_7_1',\n  'pixel_7_2',\n  'pixel_7_3',\n  'pixel_7_4',\n  'pixel_7_5',\n  'pixel_7_6',\n  'pixel_7_7'],\n 'target_names': array([0, 1, 2, 3, 4, 5, 6, 7, 8, 9]),\n 'images': array([[[ 0.,  0.,  5., ...,  1.,  0.,  0.],\n         [ 0.,  0., 13., ..., 15.,  5.,  0.],\n         [ 0.,  3., 15., ..., 11.,  8.,  0.],\n         ...,\n         [ 0.,  4., 11., ..., 12.,  7.,  0.],\n         [ 0.,  2., 14., ..., 12.,  0.,  0.],\n         [ 0.,  0.,  6., ...,  0.,  0.,  0.]],\n \n        [[ 0.,  0.,  0., ...,  5.,  0.,  0.],\n         [ 0.,  0.,  0., ...,  9.,  0.,  0.],\n         [ 0.,  0.,  3., ...,  6.,  0.,  0.],\n         ...,\n         [ 0.,  0.,  1., ...,  6.,  0.,  0.],\n         [ 0.,  0.,  1., ...,  6.,  0.,  0.],\n         [ 0.,  0.,  0., ..., 10.,  0.,  0.]],\n \n        [[ 0.,  0.,  0., ..., 12.,  0.,  0.],\n         [ 0.,  0.,  3., ..., 14.,  0.,  0.],\n         [ 0.,  0.,  8., ..., 16.,  0.,  0.],\n         ...,\n         [ 0.,  9., 16., ...,  0.,  0.,  0.],\n         [ 0.,  3., 13., ..., 11.,  5.,  0.],\n         [ 0.,  0.,  0., ..., 16.,  9.,  0.]],\n \n        ...,\n \n        [[ 0.,  0.,  1., ...,  1.,  0.,  0.],\n         [ 0.,  0., 13., ...,  2.,  1.,  0.],\n         [ 0.,  0., 16., ..., 16.,  5.,  0.],\n         ...,\n         [ 0.,  0., 16., ..., 15.,  0.,  0.],\n         [ 0.,  0., 15., ..., 16.,  0.,  0.],\n         [ 0.,  0.,  2., ...,  6.,  0.,  0.]],\n \n        [[ 0.,  0.,  2., ...,  0.,  0.,  0.],\n         [ 0.,  0., 14., ..., 15.,  1.,  0.],\n         [ 0.,  4., 16., ..., 16.,  7.,  0.],\n         ...,\n         [ 0.,  0.,  0., ..., 16.,  2.,  0.],\n         [ 0.,  0.,  4., ..., 16.,  2.,  0.],\n         [ 0.,  0.,  5., ..., 12.,  0.,  0.]],\n \n        [[ 0.,  0., 10., ...,  1.,  0.,  0.],\n         [ 0.,  2., 16., ...,  1.,  0.,  0.],\n         [ 0.,  0., 15., ..., 15.,  0.,  0.],\n         ...,\n         [ 0.,  4., 16., ..., 16.,  6.,  0.],\n         [ 0.,  8., 16., ..., 16.,  8.,  0.],\n         [ 0.,  1.,  8., ..., 12.,  1.,  0.]]]),\n 'DESCR': \".. _digits_dataset:\\n\\nOptical recognition of handwritten digits dataset\\n--------------------------------------------------\\n\\n**Data Set Characteristics:**\\n\\n    :Number of Instances: 1797\\n    :Number of Attributes: 64\\n    :Attribute Information: 8x8 image of integer pixels in the range 0..16.\\n    :Missing Attribute Values: None\\n    :Creator: E. Alpaydin (alpaydin '@' boun.edu.tr)\\n    :Date: July; 1998\\n\\nThis is a copy of the test set of the UCI ML hand-written digits datasets\\nhttps://archive.ics.uci.edu/ml/datasets/Optical+Recognition+of+Handwritten+Digits\\n\\nThe data set contains images of hand-written digits: 10 classes where\\neach class refers to a digit.\\n\\nPreprocessing programs made available by NIST were used to extract\\nnormalized bitmaps of handwritten digits from a preprinted form. From a\\ntotal of 43 people, 30 contributed to the training set and different 13\\nto the test set. 32x32 bitmaps are divided into nonoverlapping blocks of\\n4x4 and the number of on pixels are counted in each block. This generates\\nan input matrix of 8x8 where each element is an integer in the range\\n0..16. This reduces dimensionality and gives invariance to small\\ndistortions.\\n\\nFor info on NIST preprocessing routines, see M. D. Garris, J. L. Blue, G.\\nT. Candela, D. L. Dimmick, J. Geist, P. J. Grother, S. A. Janet, and C.\\nL. Wilson, NIST Form-Based Handprint Recognition System, NISTIR 5469,\\n1994.\\n\\n.. topic:: References\\n\\n  - C. Kaynak (1995) Methods of Combining Multiple Classifiers and Their\\n    Applications to Handwritten Digit Recognition, MSc Thesis, Institute of\\n    Graduate Studies in Science and Engineering, Bogazici University.\\n  - E. Alpaydin, C. Kaynak (1998) Cascading Classifiers, Kybernetika.\\n  - Ken Tang and Ponnuthurai N. Suganthan and Xi Yao and A. Kai Qin.\\n    Linear dimensionalityreduction using relevance weighted LDA. School of\\n    Electrical and Electronic Engineering Nanyang Technological University.\\n    2005.\\n  - Claudio Gentile. A New Approximate Maximal Margin Classification\\n    Algorithm. NIPS. 2000.\\n\"}"
     },
     "execution_count": 94,
     "metadata": {},
     "output_type": "execute_result"
    }
   ],
   "source": [
    "digits"
   ],
   "metadata": {
    "collapsed": false,
    "ExecuteTime": {
     "end_time": "2023-10-03T20:02:51.990625Z",
     "start_time": "2023-10-03T20:02:51.960349Z"
    }
   }
  },
  {
   "cell_type": "code",
   "execution_count": 95,
   "outputs": [
    {
     "name": "stdout",
     "output_type": "stream",
     "text": [
      "(1797, 64) (1797,)\n"
     ]
    }
   ],
   "source": [
    "X = digits.data\n",
    "Y = digits.target\n",
    "print(X.shape, Y.shape)"
   ],
   "metadata": {
    "collapsed": false,
    "ExecuteTime": {
     "end_time": "2023-10-03T20:02:51.990782Z",
     "start_time": "2023-10-03T20:02:51.969602Z"
    }
   }
  },
  {
   "cell_type": "code",
   "execution_count": 96,
   "outputs": [
    {
     "data": {
      "text/plain": "array([[ 0.,  0.,  5., ...,  0.,  0.,  0.],\n       [ 0.,  0.,  0., ..., 10.,  0.,  0.],\n       [ 0.,  0.,  0., ..., 16.,  9.,  0.],\n       ...,\n       [ 0.,  0.,  1., ...,  6.,  0.,  0.],\n       [ 0.,  0.,  2., ..., 12.,  0.,  0.],\n       [ 0.,  0., 10., ..., 12.,  1.,  0.]])"
     },
     "execution_count": 96,
     "metadata": {},
     "output_type": "execute_result"
    }
   ],
   "source": [
    "X"
   ],
   "metadata": {
    "collapsed": false,
    "ExecuteTime": {
     "end_time": "2023-10-03T20:02:51.990985Z",
     "start_time": "2023-10-03T20:02:51.971958Z"
    }
   }
  },
  {
   "cell_type": "code",
   "execution_count": 97,
   "outputs": [
    {
     "name": "stdout",
     "output_type": "stream",
     "text": [
      "16.0 0.0\n"
     ]
    }
   ],
   "source": [
    "print(X.max(), X.min())"
   ],
   "metadata": {
    "collapsed": false,
    "ExecuteTime": {
     "end_time": "2023-10-03T20:02:51.991127Z",
     "start_time": "2023-10-03T20:02:51.976075Z"
    }
   }
  },
  {
   "cell_type": "code",
   "execution_count": 98,
   "outputs": [
    {
     "name": "stdout",
     "output_type": "stream",
     "text": [
      "0.0 1.0\n"
     ]
    }
   ],
   "source": [
    "X /= 16.0\n",
    "print(X.min(), X.max())"
   ],
   "metadata": {
    "collapsed": false,
    "ExecuteTime": {
     "end_time": "2023-10-03T20:02:51.991206Z",
     "start_time": "2023-10-03T20:02:51.978812Z"
    }
   }
  },
  {
   "cell_type": "code",
   "execution_count": 99,
   "outputs": [],
   "source": [
    "from sklearn.model_selection import train_test_split#60,20,20"
   ],
   "metadata": {
    "collapsed": false,
    "ExecuteTime": {
     "end_time": "2023-10-03T20:02:51.991250Z",
     "start_time": "2023-10-03T20:02:51.981664Z"
    }
   }
  },
  {
   "cell_type": "code",
   "execution_count": 100,
   "outputs": [],
   "source": [
    "x_train, x_test, y_train, y_test = train_test_split(X, Y, train_size = 0.6)\n",
    "x_test, x_val, y_test, y_val = train_test_split(x_test, y_test, train_size = 0.5)"
   ],
   "metadata": {
    "collapsed": false,
    "ExecuteTime": {
     "end_time": "2023-10-03T20:02:51.991283Z",
     "start_time": "2023-10-03T20:02:51.984164Z"
    }
   }
  },
  {
   "cell_type": "code",
   "execution_count": 101,
   "outputs": [
    {
     "name": "stdout",
     "output_type": "stream",
     "text": [
      "(1078, 64) (360, 64) (359, 64)\n",
      "(1078,) (360,) (359,)\n"
     ]
    }
   ],
   "source": [
    "print( x_train.shape, x_val.shape, x_test.shape)\n",
    "print( y_train.shape, y_val.shape, y_test.shape)"
   ],
   "metadata": {
    "collapsed": false,
    "ExecuteTime": {
     "end_time": "2023-10-03T20:02:51.991328Z",
     "start_time": "2023-10-03T20:02:51.987170Z"
    }
   }
  },
  {
   "cell_type": "code",
   "execution_count": 102,
   "outputs": [
    {
     "name": "stdout",
     "output_type": "stream",
     "text": [
      "[0 6 9 ... 4 4 9]\n"
     ]
    }
   ],
   "source": [
    "print(y_train)"
   ],
   "metadata": {
    "collapsed": false,
    "ExecuteTime": {
     "end_time": "2023-10-03T20:02:52.000708Z",
     "start_time": "2023-10-03T20:02:51.988772Z"
    }
   }
  },
  {
   "cell_type": "code",
   "execution_count": 103,
   "outputs": [],
   "source": [
    "import numpy as np\n",
    "import matplotlib.pyplot as plt"
   ],
   "metadata": {
    "collapsed": false,
    "ExecuteTime": {
     "end_time": "2023-10-03T20:02:52.001036Z",
     "start_time": "2023-10-03T20:02:51.991962Z"
    }
   }
  },
  {
   "cell_type": "code",
   "execution_count": 104,
   "outputs": [],
   "source": [
    "inicial = 500"
   ],
   "metadata": {
    "collapsed": false,
    "ExecuteTime": {
     "end_time": "2023-10-03T20:02:52.001115Z",
     "start_time": "2023-10-03T20:02:51.994591Z"
    }
   }
  },
  {
   "cell_type": "code",
   "execution_count": 105,
   "outputs": [
    {
     "data": {
      "text/plain": "<Figure size 640x480 with 10 Axes>",
      "image/png": "[encoded data removed]"
     },
     "metadata": {},
     "output_type": "display_data"
    }
   ],
   "source": [
    "for index, (imagen, etiqueta) in enumerate(zip(X[inicial:inicial+10], Y[inicial:inicial+10])):\n",
    " plt.subplot(1, 10, index + 1)\n",
    " plt.imshow(np.reshape(imagen, (8,8)), cmap=plt.cm.gray)\n",
    " plt.title('Valor: %i\\n' % etiqueta, fontsize = 15)"
   ],
   "metadata": {
    "collapsed": false,
    "ExecuteTime": {
     "end_time": "2023-10-03T20:02:53.627442Z",
     "start_time": "2023-10-03T20:02:51.998593Z"
    }
   }
  },
  {
   "cell_type": "code",
   "execution_count": 106,
   "outputs": [],
   "source": [
    "import tensorflow\n",
    "from tensorflow.keras.utils import to_categorical"
   ],
   "metadata": {
    "collapsed": false,
    "ExecuteTime": {
     "end_time": "2023-10-03T20:02:53.633318Z",
     "start_time": "2023-10-03T20:02:53.612179Z"
    }
   }
  },
  {
   "cell_type": "code",
   "execution_count": 107,
   "outputs": [
    {
     "name": "stdout",
     "output_type": "stream",
     "text": [
      "5\n",
      "[0. 0. 0. 0. 0. 1. 0. 0. 0. 0.]\n"
     ]
    }
   ],
   "source": [
    "print(y_train[56])\n",
    "y_train = to_categorical(y_train, 10)\n",
    "y_val = to_categorical(y_val, 10)\n",
    "y_test = to_categorical(y_test, 10)\n",
    "print(y_train[56])"
   ],
   "metadata": {
    "collapsed": false,
    "ExecuteTime": {
     "end_time": "2023-10-03T20:02:53.633642Z",
     "start_time": "2023-10-03T20:02:53.619167Z"
    }
   }
  },
  {
   "cell_type": "code",
   "execution_count": 108,
   "outputs": [],
   "source": [
    "from tensorflow.keras.models import Sequential\n",
    "from tensorflow.keras.layers import Dense"
   ],
   "metadata": {
    "collapsed": false,
    "ExecuteTime": {
     "end_time": "2023-10-03T20:02:53.633699Z",
     "start_time": "2023-10-03T20:02:53.620049Z"
    }
   }
  },
  {
   "cell_type": "code",
   "execution_count": 109,
   "outputs": [
    {
     "name": "stdout",
     "output_type": "stream",
     "text": [
      "Model: \"sequential_5\"\n",
      "_________________________________________________________________\n",
      " Layer (type)                Output Shape              Param #   \n",
      "=================================================================\n",
      " dense_30 (Dense)            (None, 32)                2080      \n",
      "                                                                 \n",
      " dense_31 (Dense)            (None, 64)                2112      \n",
      "                                                                 \n",
      " dense_32 (Dense)            (None, 64)                4160      \n",
      "                                                                 \n",
      " dense_33 (Dense)            (None, 128)               8320      \n",
      "                                                                 \n",
      " dense_34 (Dense)            (None, 128)               16512     \n",
      "                                                                 \n",
      " dense_35 (Dense)            (None, 10)                1290      \n",
      "                                                                 \n",
      "=================================================================\n",
      "Total params: 34474 (134.66 KB)\n",
      "Trainable params: 34474 (134.66 KB)\n",
      "Non-trainable params: 0 (0.00 Byte)\n",
      "_________________________________________________________________\n"
     ]
    }
   ],
   "source": [
    "#Model #1\n",
    "\n",
    "model = Sequential()\n",
    "model.add(Dense(32, input_shape=(64,), activation='sigmoid'))\n",
    "model.add(Dense(64, activation='sigmoid'))\n",
    "model.add(Dense(64, activation='sigmoid'))\n",
    "model.add(Dense(128, activation='sigmoid'))\n",
    "model.add(Dense(128, activation='sigmoid'))\n",
    "model.add(Dense(10, activation='softmax'))\n",
    "model.summary()\n",
    "\n",
    "#Model #2\n",
    "\n",
    "#model = Sequential()\n",
    "#model.add(Dense(32, input_shape=(64,), activation='sigmoid'))\n",
    "#model.add(Dense(64, activation='softmax'))\n",
    "#model.add(Dense(64, activation='softmax'))\n",
    "#model.add(Dense(64, activation='softmax'))\n",
    "#model.add(Dense(64, activation='softmax'))\n",
    "#model.add(Dense(10, activation='relu'))\n",
    "#model.summary()\n",
    "\n",
    "\n",
    "#Model #3\n",
    "#model = Sequential()\n",
    "#model.add(Dense(128, input_shape=(64,), activation='sigmoid'))\n",
    "#model.add(Dense(128, activation='softmax'))\n",
    "#model.add(Dense(128, activation='softmax'))\n",
    "#model.add(Dense(10, activation='relu'))\n",
    "#model.summary()\n"
   ],
   "metadata": {
    "collapsed": false,
    "ExecuteTime": {
     "end_time": "2023-10-03T20:02:53.706469Z",
     "start_time": "2023-10-03T20:02:53.630021Z"
    }
   }
  },
  {
   "cell_type": "markdown",
   "source": [
    "import  tensorflow as tf\n",
    "model.compile(loss='categorical_crossentropy', optimizer=tf.keras.optimizers.SGD(learning_rate = 1e-3), metrics = ['accuracy'])"
   ],
   "metadata": {
    "collapsed": false
   }
  },
  {
   "cell_type": "code",
   "execution_count": 110,
   "outputs": [
    {
     "name": "stderr",
     "output_type": "stream",
     "text": [
      "WARNING:absl:At this time, the v2.11+ optimizer `tf.keras.optimizers.Adam` runs slowly on M1/M2 Macs, please use the legacy Keras optimizer instead, located at `tf.keras.optimizers.legacy.Adam`.\n",
      "WARNING:absl:There is a known slowdown when using v2.11+ Keras optimizers on M1/M2 Macs. Falling back to the legacy Keras optimizer, i.e., `tf.keras.optimizers.legacy.Adam`.\n"
     ]
    }
   ],
   "source": [
    "import  tensorflow as tf\n",
    "model.compile(\n",
    "    optimizer=tf.keras.optimizers.Adam(0.01),\n",
    "    loss='mean_squared_error',\n",
    "    metrics = ['accuracy']\n",
    ")"
   ],
   "metadata": {
    "collapsed": false,
    "ExecuteTime": {
     "end_time": "2023-10-03T20:02:53.707229Z",
     "start_time": "2023-10-03T20:02:53.672232Z"
    }
   }
  },
  {
   "cell_type": "code",
   "execution_count": 111,
   "outputs": [
    {
     "name": "stdout",
     "output_type": "stream",
     "text": [
      "Epoch 1/200\n"
     ]
    },
    {
     "name": "stderr",
     "output_type": "stream",
     "text": [
      "2023-10-03 14:02:53.834309: I tensorflow/core/grappler/optimizers/custom_graph_optimizer_registry.cc:114] Plugin optimizer for device_type GPU is enabled.\n",
      "2023-10-03 14:02:56.739085: I tensorflow/core/grappler/optimizers/custom_graph_optimizer_registry.cc:114] Plugin optimizer for device_type GPU is enabled.\n"
     ]
    },
    {
     "name": "stdout",
     "output_type": "stream",
     "text": [
      "17/17 - 4s - loss: 0.0934 - accuracy: 0.0983 - val_loss: 0.0927 - val_accuracy: 0.0972 - 4s/epoch - 232ms/step\n",
      "Epoch 2/200\n",
      "17/17 - 0s - loss: 0.0922 - accuracy: 0.1020 - val_loss: 0.0928 - val_accuracy: 0.0972 - 137ms/epoch - 8ms/step\n",
      "Epoch 3/200\n",
      "17/17 - 0s - loss: 0.0915 - accuracy: 0.1020 - val_loss: 0.0924 - val_accuracy: 0.0917 - 129ms/epoch - 8ms/step\n",
      "Epoch 4/200\n",
      "17/17 - 0s - loss: 0.0919 - accuracy: 0.0863 - val_loss: 0.0921 - val_accuracy: 0.0917 - 132ms/epoch - 8ms/step\n",
      "Epoch 5/200\n",
      "17/17 - 0s - loss: 0.0922 - accuracy: 0.0816 - val_loss: 0.0920 - val_accuracy: 0.0917 - 136ms/epoch - 8ms/step\n",
      "Epoch 6/200\n",
      "17/17 - 0s - loss: 0.0919 - accuracy: 0.1039 - val_loss: 0.0922 - val_accuracy: 0.0861 - 129ms/epoch - 8ms/step\n",
      "Epoch 7/200\n",
      "17/17 - 0s - loss: 0.0914 - accuracy: 0.0983 - val_loss: 0.0914 - val_accuracy: 0.1306 - 158ms/epoch - 9ms/step\n",
      "Epoch 8/200\n",
      "17/17 - 0s - loss: 0.0912 - accuracy: 0.1030 - val_loss: 0.0901 - val_accuracy: 0.1833 - 237ms/epoch - 14ms/step\n",
      "Epoch 9/200\n",
      "17/17 - 0s - loss: 0.0866 - accuracy: 0.1763 - val_loss: 0.0875 - val_accuracy: 0.1694 - 136ms/epoch - 8ms/step\n",
      "Epoch 10/200\n",
      "17/17 - 0s - loss: 0.0865 - accuracy: 0.2032 - val_loss: 0.0871 - val_accuracy: 0.1861 - 139ms/epoch - 8ms/step\n",
      "Epoch 11/200\n",
      "17/17 - 0s - loss: 0.0845 - accuracy: 0.2004 - val_loss: 0.0842 - val_accuracy: 0.1972 - 136ms/epoch - 8ms/step\n",
      "Epoch 12/200\n",
      "17/17 - 0s - loss: 0.0831 - accuracy: 0.2134 - val_loss: 0.0852 - val_accuracy: 0.1889 - 127ms/epoch - 7ms/step\n",
      "Epoch 13/200\n",
      "17/17 - 0s - loss: 0.0821 - accuracy: 0.2013 - val_loss: 0.0842 - val_accuracy: 0.1778 - 126ms/epoch - 7ms/step\n",
      "Epoch 14/200\n",
      "17/17 - 0s - loss: 0.0820 - accuracy: 0.2468 - val_loss: 0.0820 - val_accuracy: 0.2333 - 130ms/epoch - 8ms/step\n",
      "Epoch 15/200\n",
      "17/17 - 0s - loss: 0.0777 - accuracy: 0.3135 - val_loss: 0.0749 - val_accuracy: 0.3167 - 127ms/epoch - 7ms/step\n",
      "Epoch 16/200\n",
      "17/17 - 0s - loss: 0.0716 - accuracy: 0.3618 - val_loss: 0.0707 - val_accuracy: 0.3583 - 126ms/epoch - 7ms/step\n",
      "Epoch 17/200\n",
      "17/17 - 0s - loss: 0.0690 - accuracy: 0.3776 - val_loss: 0.0693 - val_accuracy: 0.3639 - 125ms/epoch - 7ms/step\n",
      "Epoch 18/200\n",
      "17/17 - 0s - loss: 0.0669 - accuracy: 0.3980 - val_loss: 0.0687 - val_accuracy: 0.3750 - 131ms/epoch - 8ms/step\n",
      "Epoch 19/200\n",
      "17/17 - 0s - loss: 0.0633 - accuracy: 0.4443 - val_loss: 0.0655 - val_accuracy: 0.4333 - 135ms/epoch - 8ms/step\n",
      "Epoch 20/200\n",
      "17/17 - 0s - loss: 0.0583 - accuracy: 0.4907 - val_loss: 0.0629 - val_accuracy: 0.4667 - 127ms/epoch - 7ms/step\n",
      "Epoch 21/200\n",
      "17/17 - 0s - loss: 0.0570 - accuracy: 0.4917 - val_loss: 0.0651 - val_accuracy: 0.4333 - 129ms/epoch - 8ms/step\n",
      "Epoch 22/200\n",
      "17/17 - 0s - loss: 0.0578 - accuracy: 0.5102 - val_loss: 0.0611 - val_accuracy: 0.5000 - 138ms/epoch - 8ms/step\n",
      "Epoch 23/200\n",
      "17/17 - 0s - loss: 0.0543 - accuracy: 0.5232 - val_loss: 0.0585 - val_accuracy: 0.4778 - 131ms/epoch - 8ms/step\n",
      "Epoch 24/200\n",
      "17/17 - 0s - loss: 0.0514 - accuracy: 0.5659 - val_loss: 0.0554 - val_accuracy: 0.5417 - 137ms/epoch - 8ms/step\n",
      "Epoch 25/200\n",
      "17/17 - 0s - loss: 0.0490 - accuracy: 0.6076 - val_loss: 0.0577 - val_accuracy: 0.5278 - 128ms/epoch - 8ms/step\n",
      "Epoch 26/200\n",
      "17/17 - 0s - loss: 0.0496 - accuracy: 0.5872 - val_loss: 0.0531 - val_accuracy: 0.5889 - 129ms/epoch - 8ms/step\n",
      "Epoch 27/200\n",
      "17/17 - 0s - loss: 0.0468 - accuracy: 0.6345 - val_loss: 0.0494 - val_accuracy: 0.6278 - 132ms/epoch - 8ms/step\n",
      "Epoch 28/200\n",
      "17/17 - 0s - loss: 0.0485 - accuracy: 0.6030 - val_loss: 0.0504 - val_accuracy: 0.6306 - 125ms/epoch - 7ms/step\n",
      "Epoch 29/200\n",
      "17/17 - 0s - loss: 0.0451 - accuracy: 0.6521 - val_loss: 0.0464 - val_accuracy: 0.7139 - 123ms/epoch - 7ms/step\n",
      "Epoch 30/200\n",
      "17/17 - 0s - loss: 0.0413 - accuracy: 0.6911 - val_loss: 0.0450 - val_accuracy: 0.6944 - 128ms/epoch - 8ms/step\n",
      "Epoch 31/200\n",
      "17/17 - 0s - loss: 0.0404 - accuracy: 0.7069 - val_loss: 0.0427 - val_accuracy: 0.6444 - 131ms/epoch - 8ms/step\n",
      "Epoch 32/200\n",
      "17/17 - 0s - loss: 0.0337 - accuracy: 0.7449 - val_loss: 0.0377 - val_accuracy: 0.6889 - 123ms/epoch - 7ms/step\n",
      "Epoch 33/200\n",
      "17/17 - 0s - loss: 0.0306 - accuracy: 0.7607 - val_loss: 0.0358 - val_accuracy: 0.7083 - 126ms/epoch - 7ms/step\n",
      "Epoch 34/200\n",
      "17/17 - 0s - loss: 0.0305 - accuracy: 0.7616 - val_loss: 0.0340 - val_accuracy: 0.7222 - 129ms/epoch - 8ms/step\n",
      "Epoch 35/200\n",
      "17/17 - 0s - loss: 0.0263 - accuracy: 0.7931 - val_loss: 0.0339 - val_accuracy: 0.7611 - 127ms/epoch - 7ms/step\n",
      "Epoch 36/200\n",
      "17/17 - 0s - loss: 0.0256 - accuracy: 0.7987 - val_loss: 0.0378 - val_accuracy: 0.7056 - 124ms/epoch - 7ms/step\n",
      "Epoch 37/200\n",
      "17/17 - 0s - loss: 0.0265 - accuracy: 0.8024 - val_loss: 0.0313 - val_accuracy: 0.7556 - 124ms/epoch - 7ms/step\n",
      "Epoch 38/200\n",
      "17/17 - 0s - loss: 0.0227 - accuracy: 0.8228 - val_loss: 0.0287 - val_accuracy: 0.7889 - 131ms/epoch - 8ms/step\n",
      "Epoch 39/200\n",
      "17/17 - 0s - loss: 0.0215 - accuracy: 0.8312 - val_loss: 0.0310 - val_accuracy: 0.7750 - 127ms/epoch - 7ms/step\n",
      "Epoch 40/200\n",
      "17/17 - 0s - loss: 0.0205 - accuracy: 0.8460 - val_loss: 0.0262 - val_accuracy: 0.8000 - 123ms/epoch - 7ms/step\n",
      "Epoch 41/200\n",
      "17/17 - 0s - loss: 0.0176 - accuracy: 0.8599 - val_loss: 0.0222 - val_accuracy: 0.8389 - 125ms/epoch - 7ms/step\n",
      "Epoch 42/200\n",
      "17/17 - 0s - loss: 0.0173 - accuracy: 0.8636 - val_loss: 0.0282 - val_accuracy: 0.7861 - 127ms/epoch - 7ms/step\n",
      "Epoch 43/200\n",
      "17/17 - 0s - loss: 0.0178 - accuracy: 0.8692 - val_loss: 0.0292 - val_accuracy: 0.7861 - 121ms/epoch - 7ms/step\n",
      "Epoch 44/200\n",
      "17/17 - 0s - loss: 0.0159 - accuracy: 0.8887 - val_loss: 0.0226 - val_accuracy: 0.8306 - 129ms/epoch - 8ms/step\n",
      "Epoch 45/200\n",
      "17/17 - 0s - loss: 0.0134 - accuracy: 0.8970 - val_loss: 0.0185 - val_accuracy: 0.8889 - 122ms/epoch - 7ms/step\n",
      "Epoch 46/200\n",
      "17/17 - 0s - loss: 0.0112 - accuracy: 0.9323 - val_loss: 0.0148 - val_accuracy: 0.9167 - 125ms/epoch - 7ms/step\n",
      "Epoch 47/200\n",
      "17/17 - 0s - loss: 0.0078 - accuracy: 0.9545 - val_loss: 0.0132 - val_accuracy: 0.9167 - 121ms/epoch - 7ms/step\n",
      "Epoch 48/200\n",
      "17/17 - 0s - loss: 0.0081 - accuracy: 0.9499 - val_loss: 0.0163 - val_accuracy: 0.8972 - 122ms/epoch - 7ms/step\n",
      "Epoch 49/200\n",
      "17/17 - 0s - loss: 0.0069 - accuracy: 0.9620 - val_loss: 0.0143 - val_accuracy: 0.9028 - 122ms/epoch - 7ms/step\n",
      "Epoch 50/200\n",
      "17/17 - 0s - loss: 0.0064 - accuracy: 0.9592 - val_loss: 0.0140 - val_accuracy: 0.9111 - 126ms/epoch - 7ms/step\n",
      "Epoch 51/200\n",
      "17/17 - 0s - loss: 0.0047 - accuracy: 0.9731 - val_loss: 0.0107 - val_accuracy: 0.9417 - 144ms/epoch - 8ms/step\n",
      "Epoch 52/200\n",
      "17/17 - 0s - loss: 0.0066 - accuracy: 0.9638 - val_loss: 0.0142 - val_accuracy: 0.9111 - 126ms/epoch - 7ms/step\n",
      "Epoch 53/200\n",
      "17/17 - 0s - loss: 0.0061 - accuracy: 0.9629 - val_loss: 0.0139 - val_accuracy: 0.9167 - 124ms/epoch - 7ms/step\n",
      "Epoch 54/200\n",
      "17/17 - 0s - loss: 0.0049 - accuracy: 0.9750 - val_loss: 0.0134 - val_accuracy: 0.9083 - 127ms/epoch - 7ms/step\n",
      "Epoch 55/200\n",
      "17/17 - 0s - loss: 0.0040 - accuracy: 0.9750 - val_loss: 0.0116 - val_accuracy: 0.9306 - 123ms/epoch - 7ms/step\n",
      "Epoch 56/200\n",
      "17/17 - 0s - loss: 0.0043 - accuracy: 0.9712 - val_loss: 0.0134 - val_accuracy: 0.9194 - 122ms/epoch - 7ms/step\n",
      "Epoch 57/200\n",
      "17/17 - 0s - loss: 0.0030 - accuracy: 0.9852 - val_loss: 0.0128 - val_accuracy: 0.9222 - 122ms/epoch - 7ms/step\n",
      "Epoch 58/200\n",
      "17/17 - 0s - loss: 0.0025 - accuracy: 0.9861 - val_loss: 0.0120 - val_accuracy: 0.9333 - 142ms/epoch - 8ms/step\n",
      "Epoch 59/200\n",
      "17/17 - 0s - loss: 0.0032 - accuracy: 0.9814 - val_loss: 0.0106 - val_accuracy: 0.9389 - 121ms/epoch - 7ms/step\n",
      "Epoch 60/200\n",
      "17/17 - 0s - loss: 0.0032 - accuracy: 0.9787 - val_loss: 0.0150 - val_accuracy: 0.9167 - 123ms/epoch - 7ms/step\n",
      "Epoch 61/200\n",
      "17/17 - 0s - loss: 0.0046 - accuracy: 0.9703 - val_loss: 0.0128 - val_accuracy: 0.9250 - 124ms/epoch - 7ms/step\n",
      "Epoch 62/200\n",
      "17/17 - 0s - loss: 0.0031 - accuracy: 0.9852 - val_loss: 0.0131 - val_accuracy: 0.9222 - 125ms/epoch - 7ms/step\n",
      "Epoch 63/200\n",
      "17/17 - 0s - loss: 0.0028 - accuracy: 0.9833 - val_loss: 0.0099 - val_accuracy: 0.9444 - 129ms/epoch - 8ms/step\n",
      "Epoch 64/200\n",
      "17/17 - 0s - loss: 0.0033 - accuracy: 0.9824 - val_loss: 0.0095 - val_accuracy: 0.9472 - 130ms/epoch - 8ms/step\n",
      "Epoch 65/200\n",
      "17/17 - 0s - loss: 0.0023 - accuracy: 0.9861 - val_loss: 0.0115 - val_accuracy: 0.9389 - 128ms/epoch - 8ms/step\n",
      "Epoch 66/200\n",
      "17/17 - 0s - loss: 0.0032 - accuracy: 0.9814 - val_loss: 0.0139 - val_accuracy: 0.9167 - 132ms/epoch - 8ms/step\n",
      "Epoch 67/200\n",
      "17/17 - 0s - loss: 0.0029 - accuracy: 0.9833 - val_loss: 0.0117 - val_accuracy: 0.9333 - 130ms/epoch - 8ms/step\n",
      "Epoch 68/200\n",
      "17/17 - 0s - loss: 0.0018 - accuracy: 0.9907 - val_loss: 0.0123 - val_accuracy: 0.9306 - 127ms/epoch - 7ms/step\n",
      "Epoch 69/200\n",
      "17/17 - 0s - loss: 0.0019 - accuracy: 0.9898 - val_loss: 0.0099 - val_accuracy: 0.9444 - 124ms/epoch - 7ms/step\n",
      "Epoch 70/200\n",
      "17/17 - 0s - loss: 0.0020 - accuracy: 0.9879 - val_loss: 0.0098 - val_accuracy: 0.9444 - 125ms/epoch - 7ms/step\n",
      "Epoch 71/200\n",
      "17/17 - 0s - loss: 0.0019 - accuracy: 0.9879 - val_loss: 0.0120 - val_accuracy: 0.9333 - 123ms/epoch - 7ms/step\n",
      "Epoch 72/200\n",
      "17/17 - 0s - loss: 0.0022 - accuracy: 0.9879 - val_loss: 0.0123 - val_accuracy: 0.9278 - 131ms/epoch - 8ms/step\n",
      "Epoch 73/200\n",
      "17/17 - 0s - loss: 0.0020 - accuracy: 0.9889 - val_loss: 0.0130 - val_accuracy: 0.9278 - 128ms/epoch - 8ms/step\n",
      "Epoch 74/200\n",
      "17/17 - 0s - loss: 0.0023 - accuracy: 0.9870 - val_loss: 0.0143 - val_accuracy: 0.9167 - 128ms/epoch - 8ms/step\n",
      "Epoch 75/200\n",
      "17/17 - 0s - loss: 0.0027 - accuracy: 0.9833 - val_loss: 0.0119 - val_accuracy: 0.9278 - 133ms/epoch - 8ms/step\n",
      "Epoch 76/200\n",
      "17/17 - 0s - loss: 0.0019 - accuracy: 0.9898 - val_loss: 0.0118 - val_accuracy: 0.9333 - 126ms/epoch - 7ms/step\n",
      "Epoch 77/200\n",
      "17/17 - 0s - loss: 0.0016 - accuracy: 0.9917 - val_loss: 0.0104 - val_accuracy: 0.9417 - 125ms/epoch - 7ms/step\n",
      "Epoch 78/200\n",
      "17/17 - 0s - loss: 0.0016 - accuracy: 0.9917 - val_loss: 0.0106 - val_accuracy: 0.9361 - 126ms/epoch - 7ms/step\n",
      "Epoch 79/200\n",
      "17/17 - 0s - loss: 0.0018 - accuracy: 0.9889 - val_loss: 0.0109 - val_accuracy: 0.9333 - 122ms/epoch - 7ms/step\n",
      "Epoch 80/200\n",
      "17/17 - 0s - loss: 0.0018 - accuracy: 0.9907 - val_loss: 0.0102 - val_accuracy: 0.9417 - 120ms/epoch - 7ms/step\n",
      "Epoch 81/200\n",
      "17/17 - 0s - loss: 0.0016 - accuracy: 0.9917 - val_loss: 0.0102 - val_accuracy: 0.9389 - 122ms/epoch - 7ms/step\n",
      "Epoch 82/200\n",
      "17/17 - 0s - loss: 0.0015 - accuracy: 0.9917 - val_loss: 0.0105 - val_accuracy: 0.9389 - 126ms/epoch - 7ms/step\n",
      "Epoch 83/200\n",
      "17/17 - 0s - loss: 0.0015 - accuracy: 0.9917 - val_loss: 0.0104 - val_accuracy: 0.9417 - 124ms/epoch - 7ms/step\n",
      "Epoch 84/200\n",
      "17/17 - 0s - loss: 0.0015 - accuracy: 0.9917 - val_loss: 0.0101 - val_accuracy: 0.9417 - 122ms/epoch - 7ms/step\n",
      "Epoch 85/200\n",
      "17/17 - 0s - loss: 0.0015 - accuracy: 0.9917 - val_loss: 0.0100 - val_accuracy: 0.9361 - 126ms/epoch - 7ms/step\n",
      "Epoch 86/200\n",
      "17/17 - 0s - loss: 0.0014 - accuracy: 0.9917 - val_loss: 0.0101 - val_accuracy: 0.9361 - 123ms/epoch - 7ms/step\n",
      "Epoch 87/200\n",
      "17/17 - 0s - loss: 0.0014 - accuracy: 0.9926 - val_loss: 0.0105 - val_accuracy: 0.9389 - 123ms/epoch - 7ms/step\n",
      "Epoch 88/200\n",
      "17/17 - 0s - loss: 0.0013 - accuracy: 0.9926 - val_loss: 0.0106 - val_accuracy: 0.9361 - 120ms/epoch - 7ms/step\n",
      "Epoch 89/200\n",
      "17/17 - 0s - loss: 0.0013 - accuracy: 0.9926 - val_loss: 0.0110 - val_accuracy: 0.9361 - 121ms/epoch - 7ms/step\n",
      "Epoch 90/200\n",
      "17/17 - 0s - loss: 0.0013 - accuracy: 0.9935 - val_loss: 0.0110 - val_accuracy: 0.9361 - 123ms/epoch - 7ms/step\n",
      "Epoch 91/200\n",
      "17/17 - 0s - loss: 0.0013 - accuracy: 0.9935 - val_loss: 0.0112 - val_accuracy: 0.9333 - 123ms/epoch - 7ms/step\n",
      "Epoch 92/200\n",
      "17/17 - 0s - loss: 0.0013 - accuracy: 0.9935 - val_loss: 0.0111 - val_accuracy: 0.9361 - 123ms/epoch - 7ms/step\n",
      "Epoch 93/200\n",
      "17/17 - 0s - loss: 0.0013 - accuracy: 0.9935 - val_loss: 0.0110 - val_accuracy: 0.9333 - 121ms/epoch - 7ms/step\n",
      "Epoch 94/200\n",
      "17/17 - 0s - loss: 0.0013 - accuracy: 0.9926 - val_loss: 0.0110 - val_accuracy: 0.9333 - 125ms/epoch - 7ms/step\n",
      "Epoch 95/200\n",
      "17/17 - 0s - loss: 0.0014 - accuracy: 0.9926 - val_loss: 0.0108 - val_accuracy: 0.9417 - 121ms/epoch - 7ms/step\n",
      "Epoch 96/200\n",
      "17/17 - 0s - loss: 0.0013 - accuracy: 0.9935 - val_loss: 0.0115 - val_accuracy: 0.9306 - 122ms/epoch - 7ms/step\n",
      "Epoch 97/200\n",
      "17/17 - 0s - loss: 0.0012 - accuracy: 0.9935 - val_loss: 0.0110 - val_accuracy: 0.9333 - 121ms/epoch - 7ms/step\n",
      "Epoch 98/200\n",
      "17/17 - 0s - loss: 0.0013 - accuracy: 0.9935 - val_loss: 0.0120 - val_accuracy: 0.9278 - 123ms/epoch - 7ms/step\n",
      "Epoch 99/200\n",
      "17/17 - 0s - loss: 0.0021 - accuracy: 0.9852 - val_loss: 0.0124 - val_accuracy: 0.9278 - 122ms/epoch - 7ms/step\n",
      "Epoch 100/200\n",
      "17/17 - 0s - loss: 0.0035 - accuracy: 0.9777 - val_loss: 0.0141 - val_accuracy: 0.9222 - 121ms/epoch - 7ms/step\n",
      "Epoch 101/200\n",
      "17/17 - 0s - loss: 0.0022 - accuracy: 0.9870 - val_loss: 0.0122 - val_accuracy: 0.9250 - 124ms/epoch - 7ms/step\n",
      "Epoch 102/200\n",
      "17/17 - 0s - loss: 0.0033 - accuracy: 0.9814 - val_loss: 0.0120 - val_accuracy: 0.9306 - 127ms/epoch - 7ms/step\n",
      "Epoch 103/200\n",
      "17/17 - 0s - loss: 0.0022 - accuracy: 0.9879 - val_loss: 0.0131 - val_accuracy: 0.9167 - 122ms/epoch - 7ms/step\n",
      "Epoch 104/200\n",
      "17/17 - 0s - loss: 0.0021 - accuracy: 0.9879 - val_loss: 0.0127 - val_accuracy: 0.9306 - 126ms/epoch - 7ms/step\n",
      "Epoch 105/200\n",
      "17/17 - 0s - loss: 0.0034 - accuracy: 0.9787 - val_loss: 0.0104 - val_accuracy: 0.9472 - 123ms/epoch - 7ms/step\n",
      "Epoch 106/200\n",
      "17/17 - 0s - loss: 0.0047 - accuracy: 0.9722 - val_loss: 0.0130 - val_accuracy: 0.9250 - 125ms/epoch - 7ms/step\n",
      "Epoch 107/200\n",
      "17/17 - 0s - loss: 0.0036 - accuracy: 0.9796 - val_loss: 0.0122 - val_accuracy: 0.9250 - 122ms/epoch - 7ms/step\n",
      "Epoch 108/200\n",
      "17/17 - 0s - loss: 0.0030 - accuracy: 0.9833 - val_loss: 0.0116 - val_accuracy: 0.9333 - 122ms/epoch - 7ms/step\n",
      "Epoch 109/200\n",
      "17/17 - 0s - loss: 0.0018 - accuracy: 0.9898 - val_loss: 0.0118 - val_accuracy: 0.9333 - 124ms/epoch - 7ms/step\n",
      "Epoch 110/200\n",
      "17/17 - 0s - loss: 0.0027 - accuracy: 0.9852 - val_loss: 0.0107 - val_accuracy: 0.9361 - 126ms/epoch - 7ms/step\n",
      "Epoch 111/200\n",
      "17/17 - 0s - loss: 0.0017 - accuracy: 0.9898 - val_loss: 0.0117 - val_accuracy: 0.9361 - 121ms/epoch - 7ms/step\n",
      "Epoch 112/200\n",
      "17/17 - 0s - loss: 0.0015 - accuracy: 0.9917 - val_loss: 0.0118 - val_accuracy: 0.9333 - 121ms/epoch - 7ms/step\n",
      "Epoch 113/200\n",
      "17/17 - 0s - loss: 0.0013 - accuracy: 0.9926 - val_loss: 0.0115 - val_accuracy: 0.9333 - 122ms/epoch - 7ms/step\n",
      "Epoch 114/200\n",
      "17/17 - 0s - loss: 0.0013 - accuracy: 0.9935 - val_loss: 0.0119 - val_accuracy: 0.9278 - 124ms/epoch - 7ms/step\n",
      "Epoch 115/200\n",
      "17/17 - 0s - loss: 0.0012 - accuracy: 0.9935 - val_loss: 0.0122 - val_accuracy: 0.9306 - 121ms/epoch - 7ms/step\n",
      "Epoch 116/200\n",
      "17/17 - 0s - loss: 0.0034 - accuracy: 0.9787 - val_loss: 0.0144 - val_accuracy: 0.9194 - 119ms/epoch - 7ms/step\n",
      "Epoch 117/200\n",
      "17/17 - 0s - loss: 0.0034 - accuracy: 0.9787 - val_loss: 0.0139 - val_accuracy: 0.9222 - 121ms/epoch - 7ms/step\n",
      "Epoch 118/200\n",
      "17/17 - 0s - loss: 0.0033 - accuracy: 0.9805 - val_loss: 0.0123 - val_accuracy: 0.9306 - 125ms/epoch - 7ms/step\n",
      "Epoch 119/200\n",
      "17/17 - 0s - loss: 0.0039 - accuracy: 0.9768 - val_loss: 0.0106 - val_accuracy: 0.9389 - 122ms/epoch - 7ms/step\n",
      "Epoch 120/200\n",
      "17/17 - 0s - loss: 0.0023 - accuracy: 0.9879 - val_loss: 0.0097 - val_accuracy: 0.9472 - 121ms/epoch - 7ms/step\n",
      "Epoch 121/200\n",
      "17/17 - 0s - loss: 0.0021 - accuracy: 0.9889 - val_loss: 0.0109 - val_accuracy: 0.9361 - 122ms/epoch - 7ms/step\n",
      "Epoch 122/200\n",
      "17/17 - 0s - loss: 0.0018 - accuracy: 0.9898 - val_loss: 0.0081 - val_accuracy: 0.9500 - 128ms/epoch - 8ms/step\n",
      "Epoch 123/200\n",
      "17/17 - 0s - loss: 0.0011 - accuracy: 0.9944 - val_loss: 0.0083 - val_accuracy: 0.9528 - 122ms/epoch - 7ms/step\n",
      "Epoch 124/200\n",
      "17/17 - 0s - loss: 9.5743e-04 - accuracy: 0.9944 - val_loss: 0.0095 - val_accuracy: 0.9444 - 120ms/epoch - 7ms/step\n",
      "Epoch 125/200\n",
      "17/17 - 0s - loss: 0.0010 - accuracy: 0.9935 - val_loss: 0.0092 - val_accuracy: 0.9417 - 121ms/epoch - 7ms/step\n",
      "Epoch 126/200\n",
      "17/17 - 0s - loss: 0.0011 - accuracy: 0.9917 - val_loss: 0.0111 - val_accuracy: 0.9278 - 125ms/epoch - 7ms/step\n",
      "Epoch 127/200\n",
      "17/17 - 0s - loss: 0.0010 - accuracy: 0.9935 - val_loss: 0.0118 - val_accuracy: 0.9306 - 122ms/epoch - 7ms/step\n",
      "Epoch 128/200\n",
      "17/17 - 0s - loss: 0.0015 - accuracy: 0.9917 - val_loss: 0.0106 - val_accuracy: 0.9417 - 123ms/epoch - 7ms/step\n",
      "Epoch 129/200\n",
      "17/17 - 0s - loss: 0.0011 - accuracy: 0.9926 - val_loss: 0.0101 - val_accuracy: 0.9361 - 122ms/epoch - 7ms/step\n",
      "Epoch 130/200\n",
      "17/17 - 0s - loss: 0.0017 - accuracy: 0.9889 - val_loss: 0.0125 - val_accuracy: 0.9306 - 124ms/epoch - 7ms/step\n",
      "Epoch 131/200\n",
      "17/17 - 0s - loss: 0.0017 - accuracy: 0.9889 - val_loss: 0.0139 - val_accuracy: 0.9250 - 122ms/epoch - 7ms/step\n",
      "Epoch 132/200\n",
      "17/17 - 0s - loss: 0.0019 - accuracy: 0.9870 - val_loss: 0.0126 - val_accuracy: 0.9250 - 122ms/epoch - 7ms/step\n",
      "Epoch 133/200\n",
      "17/17 - 0s - loss: 0.0013 - accuracy: 0.9926 - val_loss: 0.0116 - val_accuracy: 0.9333 - 123ms/epoch - 7ms/step\n",
      "Epoch 134/200\n",
      "17/17 - 0s - loss: 0.0012 - accuracy: 0.9926 - val_loss: 0.0131 - val_accuracy: 0.9278 - 125ms/epoch - 7ms/step\n",
      "Epoch 135/200\n",
      "17/17 - 0s - loss: 0.0031 - accuracy: 0.9814 - val_loss: 0.0095 - val_accuracy: 0.9444 - 120ms/epoch - 7ms/step\n",
      "Epoch 136/200\n",
      "17/17 - 0s - loss: 0.0015 - accuracy: 0.9917 - val_loss: 0.0125 - val_accuracy: 0.9306 - 121ms/epoch - 7ms/step\n",
      "Epoch 137/200\n",
      "17/17 - 0s - loss: 0.0061 - accuracy: 0.9638 - val_loss: 0.0100 - val_accuracy: 0.9389 - 121ms/epoch - 7ms/step\n",
      "Epoch 138/200\n",
      "17/17 - 0s - loss: 0.0031 - accuracy: 0.9814 - val_loss: 0.0155 - val_accuracy: 0.9139 - 124ms/epoch - 7ms/step\n",
      "Epoch 139/200\n",
      "17/17 - 0s - loss: 0.0018 - accuracy: 0.9898 - val_loss: 0.0129 - val_accuracy: 0.9306 - 123ms/epoch - 7ms/step\n",
      "Epoch 140/200\n",
      "17/17 - 0s - loss: 0.0025 - accuracy: 0.9842 - val_loss: 0.0106 - val_accuracy: 0.9417 - 122ms/epoch - 7ms/step\n",
      "Epoch 141/200\n",
      "17/17 - 0s - loss: 0.0026 - accuracy: 0.9852 - val_loss: 0.0112 - val_accuracy: 0.9389 - 121ms/epoch - 7ms/step\n",
      "Epoch 142/200\n",
      "17/17 - 0s - loss: 0.0017 - accuracy: 0.9898 - val_loss: 0.0122 - val_accuracy: 0.9278 - 125ms/epoch - 7ms/step\n",
      "Epoch 143/200\n",
      "17/17 - 0s - loss: 0.0015 - accuracy: 0.9907 - val_loss: 0.0155 - val_accuracy: 0.9167 - 123ms/epoch - 7ms/step\n",
      "Epoch 144/200\n",
      "17/17 - 0s - loss: 0.0029 - accuracy: 0.9842 - val_loss: 0.0109 - val_accuracy: 0.9417 - 121ms/epoch - 7ms/step\n",
      "Epoch 145/200\n",
      "17/17 - 0s - loss: 0.0018 - accuracy: 0.9898 - val_loss: 0.0108 - val_accuracy: 0.9361 - 123ms/epoch - 7ms/step\n",
      "Epoch 146/200\n",
      "17/17 - 0s - loss: 0.0031 - accuracy: 0.9814 - val_loss: 0.0119 - val_accuracy: 0.9306 - 124ms/epoch - 7ms/step\n",
      "Epoch 147/200\n",
      "17/17 - 0s - loss: 0.0017 - accuracy: 0.9907 - val_loss: 0.0127 - val_accuracy: 0.9306 - 121ms/epoch - 7ms/step\n",
      "Epoch 148/200\n",
      "17/17 - 0s - loss: 0.0026 - accuracy: 0.9833 - val_loss: 0.0095 - val_accuracy: 0.9500 - 122ms/epoch - 7ms/step\n",
      "Epoch 149/200\n",
      "17/17 - 0s - loss: 0.0019 - accuracy: 0.9889 - val_loss: 0.0090 - val_accuracy: 0.9472 - 122ms/epoch - 7ms/step\n",
      "Epoch 150/200\n",
      "17/17 - 0s - loss: 0.0012 - accuracy: 0.9926 - val_loss: 0.0140 - val_accuracy: 0.9194 - 127ms/epoch - 7ms/step\n",
      "Epoch 151/200\n",
      "17/17 - 0s - loss: 0.0033 - accuracy: 0.9824 - val_loss: 0.0092 - val_accuracy: 0.9444 - 123ms/epoch - 7ms/step\n",
      "Epoch 152/200\n",
      "17/17 - 0s - loss: 0.0011 - accuracy: 0.9926 - val_loss: 0.0117 - val_accuracy: 0.9306 - 127ms/epoch - 7ms/step\n",
      "Epoch 153/200\n",
      "17/17 - 0s - loss: 0.0011 - accuracy: 0.9935 - val_loss: 0.0122 - val_accuracy: 0.9333 - 122ms/epoch - 7ms/step\n",
      "Epoch 154/200\n",
      "17/17 - 0s - loss: 0.0015 - accuracy: 0.9907 - val_loss: 0.0092 - val_accuracy: 0.9472 - 126ms/epoch - 7ms/step\n",
      "Epoch 155/200\n",
      "17/17 - 0s - loss: 5.9510e-04 - accuracy: 0.9963 - val_loss: 0.0091 - val_accuracy: 0.9500 - 123ms/epoch - 7ms/step\n",
      "Epoch 156/200\n",
      "17/17 - 0s - loss: 4.4846e-04 - accuracy: 0.9972 - val_loss: 0.0100 - val_accuracy: 0.9417 - 122ms/epoch - 7ms/step\n",
      "Epoch 157/200\n",
      "17/17 - 0s - loss: 3.7878e-04 - accuracy: 0.9981 - val_loss: 0.0092 - val_accuracy: 0.9500 - 121ms/epoch - 7ms/step\n",
      "Epoch 158/200\n",
      "17/17 - 0s - loss: 3.4496e-04 - accuracy: 0.9981 - val_loss: 0.0091 - val_accuracy: 0.9500 - 124ms/epoch - 7ms/step\n",
      "Epoch 159/200\n",
      "17/17 - 0s - loss: 3.1957e-04 - accuracy: 0.9981 - val_loss: 0.0093 - val_accuracy: 0.9472 - 122ms/epoch - 7ms/step\n",
      "Epoch 160/200\n",
      "17/17 - 0s - loss: 3.1647e-04 - accuracy: 0.9981 - val_loss: 0.0093 - val_accuracy: 0.9472 - 121ms/epoch - 7ms/step\n",
      "Epoch 161/200\n",
      "17/17 - 0s - loss: 3.1511e-04 - accuracy: 0.9981 - val_loss: 0.0093 - val_accuracy: 0.9472 - 121ms/epoch - 7ms/step\n",
      "Epoch 162/200\n",
      "17/17 - 0s - loss: 3.1437e-04 - accuracy: 0.9981 - val_loss: 0.0094 - val_accuracy: 0.9444 - 125ms/epoch - 7ms/step\n",
      "Epoch 163/200\n",
      "17/17 - 0s - loss: 3.1376e-04 - accuracy: 0.9981 - val_loss: 0.0094 - val_accuracy: 0.9444 - 124ms/epoch - 7ms/step\n",
      "Epoch 164/200\n",
      "17/17 - 0s - loss: 3.1326e-04 - accuracy: 0.9981 - val_loss: 0.0094 - val_accuracy: 0.9444 - 123ms/epoch - 7ms/step\n",
      "Epoch 165/200\n",
      "17/17 - 0s - loss: 3.1277e-04 - accuracy: 0.9981 - val_loss: 0.0094 - val_accuracy: 0.9444 - 122ms/epoch - 7ms/step\n",
      "Epoch 166/200\n",
      "17/17 - 0s - loss: 3.1194e-04 - accuracy: 0.9981 - val_loss: 0.0094 - val_accuracy: 0.9444 - 125ms/epoch - 7ms/step\n",
      "Epoch 167/200\n",
      "17/17 - 0s - loss: 3.1027e-04 - accuracy: 0.9981 - val_loss: 0.0094 - val_accuracy: 0.9444 - 121ms/epoch - 7ms/step\n",
      "Epoch 168/200\n",
      "17/17 - 0s - loss: 3.0458e-04 - accuracy: 0.9981 - val_loss: 0.0105 - val_accuracy: 0.9306 - 125ms/epoch - 7ms/step\n",
      "Epoch 169/200\n",
      "17/17 - 0s - loss: 3.2044e-04 - accuracy: 0.9981 - val_loss: 0.0098 - val_accuracy: 0.9417 - 123ms/epoch - 7ms/step\n",
      "Epoch 170/200\n",
      "17/17 - 0s - loss: 3.5690e-04 - accuracy: 0.9981 - val_loss: 0.0092 - val_accuracy: 0.9472 - 127ms/epoch - 7ms/step\n",
      "Epoch 171/200\n",
      "17/17 - 0s - loss: 3.2440e-04 - accuracy: 0.9981 - val_loss: 0.0093 - val_accuracy: 0.9472 - 122ms/epoch - 7ms/step\n",
      "Epoch 172/200\n",
      "17/17 - 0s - loss: 3.1618e-04 - accuracy: 0.9981 - val_loss: 0.0093 - val_accuracy: 0.9472 - 122ms/epoch - 7ms/step\n",
      "Epoch 173/200\n",
      "17/17 - 0s - loss: 3.1393e-04 - accuracy: 0.9981 - val_loss: 0.0093 - val_accuracy: 0.9472 - 121ms/epoch - 7ms/step\n",
      "Epoch 174/200\n",
      "17/17 - 0s - loss: 3.1294e-04 - accuracy: 0.9981 - val_loss: 0.0094 - val_accuracy: 0.9472 - 126ms/epoch - 7ms/step\n",
      "Epoch 175/200\n",
      "17/17 - 0s - loss: 3.1216e-04 - accuracy: 0.9981 - val_loss: 0.0094 - val_accuracy: 0.9472 - 126ms/epoch - 7ms/step\n",
      "Epoch 176/200\n",
      "17/17 - 0s - loss: 3.1182e-04 - accuracy: 0.9981 - val_loss: 0.0094 - val_accuracy: 0.9472 - 121ms/epoch - 7ms/step\n",
      "Epoch 177/200\n",
      "17/17 - 0s - loss: 3.1164e-04 - accuracy: 0.9981 - val_loss: 0.0094 - val_accuracy: 0.9472 - 125ms/epoch - 7ms/step\n",
      "Epoch 178/200\n",
      "17/17 - 0s - loss: 3.1145e-04 - accuracy: 0.9981 - val_loss: 0.0094 - val_accuracy: 0.9472 - 124ms/epoch - 7ms/step\n",
      "Epoch 179/200\n",
      "17/17 - 0s - loss: 3.1129e-04 - accuracy: 0.9981 - val_loss: 0.0095 - val_accuracy: 0.9472 - 120ms/epoch - 7ms/step\n",
      "Epoch 180/200\n",
      "17/17 - 0s - loss: 3.1113e-04 - accuracy: 0.9981 - val_loss: 0.0095 - val_accuracy: 0.9472 - 121ms/epoch - 7ms/step\n",
      "Epoch 181/200\n",
      "17/17 - 0s - loss: 3.1100e-04 - accuracy: 0.9981 - val_loss: 0.0095 - val_accuracy: 0.9472 - 123ms/epoch - 7ms/step\n",
      "Epoch 182/200\n",
      "17/17 - 0s - loss: 3.1082e-04 - accuracy: 0.9981 - val_loss: 0.0095 - val_accuracy: 0.9472 - 125ms/epoch - 7ms/step\n",
      "Epoch 183/200\n",
      "17/17 - 0s - loss: 3.1069e-04 - accuracy: 0.9981 - val_loss: 0.0095 - val_accuracy: 0.9472 - 122ms/epoch - 7ms/step\n",
      "Epoch 184/200\n",
      "17/17 - 0s - loss: 3.1054e-04 - accuracy: 0.9981 - val_loss: 0.0095 - val_accuracy: 0.9472 - 121ms/epoch - 7ms/step\n",
      "Epoch 185/200\n",
      "17/17 - 0s - loss: 3.1046e-04 - accuracy: 0.9981 - val_loss: 0.0095 - val_accuracy: 0.9472 - 122ms/epoch - 7ms/step\n",
      "Epoch 186/200\n",
      "17/17 - 0s - loss: 3.1027e-04 - accuracy: 0.9981 - val_loss: 0.0095 - val_accuracy: 0.9472 - 126ms/epoch - 7ms/step\n",
      "Epoch 187/200\n",
      "17/17 - 0s - loss: 3.1014e-04 - accuracy: 0.9981 - val_loss: 0.0095 - val_accuracy: 0.9472 - 120ms/epoch - 7ms/step\n",
      "Epoch 188/200\n",
      "17/17 - 0s - loss: 3.0999e-04 - accuracy: 0.9981 - val_loss: 0.0096 - val_accuracy: 0.9472 - 120ms/epoch - 7ms/step\n",
      "Epoch 189/200\n",
      "17/17 - 0s - loss: 3.0991e-04 - accuracy: 0.9981 - val_loss: 0.0096 - val_accuracy: 0.9472 - 124ms/epoch - 7ms/step\n",
      "Epoch 190/200\n",
      "17/17 - 0s - loss: 3.0968e-04 - accuracy: 0.9981 - val_loss: 0.0096 - val_accuracy: 0.9472 - 134ms/epoch - 8ms/step\n",
      "Epoch 191/200\n",
      "17/17 - 0s - loss: 3.0970e-04 - accuracy: 0.9981 - val_loss: 0.0096 - val_accuracy: 0.9472 - 123ms/epoch - 7ms/step\n",
      "Epoch 192/200\n",
      "17/17 - 0s - loss: 3.0938e-04 - accuracy: 0.9981 - val_loss: 0.0096 - val_accuracy: 0.9472 - 124ms/epoch - 7ms/step\n",
      "Epoch 193/200\n",
      "17/17 - 0s - loss: 3.0930e-04 - accuracy: 0.9981 - val_loss: 0.0096 - val_accuracy: 0.9472 - 120ms/epoch - 7ms/step\n",
      "Epoch 194/200\n",
      "17/17 - 0s - loss: 3.0904e-04 - accuracy: 0.9981 - val_loss: 0.0096 - val_accuracy: 0.9472 - 127ms/epoch - 7ms/step\n",
      "Epoch 195/200\n",
      "17/17 - 0s - loss: 3.0881e-04 - accuracy: 0.9981 - val_loss: 0.0096 - val_accuracy: 0.9472 - 122ms/epoch - 7ms/step\n",
      "Epoch 196/200\n",
      "17/17 - 0s - loss: 3.0856e-04 - accuracy: 0.9981 - val_loss: 0.0096 - val_accuracy: 0.9472 - 123ms/epoch - 7ms/step\n",
      "Epoch 197/200\n",
      "17/17 - 0s - loss: 3.0808e-04 - accuracy: 0.9981 - val_loss: 0.0097 - val_accuracy: 0.9472 - 122ms/epoch - 7ms/step\n",
      "Epoch 198/200\n",
      "17/17 - 0s - loss: 3.0753e-04 - accuracy: 0.9981 - val_loss: 0.0097 - val_accuracy: 0.9472 - 125ms/epoch - 7ms/step\n",
      "Epoch 199/200\n",
      "17/17 - 0s - loss: 3.0684e-04 - accuracy: 0.9981 - val_loss: 0.0098 - val_accuracy: 0.9444 - 128ms/epoch - 8ms/step\n",
      "Epoch 200/200\n",
      "17/17 - 0s - loss: 3.0454e-04 - accuracy: 0.9981 - val_loss: 0.0098 - val_accuracy: 0.9444 - 123ms/epoch - 7ms/step\n"
     ]
    }
   ],
   "source": [
    "history = model.fit(x_train, y_train, validation_data = (x_val, y_val), epochs = 200, batch_size = 64, verbose = 2)"
   ],
   "metadata": {
    "collapsed": false,
    "ExecuteTime": {
     "end_time": "2023-10-03T20:03:22.969372Z",
     "start_time": "2023-10-03T20:02:53.680685Z"
    }
   }
  },
  {
   "cell_type": "code",
   "execution_count": 112,
   "outputs": [
    {
     "data": {
      "text/plain": "[<matplotlib.lines.Line2D at 0x2926b7280>]"
     },
     "execution_count": 112,
     "metadata": {},
     "output_type": "execute_result"
    },
    {
     "data": {
      "text/plain": "<Figure size 640x480 with 1 Axes>",
      "image/png": "[encoded data removed]"
     },
     "metadata": {},
     "output_type": "display_data"
    }
   ],
   "source": [
    "import matplotlib.pyplot as plt\n",
    "\n",
    "plt.xlabel(\"# Epoca\")\n",
    "plt.ylabel(\"Magnitud de perdida\")\n",
    "plt.plot(history.history[\"accuracy\"])"
   ],
   "metadata": {
    "collapsed": false,
    "ExecuteTime": {
     "end_time": "2023-10-03T20:03:23.049221Z",
     "start_time": "2023-10-03T20:03:22.978682Z"
    }
   }
  },
  {
   "cell_type": "code",
   "execution_count": 113,
   "outputs": [
    {
     "name": "stderr",
     "output_type": "stream",
     "text": [
      "2023-10-03 14:03:23.076445: I tensorflow/core/grappler/optimizers/custom_graph_optimizer_registry.cc:114] Plugin optimizer for device_type GPU is enabled.\n"
     ]
    },
    {
     "name": "stdout",
     "output_type": "stream",
     "text": [
      "12/12 [==============================] - 1s 20ms/step\n",
      "[[5.7259598e-04 5.6624191e-04 3.5081023e-06 ... 6.3515954e-06\n",
      "  7.1519334e-04 7.8022356e-05]\n",
      " [9.9944431e-01 1.4157677e-05 2.1404758e-06 ... 6.6443963e-06\n",
      "  5.2322143e-06 4.5080296e-06]\n",
      " [1.5100845e-04 4.8269227e-04 5.8885773e-05 ... 1.2755739e-05\n",
      "  9.9542820e-01 2.9194768e-04]\n",
      " ...\n",
      " [1.3433342e-04 7.2162302e-06 1.2038200e-03 ... 6.1861478e-04\n",
      "  1.4322599e-05 2.4142722e-03]\n",
      " [5.8884226e-04 5.6670007e-04 3.5235828e-06 ... 6.3936750e-06\n",
      "  7.1512791e-04 7.8377794e-05]\n",
      " [6.0239816e-03 8.6190819e-04 2.6101904e-06 ... 7.2457806e-06\n",
      "  3.2758100e-05 9.0509275e-05]]\n",
      "(359, 10)\n",
      "[5 0 8 9 6 7 7 0 8 6 0 6 7 0 0 0 3 4 6 3 7 7 4 9 7 4 6 8 2 1 3 2 3 9 0 4 4\n",
      " 4 4 8 4 3 5 2 4 9 0 2 1 4 9 2 2 8 1 0 3 5 6 0 9 7 0 9 8 5 5 6 0 3 4 5 9 9\n",
      " 1 9 5 5 3 0 1 7 7 1 1 9 4 6 5 3 3 0 4 1 6 9 2 9 2 7 5 5 9 1 7 3 7 3 9 8 1\n",
      " 6 6 1 6 4 6 7 2 7 9 9 5 3 8 4 5 6 9 6 8 9 1 1 9 4 9 5 0 7 2 2 0 2 6 8 0 0\n",
      " 7 6 5 2 0 7 6 9 9 3 3 5 1 8 9 0 6 8 5 2 9 7 3 8 1 8 2 5 8 8 6 8 7 6 5 1 0\n",
      " 7 1 1 6 6 0 4 6 2 6 7 2 7 3 9 6 8 0 1 9 5 9 2 0 4 2 2 4 1 6 3 0 1 8 7 7 9\n",
      " 5 4 5 3 5 6 1 0 9 2 5 5 1 4 5 6 9 1 0 3 8 1 1 3 6 2 4 6 8 2 8 1 7 1 3 1 5\n",
      " 7 1 7 0 2 6 0 6 1 3 2 6 5 6 6 1 6 3 8 2 9 4 5 1 3 9 3 7 5 3 4 7 4 6 4 8 4\n",
      " 7 5 1 2 7 7 0 3 1 8 8 4 4 8 3 4 5 9 4 9 5 0 0 1 8 5 2 5 9 9 5 1 0 2 5 8 0\n",
      " 3 4 2 8 0 9 7 1 3 8 0 3 9 8 3 1 4 5 8 3 9 2 7 3 5 6]\n"
     ]
    }
   ],
   "source": [
    "import numpy as np\n",
    "\n",
    "pred1 = model.predict(x_test)\n",
    "print(pred1)\n",
    "print(pred1.shape)\n",
    "pred1_dec = np.argmax(pred1, axis = 1)\n",
    "print(pred1_dec)\n",
    "label = np.argmax(y_test,axis = 1)\n"
   ],
   "metadata": {
    "collapsed": false,
    "ExecuteTime": {
     "end_time": "2023-10-03T20:03:23.623399Z",
     "start_time": "2023-10-03T20:03:23.042696Z"
    }
   }
  },
  {
   "cell_type": "code",
   "execution_count": 113,
   "outputs": [],
   "source": [],
   "metadata": {
    "collapsed": false,
    "ExecuteTime": {
     "end_time": "2023-10-03T20:03:23.625315Z",
     "start_time": "2023-10-03T20:03:23.623563Z"
    }
   }
  }
 ],
 "metadata": {
  "kernelspec": {
   "display_name": "Python 3",
   "language": "python",
   "name": "python3"
  },
  "language_info": {
   "codemirror_mode": {
    "name": "ipython",
    "version": 2
   },
   "file_extension": ".py",
   "mimetype": "text/x-python",
   "name": "python",
   "nbconvert_exporter": "python",
   "pygments_lexer": "ipython2",
   "version": "2.7.6"
  }
 },
 "nbformat": 4,
 "nbformat_minor": 0
}
