{
 "cells": [
  {
   "cell_type": "markdown",
   "source": [
    "## Tensorflow"
   ],
   "metadata": {
    "collapsed": false
   }
  },
  {
   "cell_type": "code",
   "execution_count": 62,
   "outputs": [],
   "source": [
    "from sklearn.datasets import load_digits\n",
    "digits = load_digits()"
   ],
   "metadata": {
    "collapsed": false,
    "ExecuteTime": {
     "end_time": "2023-09-21T21:05:10.263715Z",
     "start_time": "2023-09-21T21:05:10.247273Z"
    }
   }
  },
  {
   "cell_type": "code",
   "execution_count": 63,
   "outputs": [
    {
     "name": "stdout",
     "output_type": "stream",
     "text": [
      "(1797, 64) (1797,)\n"
     ]
    }
   ],
   "source": [
    "X = digits.data\n",
    "Y = digits.target\n",
    "print(X.shape, Y.shape)"
   ],
   "metadata": {
    "collapsed": false,
    "ExecuteTime": {
     "end_time": "2023-09-21T21:05:10.268373Z",
     "start_time": "2023-09-21T21:05:10.265509Z"
    }
   }
  },
  {
   "cell_type": "code",
   "execution_count": 64,
   "outputs": [
    {
     "name": "stdout",
     "output_type": "stream",
     "text": [
      "16.0 0.0\n"
     ]
    }
   ],
   "source": [
    "print(X.max(), X.min())"
   ],
   "metadata": {
    "collapsed": false,
    "ExecuteTime": {
     "end_time": "2023-09-21T21:05:10.274286Z",
     "start_time": "2023-09-21T21:05:10.271901Z"
    }
   }
  },
  {
   "cell_type": "code",
   "execution_count": 65,
   "outputs": [
    {
     "name": "stdout",
     "output_type": "stream",
     "text": [
      "0.0 1.0\n"
     ]
    }
   ],
   "source": [
    "X /= 16.0\n",
    "print(X.min(), X.max())"
   ],
   "metadata": {
    "collapsed": false,
    "ExecuteTime": {
     "end_time": "2023-09-21T21:05:10.278925Z",
     "start_time": "2023-09-21T21:05:10.275249Z"
    }
   }
  },
  {
   "cell_type": "code",
   "execution_count": 66,
   "outputs": [],
   "source": [
    "from sklearn.model_selection import train_test_split#60,20,20"
   ],
   "metadata": {
    "collapsed": false,
    "ExecuteTime": {
     "end_time": "2023-09-21T21:05:10.281630Z",
     "start_time": "2023-09-21T21:05:10.280231Z"
    }
   }
  },
  {
   "cell_type": "code",
   "execution_count": 67,
   "outputs": [],
   "source": [
    "x_train, x_test, y_train, y_test = train_test_split(X, Y, train_size = 0.6)\n",
    "x_test, x_val, y_test, y_val = train_test_split(x_test, y_test, train_size = 0.5)"
   ],
   "metadata": {
    "collapsed": false,
    "ExecuteTime": {
     "end_time": "2023-09-21T21:05:10.303052Z",
     "start_time": "2023-09-21T21:05:10.283644Z"
    }
   }
  },
  {
   "cell_type": "code",
   "execution_count": 68,
   "outputs": [
    {
     "name": "stdout",
     "output_type": "stream",
     "text": [
      "(1078, 64) (360, 64) (359, 64)\n",
      "(1078,) (360,) (359,)\n"
     ]
    }
   ],
   "source": [
    "print( x_train.shape, x_val.shape, x_test.shape)\n",
    "print( y_train.shape, y_val.shape, y_test.shape)"
   ],
   "metadata": {
    "collapsed": false,
    "ExecuteTime": {
     "end_time": "2023-09-21T21:05:10.303359Z",
     "start_time": "2023-09-21T21:05:10.290348Z"
    }
   }
  },
  {
   "cell_type": "code",
   "execution_count": 69,
   "outputs": [
    {
     "name": "stdout",
     "output_type": "stream",
     "text": [
      "[4 8 8 ... 8 4 2]\n"
     ]
    }
   ],
   "source": [
    "print(y_train)"
   ],
   "metadata": {
    "collapsed": false,
    "ExecuteTime": {
     "end_time": "2023-09-21T21:05:10.303507Z",
     "start_time": "2023-09-21T21:05:10.293487Z"
    }
   }
  },
  {
   "cell_type": "code",
   "execution_count": 70,
   "outputs": [],
   "source": [
    "import numpy as np\n",
    "import matplotlib.pyplot as plt"
   ],
   "metadata": {
    "collapsed": false,
    "ExecuteTime": {
     "end_time": "2023-09-21T21:05:10.303599Z",
     "start_time": "2023-09-21T21:05:10.296845Z"
    }
   }
  },
  {
   "cell_type": "code",
   "execution_count": 71,
   "outputs": [
    {
     "data": {
      "text/plain": "<Figure size 2000x400 with 0 Axes>"
     },
     "execution_count": 71,
     "metadata": {},
     "output_type": "execute_result"
    },
    {
     "data": {
      "text/plain": "<Figure size 2000x400 with 0 Axes>"
     },
     "metadata": {},
     "output_type": "display_data"
    }
   ],
   "source": [
    "plt.figure(figsize=(20,4))"
   ],
   "metadata": {
    "collapsed": false,
    "ExecuteTime": {
     "end_time": "2023-09-21T21:05:10.310252Z",
     "start_time": "2023-09-21T21:05:10.303179Z"
    }
   }
  },
  {
   "cell_type": "code",
   "execution_count": 72,
   "outputs": [],
   "source": [
    "inicial = 500"
   ],
   "metadata": {
    "collapsed": false,
    "ExecuteTime": {
     "end_time": "2023-09-21T21:05:10.314233Z",
     "start_time": "2023-09-21T21:05:10.310404Z"
    }
   }
  },
  {
   "cell_type": "code",
   "execution_count": 73,
   "outputs": [
    {
     "data": {
      "text/plain": "<Figure size 640x480 with 10 Axes>",
      "image/png": "[encoded data removed]"
     },
     "metadata": {},
     "output_type": "display_data"
    }
   ],
   "source": [
    "for index, (imagen, etiqueta) in enumerate(zip(X[inicial:inicial+10], Y[inicial:inicial+10])):\n",
    " plt.subplot(1, 10, index + 1)\n",
    " plt.imshow(np.reshape(imagen, (8,8)), cmap=plt.cm.gray)\n",
    " plt.title('Valor: %i\\n' % etiqueta, fontsize = 15)"
   ],
   "metadata": {
    "collapsed": false,
    "ExecuteTime": {
     "end_time": "2023-09-21T21:05:10.726443Z",
     "start_time": "2023-09-21T21:05:10.317215Z"
    }
   }
  },
  {
   "cell_type": "code",
   "execution_count": 74,
   "outputs": [],
   "source": [
    "import tensorflow\n",
    "from tensorflow.keras.utils import to_categorical"
   ],
   "metadata": {
    "collapsed": false,
    "ExecuteTime": {
     "end_time": "2023-09-21T21:05:10.728457Z",
     "start_time": "2023-09-21T21:05:10.726777Z"
    }
   }
  },
  {
   "cell_type": "code",
   "execution_count": 75,
   "outputs": [
    {
     "name": "stdout",
     "output_type": "stream",
     "text": [
      "5\n",
      "[0. 0. 0. 0. 0. 1. 0. 0. 0. 0.]\n"
     ]
    }
   ],
   "source": [
    "print(y_train[56])\n",
    "y_train = to_categorical(y_train, 10)\n",
    "y_val = to_categorical(y_val, 10)\n",
    "y_test = to_categorical(y_test, 10)\n",
    "print(y_train[56])"
   ],
   "metadata": {
    "collapsed": false,
    "ExecuteTime": {
     "end_time": "2023-09-21T21:05:10.733456Z",
     "start_time": "2023-09-21T21:05:10.731132Z"
    }
   }
  },
  {
   "cell_type": "code",
   "execution_count": 76,
   "outputs": [],
   "source": [
    "from tensorflow.keras.models import Sequential\n",
    "from tensorflow.keras.layers import Dense"
   ],
   "metadata": {
    "collapsed": false,
    "ExecuteTime": {
     "end_time": "2023-09-21T21:05:10.735685Z",
     "start_time": "2023-09-21T21:05:10.734648Z"
    }
   }
  },
  {
   "cell_type": "code",
   "execution_count": 77,
   "outputs": [
    {
     "name": "stdout",
     "output_type": "stream",
     "text": [
      "Model: \"sequential_3\"\n",
      "_________________________________________________________________\n",
      " Layer (type)                Output Shape              Param #   \n",
      "=================================================================\n",
      " dense_24 (Dense)            (None, 6)                 390       \n",
      "                                                                 \n",
      " dense_25 (Dense)            (None, 6)                 42        \n",
      "                                                                 \n",
      " dense_26 (Dense)            (None, 8)                 56        \n",
      "                                                                 \n",
      " dense_27 (Dense)            (None, 10)                90        \n",
      "                                                                 \n",
      "=================================================================\n",
      "Total params: 578 (2.26 KB)\n",
      "Trainable params: 578 (2.26 KB)\n",
      "Non-trainable params: 0 (0.00 Byte)\n",
      "_________________________________________________________________\n"
     ]
    }
   ],
   "source": [
    "model = Sequential()\n",
    "model.add(Dense(6, input_shape=(64,), activation='sigmoid'))\n",
    "model.add(Dense(6, activation='sigmoid'))\n",
    "model.add(Dense(8, activation='sigmoid'))\n",
    "\n",
    "model.add(Dense(10, activation='softmax'))\n",
    "model.summary()"
   ],
   "metadata": {
    "collapsed": false,
    "ExecuteTime": {
     "end_time": "2023-09-21T21:05:10.797702Z",
     "start_time": "2023-09-21T21:05:10.744431Z"
    }
   }
  },
  {
   "cell_type": "markdown",
   "source": [
    "Otra manera de definir un modelo:\n",
    "\n",
    "from tensorflow.keras.layers import Input\n",
    "from tensorflow.keras.models import Model\n",
    "\n",
    "\n",
    "inputs = Input(shape=(64,))\n",
    "x1 = Dense(6, activation='sigmoid')(inputs)\n",
    "x2 = Dense(6, activation='sigmoid')(x1)\n",
    "x3 = Dense(8, activation='sigmoid')(x2)\n",
    "x4 = Dense(10, activation='softmax')(x3)\n",
    "\n",
    "model = Model(inputs=inputs, outputs=x4)\n",
    "model.summary()"
   ],
   "metadata": {
    "collapsed": false
   }
  },
  {
   "cell_type": "code",
   "execution_count": 78,
   "outputs": [
    {
     "name": "stderr",
     "output_type": "stream",
     "text": [
      "WARNING:absl:At this time, the v2.11+ optimizer `tf.keras.optimizers.SGD` runs slowly on M1/M2 Macs, please use the legacy Keras optimizer instead, located at `tf.keras.optimizers.legacy.SGD`.\n",
      "WARNING:absl:There is a known slowdown when using v2.11+ Keras optimizers on M1/M2 Macs. Falling back to the legacy Keras optimizer, i.e., `tf.keras.optimizers.legacy.SGD`.\n"
     ]
    }
   ],
   "source": [
    "import  tensorflow as tf\n",
    "model.compile(loss='categorical_crossentropy', optimizer=tf.keras.optimizers.SGD(learning_rate = 1e-3), metrics = ['accuracy'])"
   ],
   "metadata": {
    "collapsed": false,
    "ExecuteTime": {
     "end_time": "2023-09-21T21:05:10.806662Z",
     "start_time": "2023-09-21T21:05:10.799018Z"
    }
   }
  },
  {
   "cell_type": "code",
   "execution_count": 79,
   "outputs": [
    {
     "name": "stdout",
     "output_type": "stream",
     "text": [
      "Epoch 1/200\n"
     ]
    },
    {
     "name": "stderr",
     "output_type": "stream",
     "text": [
      "2023-09-21 15:05:10.945392: I tensorflow/core/grappler/optimizers/custom_graph_optimizer_registry.cc:114] Plugin optimizer for device_type GPU is enabled.\n"
     ]
    },
    {
     "name": "stdout",
     "output_type": "stream",
     "text": [
      "34/34 [==============================] - 1s 15ms/step - loss: 2.4644 - accuracy: 0.0993 - val_loss: 2.4570 - val_accuracy: 0.0889\n",
      "Epoch 2/200\n",
      " 8/34 [======>.......................] - ETA: 0s - loss: 2.5109 - accuracy: 0.0898"
     ]
    },
    {
     "name": "stderr",
     "output_type": "stream",
     "text": [
      "2023-09-21 15:05:11.450210: I tensorflow/core/grappler/optimizers/custom_graph_optimizer_registry.cc:114] Plugin optimizer for device_type GPU is enabled.\n"
     ]
    },
    {
     "name": "stdout",
     "output_type": "stream",
     "text": [
      "34/34 [==============================] - 0s 10ms/step - loss: 2.4611 - accuracy: 0.0993 - val_loss: 2.4536 - val_accuracy: 0.0889\n",
      "Epoch 3/200\n",
      "34/34 [==============================] - 0s 9ms/step - loss: 2.4579 - accuracy: 0.0993 - val_loss: 2.4504 - val_accuracy: 0.0889\n",
      "Epoch 4/200\n",
      "34/34 [==============================] - 0s 9ms/step - loss: 2.4547 - accuracy: 0.0993 - val_loss: 2.4472 - val_accuracy: 0.0889\n",
      "Epoch 5/200\n",
      "34/34 [==============================] - 0s 9ms/step - loss: 2.4516 - accuracy: 0.0993 - val_loss: 2.4441 - val_accuracy: 0.0889\n",
      "Epoch 6/200\n",
      "34/34 [==============================] - 0s 9ms/step - loss: 2.4486 - accuracy: 0.0993 - val_loss: 2.4411 - val_accuracy: 0.0889\n",
      "Epoch 7/200\n",
      "34/34 [==============================] - 0s 10ms/step - loss: 2.4457 - accuracy: 0.0993 - val_loss: 2.4382 - val_accuracy: 0.0889\n",
      "Epoch 8/200\n",
      "34/34 [==============================] - 0s 10ms/step - loss: 2.4428 - accuracy: 0.0993 - val_loss: 2.4353 - val_accuracy: 0.0889\n",
      "Epoch 9/200\n",
      "34/34 [==============================] - 0s 9ms/step - loss: 2.4400 - accuracy: 0.0993 - val_loss: 2.4325 - val_accuracy: 0.0889\n",
      "Epoch 10/200\n",
      "34/34 [==============================] - 0s 9ms/step - loss: 2.4373 - accuracy: 0.0993 - val_loss: 2.4298 - val_accuracy: 0.0889\n",
      "Epoch 11/200\n",
      "34/34 [==============================] - 0s 9ms/step - loss: 2.4346 - accuracy: 0.0993 - val_loss: 2.4271 - val_accuracy: 0.0889\n",
      "Epoch 12/200\n",
      "34/34 [==============================] - 0s 9ms/step - loss: 2.4320 - accuracy: 0.0993 - val_loss: 2.4245 - val_accuracy: 0.0889\n",
      "Epoch 13/200\n",
      "34/34 [==============================] - 0s 9ms/step - loss: 2.4295 - accuracy: 0.0993 - val_loss: 2.4220 - val_accuracy: 0.0889\n",
      "Epoch 14/200\n",
      "34/34 [==============================] - 0s 9ms/step - loss: 2.4270 - accuracy: 0.0993 - val_loss: 2.4195 - val_accuracy: 0.0889\n",
      "Epoch 15/200\n",
      "34/34 [==============================] - 0s 10ms/step - loss: 2.4245 - accuracy: 0.0993 - val_loss: 2.4171 - val_accuracy: 0.0889\n",
      "Epoch 16/200\n",
      "34/34 [==============================] - 0s 9ms/step - loss: 2.4222 - accuracy: 0.0993 - val_loss: 2.4147 - val_accuracy: 0.0889\n",
      "Epoch 17/200\n",
      "34/34 [==============================] - 0s 9ms/step - loss: 2.4198 - accuracy: 0.0993 - val_loss: 2.4124 - val_accuracy: 0.0889\n",
      "Epoch 18/200\n",
      "34/34 [==============================] - 0s 9ms/step - loss: 2.4176 - accuracy: 0.0993 - val_loss: 2.4102 - val_accuracy: 0.0889\n",
      "Epoch 19/200\n",
      "34/34 [==============================] - 0s 9ms/step - loss: 2.4154 - accuracy: 0.0993 - val_loss: 2.4080 - val_accuracy: 0.0889\n",
      "Epoch 20/200\n",
      "34/34 [==============================] - 0s 9ms/step - loss: 2.4132 - accuracy: 0.0993 - val_loss: 2.4058 - val_accuracy: 0.0889\n",
      "Epoch 21/200\n",
      "34/34 [==============================] - 0s 9ms/step - loss: 2.4111 - accuracy: 0.0993 - val_loss: 2.4037 - val_accuracy: 0.0889\n",
      "Epoch 22/200\n",
      "34/34 [==============================] - 0s 9ms/step - loss: 2.4090 - accuracy: 0.0993 - val_loss: 2.4017 - val_accuracy: 0.0889\n",
      "Epoch 23/200\n",
      "34/34 [==============================] - 0s 9ms/step - loss: 2.4070 - accuracy: 0.0993 - val_loss: 2.3997 - val_accuracy: 0.0889\n",
      "Epoch 24/200\n",
      "34/34 [==============================] - 0s 9ms/step - loss: 2.4050 - accuracy: 0.0993 - val_loss: 2.3977 - val_accuracy: 0.0889\n",
      "Epoch 25/200\n",
      "34/34 [==============================] - 0s 9ms/step - loss: 2.4031 - accuracy: 0.0993 - val_loss: 2.3958 - val_accuracy: 0.0889\n",
      "Epoch 26/200\n",
      "34/34 [==============================] - 0s 9ms/step - loss: 2.4012 - accuracy: 0.0993 - val_loss: 2.3939 - val_accuracy: 0.0889\n",
      "Epoch 27/200\n",
      "34/34 [==============================] - 0s 9ms/step - loss: 2.3994 - accuracy: 0.0993 - val_loss: 2.3921 - val_accuracy: 0.0889\n",
      "Epoch 28/200\n",
      "34/34 [==============================] - 0s 9ms/step - loss: 2.3975 - accuracy: 0.0993 - val_loss: 2.3903 - val_accuracy: 0.0889\n",
      "Epoch 29/200\n",
      "34/34 [==============================] - 0s 9ms/step - loss: 2.3958 - accuracy: 0.0993 - val_loss: 2.3885 - val_accuracy: 0.0889\n",
      "Epoch 30/200\n",
      "34/34 [==============================] - 0s 9ms/step - loss: 2.3940 - accuracy: 0.0993 - val_loss: 2.3868 - val_accuracy: 0.0889\n",
      "Epoch 31/200\n",
      "34/34 [==============================] - 0s 9ms/step - loss: 2.3923 - accuracy: 0.0993 - val_loss: 2.3851 - val_accuracy: 0.0889\n",
      "Epoch 32/200\n",
      "34/34 [==============================] - 0s 9ms/step - loss: 2.3906 - accuracy: 0.0993 - val_loss: 2.3835 - val_accuracy: 0.0889\n",
      "Epoch 33/200\n",
      "34/34 [==============================] - 0s 9ms/step - loss: 2.3890 - accuracy: 0.0993 - val_loss: 2.3819 - val_accuracy: 0.0889\n",
      "Epoch 34/200\n",
      "34/34 [==============================] - 0s 9ms/step - loss: 2.3874 - accuracy: 0.0993 - val_loss: 2.3803 - val_accuracy: 0.0889\n",
      "Epoch 35/200\n",
      "34/34 [==============================] - 0s 9ms/step - loss: 2.3858 - accuracy: 0.0993 - val_loss: 2.3787 - val_accuracy: 0.0889\n",
      "Epoch 36/200\n",
      "34/34 [==============================] - 0s 9ms/step - loss: 2.3843 - accuracy: 0.0993 - val_loss: 2.3772 - val_accuracy: 0.0889\n",
      "Epoch 37/200\n",
      "34/34 [==============================] - 0s 9ms/step - loss: 2.3828 - accuracy: 0.0993 - val_loss: 2.3757 - val_accuracy: 0.0889\n",
      "Epoch 38/200\n",
      "34/34 [==============================] - 0s 9ms/step - loss: 2.3813 - accuracy: 0.0993 - val_loss: 2.3743 - val_accuracy: 0.0889\n",
      "Epoch 39/200\n",
      "34/34 [==============================] - 0s 9ms/step - loss: 2.3799 - accuracy: 0.0993 - val_loss: 2.3729 - val_accuracy: 0.0889\n",
      "Epoch 40/200\n",
      "34/34 [==============================] - 0s 9ms/step - loss: 2.3784 - accuracy: 0.0993 - val_loss: 2.3715 - val_accuracy: 0.0889\n",
      "Epoch 41/200\n",
      "34/34 [==============================] - 0s 9ms/step - loss: 2.3770 - accuracy: 0.0993 - val_loss: 2.3701 - val_accuracy: 0.0889\n",
      "Epoch 42/200\n",
      "34/34 [==============================] - 0s 9ms/step - loss: 2.3757 - accuracy: 0.0993 - val_loss: 2.3688 - val_accuracy: 0.0889\n",
      "Epoch 43/200\n",
      "34/34 [==============================] - 0s 9ms/step - loss: 2.3744 - accuracy: 0.0993 - val_loss: 2.3675 - val_accuracy: 0.0889\n",
      "Epoch 44/200\n",
      "34/34 [==============================] - 0s 9ms/step - loss: 2.3730 - accuracy: 0.0993 - val_loss: 2.3662 - val_accuracy: 0.0889\n",
      "Epoch 45/200\n",
      "34/34 [==============================] - 0s 9ms/step - loss: 2.3718 - accuracy: 0.0993 - val_loss: 2.3650 - val_accuracy: 0.0889\n",
      "Epoch 46/200\n",
      "34/34 [==============================] - 0s 9ms/step - loss: 2.3705 - accuracy: 0.0993 - val_loss: 2.3637 - val_accuracy: 0.0889\n",
      "Epoch 47/200\n",
      "34/34 [==============================] - 0s 9ms/step - loss: 2.3693 - accuracy: 0.0993 - val_loss: 2.3625 - val_accuracy: 0.0889\n",
      "Epoch 48/200\n",
      "34/34 [==============================] - 0s 9ms/step - loss: 2.3681 - accuracy: 0.0993 - val_loss: 2.3613 - val_accuracy: 0.0889\n",
      "Epoch 49/200\n",
      "34/34 [==============================] - 0s 9ms/step - loss: 2.3669 - accuracy: 0.0993 - val_loss: 2.3602 - val_accuracy: 0.0889\n",
      "Epoch 50/200\n",
      "34/34 [==============================] - 0s 9ms/step - loss: 2.3657 - accuracy: 0.0993 - val_loss: 2.3590 - val_accuracy: 0.0889\n",
      "Epoch 51/200\n",
      "34/34 [==============================] - 0s 9ms/step - loss: 2.3646 - accuracy: 0.0993 - val_loss: 2.3579 - val_accuracy: 0.0889\n",
      "Epoch 52/200\n",
      "34/34 [==============================] - 0s 9ms/step - loss: 2.3634 - accuracy: 0.0993 - val_loss: 2.3568 - val_accuracy: 0.0889\n",
      "Epoch 53/200\n",
      "34/34 [==============================] - 0s 9ms/step - loss: 2.3623 - accuracy: 0.0993 - val_loss: 2.3558 - val_accuracy: 0.0889\n",
      "Epoch 54/200\n",
      "34/34 [==============================] - 0s 11ms/step - loss: 2.3613 - accuracy: 0.0993 - val_loss: 2.3547 - val_accuracy: 0.0889\n",
      "Epoch 55/200\n",
      "34/34 [==============================] - 0s 14ms/step - loss: 2.3602 - accuracy: 0.0993 - val_loss: 2.3537 - val_accuracy: 0.0889\n",
      "Epoch 56/200\n",
      "34/34 [==============================] - 0s 10ms/step - loss: 2.3591 - accuracy: 0.0993 - val_loss: 2.3527 - val_accuracy: 0.0889\n",
      "Epoch 57/200\n",
      "34/34 [==============================] - 0s 10ms/step - loss: 2.3581 - accuracy: 0.0993 - val_loss: 2.3517 - val_accuracy: 0.0889\n",
      "Epoch 58/200\n",
      "34/34 [==============================] - 0s 10ms/step - loss: 2.3571 - accuracy: 0.0993 - val_loss: 2.3507 - val_accuracy: 0.0889\n",
      "Epoch 59/200\n",
      "34/34 [==============================] - 0s 10ms/step - loss: 2.3561 - accuracy: 0.0993 - val_loss: 2.3498 - val_accuracy: 0.0889\n",
      "Epoch 60/200\n",
      "34/34 [==============================] - 0s 9ms/step - loss: 2.3552 - accuracy: 0.0993 - val_loss: 2.3488 - val_accuracy: 0.0889\n",
      "Epoch 61/200\n",
      "34/34 [==============================] - 0s 9ms/step - loss: 2.3542 - accuracy: 0.0993 - val_loss: 2.3479 - val_accuracy: 0.0889\n",
      "Epoch 62/200\n",
      "34/34 [==============================] - 0s 9ms/step - loss: 2.3533 - accuracy: 0.0993 - val_loss: 2.3470 - val_accuracy: 0.0889\n",
      "Epoch 63/200\n",
      "34/34 [==============================] - 0s 9ms/step - loss: 2.3524 - accuracy: 0.0993 - val_loss: 2.3462 - val_accuracy: 0.0889\n",
      "Epoch 64/200\n",
      "34/34 [==============================] - 0s 9ms/step - loss: 2.3515 - accuracy: 0.0993 - val_loss: 2.3453 - val_accuracy: 0.0889\n",
      "Epoch 65/200\n",
      "34/34 [==============================] - 0s 9ms/step - loss: 2.3506 - accuracy: 0.0993 - val_loss: 2.3444 - val_accuracy: 0.0889\n",
      "Epoch 66/200\n",
      "34/34 [==============================] - 0s 9ms/step - loss: 2.3498 - accuracy: 0.0993 - val_loss: 2.3436 - val_accuracy: 0.0889\n",
      "Epoch 67/200\n",
      "34/34 [==============================] - 0s 9ms/step - loss: 2.3489 - accuracy: 0.0993 - val_loss: 2.3428 - val_accuracy: 0.0889\n",
      "Epoch 68/200\n",
      "34/34 [==============================] - 0s 9ms/step - loss: 2.3481 - accuracy: 0.0993 - val_loss: 2.3420 - val_accuracy: 0.0889\n",
      "Epoch 69/200\n",
      "34/34 [==============================] - 0s 9ms/step - loss: 2.3473 - accuracy: 0.0993 - val_loss: 2.3412 - val_accuracy: 0.0889\n",
      "Epoch 70/200\n",
      "34/34 [==============================] - 0s 12ms/step - loss: 2.3465 - accuracy: 0.0993 - val_loss: 2.3405 - val_accuracy: 0.0889\n",
      "Epoch 71/200\n",
      "34/34 [==============================] - 0s 11ms/step - loss: 2.3457 - accuracy: 0.0993 - val_loss: 2.3397 - val_accuracy: 0.0889\n",
      "Epoch 72/200\n",
      "34/34 [==============================] - 0s 9ms/step - loss: 2.3449 - accuracy: 0.0993 - val_loss: 2.3390 - val_accuracy: 0.0889\n",
      "Epoch 73/200\n",
      "34/34 [==============================] - 0s 10ms/step - loss: 2.3442 - accuracy: 0.0993 - val_loss: 2.3383 - val_accuracy: 0.0889\n",
      "Epoch 74/200\n",
      "34/34 [==============================] - 0s 10ms/step - loss: 2.3434 - accuracy: 0.0993 - val_loss: 2.3376 - val_accuracy: 0.0889\n",
      "Epoch 75/200\n",
      "34/34 [==============================] - 0s 9ms/step - loss: 2.3427 - accuracy: 0.0993 - val_loss: 2.3369 - val_accuracy: 0.0889\n",
      "Epoch 76/200\n",
      "34/34 [==============================] - 0s 9ms/step - loss: 2.3420 - accuracy: 0.0993 - val_loss: 2.3362 - val_accuracy: 0.0889\n",
      "Epoch 77/200\n",
      "34/34 [==============================] - 0s 9ms/step - loss: 2.3413 - accuracy: 0.0993 - val_loss: 2.3355 - val_accuracy: 0.0889\n",
      "Epoch 78/200\n",
      "34/34 [==============================] - 0s 9ms/step - loss: 2.3406 - accuracy: 0.0993 - val_loss: 2.3349 - val_accuracy: 0.0889\n",
      "Epoch 79/200\n",
      "34/34 [==============================] - 0s 9ms/step - loss: 2.3399 - accuracy: 0.0993 - val_loss: 2.3342 - val_accuracy: 0.0889\n",
      "Epoch 80/200\n",
      "34/34 [==============================] - 0s 9ms/step - loss: 2.3392 - accuracy: 0.0993 - val_loss: 2.3336 - val_accuracy: 0.0889\n",
      "Epoch 81/200\n",
      "34/34 [==============================] - 0s 9ms/step - loss: 2.3386 - accuracy: 0.0993 - val_loss: 2.3330 - val_accuracy: 0.0889\n",
      "Epoch 82/200\n",
      "34/34 [==============================] - 0s 9ms/step - loss: 2.3379 - accuracy: 0.0993 - val_loss: 2.3324 - val_accuracy: 0.0889\n",
      "Epoch 83/200\n",
      "34/34 [==============================] - 0s 9ms/step - loss: 2.3373 - accuracy: 0.0993 - val_loss: 2.3318 - val_accuracy: 0.0889\n",
      "Epoch 84/200\n",
      "34/34 [==============================] - 0s 9ms/step - loss: 2.3367 - accuracy: 0.0993 - val_loss: 2.3312 - val_accuracy: 0.0889\n",
      "Epoch 85/200\n",
      "34/34 [==============================] - 0s 9ms/step - loss: 2.3361 - accuracy: 0.0993 - val_loss: 2.3306 - val_accuracy: 0.0889\n",
      "Epoch 86/200\n",
      "34/34 [==============================] - 0s 9ms/step - loss: 2.3355 - accuracy: 0.0993 - val_loss: 2.3301 - val_accuracy: 0.0889\n",
      "Epoch 87/200\n",
      "34/34 [==============================] - 0s 9ms/step - loss: 2.3349 - accuracy: 0.0993 - val_loss: 2.3295 - val_accuracy: 0.0889\n",
      "Epoch 88/200\n",
      "34/34 [==============================] - 0s 9ms/step - loss: 2.3343 - accuracy: 0.0993 - val_loss: 2.3290 - val_accuracy: 0.0889\n",
      "Epoch 89/200\n",
      "34/34 [==============================] - 0s 9ms/step - loss: 2.3337 - accuracy: 0.0993 - val_loss: 2.3284 - val_accuracy: 0.0889\n",
      "Epoch 90/200\n",
      "34/34 [==============================] - 0s 9ms/step - loss: 2.3332 - accuracy: 0.0993 - val_loss: 2.3279 - val_accuracy: 0.0889\n",
      "Epoch 91/200\n",
      "34/34 [==============================] - 0s 9ms/step - loss: 2.3326 - accuracy: 0.0993 - val_loss: 2.3274 - val_accuracy: 0.0889\n",
      "Epoch 92/200\n",
      "34/34 [==============================] - 0s 9ms/step - loss: 2.3321 - accuracy: 0.0993 - val_loss: 2.3269 - val_accuracy: 0.0889\n",
      "Epoch 93/200\n",
      "34/34 [==============================] - 0s 9ms/step - loss: 2.3316 - accuracy: 0.0993 - val_loss: 2.3264 - val_accuracy: 0.0889\n",
      "Epoch 94/200\n",
      "34/34 [==============================] - 0s 9ms/step - loss: 2.3310 - accuracy: 0.0993 - val_loss: 2.3259 - val_accuracy: 0.0889\n",
      "Epoch 95/200\n",
      "34/34 [==============================] - 0s 9ms/step - loss: 2.3305 - accuracy: 0.0993 - val_loss: 2.3254 - val_accuracy: 0.0889\n",
      "Epoch 96/200\n",
      "34/34 [==============================] - 0s 9ms/step - loss: 2.3300 - accuracy: 0.0993 - val_loss: 2.3250 - val_accuracy: 0.0889\n",
      "Epoch 97/200\n",
      "34/34 [==============================] - 0s 9ms/step - loss: 2.3295 - accuracy: 0.0993 - val_loss: 2.3245 - val_accuracy: 0.0889\n",
      "Epoch 98/200\n",
      "34/34 [==============================] - 0s 9ms/step - loss: 2.3290 - accuracy: 0.0993 - val_loss: 2.3241 - val_accuracy: 0.0889\n",
      "Epoch 99/200\n",
      "34/34 [==============================] - 0s 9ms/step - loss: 2.3286 - accuracy: 0.0993 - val_loss: 2.3236 - val_accuracy: 0.0889\n",
      "Epoch 100/200\n",
      "34/34 [==============================] - 0s 9ms/step - loss: 2.3281 - accuracy: 0.0993 - val_loss: 2.3232 - val_accuracy: 0.0889\n",
      "Epoch 101/200\n",
      "34/34 [==============================] - 0s 9ms/step - loss: 2.3276 - accuracy: 0.0993 - val_loss: 2.3228 - val_accuracy: 0.0889\n",
      "Epoch 102/200\n",
      "34/34 [==============================] - 0s 9ms/step - loss: 2.3272 - accuracy: 0.0993 - val_loss: 2.3224 - val_accuracy: 0.0889\n",
      "Epoch 103/200\n",
      "34/34 [==============================] - 0s 9ms/step - loss: 2.3267 - accuracy: 0.0993 - val_loss: 2.3219 - val_accuracy: 0.0889\n",
      "Epoch 104/200\n",
      "34/34 [==============================] - 0s 9ms/step - loss: 2.3263 - accuracy: 0.0993 - val_loss: 2.3215 - val_accuracy: 0.0889\n",
      "Epoch 105/200\n",
      "34/34 [==============================] - 0s 9ms/step - loss: 2.3259 - accuracy: 0.0993 - val_loss: 2.3212 - val_accuracy: 0.0889\n",
      "Epoch 106/200\n",
      "34/34 [==============================] - 0s 9ms/step - loss: 2.3254 - accuracy: 0.0993 - val_loss: 2.3208 - val_accuracy: 0.0889\n",
      "Epoch 107/200\n",
      "34/34 [==============================] - 0s 9ms/step - loss: 2.3250 - accuracy: 0.0993 - val_loss: 2.3204 - val_accuracy: 0.0889\n",
      "Epoch 108/200\n",
      "34/34 [==============================] - 0s 9ms/step - loss: 2.3246 - accuracy: 0.0993 - val_loss: 2.3200 - val_accuracy: 0.0889\n",
      "Epoch 109/200\n",
      "34/34 [==============================] - 0s 9ms/step - loss: 2.3242 - accuracy: 0.0993 - val_loss: 2.3197 - val_accuracy: 0.0889\n",
      "Epoch 110/200\n",
      "34/34 [==============================] - 0s 9ms/step - loss: 2.3238 - accuracy: 0.0993 - val_loss: 2.3193 - val_accuracy: 0.0889\n",
      "Epoch 111/200\n",
      "34/34 [==============================] - 0s 9ms/step - loss: 2.3234 - accuracy: 0.0993 - val_loss: 2.3189 - val_accuracy: 0.0889\n",
      "Epoch 112/200\n",
      "34/34 [==============================] - 0s 9ms/step - loss: 2.3231 - accuracy: 0.0993 - val_loss: 2.3186 - val_accuracy: 0.0889\n",
      "Epoch 113/200\n",
      "34/34 [==============================] - 0s 9ms/step - loss: 2.3227 - accuracy: 0.0993 - val_loss: 2.3183 - val_accuracy: 0.0889\n",
      "Epoch 114/200\n",
      "34/34 [==============================] - 0s 9ms/step - loss: 2.3223 - accuracy: 0.0993 - val_loss: 2.3179 - val_accuracy: 0.0889\n",
      "Epoch 115/200\n",
      "34/34 [==============================] - 0s 9ms/step - loss: 2.3220 - accuracy: 0.0993 - val_loss: 2.3176 - val_accuracy: 0.0889\n",
      "Epoch 116/200\n",
      "34/34 [==============================] - 0s 9ms/step - loss: 2.3216 - accuracy: 0.0993 - val_loss: 2.3173 - val_accuracy: 0.0889\n",
      "Epoch 117/200\n",
      "34/34 [==============================] - 0s 9ms/step - loss: 2.3213 - accuracy: 0.0993 - val_loss: 2.3170 - val_accuracy: 0.0889\n",
      "Epoch 118/200\n",
      "34/34 [==============================] - 0s 9ms/step - loss: 2.3209 - accuracy: 0.0993 - val_loss: 2.3167 - val_accuracy: 0.0889\n",
      "Epoch 119/200\n",
      "34/34 [==============================] - 0s 9ms/step - loss: 2.3206 - accuracy: 0.0993 - val_loss: 2.3164 - val_accuracy: 0.0889\n",
      "Epoch 120/200\n",
      "34/34 [==============================] - 0s 9ms/step - loss: 2.3203 - accuracy: 0.0993 - val_loss: 2.3161 - val_accuracy: 0.0889\n",
      "Epoch 121/200\n",
      "34/34 [==============================] - 0s 9ms/step - loss: 2.3199 - accuracy: 0.0993 - val_loss: 2.3158 - val_accuracy: 0.0889\n",
      "Epoch 122/200\n",
      "34/34 [==============================] - 0s 9ms/step - loss: 2.3196 - accuracy: 0.0993 - val_loss: 2.3155 - val_accuracy: 0.0889\n",
      "Epoch 123/200\n",
      "34/34 [==============================] - 0s 9ms/step - loss: 2.3193 - accuracy: 0.0993 - val_loss: 2.3152 - val_accuracy: 0.0889\n",
      "Epoch 124/200\n",
      "34/34 [==============================] - 0s 9ms/step - loss: 2.3190 - accuracy: 0.0993 - val_loss: 2.3150 - val_accuracy: 0.0889\n",
      "Epoch 125/200\n",
      "34/34 [==============================] - 0s 9ms/step - loss: 2.3187 - accuracy: 0.0993 - val_loss: 2.3147 - val_accuracy: 0.0889\n",
      "Epoch 126/200\n",
      "34/34 [==============================] - 0s 9ms/step - loss: 2.3184 - accuracy: 0.0993 - val_loss: 2.3144 - val_accuracy: 0.0889\n",
      "Epoch 127/200\n",
      "34/34 [==============================] - 0s 9ms/step - loss: 2.3181 - accuracy: 0.0993 - val_loss: 2.3142 - val_accuracy: 0.0889\n",
      "Epoch 128/200\n",
      "34/34 [==============================] - 0s 9ms/step - loss: 2.3178 - accuracy: 0.0993 - val_loss: 2.3139 - val_accuracy: 0.0889\n",
      "Epoch 129/200\n",
      "34/34 [==============================] - 0s 9ms/step - loss: 2.3175 - accuracy: 0.0993 - val_loss: 2.3137 - val_accuracy: 0.0889\n",
      "Epoch 130/200\n",
      "34/34 [==============================] - 1s 34ms/step - loss: 2.3172 - accuracy: 0.0993 - val_loss: 2.3134 - val_accuracy: 0.0889\n",
      "Epoch 131/200\n",
      "34/34 [==============================] - 1s 34ms/step - loss: 2.3170 - accuracy: 0.0993 - val_loss: 2.3132 - val_accuracy: 0.0889\n",
      "Epoch 132/200\n",
      "34/34 [==============================] - 0s 12ms/step - loss: 2.3167 - accuracy: 0.0993 - val_loss: 2.3129 - val_accuracy: 0.0889\n",
      "Epoch 133/200\n",
      "34/34 [==============================] - 0s 10ms/step - loss: 2.3164 - accuracy: 0.0993 - val_loss: 2.3127 - val_accuracy: 0.0889\n",
      "Epoch 134/200\n",
      "34/34 [==============================] - 0s 9ms/step - loss: 2.3162 - accuracy: 0.0993 - val_loss: 2.3125 - val_accuracy: 0.0889\n",
      "Epoch 135/200\n",
      "34/34 [==============================] - 0s 9ms/step - loss: 2.3159 - accuracy: 0.0993 - val_loss: 2.3123 - val_accuracy: 0.0889\n",
      "Epoch 136/200\n",
      "34/34 [==============================] - 0s 15ms/step - loss: 2.3157 - accuracy: 0.0993 - val_loss: 2.3120 - val_accuracy: 0.0889\n",
      "Epoch 137/200\n",
      "34/34 [==============================] - 1s 19ms/step - loss: 2.3154 - accuracy: 0.0993 - val_loss: 2.3118 - val_accuracy: 0.0889\n",
      "Epoch 138/200\n",
      "34/34 [==============================] - 0s 10ms/step - loss: 2.3152 - accuracy: 0.0993 - val_loss: 2.3116 - val_accuracy: 0.0889\n",
      "Epoch 139/200\n",
      "34/34 [==============================] - 0s 9ms/step - loss: 2.3149 - accuracy: 0.0993 - val_loss: 2.3114 - val_accuracy: 0.0889\n",
      "Epoch 140/200\n",
      "34/34 [==============================] - 0s 9ms/step - loss: 2.3147 - accuracy: 0.0993 - val_loss: 2.3112 - val_accuracy: 0.0889\n",
      "Epoch 141/200\n",
      "34/34 [==============================] - 0s 9ms/step - loss: 2.3145 - accuracy: 0.0993 - val_loss: 2.3110 - val_accuracy: 0.0889\n",
      "Epoch 142/200\n",
      "34/34 [==============================] - 0s 9ms/step - loss: 2.3142 - accuracy: 0.0993 - val_loss: 2.3108 - val_accuracy: 0.0889\n",
      "Epoch 143/200\n",
      "34/34 [==============================] - 0s 9ms/step - loss: 2.3140 - accuracy: 0.0993 - val_loss: 2.3107 - val_accuracy: 0.0889\n",
      "Epoch 144/200\n",
      "34/34 [==============================] - 0s 9ms/step - loss: 2.3138 - accuracy: 0.0993 - val_loss: 2.3105 - val_accuracy: 0.0889\n",
      "Epoch 145/200\n",
      "34/34 [==============================] - 0s 9ms/step - loss: 2.3136 - accuracy: 0.0993 - val_loss: 2.3103 - val_accuracy: 0.0889\n",
      "Epoch 146/200\n",
      "34/34 [==============================] - 0s 9ms/step - loss: 2.3134 - accuracy: 0.0993 - val_loss: 2.3101 - val_accuracy: 0.0889\n",
      "Epoch 147/200\n",
      "34/34 [==============================] - 0s 9ms/step - loss: 2.3132 - accuracy: 0.0993 - val_loss: 2.3099 - val_accuracy: 0.0889\n",
      "Epoch 148/200\n",
      "34/34 [==============================] - 0s 10ms/step - loss: 2.3130 - accuracy: 0.0993 - val_loss: 2.3098 - val_accuracy: 0.0889\n",
      "Epoch 149/200\n",
      "34/34 [==============================] - 0s 9ms/step - loss: 2.3128 - accuracy: 0.0993 - val_loss: 2.3096 - val_accuracy: 0.0889\n",
      "Epoch 150/200\n",
      "34/34 [==============================] - 0s 9ms/step - loss: 2.3126 - accuracy: 0.0993 - val_loss: 2.3094 - val_accuracy: 0.0889\n",
      "Epoch 151/200\n",
      "34/34 [==============================] - 0s 9ms/step - loss: 2.3124 - accuracy: 0.0993 - val_loss: 2.3093 - val_accuracy: 0.0889\n",
      "Epoch 152/200\n",
      "34/34 [==============================] - 0s 10ms/step - loss: 2.3122 - accuracy: 0.0993 - val_loss: 2.3091 - val_accuracy: 0.0889\n",
      "Epoch 153/200\n",
      "34/34 [==============================] - 0s 9ms/step - loss: 2.3120 - accuracy: 0.0993 - val_loss: 2.3090 - val_accuracy: 0.0889\n",
      "Epoch 154/200\n",
      "34/34 [==============================] - 0s 10ms/step - loss: 2.3118 - accuracy: 0.0993 - val_loss: 2.3088 - val_accuracy: 0.0889\n",
      "Epoch 155/200\n",
      "34/34 [==============================] - 0s 9ms/step - loss: 2.3116 - accuracy: 0.0993 - val_loss: 2.3087 - val_accuracy: 0.0889\n",
      "Epoch 156/200\n",
      "34/34 [==============================] - 0s 9ms/step - loss: 2.3115 - accuracy: 0.0993 - val_loss: 2.3085 - val_accuracy: 0.0889\n",
      "Epoch 157/200\n",
      "34/34 [==============================] - 0s 9ms/step - loss: 2.3113 - accuracy: 0.0993 - val_loss: 2.3084 - val_accuracy: 0.0889\n",
      "Epoch 158/200\n",
      "34/34 [==============================] - 0s 9ms/step - loss: 2.3111 - accuracy: 0.0993 - val_loss: 2.3082 - val_accuracy: 0.0889\n",
      "Epoch 159/200\n",
      "34/34 [==============================] - 0s 9ms/step - loss: 2.3110 - accuracy: 0.0993 - val_loss: 2.3081 - val_accuracy: 0.0889\n",
      "Epoch 160/200\n",
      "34/34 [==============================] - 0s 9ms/step - loss: 2.3108 - accuracy: 0.0993 - val_loss: 2.3080 - val_accuracy: 0.0889\n",
      "Epoch 161/200\n",
      "34/34 [==============================] - 0s 9ms/step - loss: 2.3106 - accuracy: 0.0993 - val_loss: 2.3078 - val_accuracy: 0.0889\n",
      "Epoch 162/200\n",
      "34/34 [==============================] - 0s 9ms/step - loss: 2.3105 - accuracy: 0.0993 - val_loss: 2.3077 - val_accuracy: 0.0889\n",
      "Epoch 163/200\n",
      "34/34 [==============================] - 0s 9ms/step - loss: 2.3103 - accuracy: 0.0993 - val_loss: 2.3076 - val_accuracy: 0.0889\n",
      "Epoch 164/200\n",
      "34/34 [==============================] - 0s 10ms/step - loss: 2.3101 - accuracy: 0.0993 - val_loss: 2.3075 - val_accuracy: 0.0889\n",
      "Epoch 165/200\n",
      "34/34 [==============================] - 0s 9ms/step - loss: 2.3100 - accuracy: 0.0993 - val_loss: 2.3073 - val_accuracy: 0.0889\n",
      "Epoch 166/200\n",
      "34/34 [==============================] - 0s 9ms/step - loss: 2.3098 - accuracy: 0.0993 - val_loss: 2.3072 - val_accuracy: 0.0889\n",
      "Epoch 167/200\n",
      "34/34 [==============================] - 0s 9ms/step - loss: 2.3097 - accuracy: 0.0993 - val_loss: 2.3071 - val_accuracy: 0.0889\n",
      "Epoch 168/200\n",
      "34/34 [==============================] - 0s 9ms/step - loss: 2.3095 - accuracy: 0.0993 - val_loss: 2.3070 - val_accuracy: 0.0889\n",
      "Epoch 169/200\n",
      "34/34 [==============================] - 0s 9ms/step - loss: 2.3094 - accuracy: 0.0993 - val_loss: 2.3069 - val_accuracy: 0.0889\n",
      "Epoch 170/200\n",
      "34/34 [==============================] - 0s 9ms/step - loss: 2.3093 - accuracy: 0.0993 - val_loss: 2.3068 - val_accuracy: 0.0889\n",
      "Epoch 171/200\n",
      "34/34 [==============================] - 0s 10ms/step - loss: 2.3091 - accuracy: 0.0993 - val_loss: 2.3067 - val_accuracy: 0.0889\n",
      "Epoch 172/200\n",
      "34/34 [==============================] - 0s 9ms/step - loss: 2.3090 - accuracy: 0.0993 - val_loss: 2.3066 - val_accuracy: 0.0889\n",
      "Epoch 173/200\n",
      "34/34 [==============================] - 0s 9ms/step - loss: 2.3089 - accuracy: 0.0993 - val_loss: 2.3064 - val_accuracy: 0.0889\n",
      "Epoch 174/200\n",
      "34/34 [==============================] - 0s 9ms/step - loss: 2.3087 - accuracy: 0.0993 - val_loss: 2.3063 - val_accuracy: 0.0889\n",
      "Epoch 175/200\n",
      "34/34 [==============================] - 0s 9ms/step - loss: 2.3086 - accuracy: 0.0993 - val_loss: 2.3062 - val_accuracy: 0.0889\n",
      "Epoch 176/200\n",
      "34/34 [==============================] - 0s 9ms/step - loss: 2.3085 - accuracy: 0.0993 - val_loss: 2.3061 - val_accuracy: 0.0889\n",
      "Epoch 177/200\n",
      "34/34 [==============================] - 0s 9ms/step - loss: 2.3084 - accuracy: 0.0993 - val_loss: 2.3061 - val_accuracy: 0.0889\n",
      "Epoch 178/200\n",
      "34/34 [==============================] - 0s 9ms/step - loss: 2.3082 - accuracy: 0.0993 - val_loss: 2.3060 - val_accuracy: 0.0889\n",
      "Epoch 179/200\n",
      "34/34 [==============================] - 0s 9ms/step - loss: 2.3081 - accuracy: 0.0993 - val_loss: 2.3059 - val_accuracy: 0.0889\n",
      "Epoch 180/200\n",
      "34/34 [==============================] - 0s 9ms/step - loss: 2.3080 - accuracy: 0.0993 - val_loss: 2.3058 - val_accuracy: 0.0889\n",
      "Epoch 181/200\n",
      "34/34 [==============================] - 0s 9ms/step - loss: 2.3079 - accuracy: 0.0993 - val_loss: 2.3057 - val_accuracy: 0.0889\n",
      "Epoch 182/200\n",
      "34/34 [==============================] - 0s 9ms/step - loss: 2.3078 - accuracy: 0.0993 - val_loss: 2.3056 - val_accuracy: 0.0889\n",
      "Epoch 183/200\n",
      "34/34 [==============================] - 0s 9ms/step - loss: 2.3077 - accuracy: 0.0993 - val_loss: 2.3055 - val_accuracy: 0.0889\n",
      "Epoch 184/200\n",
      "34/34 [==============================] - 0s 9ms/step - loss: 2.3076 - accuracy: 0.0993 - val_loss: 2.3054 - val_accuracy: 0.0889\n",
      "Epoch 185/200\n",
      "34/34 [==============================] - 0s 9ms/step - loss: 2.3075 - accuracy: 0.0993 - val_loss: 2.3054 - val_accuracy: 0.0889\n",
      "Epoch 186/200\n",
      "34/34 [==============================] - 0s 9ms/step - loss: 2.3074 - accuracy: 0.0993 - val_loss: 2.3053 - val_accuracy: 0.0889\n",
      "Epoch 187/200\n",
      "34/34 [==============================] - 0s 9ms/step - loss: 2.3072 - accuracy: 0.0993 - val_loss: 2.3052 - val_accuracy: 0.0889\n",
      "Epoch 188/200\n",
      "34/34 [==============================] - 0s 9ms/step - loss: 2.3071 - accuracy: 0.0993 - val_loss: 2.3051 - val_accuracy: 0.0889\n",
      "Epoch 189/200\n",
      "34/34 [==============================] - 0s 9ms/step - loss: 2.3070 - accuracy: 0.0993 - val_loss: 2.3051 - val_accuracy: 0.0889\n",
      "Epoch 190/200\n",
      "34/34 [==============================] - 0s 9ms/step - loss: 2.3069 - accuracy: 0.0993 - val_loss: 2.3050 - val_accuracy: 0.0889\n",
      "Epoch 191/200\n",
      "34/34 [==============================] - 0s 9ms/step - loss: 2.3069 - accuracy: 0.0993 - val_loss: 2.3049 - val_accuracy: 0.0889\n",
      "Epoch 192/200\n",
      "34/34 [==============================] - 0s 9ms/step - loss: 2.3068 - accuracy: 0.0993 - val_loss: 2.3048 - val_accuracy: 0.0889\n",
      "Epoch 193/200\n",
      "34/34 [==============================] - 0s 9ms/step - loss: 2.3067 - accuracy: 0.0993 - val_loss: 2.3048 - val_accuracy: 0.0889\n",
      "Epoch 194/200\n",
      "34/34 [==============================] - 0s 9ms/step - loss: 2.3066 - accuracy: 0.0993 - val_loss: 2.3047 - val_accuracy: 0.0889\n",
      "Epoch 195/200\n",
      "34/34 [==============================] - 0s 9ms/step - loss: 2.3065 - accuracy: 0.0993 - val_loss: 2.3046 - val_accuracy: 0.0889\n",
      "Epoch 196/200\n",
      "34/34 [==============================] - 0s 9ms/step - loss: 2.3064 - accuracy: 0.0993 - val_loss: 2.3046 - val_accuracy: 0.0889\n",
      "Epoch 197/200\n",
      "34/34 [==============================] - 0s 9ms/step - loss: 2.3063 - accuracy: 0.0993 - val_loss: 2.3045 - val_accuracy: 0.0889\n",
      "Epoch 198/200\n",
      "34/34 [==============================] - 0s 9ms/step - loss: 2.3062 - accuracy: 0.0993 - val_loss: 2.3045 - val_accuracy: 0.0889\n",
      "Epoch 199/200\n",
      "34/34 [==============================] - 0s 9ms/step - loss: 2.3061 - accuracy: 0.0993 - val_loss: 2.3044 - val_accuracy: 0.0889\n",
      "Epoch 200/200\n",
      "34/34 [==============================] - 0s 9ms/step - loss: 2.3060 - accuracy: 0.0993 - val_loss: 2.3043 - val_accuracy: 0.0889\n"
     ]
    },
    {
     "data": {
      "text/plain": "<keras.src.callbacks.History at 0x17da6d2e0>"
     },
     "execution_count": 79,
     "metadata": {},
     "output_type": "execute_result"
    }
   ],
   "source": [
    "model.fit(x_train, y_train, validation_data = (x_val, y_val), epochs = 200, batch_size = 32, verbose = 1)"
   ],
   "metadata": {
    "collapsed": false,
    "ExecuteTime": {
     "end_time": "2023-09-21T21:06:14.986575Z",
     "start_time": "2023-09-21T21:05:10.807725Z"
    }
   }
  }
 ],
 "metadata": {
  "kernelspec": {
   "display_name": "Python 3",
   "language": "python",
   "name": "python3"
  },
  "language_info": {
   "codemirror_mode": {
    "name": "ipython",
    "version": 2
   },
   "file_extension": ".py",
   "mimetype": "text/x-python",
   "name": "python",
   "nbconvert_exporter": "python",
   "pygments_lexer": "ipython2",
   "version": "2.7.6"
  }
 },
 "nbformat": 4,
 "nbformat_minor": 0
}
