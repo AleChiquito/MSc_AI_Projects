{
 "cells": [
  {
   "cell_type": "code",
   "execution_count": 1,
   "outputs": [
    {
     "name": "stdout",
     "output_type": "stream",
     "text": [
      "zsh:1: command not found: lscpu\r\n",
      "zsh:1: command not found: lscpu\r\n",
      "zsh:1: command not found: lscpu\r\n"
     ]
    }
   ],
   "source": [
    "!lscpu | grep 'Model name'\n",
    "!lscpu | grep 'Core(s) per socket:'\n",
    "!lscpu | grep 'Thread(s) per core'"
   ],
   "metadata": {
    "collapsed": false,
    "ExecuteTime": {
     "end_time": "2023-08-08T19:55:47.303516Z",
     "start_time": "2023-08-08T19:55:46.600273Z"
    }
   }
  },
  {
   "cell_type": "code",
   "execution_count": 3,
   "outputs": [
    {
     "name": "stdout",
     "output_type": "stream",
     "text": [
      "Ejecutando con GPU...\n",
      "\n",
      "zsh:1: command not found: nvidia-smi\n"
     ]
    }
   ],
   "source": [
    "gpu_info = !nvidia-smi -L\n",
    "gpu_info = '\\n'.join(gpu_info)\n",
    "if gpu_info.find('failed') == -1:\n",
    "  print('Ejecutando con GPU...\\n')\n",
    "  print(gpu_info)\n",
    "else:\n",
    "  print('Ejecutando sin GPU, cambia el tipo de entorno de ejecución si deseas activar la GPU...')"
   ],
   "metadata": {
    "collapsed": false,
    "ExecuteTime": {
     "end_time": "2023-08-08T19:59:20.042525Z",
     "start_time": "2023-08-08T19:59:20.016219Z"
    }
   }
  },
  {
   "cell_type": "code",
   "execution_count": 4,
   "outputs": [
    {
     "name": "stdout",
     "output_type": "stream",
     "text": [
      "8.6 GB de RAM disponibles\n",
      "\n"
     ]
    }
   ],
   "source": [
    "from psutil import virtual_memory\n",
    "ram_gb = virtual_memory().total / 1e9\n",
    "print('{:.1f} GB de RAM disponibles\\n'.format(ram_gb))"
   ],
   "metadata": {
    "collapsed": false,
    "ExecuteTime": {
     "end_time": "2023-08-08T20:04:13.610422Z",
     "start_time": "2023-08-08T20:04:13.604147Z"
    }
   }
  },
  {
   "cell_type": "code",
   "execution_count": null,
   "outputs": [],
   "source": [],
   "metadata": {
    "collapsed": false
   }
  }
 ],
 "metadata": {
  "kernelspec": {
   "display_name": "Python 3",
   "language": "python",
   "name": "python3"
  },
  "language_info": {
   "codemirror_mode": {
    "name": "ipython",
    "version": 2
   },
   "file_extension": ".py",
   "mimetype": "text/x-python",
   "name": "python",
   "nbconvert_exporter": "python",
   "pygments_lexer": "ipython2",
   "version": "2.7.6"
  }
 },
 "nbformat": 4,
 "nbformat_minor": 0
}
