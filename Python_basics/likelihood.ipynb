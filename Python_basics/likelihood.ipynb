{
 "cells": [
  {
   "cell_type": "code",
   "execution_count": 1,
   "metadata": {},
   "outputs": [],
   "source": [
    "import numpy as np"
   ]
  },
  {
   "cell_type": "code",
   "execution_count": 2,
   "metadata": {},
   "outputs": [
    {
     "name": "stdout",
     "output_type": "stream",
     "text": [
      "Valor real de lambda: 0.5\n",
      "Estimador de máxima verosimilitud para lambda: 0.49545651533395113\n"
     ]
    }
   ],
   "source": [
    "# Establecer el parámetro lambda\n",
    "lambda_param = 0.5\n",
    "\n",
    "# Generar 10,000 puntos distribuidos exponencialmente\n",
    "datos_exponenciales = np.random.exponential(scale=1/lambda_param, size=10000)\n",
    "\n",
    "\n",
    "# Estimador de máxima verosimilitud para lambda\n",
    "lambda_estimado = 1 / np.mean(datos_exponenciales)\n",
    "\n",
    "print(f\"Valor real de lambda: {lambda_param}\")\n",
    "print(f\"Estimador de máxima verosimilitud para lambda: {lambda_estimado}\")"
   ]
  },
  {
   "cell_type": "code",
   "execution_count": 3,
   "metadata": {},
   "outputs": [],
   "source": [
    "# Fijar la semilla para reproducibilidad\n",
    "np.random.seed(42)\n",
    "\n",
    "# Generar una muestra de datos normalmente distribuidos\n",
    "muestra = np.random.normal(loc=3, scale=2, size=100)\n"
   ]
  },
  {
   "cell_type": "code",
   "execution_count": 4,
   "metadata": {},
   "outputs": [
    {
     "name": "stdout",
     "output_type": "stream",
     "text": [
      "Parámetro estimado para la media (mu): 2.7923067730618194\n",
      "Parámetro estimado para la desviación estándar (sigma): 1.8072323948687297\n"
     ]
    }
   ],
   "source": [
    "from scipy.optimize import minimize\n",
    "\n",
    "# Definir la función de log-verosimilitud\n",
    "def log_likelihood(params, data):\n",
    "    mu, sigma = params\n",
    "    n = len(data)\n",
    "    log_likelihood = -n/2 * np.log(2*np.pi*sigma**2) - np.sum((data - mu)**2) / (2*sigma**2)\n",
    "    return -log_likelihood  # Se agrega el signo negativo ya que minimize busca el mínimo, no el máximo\n",
    "\n",
    "# Estimación de máxima verosimilitud\n",
    "inicial_guess = [0, 1]  # Valores iniciales para mu y sigma\n",
    "resultado = minimize(log_likelihood, inicial_guess, args=(muestra,))\n",
    "mu_estimado, sigma_estimado = resultado.x\n",
    "\n",
    "print(f\"Parámetro estimado para la media (mu): {mu_estimado}\")\n",
    "print(f\"Parámetro estimado para la desviación estándar (sigma): {sigma_estimado}\")\n"
   ]
  }
 ],
 "metadata": {
  "kernelspec": {
   "display_name": "base",
   "language": "python",
   "name": "python3"
  },
  "language_info": {
   "codemirror_mode": {
    "name": "ipython",
    "version": 3
   },
   "file_extension": ".py",
   "mimetype": "text/x-python",
   "name": "python",
   "nbconvert_exporter": "python",
   "pygments_lexer": "ipython3",
   "version": "3.10.9"
  }
 },
 "nbformat": 4,
 "nbformat_minor": 2
}
