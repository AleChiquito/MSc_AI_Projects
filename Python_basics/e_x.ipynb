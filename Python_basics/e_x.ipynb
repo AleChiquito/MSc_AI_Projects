{
  "cells": [
    {
      "cell_type": "code",
      "execution_count": 1,
      "metadata": {
        "id": "hlxiQgzJ74SF"
      },
      "outputs": [],
      "source": [
        "import math\n",
        "\n",
        "def factorial(lim, x):\n",
        "  resultado = 0\n",
        "  for i in range(0,lim):\n",
        "    resultado += ((x**i)/(math.factorial(i)))\n",
        "  return resultado"
      ]
    },
    {
      "cell_type": "code",
      "execution_count": 2,
      "metadata": {
        "colab": {
          "base_uri": "https://localhost:8080/"
        },
        "id": "NuQuFPvj78Uy",
        "outputId": "75d76a32-b1b0-41f8-efe9-2cdbc5c9fdd2"
      },
      "outputs": [
        {
          "name": "stdout",
          "output_type": "stream",
          "text": [
            "7.3887125220458545\n"
          ]
        }
      ],
      "source": [
        "lim = int(input(\"Ingresa el número límite de la serie: \"))\n",
        "x = float(input(\"Ingresa el valor de x: \"))\n",
        "\n",
        "print(factorial(lim, x))"
      ]
    }
  ],
  "metadata": {
    "colab": {
      "provenance": []
    },
    "kernelspec": {
      "display_name": "Python 3",
      "name": "python3"
    },
    "language_info": {
      "codemirror_mode": {
        "name": "ipython",
        "version": 3
      },
      "file_extension": ".py",
      "mimetype": "text/x-python",
      "name": "python",
      "nbconvert_exporter": "python",
      "pygments_lexer": "ipython3",
      "version": "3.10.9"
    }
  },
  "nbformat": 4,
  "nbformat_minor": 0
}
