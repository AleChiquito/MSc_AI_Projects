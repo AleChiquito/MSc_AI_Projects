{
 "cells": [
  {
   "cell_type": "code",
   "execution_count": 1,
   "metadata": {},
   "outputs": [],
   "source": [
    "def suma(a, b):\n",
    "    return a + b\n",
    "\n",
    "def resta(a, b):\n",
    "    return a - b\n",
    "\n",
    "def multiplicacion(a, b):\n",
    "    return a * b\n",
    "\n",
    "def division(a, b):\n",
    "    if b != 0:\n",
    "        return a / b\n",
    "    else:\n",
    "        return \"Error: No se puede dividir por cero.\""
   ]
  },
  {
   "cell_type": "code",
   "execution_count": 2,
   "metadata": {},
   "outputs": [
    {
     "name": "stdout",
     "output_type": "stream",
     "text": [
      "\n",
      "Calculadora Simple\n",
      "1. Suma\n",
      "2. Resta\n",
      "3. Multiplicación\n",
      "4. División\n",
      "5. Salir\n",
      "Resultado: -1.0\n",
      "\n",
      "Calculadora Simple\n",
      "1. Suma\n",
      "2. Resta\n",
      "3. Multiplicación\n",
      "4. División\n",
      "5. Salir\n",
      "Resultado: 0.75\n",
      "\n",
      "Calculadora Simple\n",
      "1. Suma\n",
      "2. Resta\n",
      "3. Multiplicación\n",
      "4. División\n",
      "5. Salir\n",
      "Saliendo de la calculadora.\n"
     ]
    }
   ],
   "source": [
    "# Función principal\n",
    "def calculadora():\n",
    "    while True:\n",
    "        print(\"\\nCalculadora Simple\")\n",
    "        print(\"1. Suma\")\n",
    "        print(\"2. Resta\")\n",
    "        print(\"3. Multiplicación\")\n",
    "        print(\"4. División\")\n",
    "        print(\"5. Salir\")\n",
    "\n",
    "        opcion = input(\"Seleccione una operación (1/2/3/4/5): \")\n",
    "\n",
    "        if opcion == '5':\n",
    "            print(\"Saliendo de la calculadora.\")\n",
    "            break\n",
    "\n",
    "        try:\n",
    "            num1 = float(input(\"Ingrese el primer número: \"))\n",
    "            num2 = float(input(\"Ingrese el segundo número: \"))\n",
    "        except ValueError:\n",
    "            print(\"Error: Ingrese números válidos.\")\n",
    "            continue\n",
    "\n",
    "        if opcion == '1':\n",
    "            print(f\"Resultado: {suma(num1, num2)}\")\n",
    "        elif opcion == '2':\n",
    "            print(f\"Resultado: {resta(num1, num2)}\")\n",
    "        elif opcion == '3':\n",
    "            print(f\"Resultado: {multiplicacion(num1, num2)}\")\n",
    "        elif opcion == '4':\n",
    "            print(f\"Resultado: {division(num1, num2)}\")\n",
    "        else:\n",
    "            print(\"Opción no válida. Por favor, seleccione una opción válida.\")\n",
    "\n",
    "if __name__ == \"__main__\":\n",
    "    calculadora()\n"
   ]
  }
 ],
 "metadata": {
  "kernelspec": {
   "display_name": "base",
   "language": "python",
   "name": "python3"
  },
  "language_info": {
   "codemirror_mode": {
    "name": "ipython",
    "version": 3
   },
   "file_extension": ".py",
   "mimetype": "text/x-python",
   "name": "python",
   "nbconvert_exporter": "python",
   "pygments_lexer": "ipython3",
   "version": "3.10.9"
  }
 },
 "nbformat": 4,
 "nbformat_minor": 2
}
