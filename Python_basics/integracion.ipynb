{
 "cells": [
  {
   "cell_type": "markdown",
   "metadata": {},
   "source": [
    "## Integración con método Monte Carlo"
   ]
  },
  {
   "cell_type": "code",
   "execution_count": 1,
   "metadata": {},
   "outputs": [],
   "source": [
    "import numpy as np\n",
    "import math\n",
    "import matplotlib.pyplot as plt\n",
    "from sympy import *\n",
    "from scipy.integrate import quad"
   ]
  },
  {
   "cell_type": "code",
   "execution_count": 2,
   "metadata": {},
   "outputs": [],
   "source": [
    "\n",
    "# Definir la función que quieres integrar\n",
    "def funcion_a_integrar(x):\n",
    "    return x * (math.sin( (x**2) + 5) ** 2)\n"
   ]
  },
  {
   "cell_type": "code",
   "execution_count": 3,
   "metadata": {},
   "outputs": [
    {
     "ename": "TypeError",
     "evalue": "only size-1 arrays can be converted to Python scalars",
     "output_type": "error",
     "traceback": [
      "\u001b[0;31m---------------------------------------------------------------------------\u001b[0m",
      "\u001b[0;31mTypeError\u001b[0m                                 Traceback (most recent call last)",
      "\u001b[1;32m/Users/alechiquito/Documents/GitHub/portafolio/Python_basics/integracion.ipynb Cell 4\u001b[0m line \u001b[0;36m1\n\u001b[1;32m      <a href='vscode-notebook-cell:/Users/alechiquito/Documents/GitHub/portafolio/Python_basics/integracion.ipynb#W3sZmlsZQ%3D%3D?line=7'>8</a>\u001b[0m y_aleatorio \u001b[39m=\u001b[39m np\u001b[39m.\u001b[39mrandom\u001b[39m.\u001b[39muniform(\u001b[39m0\u001b[39m, funcion_a_integrar(b), n_puntos)\n\u001b[1;32m     <a href='vscode-notebook-cell:/Users/alechiquito/Documents/GitHub/portafolio/Python_basics/integracion.ipynb#W3sZmlsZQ%3D%3D?line=9'>10</a>\u001b[0m \u001b[39m# Contar cuántos puntos están debajo de la curva\u001b[39;00m\n\u001b[0;32m---> <a href='vscode-notebook-cell:/Users/alechiquito/Documents/GitHub/portafolio/Python_basics/integracion.ipynb#W3sZmlsZQ%3D%3D?line=10'>11</a>\u001b[0m puntos_bajo_curva \u001b[39m=\u001b[39m \u001b[39msum\u001b[39m(y_aleatorio \u001b[39m<\u001b[39m\u001b[39m=\u001b[39m funcion_a_integrar(x_aleatorio))\n\u001b[1;32m     <a href='vscode-notebook-cell:/Users/alechiquito/Documents/GitHub/portafolio/Python_basics/integracion.ipynb#W3sZmlsZQ%3D%3D?line=12'>13</a>\u001b[0m \u001b[39m# Calcular el área estimada bajo la curva\u001b[39;00m\n\u001b[1;32m     <a href='vscode-notebook-cell:/Users/alechiquito/Documents/GitHub/portafolio/Python_basics/integracion.ipynb#W3sZmlsZQ%3D%3D?line=13'>14</a>\u001b[0m area_estimada \u001b[39m=\u001b[39m (puntos_bajo_curva \u001b[39m/\u001b[39m n_puntos) \u001b[39m*\u001b[39m (b \u001b[39m-\u001b[39m a) \u001b[39m*\u001b[39m funcion_a_integrar(b)\n",
      "\u001b[1;32m/Users/alechiquito/Documents/GitHub/portafolio/Python_basics/integracion.ipynb Cell 4\u001b[0m line \u001b[0;36m3\n\u001b[1;32m      <a href='vscode-notebook-cell:/Users/alechiquito/Documents/GitHub/portafolio/Python_basics/integracion.ipynb#W3sZmlsZQ%3D%3D?line=1'>2</a>\u001b[0m \u001b[39mdef\u001b[39;00m \u001b[39mfuncion_a_integrar\u001b[39m(x):\n\u001b[0;32m----> <a href='vscode-notebook-cell:/Users/alechiquito/Documents/GitHub/portafolio/Python_basics/integracion.ipynb#W3sZmlsZQ%3D%3D?line=2'>3</a>\u001b[0m     \u001b[39mreturn\u001b[39;00m x \u001b[39m*\u001b[39m (math\u001b[39m.\u001b[39;49msin( (x\u001b[39m*\u001b[39;49m\u001b[39m*\u001b[39;49m\u001b[39m2\u001b[39;49m) \u001b[39m+\u001b[39;49m \u001b[39m5\u001b[39;49m) \u001b[39m*\u001b[39m\u001b[39m*\u001b[39m \u001b[39m2\u001b[39m)\n",
      "\u001b[0;31mTypeError\u001b[0m: only size-1 arrays can be converted to Python scalars"
     ]
    }
   ],
   "source": [
    "# Definir los límites de integración\n",
    "a = 0\n",
    "b = 2\n",
    "n_puntos = 10000  # Número de puntos generados aleatoriamente\n",
    "\n",
    "# Generar puntos aleatorios (x, y) dentro del rectángulo de integración\n",
    "x_aleatorio = np.random.uniform(a, b, n_puntos)\n",
    "y_aleatorio = np.random.uniform(0, funcion_a_integrar(b), n_puntos)\n",
    "\n",
    "# Contar cuántos puntos están debajo de la curva\n",
    "puntos_bajo_curva = sum(y_aleatorio <= funcion_a_integrar(x_aleatorio))\n",
    "\n",
    "# Calcular el área estimada bajo la curva\n",
    "area_estimada = (puntos_bajo_curva / n_puntos) * (b - a) * funcion_a_integrar(b)\n",
    "\n",
    "print(f\"Área estimada bajo la curva: {area_estimada}\")\n",
    "\n",
    "# Graficar la función y los puntos generados aleatoriamente\n",
    "x_vals = np.linspace(a, b, 100)\n",
    "y_vals = funcion_a_integrar(x_vals)\n",
    "\n",
    "plt.plot(x_vals, y_vals, label='Función a integrar')\n",
    "plt.scatter(x_aleatorio, y_aleatorio, color='red', alpha=0.2, label='Puntos aleatorios')\n",
    "plt.title('Integral de la función con Método Monte Carlo')\n",
    "plt.xlabel('x')\n",
    "plt.ylabel('y')\n",
    "plt.legend()\n",
    "plt.show()\n",
    "\n"
   ]
  }
 ],
 "metadata": {
  "kernelspec": {
   "display_name": "base",
   "language": "python",
   "name": "python3"
  },
  "language_info": {
   "codemirror_mode": {
    "name": "ipython",
    "version": 3
   },
   "file_extension": ".py",
   "mimetype": "text/x-python",
   "name": "python",
   "nbconvert_exporter": "python",
   "pygments_lexer": "ipython3",
   "version": "3.10.9"
  }
 },
 "nbformat": 4,
 "nbformat_minor": 2
}
