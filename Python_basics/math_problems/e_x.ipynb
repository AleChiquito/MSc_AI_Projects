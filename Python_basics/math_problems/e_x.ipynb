{
  "nbformat": 4,
  "nbformat_minor": 0,
  "metadata": {
    "colab": {
      "provenance": []
    },
    "kernelspec": {
      "name": "python3",
      "display_name": "Python 3"
    },
    "language_info": {
      "name": "python"
    }
  },
  "cells": [
    {
      "cell_type": "code",
      "execution_count": null,
      "metadata": {
        "id": "hlxiQgzJ74SF"
      },
      "outputs": [],
      "source": [
        "import math\n",
        "\n",
        "def factorial(lim, x):\n",
        "  resultado = 0\n",
        "  for i in range(0,lim):\n",
        "    resultado += ((x**i)/(math.factorial(i)))\n",
        "  return resultado"
      ]
    },
    {
      "cell_type": "code",
      "source": [
        "lim = int(input(\"Ingresa el número límite de la serie: \"))\n",
        "x = float(input(\"Ingresa el valor de x: \"))\n",
        "\n",
        "print(factorial(lim, x))"
      ],
      "metadata": {
        "id": "NuQuFPvj78Uy",
        "colab": {
          "base_uri": "https://localhost:8080/"
        },
        "outputId": "75d76a32-b1b0-41f8-efe9-2cdbc5c9fdd2"
      },
      "execution_count": null,
      "outputs": [
        {
          "name": "stdout",
          "output_type": "stream",
          "text": [
            "Ingresa el número límite de la serie: 20\n"
          ]
        }
      ]
    }
  ]
}