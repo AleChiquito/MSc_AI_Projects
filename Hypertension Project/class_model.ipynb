{
 "cells": [
  {
   "cell_type": "code",
   "execution_count": 1,
   "metadata": {},
   "outputs": [],
   "source": [
    "import pandas as pd\n",
    "import numpy as np\n",
    "import os\n",
    "import imageio\n",
    "import cv2\n",
    "import pydicom\n",
    "import matplotlib.pyplot as plt\n",
    "from skimage.io import imread\n",
    "from PIL import *\n",
    "from pathlib import Path"
   ]
  },
  {
   "cell_type": "code",
   "execution_count": 2,
   "metadata": {},
   "outputs": [],
   "source": [
    "#Path to the images\n",
    "main_path = '/Volumes/Alekei/Ale/UAQ/Tesis/new_osicdb_ready/'"
   ]
  },
  {
   "cell_type": "code",
   "execution_count": 3,
   "metadata": {},
   "outputs": [
    {
     "name": "stdout",
     "output_type": "stream",
     "text": [
      "60\n",
      "30\n"
     ]
    },
    {
     "data": {
      "text/plain": [
       "['ID00078637202199415319443',\n",
       " 'ID00202637202249376026949',\n",
       " 'ID00173637202238329754031',\n",
       " 'ID00180637202240177410333',\n",
       " 'ID00035637202182204917484',\n",
       " 'ID00317637202283194142136',\n",
       " 'ID00108637202209619669361',\n",
       " 'ID00104637202208063407045',\n",
       " 'ID00042637202184406822975',\n",
       " 'ID00020637202178344345685',\n",
       " 'ID00291637202279398396106',\n",
       " 'ID00393637202302431697467',\n",
       " 'ID00422637202311677017371',\n",
       " 'ID00309637202282195513787',\n",
       " 'ID00221637202258717315571',\n",
       " 'ID00134637202223873059688',\n",
       " 'ID00030637202181211009029',\n",
       " 'ID00388637202301028491611',\n",
       " 'ID00381637202299644114027',\n",
       " 'ID00312637202282607344793',\n",
       " 'ID00426637202313170790466',\n",
       " 'ID00186637202242472088675',\n",
       " 'ID00132637202222178761324',\n",
       " 'ID00233637202260580149633',\n",
       " 'ID00136637202224951350618',\n",
       " 'ID00124637202217596410344',\n",
       " 'ID00376637202297677828573',\n",
       " 'ID00009637202177434476278',\n",
       " 'ID00219637202258203123958',\n",
       " 'ID00371637202296828615743']"
      ]
     },
     "execution_count": 3,
     "metadata": {},
     "output_type": "execute_result"
    }
   ],
   "source": [
    "#Create a list with the patient ids folders\n",
    "patient_folders = os.listdir(main_path)\n",
    "\n",
    "#Remove the folder created automatically by macOS\n",
    "#patient_folders.remove('.DS_Store')\n",
    "\n",
    "#Printing the number of folder ids found\n",
    "print(len(patient_folders))\n",
    "\n",
    "for patient_folder in patient_folders:\n",
    "    if patient_folder.startswith('._'):\n",
    "        patient_folders.remove(patient_folder)\n",
    "        \n",
    "print(len(patient_folders))\n",
    "patient_folders"
   ]
  },
  {
   "cell_type": "code",
   "execution_count": 4,
   "metadata": {},
   "outputs": [
    {
     "name": "stdout",
     "output_type": "stream",
     "text": [
      "14591\n",
      "/Volumes/Alekei/Ale/UAQ/Tesis/new_osicdb_ready/ID00078637202199415319443/842.png\n"
     ]
    }
   ],
   "source": [
    "#Get the array of every image and add it to a list\n",
    "path_images = []\n",
    "\n",
    "for patient in patient_folders:\n",
    "    if patient.startswith('._'):\n",
    "        pass\n",
    "    else:\n",
    "        temp_path = main_path+patient+'/'\n",
    "        images = os.listdir(main_path+patient)\n",
    "        for image in images:\n",
    "            if image.startswith('._'):\n",
    "                pass\n",
    "            else:\n",
    "                temp_path_image = temp_path + image\n",
    "                path_images.append(temp_path_image)\n",
    "\n",
    "print(len(path_images))\n",
    "print(path_images[0])"
   ]
  },
  {
   "cell_type": "code",
   "execution_count": 5,
   "metadata": {},
   "outputs": [],
   "source": [
    "def load_images(path_images):\n",
    "    tmp = []\n",
    "    for path in path_images:\n",
    "        tmp.append(imread(path))\n",
    "    return tmp"
   ]
  },
  {
   "cell_type": "code",
   "execution_count": 6,
   "metadata": {},
   "outputs": [],
   "source": [
    "images = load_images(path_images)"
   ]
  },
  {
   "cell_type": "code",
   "execution_count": 7,
   "metadata": {},
   "outputs": [
    {
     "name": "stdout",
     "output_type": "stream",
     "text": [
      "<class 'numpy.ndarray'>\n",
      "(224, 224, 4)\n",
      "<class 'list'>\n",
      "<class 'numpy.ndarray'> (14591, 224, 224, 4)\n"
     ]
    }
   ],
   "source": [
    "#Print the result of loading the images\n",
    "print(type(images[0]))\n",
    "print(images[0].shape)\n",
    "#images[0]\n",
    "\n",
    "#Convert from list to numpy array\n",
    "print(type(images))\n",
    "images = np.array(images)\n",
    "print(type(images), images.shape)"
   ]
  },
  {
   "cell_type": "code",
   "execution_count": 8,
   "metadata": {},
   "outputs": [],
   "source": [
    "import tensorflow as tf\n",
    "from tensorflow.keras import layers, models\n",
    "from sklearn.cluster import KMeans\n",
    "from sklearn.model_selection import train_test_split"
   ]
  },
  {
   "cell_type": "code",
   "execution_count": 9,
   "metadata": {},
   "outputs": [
    {
     "name": "stdout",
     "output_type": "stream",
     "text": [
      "(11672, 224, 224, 4) (2919, 224, 224, 4)\n"
     ]
    }
   ],
   "source": [
    "X_train, X_test = train_test_split(images, test_size=0.2, random_state=1)\n",
    "print(X_train.shape, X_test.shape)"
   ]
  },
  {
   "cell_type": "code",
   "execution_count": 11,
   "metadata": {},
   "outputs": [
    {
     "name": "stderr",
     "output_type": "stream",
     "text": [
      "2024-08-25 13:21:55.812164: I metal_plugin/src/device/metal_device.cc:1154] Metal device set to: Apple M2\n",
      "2024-08-25 13:21:55.812315: I metal_plugin/src/device/metal_device.cc:296] systemMemory: 8.00 GB\n",
      "2024-08-25 13:21:55.812328: I metal_plugin/src/device/metal_device.cc:313] maxCacheSize: 2.67 GB\n",
      "2024-08-25 13:21:55.813389: I tensorflow/core/common_runtime/pluggable_device/pluggable_device_factory.cc:303] Could not identify NUMA node of platform GPU ID 0, defaulting to 0. Your kernel may not have been built with NUMA support.\n",
      "2024-08-25 13:21:55.814152: I tensorflow/core/common_runtime/pluggable_device/pluggable_device_factory.cc:269] Created TensorFlow device (/job:localhost/replica:0/task:0/device:GPU:0 with 0 MB memory) -> physical PluggableDevice (device: 0, name: METAL, pci bus id: <undefined>)\n"
     ]
    }
   ],
   "source": [
    "# Load a pre-trained model (ResNet50)\n",
    "base_model = tf.keras.applications.ResNet50(weights='imagenet', include_top=False, pooling='avg')"
   ]
  },
  {
   "cell_type": "code",
   "execution_count": 12,
   "metadata": {},
   "outputs": [],
   "source": [
    "X_train = tf.keras.applications.resnet50.preprocess_input(X_train)\n",
    "X_test = tf.keras.applications.resnet50.preprocess_input(X_test)"
   ]
  },
  {
   "cell_type": "code",
   "execution_count": 13,
   "metadata": {},
   "outputs": [
    {
     "ename": "InternalError",
     "evalue": "Failed copying input tensor from /job:localhost/replica:0/task:0/device:CPU:0 to /job:localhost/replica:0/task:0/device:GPU:0 in order to run _EagerConst: Dst tensor is not initialized.",
     "output_type": "error",
     "traceback": [
      "\u001b[0;31m---------------------------------------------------------------------------\u001b[0m",
      "\u001b[0;31mInternalError\u001b[0m                             Traceback (most recent call last)",
      "Cell \u001b[0;32mIn[13], line 1\u001b[0m\n\u001b[0;32m----> 1\u001b[0m train_features \u001b[38;5;241m=\u001b[39m \u001b[43mbase_model\u001b[49m\u001b[38;5;241;43m.\u001b[39;49m\u001b[43mpredict\u001b[49m\u001b[43m(\u001b[49m\u001b[43mX_train\u001b[49m\u001b[43m,\u001b[49m\u001b[43m \u001b[49m\u001b[43mbatch_size\u001b[49m\u001b[38;5;241;43m=\u001b[39;49m\u001b[38;5;241;43m8\u001b[39;49m\u001b[43m,\u001b[49m\u001b[43m \u001b[49m\u001b[43mverbose\u001b[49m\u001b[38;5;241;43m=\u001b[39;49m\u001b[38;5;241;43m1\u001b[39;49m\u001b[43m)\u001b[49m\n\u001b[1;32m      2\u001b[0m test_features \u001b[38;5;241m=\u001b[39m base_model\u001b[38;5;241m.\u001b[39mpredict(X_test, batch_size\u001b[38;5;241m=\u001b[39m\u001b[38;5;241m8\u001b[39m)\n",
      "File \u001b[0;32m~/anaconda3/envs/tensorflow_1_1/lib/python3.8/site-packages/keras/src/utils/traceback_utils.py:70\u001b[0m, in \u001b[0;36mfilter_traceback.<locals>.error_handler\u001b[0;34m(*args, **kwargs)\u001b[0m\n\u001b[1;32m     67\u001b[0m     filtered_tb \u001b[38;5;241m=\u001b[39m _process_traceback_frames(e\u001b[38;5;241m.\u001b[39m__traceback__)\n\u001b[1;32m     68\u001b[0m     \u001b[38;5;66;03m# To get the full stack trace, call:\u001b[39;00m\n\u001b[1;32m     69\u001b[0m     \u001b[38;5;66;03m# `tf.debugging.disable_traceback_filtering()`\u001b[39;00m\n\u001b[0;32m---> 70\u001b[0m     \u001b[38;5;28;01mraise\u001b[39;00m e\u001b[38;5;241m.\u001b[39mwith_traceback(filtered_tb) \u001b[38;5;28;01mfrom\u001b[39;00m \u001b[38;5;28;01mNone\u001b[39;00m\n\u001b[1;32m     71\u001b[0m \u001b[38;5;28;01mfinally\u001b[39;00m:\n\u001b[1;32m     72\u001b[0m     \u001b[38;5;28;01mdel\u001b[39;00m filtered_tb\n",
      "File \u001b[0;32m~/anaconda3/envs/tensorflow_1_1/lib/python3.8/site-packages/tensorflow/python/framework/constant_op.py:98\u001b[0m, in \u001b[0;36mconvert_to_eager_tensor\u001b[0;34m(value, ctx, dtype)\u001b[0m\n\u001b[1;32m     96\u001b[0m     dtype \u001b[38;5;241m=\u001b[39m dtypes\u001b[38;5;241m.\u001b[39mas_dtype(dtype)\u001b[38;5;241m.\u001b[39mas_datatype_enum\n\u001b[1;32m     97\u001b[0m ctx\u001b[38;5;241m.\u001b[39mensure_initialized()\n\u001b[0;32m---> 98\u001b[0m \u001b[38;5;28;01mreturn\u001b[39;00m \u001b[43mops\u001b[49m\u001b[38;5;241;43m.\u001b[39;49m\u001b[43mEagerTensor\u001b[49m\u001b[43m(\u001b[49m\u001b[43mvalue\u001b[49m\u001b[43m,\u001b[49m\u001b[43m \u001b[49m\u001b[43mctx\u001b[49m\u001b[38;5;241;43m.\u001b[39;49m\u001b[43mdevice_name\u001b[49m\u001b[43m,\u001b[49m\u001b[43m \u001b[49m\u001b[43mdtype\u001b[49m\u001b[43m)\u001b[49m\n",
      "\u001b[0;31mInternalError\u001b[0m: Failed copying input tensor from /job:localhost/replica:0/task:0/device:CPU:0 to /job:localhost/replica:0/task:0/device:GPU:0 in order to run _EagerConst: Dst tensor is not initialized."
     ]
    }
   ],
   "source": [
    "train_features = base_model.predict(X_train, batch_size=8, verbose=1)\n",
    "test_features = base_model.predict(X_test, batch_size=8)"
   ]
  },
  {
   "cell_type": "code",
   "execution_count": null,
   "metadata": {},
   "outputs": [],
   "source": [
    "# Apply K-means clustering\n",
    "k = 4\n",
    "\n",
    "kmeans = KMeans(n_clusters=k, random_state=42)\n",
    "kmeans.fit(train_features)\n",
    "cluster_labels = kmeans.predict(test_features)"
   ]
  }
 ],
 "metadata": {
  "kernelspec": {
   "display_name": "tensorflow_1_1",
   "language": "python",
   "name": "python3"
  },
  "language_info": {
   "codemirror_mode": {
    "name": "ipython",
    "version": 3
   },
   "file_extension": ".py",
   "mimetype": "text/x-python",
   "name": "python",
   "nbconvert_exporter": "python",
   "pygments_lexer": "ipython3",
   "version": "3.8.16"
  }
 },
 "nbformat": 4,
 "nbformat_minor": 2
}
