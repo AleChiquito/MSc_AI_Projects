{
 "cells": [
  {
   "cell_type": "code",
   "execution_count": null,
   "metadata": {},
   "outputs": [],
   "source": [
    "import imageio\n",
    "im = imageio.imread(\"1.dcm\")\n",
    "info = im.meta\n",
    "info\n",
    "\n",
    "import pydicom\n",
    "import matplotlib.pyplot as plt\n",
    " \n",
    "ds = pydicom.dcmread('1.dcm') # read dicom image\n",
    "print(ds.PatientName)\n",
    "image = ds.pixel_array # get image array\n",
    "plt.imshow(image, cmap=plt.cm.bone) # plot image using matplotlib"
   ]
  }
 ],
 "metadata": {
  "language_info": {
   "name": "python"
  },
  "orig_nbformat": 4
 },
 "nbformat": 4,
 "nbformat_minor": 2
}
