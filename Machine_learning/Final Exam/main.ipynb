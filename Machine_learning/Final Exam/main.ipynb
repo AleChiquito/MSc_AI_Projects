{
 "cells": [
  {
   "cell_type": "markdown",
   "metadata": {},
   "source": [
    "# Prices Predictions"
   ]
  },
  {
   "cell_type": "code",
   "execution_count": 1,
   "metadata": {},
   "outputs": [],
   "source": [
    "#Libraries and tools\n",
    "import pandas as pd\n",
    "import numpy as np\n",
    "import re\n",
    "import openpyxl\n",
    "\n",
    "\n",
    "pd.set_option('display.max_columns', None)"
   ]
  },
  {
   "cell_type": "code",
   "execution_count": 2,
   "metadata": {},
   "outputs": [],
   "source": [
    "#Define the file name and create dict to store the data from the tabs\n",
    "file = 'DMN Report 29.xlsx'"
   ]
  },
  {
   "cell_type": "code",
   "execution_count": 3,
   "metadata": {},
   "outputs": [
    {
     "data": {
      "text/plain": [
       "dict_keys(['2023', '2022', '2021', '2020', '2019', '2018', '2017', '2016', '2015', '2014', '2013', '2012', '2010 - 2011', '2009', '2008', '2007', '2006', '2005', '2004', '2003', '2002', '2001', '2000', '1999', '1998', '1997', '1996'])"
      ]
     },
     "execution_count": 3,
     "metadata": {},
     "output_type": "execute_result"
    }
   ],
   "source": [
    "#Reading the excel file. It is saved in a dictionary by default.\n",
    "data = pd.read_excel(file, sheet_name=None)\n",
    "#columns = ['WEEK', 'LACTOSE', 'CENTRAL', 'WEST', 'N EAST',\t'Whey Avg',\t'Whey Avg']\n",
    "#columns = ['WEEK', 'LACTOSE', 'CENTRAL', 'WEST', 'N EAST',\t'Whey Avg',\t'Whey Avg']\n",
    "columns = ['WEEK', 'LACTOSE', 'CENTRAL']\n",
    "\n",
    "#Get the names of the tabs in the excel file\n",
    "sheet_names = data.keys()\n",
    "sheet_names"
   ]
  },
  {
   "cell_type": "code",
   "execution_count": 4,
   "metadata": {},
   "outputs": [],
   "source": [
    "# Creating the preprocessing function to clean the data.\n",
    "def preprocessing(df_temp):\n",
    "\n",
    "    #Select the columns of week and lactose\n",
    "    df_temp = df_temp.iloc[4:,0:3]\n",
    "    df_temp.columns = columns\n",
    "    \n",
    "    #Deleting the Avg row\n",
    "    df_temp = df_temp[df_temp['WEEK'] != 'AVG.']\n",
    "\n",
    "    #Deleting the blanks spaces\n",
    "    df_temp = df_temp.dropna(subset=['WEEK'])\n",
    "    \n",
    "    # Spliting the Week column in 2 different columns\n",
    "    #df_temp[['start_week', 'end_week']] = [week.split('-') for week in df_temp['WEEK']]\n",
    "    \n",
    "    return df_temp"
   ]
  },
  {
   "cell_type": "code",
   "execution_count": 5,
   "metadata": {},
   "outputs": [
    {
     "name": "stdout",
     "output_type": "stream",
     "text": [
      "Sheets updated:  ['2023', '2022', '2021', '2020', '2019', '2018', '2017', '2016', '2015', '2014', '2013', '2012', '2010 - 2011', '2009', '2008', '2007', '2006', '2005', '2004', '2003', '2002', '2001', '2000', '1999', '1998', '1997', '1996']\n"
     ]
    }
   ],
   "source": [
    "sheets_taken = []\n",
    "\n",
    "for data_tab in data:\n",
    "    try: \n",
    "        data[data_tab] = preprocessing(data[data_tab])\n",
    "        sheets_taken.append(data_tab)\n",
    "    except:\n",
    "        print(Exception)\n",
    "        \n",
    "\n",
    "print(\"Sheets updated: \", sheets_taken)"
   ]
  },
  {
   "cell_type": "code",
   "execution_count": 6,
   "metadata": {},
   "outputs": [
    {
     "data": {
      "text/html": [
       "<div>\n",
       "<style scoped>\n",
       "    .dataframe tbody tr th:only-of-type {\n",
       "        vertical-align: middle;\n",
       "    }\n",
       "\n",
       "    .dataframe tbody tr th {\n",
       "        vertical-align: top;\n",
       "    }\n",
       "\n",
       "    .dataframe thead th {\n",
       "        text-align: right;\n",
       "    }\n",
       "</style>\n",
       "<table border=\"1\" class=\"dataframe\">\n",
       "  <thead>\n",
       "    <tr style=\"text-align: right;\">\n",
       "      <th></th>\n",
       "      <th>WEEK</th>\n",
       "      <th>LACTOSE</th>\n",
       "      <th>CENTRAL</th>\n",
       "    </tr>\n",
       "  </thead>\n",
       "  <tbody>\n",
       "    <tr>\n",
       "      <th>4</th>\n",
       "      <td>1/2/23 - 1/6/23</td>\n",
       "      <td>0.4775</td>\n",
       "      <td>0.41</td>\n",
       "    </tr>\n",
       "    <tr>\n",
       "      <th>5</th>\n",
       "      <td>1/9/23 - 1/13/23</td>\n",
       "      <td>0.4725</td>\n",
       "      <td>0.4025</td>\n",
       "    </tr>\n",
       "    <tr>\n",
       "      <th>6</th>\n",
       "      <td>1/16/23 - 1/20/23</td>\n",
       "      <td>0.4675</td>\n",
       "      <td>0.3725</td>\n",
       "    </tr>\n",
       "    <tr>\n",
       "      <th>7</th>\n",
       "      <td>1/23/23 - 1/27/23</td>\n",
       "      <td>0.445</td>\n",
       "      <td>0.36</td>\n",
       "    </tr>\n",
       "    <tr>\n",
       "      <th>8</th>\n",
       "      <td>1/30/23 - 2/3/23</td>\n",
       "      <td>0.44</td>\n",
       "      <td>0.36</td>\n",
       "    </tr>\n",
       "    <tr>\n",
       "      <th>...</th>\n",
       "      <td>...</td>\n",
       "      <td>...</td>\n",
       "      <td>...</td>\n",
       "    </tr>\n",
       "    <tr>\n",
       "      <th>62</th>\n",
       "      <td>11/25-12/01</td>\n",
       "      <td>0.22</td>\n",
       "      <td>0.375</td>\n",
       "    </tr>\n",
       "    <tr>\n",
       "      <th>64</th>\n",
       "      <td>12/02-12/08</td>\n",
       "      <td>0.22</td>\n",
       "      <td>0.365</td>\n",
       "    </tr>\n",
       "    <tr>\n",
       "      <th>65</th>\n",
       "      <td>12/09-12/15</td>\n",
       "      <td>0.2225</td>\n",
       "      <td>0.355</td>\n",
       "    </tr>\n",
       "    <tr>\n",
       "      <th>66</th>\n",
       "      <td>12/16-12/22</td>\n",
       "      <td>0.2225</td>\n",
       "      <td>0.35</td>\n",
       "    </tr>\n",
       "    <tr>\n",
       "      <th>67</th>\n",
       "      <td>12/23-12/29</td>\n",
       "      <td>0.2225</td>\n",
       "      <td>0.35</td>\n",
       "    </tr>\n",
       "  </tbody>\n",
       "</table>\n",
       "<p>1485 rows × 3 columns</p>\n",
       "</div>"
      ],
      "text/plain": [
       "                 WEEK LACTOSE CENTRAL\n",
       "4     1/2/23 - 1/6/23  0.4775    0.41\n",
       "5    1/9/23 - 1/13/23  0.4725  0.4025\n",
       "6   1/16/23 - 1/20/23  0.4675  0.3725\n",
       "7   1/23/23 - 1/27/23   0.445    0.36\n",
       "8    1/30/23 - 2/3/23    0.44    0.36\n",
       "..                ...     ...     ...\n",
       "62        11/25-12/01    0.22   0.375\n",
       "64        12/02-12/08    0.22   0.365\n",
       "65        12/09-12/15  0.2225   0.355\n",
       "66        12/16-12/22  0.2225    0.35\n",
       "67        12/23-12/29  0.2225    0.35\n",
       "\n",
       "[1485 rows x 3 columns]"
      ]
     },
     "execution_count": 6,
     "metadata": {},
     "output_type": "execute_result"
    }
   ],
   "source": [
    "#Creating new dataframe to concentrate all the information\n",
    "complete_data = pd.DataFrame()\n",
    "\n",
    "#Using Concat function to concentrate the information of all the valid tabs\n",
    "for sheet in sheets_taken:\n",
    "    data[sheet] = pd.DataFrame(data[sheet])\n",
    "    complete_data = pd.concat([complete_data, data[sheet]])\n",
    "\n",
    "#Printing all the data\n",
    "complete_data"
   ]
  },
  {
   "cell_type": "code",
   "execution_count": 7,
   "metadata": {},
   "outputs": [
    {
     "data": {
      "text/html": [
       "<div>\n",
       "<style scoped>\n",
       "    .dataframe tbody tr th:only-of-type {\n",
       "        vertical-align: middle;\n",
       "    }\n",
       "\n",
       "    .dataframe tbody tr th {\n",
       "        vertical-align: top;\n",
       "    }\n",
       "\n",
       "    .dataframe thead th {\n",
       "        text-align: right;\n",
       "    }\n",
       "</style>\n",
       "<table border=\"1\" class=\"dataframe\">\n",
       "  <thead>\n",
       "    <tr style=\"text-align: right;\">\n",
       "      <th></th>\n",
       "      <th>LACTOSE</th>\n",
       "      <th>CENTRAL</th>\n",
       "    </tr>\n",
       "  </thead>\n",
       "  <tbody>\n",
       "    <tr>\n",
       "      <th>4</th>\n",
       "      <td>0.4775</td>\n",
       "      <td>0.41</td>\n",
       "    </tr>\n",
       "    <tr>\n",
       "      <th>5</th>\n",
       "      <td>0.4725</td>\n",
       "      <td>0.4025</td>\n",
       "    </tr>\n",
       "    <tr>\n",
       "      <th>6</th>\n",
       "      <td>0.4675</td>\n",
       "      <td>0.3725</td>\n",
       "    </tr>\n",
       "    <tr>\n",
       "      <th>7</th>\n",
       "      <td>0.445</td>\n",
       "      <td>0.36</td>\n",
       "    </tr>\n",
       "    <tr>\n",
       "      <th>8</th>\n",
       "      <td>0.44</td>\n",
       "      <td>0.36</td>\n",
       "    </tr>\n",
       "    <tr>\n",
       "      <th>...</th>\n",
       "      <td>...</td>\n",
       "      <td>...</td>\n",
       "    </tr>\n",
       "    <tr>\n",
       "      <th>62</th>\n",
       "      <td>0.22</td>\n",
       "      <td>0.375</td>\n",
       "    </tr>\n",
       "    <tr>\n",
       "      <th>64</th>\n",
       "      <td>0.22</td>\n",
       "      <td>0.365</td>\n",
       "    </tr>\n",
       "    <tr>\n",
       "      <th>65</th>\n",
       "      <td>0.2225</td>\n",
       "      <td>0.355</td>\n",
       "    </tr>\n",
       "    <tr>\n",
       "      <th>66</th>\n",
       "      <td>0.2225</td>\n",
       "      <td>0.35</td>\n",
       "    </tr>\n",
       "    <tr>\n",
       "      <th>67</th>\n",
       "      <td>0.2225</td>\n",
       "      <td>0.35</td>\n",
       "    </tr>\n",
       "  </tbody>\n",
       "</table>\n",
       "<p>1485 rows × 2 columns</p>\n",
       "</div>"
      ],
      "text/plain": [
       "   LACTOSE CENTRAL\n",
       "4   0.4775    0.41\n",
       "5   0.4725  0.4025\n",
       "6   0.4675  0.3725\n",
       "7    0.445    0.36\n",
       "8     0.44    0.36\n",
       "..     ...     ...\n",
       "62    0.22   0.375\n",
       "64    0.22   0.365\n",
       "65  0.2225   0.355\n",
       "66  0.2225    0.35\n",
       "67  0.2225    0.35\n",
       "\n",
       "[1485 rows x 2 columns]"
      ]
     },
     "execution_count": 7,
     "metadata": {},
     "output_type": "execute_result"
    }
   ],
   "source": [
    "complete_data = complete_data.drop(['WEEK'], axis=1)\n",
    "complete_data"
   ]
  },
  {
   "cell_type": "code",
   "execution_count": 8,
   "metadata": {},
   "outputs": [],
   "source": [
    "complete_data = complete_data.dropna()\n",
    "\n",
    "X = complete_data['LACTOSE']\n",
    "Y = complete_data['CENTRAL']"
   ]
  },
  {
   "cell_type": "code",
   "execution_count": 9,
   "metadata": {},
   "outputs": [
    {
     "name": "stdout",
     "output_type": "stream",
     "text": [
      "<class 'numpy.ndarray'> (1415, 1)\n",
      "<class 'numpy.ndarray'> (1415, 1)\n"
     ]
    }
   ],
   "source": [
    "X = [x for x in X if str(x) != 'LACTOSE']\n",
    "Y = [x for x in Y if str(x) != 'CENTRAL']\n",
    "Y = [x for x in Y if str(x) != 'DELAC']\n",
    "\n",
    "#Converting to float\n",
    "X = [float(item) for item in X]\n",
    "Y = [float(item) for item in Y]\n",
    "\n",
    "X = np.array(X)\n",
    "Y = np.array(Y)\n",
    "\n",
    "X = np.reshape(X, (X.shape[0], 1))\n",
    "Y = np.reshape(Y, (Y.shape[0], 1))\n",
    "\n",
    "\n",
    "print(type(X), X.shape)\n",
    "print(type(Y), Y.shape)\n",
    "\n",
    "\n",
    "n_features = 1"
   ]
  },
  {
   "cell_type": "markdown",
   "metadata": {},
   "source": [
    "## Scalation of data"
   ]
  },
  {
   "cell_type": "code",
   "execution_count": 10,
   "metadata": {},
   "outputs": [
    {
     "name": "stdout",
     "output_type": "stream",
     "text": [
      "[[0.3943662 ]\n",
      " [0.38873239]\n",
      " [0.38309859]\n",
      " ...\n",
      " [0.10704225]\n",
      " [0.10704225]\n",
      " [0.10704225]] [[0.41943734]\n",
      " [0.41176471]\n",
      " [0.38107417]\n",
      " ...\n",
      " [0.36317136]\n",
      " [0.35805627]\n",
      " [0.35805627]]\n"
     ]
    }
   ],
   "source": [
    "from sklearn.preprocessing import MinMaxScaler\n",
    "scaler = MinMaxScaler()\n",
    "\n",
    "X = scaler.fit_transform(X)\n",
    "Y = scaler.fit_transform(Y)\n",
    "\n",
    "print(X, Y)"
   ]
  },
  {
   "cell_type": "code",
   "execution_count": 11,
   "metadata": {},
   "outputs": [
    {
     "name": "stdout",
     "output_type": "stream",
     "text": [
      "1415 1\n"
     ]
    }
   ],
   "source": [
    "n_input = X.shape[0]\n",
    "n_features = 1\n",
    "\n",
    "print(n_input, n_features)"
   ]
  },
  {
   "cell_type": "markdown",
   "metadata": {},
   "source": [
    "## Time Series Generator"
   ]
  },
  {
   "cell_type": "code",
   "execution_count": 12,
   "metadata": {},
   "outputs": [
    {
     "data": {
      "text/plain": [
       "<keras.src.preprocessing.sequence.TimeseriesGenerator at 0x17ea66ee0>"
      ]
     },
     "execution_count": 12,
     "metadata": {},
     "output_type": "execute_result"
    }
   ],
   "source": [
    "from keras.preprocessing.sequence import TimeseriesGenerator\n",
    "\n",
    "generator = TimeseriesGenerator(X, X, length=n_input-1, batch_size=2)\n",
    "generator"
   ]
  },
  {
   "cell_type": "markdown",
   "metadata": {},
   "source": [
    "## Split data"
   ]
  },
  {
   "cell_type": "code",
   "execution_count": 13,
   "metadata": {},
   "outputs": [
    {
     "name": "stdout",
     "output_type": "stream",
     "text": [
      "(1132, 1) (1132, 1)\n",
      "(283, 1) (283, 1)\n"
     ]
    }
   ],
   "source": [
    "from sklearn.model_selection import train_test_split\n",
    "\n",
    "X_train, X_test, y_train, y_test = train_test_split(X, Y, test_size=0.2, random_state=42)\n",
    "\n",
    "print(X_train.shape, y_train.shape)\n",
    "print(X_test.shape, y_test.shape)"
   ]
  },
  {
   "cell_type": "markdown",
   "metadata": {},
   "source": [
    "## Model Prediction"
   ]
  },
  {
   "cell_type": "code",
   "execution_count": 14,
   "metadata": {},
   "outputs": [],
   "source": [
    "#libraries to use the model\n",
    "from keras.models import Sequential\n",
    "from keras.layers import Dense\n",
    "from keras.layers import LSTM"
   ]
  },
  {
   "cell_type": "code",
   "execution_count": 15,
   "metadata": {},
   "outputs": [
    {
     "name": "stdout",
     "output_type": "stream",
     "text": [
      "WARNING:tensorflow:Layer lstm will not use cuDNN kernels since it doesn't meet the criteria. It will use a generic GPU kernel as fallback when running on GPU.\n"
     ]
    },
    {
     "name": "stderr",
     "output_type": "stream",
     "text": [
      "2023-12-01 21:29:01.804406: I metal_plugin/src/device/metal_device.cc:1154] Metal device set to: Apple M2\n",
      "2023-12-01 21:29:01.804442: I metal_plugin/src/device/metal_device.cc:296] systemMemory: 8.00 GB\n",
      "2023-12-01 21:29:01.804453: I metal_plugin/src/device/metal_device.cc:313] maxCacheSize: 2.67 GB\n",
      "2023-12-01 21:29:01.805148: I tensorflow/core/common_runtime/pluggable_device/pluggable_device_factory.cc:303] Could not identify NUMA node of platform GPU ID 0, defaulting to 0. Your kernel may not have been built with NUMA support.\n",
      "2023-12-01 21:29:01.805489: I tensorflow/core/common_runtime/pluggable_device/pluggable_device_factory.cc:269] Created TensorFlow device (/job:localhost/replica:0/task:0/device:GPU:0 with 0 MB memory) -> physical PluggableDevice (device: 0, name: METAL, pci bus id: <undefined>)\n"
     ]
    },
    {
     "name": "stdout",
     "output_type": "stream",
     "text": [
      "Model: \"sequential\"\n",
      "_________________________________________________________________\n",
      " Layer (type)                Output Shape              Param #   \n",
      "=================================================================\n",
      " lstm (LSTM)                 (None, 200)               161600    \n",
      "                                                                 \n",
      " dense (Dense)               (None, 1)                 201       \n",
      "                                                                 \n",
      "=================================================================\n",
      "Total params: 161801 (632.04 KB)\n",
      "Trainable params: 161801 (632.04 KB)\n",
      "Non-trainable params: 0 (0.00 Byte)\n",
      "_________________________________________________________________\n"
     ]
    }
   ],
   "source": [
    "#Model Creation\n",
    "lstm_model = Sequential()\n",
    "\n",
    "lstm_model.add(LSTM(200, activation='relu', input_shape=(n_input, n_features)))\n",
    "lstm_model.add(Dense(1))\n",
    "\n",
    "lstm_model.compile(optimizer='adam', loss='mse')\n",
    "\n",
    "lstm_model.summary()"
   ]
  },
  {
   "cell_type": "code",
   "execution_count": 16,
   "metadata": {},
   "outputs": [
    {
     "name": "stdout",
     "output_type": "stream",
     "text": [
      "Epoch 1/10\n"
     ]
    },
    {
     "name": "stderr",
     "output_type": "stream",
     "text": [
      "2023-12-01 21:29:19.568981: I tensorflow/core/grappler/optimizers/custom_graph_optimizer_registry.cc:114] Plugin optimizer for device_type GPU is enabled.\n"
     ]
    },
    {
     "name": "stdout",
     "output_type": "stream",
     "text": [
      "36/36 [==============================] - 5s 72ms/step - loss: 0.1401\n",
      "Epoch 2/10\n",
      "36/36 [==============================] - 0s 10ms/step - loss: 0.0516\n",
      "Epoch 3/10\n",
      "36/36 [==============================] - 0s 10ms/step - loss: 0.0112\n",
      "Epoch 4/10\n",
      "36/36 [==============================] - 0s 10ms/step - loss: 0.0086\n",
      "Epoch 5/10\n",
      "36/36 [==============================] - 0s 10ms/step - loss: 0.0085\n",
      "Epoch 6/10\n",
      "36/36 [==============================] - 0s 10ms/step - loss: 0.0085\n",
      "Epoch 7/10\n",
      "36/36 [==============================] - 0s 10ms/step - loss: 0.0084\n",
      "Epoch 8/10\n",
      "36/36 [==============================] - 0s 10ms/step - loss: 0.0084\n",
      "Epoch 9/10\n",
      "36/36 [==============================] - 0s 10ms/step - loss: 0.0084\n",
      "Epoch 10/10\n",
      "36/36 [==============================] - 0s 10ms/step - loss: 0.0084\n"
     ]
    },
    {
     "data": {
      "text/plain": [
       "<keras.src.callbacks.History at 0x1750af970>"
      ]
     },
     "execution_count": 16,
     "metadata": {},
     "output_type": "execute_result"
    }
   ],
   "source": [
    "lstm_model.fit(X_train, y_train, epochs=10)"
   ]
  },
  {
   "cell_type": "code",
   "execution_count": 17,
   "metadata": {},
   "outputs": [
    {
     "data": {
      "text/plain": [
       "Text(0.5, 1.0, 'Val Loss of LSTM model')"
      ]
     },
     "execution_count": 17,
     "metadata": {},
     "output_type": "execute_result"
    },
    {
     "data": {
      "image/png": "[encoded data removed]",
      "text/plain": [
       "<Figure size 1200x400 with 1 Axes>"
      ]
     },
     "metadata": {},
     "output_type": "display_data"
    }
   ],
   "source": [
    "import matplotlib.pyplot as plt \n",
    "\n",
    "losses_lstm = lstm_model.history.history['loss']\n",
    "plt.figure(figsize=(12,4))\n",
    "plt.xticks(np.arange(0,21,1))\n",
    "plt.plot(range(len(losses_lstm)),losses_lstm)\n",
    "plt.xlabel(\"Epochs\")\n",
    "plt.ylabel(\"Val Loss\")\n",
    "plt.title(\"Val Loss of LSTM model\")\n"
   ]
  },
  {
   "cell_type": "code",
   "execution_count": 19,
   "metadata": {},
   "outputs": [],
   "source": [
    "y_pred = lstm_model(X_test)"
   ]
  },
  {
   "cell_type": "code",
   "execution_count": 21,
   "metadata": {},
   "outputs": [
    {
     "data": {
      "text/plain": [
       "array([[0.29921489],\n",
       "       [0.70304592],\n",
       "       [0.40300157],\n",
       "       [0.42857349],\n",
       "       [0.52021639],\n",
       "       [0.60881508],\n",
       "       [0.52021639],\n",
       "       [0.4466374 ],\n",
       "       [0.43372084],\n",
       "       [0.43629866],\n",
       "       [0.45507006],\n",
       "       [0.53477552],\n",
       "       [0.28532401],\n",
       "       [0.31198436],\n",
       "       [0.30832232],\n",
       "       [0.31565339],\n",
       "       [0.31932848],\n",
       "       [0.32669707],\n",
       "       [0.66393157],\n",
       "       [0.32300975],\n",
       "       [0.32792754],\n",
       "       [0.33779563],\n",
       "       [0.52021639],\n",
       "       [0.4466374 ],\n",
       "       [0.44404858],\n",
       "       [0.28291732],\n",
       "       [0.38085117],\n",
       "       [0.31932848],\n",
       "       [0.32915865],\n",
       "       [0.33039045],\n",
       "       [0.36891431],\n",
       "       [0.62250468],\n",
       "       [0.58164661],\n",
       "       [0.42343715],\n",
       "       [0.4622282 ],\n",
       "       [0.38274153],\n",
       "       [0.38022134],\n",
       "       [0.33285617],\n",
       "       [0.30588997],\n",
       "       [0.31565339],\n",
       "       [0.52814944],\n",
       "       [0.39031853],\n",
       "       [0.30103332],\n",
       "       [0.51756959],\n",
       "       [0.39792011],\n",
       "       [0.33039045],\n",
       "       [0.43114577],\n",
       "       [0.38148111],\n",
       "       [0.35019202],\n",
       "       [0.33285617],\n",
       "       [0.40300157],\n",
       "       [0.31810279],\n",
       "       [0.36515759],\n",
       "       [0.28592611],\n",
       "       [0.45182333],\n",
       "       [0.33779563],\n",
       "       [0.30588997],\n",
       "       [0.33039045],\n",
       "       [0.28532401],\n",
       "       [0.30832232],\n",
       "       [0.52021639],\n",
       "       [0.42087309],\n",
       "       [0.32915865],\n",
       "       [0.49502854],\n",
       "       [0.34274605],\n",
       "       [0.36515759],\n",
       "       [0.38526446],\n",
       "       [0.37518917],\n",
       "       [0.54674634],\n",
       "       [0.3726772 ],\n",
       "       [0.34770731],\n",
       "       [0.34646601],\n",
       "       [0.41831177],\n",
       "       [0.33532456],\n",
       "       [0.32915865],\n",
       "       [0.39158378],\n",
       "       [0.4131974 ],\n",
       "       [0.32669707],\n",
       "       [0.30588997],\n",
       "       [0.30588997],\n",
       "       [0.32792754],\n",
       "       [0.52021639],\n",
       "       [0.52550392],\n",
       "       [0.38274153],\n",
       "       [0.42087309],\n",
       "       [0.58976768],\n",
       "       [0.3726772 ],\n",
       "       [0.32423812],\n",
       "       [0.30103332],\n",
       "       [0.31565339],\n",
       "       [0.66393157],\n",
       "       [0.33285617],\n",
       "       [0.31810279],\n",
       "       [0.33655975],\n",
       "       [0.38274153],\n",
       "       [0.33903222],\n",
       "       [0.4414625 ],\n",
       "       [0.33285617],\n",
       "       [0.4466374 ],\n",
       "       [0.33039045],\n",
       "       [0.54408125],\n",
       "       [0.44922897],\n",
       "       [0.52153903],\n",
       "       [0.32178196],\n",
       "       [0.42343715],\n",
       "       [0.30588997],\n",
       "       [0.38274153],\n",
       "       [0.39538355],\n",
       "       [0.32300975],\n",
       "       [0.35641573],\n",
       "       [0.30224648],\n",
       "       [0.47791846],\n",
       "       [0.32669707],\n",
       "       [0.4055464 ],\n",
       "       [0.40045947],\n",
       "       [0.36265651],\n",
       "       [0.52021639],\n",
       "       [0.46875372],\n",
       "       [0.31565339],\n",
       "       [0.32300975],\n",
       "       [0.70304592],\n",
       "       [0.65283132],\n",
       "       [0.38274153],\n",
       "       [0.33655975],\n",
       "       [0.32669707],\n",
       "       [0.52021639],\n",
       "       [0.30346029],\n",
       "       [0.66393157],\n",
       "       [0.32178196],\n",
       "       [0.30224648],\n",
       "       [0.32423812],\n",
       "       [0.52021639],\n",
       "       [0.54674634],\n",
       "       [0.36390667],\n",
       "       [0.32423812],\n",
       "       [0.4466374 ],\n",
       "       [0.30954172],\n",
       "       [0.35766257],\n",
       "       [0.32792754],\n",
       "       [0.41575318],\n",
       "       [0.61428247],\n",
       "       [0.43758855],\n",
       "       [0.41831177],\n",
       "       [0.31565339],\n",
       "       [0.35766257],\n",
       "       [0.30103332],\n",
       "       [0.36766135],\n",
       "       [0.30588997],\n",
       "       [0.33039045],\n",
       "       [0.33039045],\n",
       "       [0.31932848],\n",
       "       [0.45442042],\n",
       "       [0.4055464 ],\n",
       "       [0.49436829],\n",
       "       [0.41831177],\n",
       "       [0.30832232],\n",
       "       [0.54674634],\n",
       "       [0.32792754],\n",
       "       [0.35641573],\n",
       "       [0.4864589 ],\n",
       "       [0.35019202],\n",
       "       [0.73691341],\n",
       "       [0.30224648],\n",
       "       [0.64591672],\n",
       "       [0.30103332],\n",
       "       [0.66393157],\n",
       "       [0.3402695 ],\n",
       "       [0.52021639],\n",
       "       [0.30954172],\n",
       "       [0.64453587],\n",
       "       [0.29739797],\n",
       "       [0.52021639],\n",
       "       [0.35267946],\n",
       "       [0.34398538],\n",
       "       [0.30103332],\n",
       "       [0.33655975],\n",
       "       [0.31320667],\n",
       "       [0.43887921],\n",
       "       [0.6115474 ],\n",
       "       [0.34274605],\n",
       "       [0.67785551],\n",
       "       [0.33039045],\n",
       "       [0.44404858],\n",
       "       [0.34274605],\n",
       "       [0.38148111],\n",
       "       [0.30954172],\n",
       "       [0.32669707],\n",
       "       [0.40300157],\n",
       "       [0.51225573],\n",
       "       [0.7454443 ],\n",
       "       [0.32423812],\n",
       "       [0.31076269],\n",
       "       [0.54941423],\n",
       "       [0.38526446],\n",
       "       [0.30893147],\n",
       "       [0.49502854],\n",
       "       [0.42343715],\n",
       "       [0.29860906],\n",
       "       [0.52021639],\n",
       "       [0.54408125],\n",
       "       [0.43629866],\n",
       "       [0.32178196],\n",
       "       [0.4622282 ],\n",
       "       [0.34770731],\n",
       "       [0.39792011],\n",
       "       [0.31076269],\n",
       "       [0.37833302],\n",
       "       [0.33903222],\n",
       "       [0.44404858],\n",
       "       [0.30103332],\n",
       "       [0.32055487],\n",
       "       [0.29860906],\n",
       "       [0.32669707],\n",
       "       [0.36390667],\n",
       "       [0.35267946],\n",
       "       [0.58976768],\n",
       "       [0.37770389],\n",
       "       [0.47660718],\n",
       "       [0.39792011],\n",
       "       [0.32300975],\n",
       "       [0.49436829],\n",
       "       [0.58976768],\n",
       "       [0.30588997],\n",
       "       [0.67785551],\n",
       "       [0.40809403],\n",
       "       [0.54408125],\n",
       "       [0.33039045],\n",
       "       [0.44922897],\n",
       "       [0.38274153],\n",
       "       [0.32792754],\n",
       "       [0.39792011],\n",
       "       [0.30588997],\n",
       "       [0.43629866],\n",
       "       [0.30467479],\n",
       "       [0.31810279],\n",
       "       [0.61223095],\n",
       "       [0.32546724],\n",
       "       [0.32915865],\n",
       "       [0.42857349],\n",
       "       [0.54008892],\n",
       "       [0.29921489],\n",
       "       [0.39284967],\n",
       "       [0.30224648],\n",
       "       [0.32423812],\n",
       "       [0.42600395],\n",
       "       [0.36265651],\n",
       "       [0.32055487],\n",
       "       [0.43758855],\n",
       "       [0.38526446],\n",
       "       [0.54674634],\n",
       "       [0.61428247],\n",
       "       [0.30588997],\n",
       "       [0.32055487],\n",
       "       [0.59248037],\n",
       "       [0.29921489],\n",
       "       [0.54141902],\n",
       "       [0.45702026],\n",
       "       [0.33409001],\n",
       "       [0.31810279],\n",
       "       [0.39411626],\n",
       "       [0.35766257],\n",
       "       [0.52021639],\n",
       "       [0.39284967],\n",
       "       [0.4466374 ],\n",
       "       [0.31076269],\n",
       "       [0.54408125],\n",
       "       [0.47660718],\n",
       "       [0.35766257],\n",
       "       [0.70304592],\n",
       "       [0.32915865],\n",
       "       [0.5843508 ],\n",
       "       [0.30224648],\n",
       "       [0.29739797],\n",
       "       [0.31810279],\n",
       "       [0.40300157],\n",
       "       [0.35641573],\n",
       "       [0.30346029],\n",
       "       [0.38526446],\n",
       "       [0.30346029],\n",
       "       [0.32792754],\n",
       "       [0.4531215 ],\n",
       "       [0.38526446],\n",
       "       [0.33532456]])"
      ]
     },
     "execution_count": 21,
     "metadata": {},
     "output_type": "execute_result"
    }
   ],
   "source": [
    "y_pred = scaler.inverse_transform(y_pred)\n",
    "y_pred"
   ]
  },
  {
   "cell_type": "code",
   "execution_count": 23,
   "metadata": {},
   "outputs": [],
   "source": [
    "#Libraries to evaluate model\n",
    "from sklearn.metrics import mean_squared_error\n",
    "from statsmodels.tools.eval_measures import rmse\n",
    "from sklearn import metrics"
   ]
  },
  {
   "cell_type": "code",
   "execution_count": 29,
   "metadata": {},
   "outputs": [],
   "source": [
    "#Function to evalute the model\n",
    "\n",
    "def evaluation_model(y_test, y_pred):\n",
    "\n",
    "    def mean_absolute_percentage_error(y_true, y_pred):\n",
    "        y_true, y_pred = np.array(y_true), np.array(y_pred)\n",
    "        return np.mean(np.abs((y_true - y_pred) / y_true)) * 100\n",
    "    print(\"Model evaluation: \")\n",
    "    print(f'MSE es: {metrics.mean_squared_error(y_test, y_pred)}')\n",
    "    print(f'MAE es: {metrics.mean_absolute_error(y_test, y_pred)}')        \n",
    "    print(f'RMSE es: {np.sqrt(metrics.mean_squared_error(y_test, y_pred))}')\n",
    "    print(f'MAPE es: {mean_absolute_percentage_error(y_test, y_pred)}')\n",
    "    print(f'R2 es: {metrics.r2_score(y_test, y_pred)}', end='\\n\\n')"
   ]
  },
  {
   "cell_type": "code",
   "execution_count": 30,
   "metadata": {},
   "outputs": [
    {
     "name": "stdout",
     "output_type": "stream",
     "text": [
      "Model evaluation: \n",
      "MSE es: 0.008141545263025905\n",
      "MAE es: 0.06891899087404853\n",
      "RMSE es: 0.09023051181848579\n",
      "MAPE es: 18.105408381998238\n",
      "R2 es: 0.6181551964581371\n",
      "\n"
     ]
    }
   ],
   "source": [
    "evaluation_model(y_test, y_pred)"
   ]
  }
 ],
 "metadata": {
  "kernelspec": {
   "display_name": "base",
   "language": "python",
   "name": "python3"
  },
  "language_info": {
   "codemirror_mode": {
    "name": "ipython",
    "version": 3
   },
   "file_extension": ".py",
   "mimetype": "text/x-python",
   "name": "python",
   "nbconvert_exporter": "python",
   "pygments_lexer": "ipython3",
   "version": "3.8.16"
  }
 },
 "nbformat": 4,
 "nbformat_minor": 2
}
