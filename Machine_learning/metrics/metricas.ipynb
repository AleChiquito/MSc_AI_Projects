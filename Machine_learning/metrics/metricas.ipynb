{
 "cells": [
  {
   "cell_type": "markdown",
   "metadata": {},
   "source": [
    "## Métricas"
   ]
  },
  {
   "cell_type": "code",
   "execution_count": 232,
   "metadata": {},
   "outputs": [],
   "source": [
    "import pandas as pd\n",
    "import numpy as np"
   ]
  },
  {
   "cell_type": "code",
   "execution_count": 233,
   "metadata": {},
   "outputs": [
    {
     "data": {
      "text/html": [
       "<div>\n",
       "<style scoped>\n",
       "    .dataframe tbody tr th:only-of-type {\n",
       "        vertical-align: middle;\n",
       "    }\n",
       "\n",
       "    .dataframe tbody tr th {\n",
       "        vertical-align: top;\n",
       "    }\n",
       "\n",
       "    .dataframe thead th {\n",
       "        text-align: right;\n",
       "    }\n",
       "</style>\n",
       "<table border=\"1\" class=\"dataframe\">\n",
       "  <thead>\n",
       "    <tr style=\"text-align: right;\">\n",
       "      <th></th>\n",
       "      <th>Date</th>\n",
       "      <th>Close/Last</th>\n",
       "      <th>Volume</th>\n",
       "      <th>Open</th>\n",
       "      <th>High</th>\n",
       "      <th>Low</th>\n",
       "    </tr>\n",
       "  </thead>\n",
       "  <tbody>\n",
       "    <tr>\n",
       "      <th>0</th>\n",
       "      <td>12/02/2022</td>\n",
       "      <td>$105.05</td>\n",
       "      <td>7916878</td>\n",
       "      <td>$102.02</td>\n",
       "      <td>$105.54</td>\n",
       "      <td>$101.82</td>\n",
       "    </tr>\n",
       "    <tr>\n",
       "      <th>1</th>\n",
       "      <td>12/01/2022</td>\n",
       "      <td>$103.37</td>\n",
       "      <td>7452313</td>\n",
       "      <td>$102.33</td>\n",
       "      <td>$103.56</td>\n",
       "      <td>$101.95</td>\n",
       "    </tr>\n",
       "    <tr>\n",
       "      <th>2</th>\n",
       "      <td>11/30/2022</td>\n",
       "      <td>$102.2</td>\n",
       "      <td>15000770</td>\n",
       "      <td>$99.05</td>\n",
       "      <td>$102.56</td>\n",
       "      <td>$98.52</td>\n",
       "    </tr>\n",
       "    <tr>\n",
       "      <th>3</th>\n",
       "      <td>11/29/2022</td>\n",
       "      <td>$98.66</td>\n",
       "      <td>4423921</td>\n",
       "      <td>$98.96</td>\n",
       "      <td>$99.33</td>\n",
       "      <td>$98.2</td>\n",
       "    </tr>\n",
       "    <tr>\n",
       "      <th>4</th>\n",
       "      <td>11/28/2022</td>\n",
       "      <td>$98.66</td>\n",
       "      <td>5257862</td>\n",
       "      <td>$98.99</td>\n",
       "      <td>$100.16</td>\n",
       "      <td>$98.56</td>\n",
       "    </tr>\n",
       "    <tr>\n",
       "      <th>5</th>\n",
       "      <td>11/25/2022</td>\n",
       "      <td>$99.56</td>\n",
       "      <td>2320020</td>\n",
       "      <td>$99.64</td>\n",
       "      <td>$99.88</td>\n",
       "      <td>$98.52</td>\n",
       "    </tr>\n",
       "    <tr>\n",
       "      <th>6</th>\n",
       "      <td>11/23/2022</td>\n",
       "      <td>$99.52</td>\n",
       "      <td>5944870</td>\n",
       "      <td>$98.49</td>\n",
       "      <td>$100.08</td>\n",
       "      <td>$98.27</td>\n",
       "    </tr>\n",
       "    <tr>\n",
       "      <th>7</th>\n",
       "      <td>11/22/2022</td>\n",
       "      <td>$98.43</td>\n",
       "      <td>5399030</td>\n",
       "      <td>$98.5</td>\n",
       "      <td>$98.73</td>\n",
       "      <td>$97.52</td>\n",
       "    </tr>\n",
       "    <tr>\n",
       "      <th>8</th>\n",
       "      <td>11/21/2022</td>\n",
       "      <td>$98.32</td>\n",
       "      <td>4499170</td>\n",
       "      <td>$96.99</td>\n",
       "      <td>$98.485</td>\n",
       "      <td>$96.7</td>\n",
       "    </tr>\n",
       "    <tr>\n",
       "      <th>9</th>\n",
       "      <td>11/18/2022</td>\n",
       "      <td>$97.95</td>\n",
       "      <td>5964815</td>\n",
       "      <td>$97.75</td>\n",
       "      <td>$98.35</td>\n",
       "      <td>$97.13</td>\n",
       "    </tr>\n",
       "  </tbody>\n",
       "</table>\n",
       "</div>"
      ],
      "text/plain": [
       "         Date Close/Last    Volume     Open     High      Low\n",
       "0  12/02/2022    $105.05   7916878  $102.02  $105.54  $101.82\n",
       "1  12/01/2022    $103.37   7452313  $102.33  $103.56  $101.95\n",
       "2  11/30/2022     $102.2  15000770   $99.05  $102.56   $98.52\n",
       "3  11/29/2022     $98.66   4423921   $98.96   $99.33    $98.2\n",
       "4  11/28/2022     $98.66   5257862   $98.99  $100.16   $98.56\n",
       "5  11/25/2022     $99.56   2320020   $99.64   $99.88   $98.52\n",
       "6  11/23/2022     $99.52   5944870   $98.49  $100.08   $98.27\n",
       "7  11/22/2022     $98.43   5399030    $98.5   $98.73   $97.52\n",
       "8  11/21/2022     $98.32   4499170   $96.99  $98.485    $96.7\n",
       "9  11/18/2022     $97.95   5964815   $97.75   $98.35   $97.13"
      ]
     },
     "execution_count": 233,
     "metadata": {},
     "output_type": "execute_result"
    }
   ],
   "source": [
    "data = pd.read_csv('Nasdaq.csv')\n",
    "data.head(10)"
   ]
  },
  {
   "cell_type": "markdown",
   "metadata": {},
   "source": [
    "### 4 de 5 columnas son tipo númericas pero de tipo string, hay que limpiar los datos"
   ]
  },
  {
   "cell_type": "code",
   "execution_count": 234,
   "metadata": {},
   "outputs": [
    {
     "data": {
      "text/html": [
       "<div>\n",
       "<style scoped>\n",
       "    .dataframe tbody tr th:only-of-type {\n",
       "        vertical-align: middle;\n",
       "    }\n",
       "\n",
       "    .dataframe tbody tr th {\n",
       "        vertical-align: top;\n",
       "    }\n",
       "\n",
       "    .dataframe thead th {\n",
       "        text-align: right;\n",
       "    }\n",
       "</style>\n",
       "<table border=\"1\" class=\"dataframe\">\n",
       "  <thead>\n",
       "    <tr style=\"text-align: right;\">\n",
       "      <th></th>\n",
       "      <th>Volume</th>\n",
       "    </tr>\n",
       "  </thead>\n",
       "  <tbody>\n",
       "    <tr>\n",
       "      <th>count</th>\n",
       "      <td>1.260000e+02</td>\n",
       "    </tr>\n",
       "    <tr>\n",
       "      <th>mean</th>\n",
       "      <td>7.464839e+06</td>\n",
       "    </tr>\n",
       "    <tr>\n",
       "      <th>std</th>\n",
       "      <td>3.226886e+06</td>\n",
       "    </tr>\n",
       "    <tr>\n",
       "      <th>min</th>\n",
       "      <td>2.320020e+06</td>\n",
       "    </tr>\n",
       "    <tr>\n",
       "      <th>25%</th>\n",
       "      <td>5.492600e+06</td>\n",
       "    </tr>\n",
       "    <tr>\n",
       "      <th>50%</th>\n",
       "      <td>6.754317e+06</td>\n",
       "    </tr>\n",
       "    <tr>\n",
       "      <th>75%</th>\n",
       "      <td>8.292026e+06</td>\n",
       "    </tr>\n",
       "    <tr>\n",
       "      <th>max</th>\n",
       "      <td>2.432060e+07</td>\n",
       "    </tr>\n",
       "  </tbody>\n",
       "</table>\n",
       "</div>"
      ],
      "text/plain": [
       "             Volume\n",
       "count  1.260000e+02\n",
       "mean   7.464839e+06\n",
       "std    3.226886e+06\n",
       "min    2.320020e+06\n",
       "25%    5.492600e+06\n",
       "50%    6.754317e+06\n",
       "75%    8.292026e+06\n",
       "max    2.432060e+07"
      ]
     },
     "execution_count": 234,
     "metadata": {},
     "output_type": "execute_result"
    }
   ],
   "source": [
    "data.describe()"
   ]
  },
  {
   "cell_type": "markdown",
   "metadata": {},
   "source": [
    "### Se quita el signo de pesos de todas las columnas. "
   ]
  },
  {
   "cell_type": "code",
   "execution_count": 235,
   "metadata": {},
   "outputs": [
    {
     "data": {
      "text/html": [
       "<div>\n",
       "<style scoped>\n",
       "    .dataframe tbody tr th:only-of-type {\n",
       "        vertical-align: middle;\n",
       "    }\n",
       "\n",
       "    .dataframe tbody tr th {\n",
       "        vertical-align: top;\n",
       "    }\n",
       "\n",
       "    .dataframe thead th {\n",
       "        text-align: right;\n",
       "    }\n",
       "</style>\n",
       "<table border=\"1\" class=\"dataframe\">\n",
       "  <thead>\n",
       "    <tr style=\"text-align: right;\">\n",
       "      <th></th>\n",
       "      <th>Date</th>\n",
       "      <th>Close/Last</th>\n",
       "      <th>Volume</th>\n",
       "      <th>Open</th>\n",
       "      <th>High</th>\n",
       "      <th>Low</th>\n",
       "    </tr>\n",
       "  </thead>\n",
       "  <tbody>\n",
       "    <tr>\n",
       "      <th>0</th>\n",
       "      <td>12/02/2022</td>\n",
       "      <td>105.05</td>\n",
       "      <td>7916878</td>\n",
       "      <td>102.02</td>\n",
       "      <td>105.54</td>\n",
       "      <td>101.82</td>\n",
       "    </tr>\n",
       "    <tr>\n",
       "      <th>1</th>\n",
       "      <td>12/01/2022</td>\n",
       "      <td>103.37</td>\n",
       "      <td>7452313</td>\n",
       "      <td>102.33</td>\n",
       "      <td>103.56</td>\n",
       "      <td>101.95</td>\n",
       "    </tr>\n",
       "    <tr>\n",
       "      <th>2</th>\n",
       "      <td>11/30/2022</td>\n",
       "      <td>102.2</td>\n",
       "      <td>15000770</td>\n",
       "      <td>99.05</td>\n",
       "      <td>102.56</td>\n",
       "      <td>98.52</td>\n",
       "    </tr>\n",
       "    <tr>\n",
       "      <th>3</th>\n",
       "      <td>11/29/2022</td>\n",
       "      <td>98.66</td>\n",
       "      <td>4423921</td>\n",
       "      <td>98.96</td>\n",
       "      <td>99.33</td>\n",
       "      <td>98.2</td>\n",
       "    </tr>\n",
       "    <tr>\n",
       "      <th>4</th>\n",
       "      <td>11/28/2022</td>\n",
       "      <td>98.66</td>\n",
       "      <td>5257862</td>\n",
       "      <td>98.99</td>\n",
       "      <td>100.16</td>\n",
       "      <td>98.56</td>\n",
       "    </tr>\n",
       "    <tr>\n",
       "      <th>5</th>\n",
       "      <td>11/25/2022</td>\n",
       "      <td>99.56</td>\n",
       "      <td>2320020</td>\n",
       "      <td>99.64</td>\n",
       "      <td>99.88</td>\n",
       "      <td>98.52</td>\n",
       "    </tr>\n",
       "    <tr>\n",
       "      <th>6</th>\n",
       "      <td>11/23/2022</td>\n",
       "      <td>99.52</td>\n",
       "      <td>5944870</td>\n",
       "      <td>98.49</td>\n",
       "      <td>100.08</td>\n",
       "      <td>98.27</td>\n",
       "    </tr>\n",
       "    <tr>\n",
       "      <th>7</th>\n",
       "      <td>11/22/2022</td>\n",
       "      <td>98.43</td>\n",
       "      <td>5399030</td>\n",
       "      <td>98.5</td>\n",
       "      <td>98.73</td>\n",
       "      <td>97.52</td>\n",
       "    </tr>\n",
       "    <tr>\n",
       "      <th>8</th>\n",
       "      <td>11/21/2022</td>\n",
       "      <td>98.32</td>\n",
       "      <td>4499170</td>\n",
       "      <td>96.99</td>\n",
       "      <td>98.485</td>\n",
       "      <td>96.7</td>\n",
       "    </tr>\n",
       "    <tr>\n",
       "      <th>9</th>\n",
       "      <td>11/18/2022</td>\n",
       "      <td>97.95</td>\n",
       "      <td>5964815</td>\n",
       "      <td>97.75</td>\n",
       "      <td>98.35</td>\n",
       "      <td>97.13</td>\n",
       "    </tr>\n",
       "  </tbody>\n",
       "</table>\n",
       "</div>"
      ],
      "text/plain": [
       "         Date Close/Last    Volume    Open    High     Low\n",
       "0  12/02/2022     105.05   7916878  102.02  105.54  101.82\n",
       "1  12/01/2022     103.37   7452313  102.33  103.56  101.95\n",
       "2  11/30/2022      102.2  15000770   99.05  102.56   98.52\n",
       "3  11/29/2022      98.66   4423921   98.96   99.33    98.2\n",
       "4  11/28/2022      98.66   5257862   98.99  100.16   98.56\n",
       "5  11/25/2022      99.56   2320020   99.64   99.88   98.52\n",
       "6  11/23/2022      99.52   5944870   98.49  100.08   98.27\n",
       "7  11/22/2022      98.43   5399030    98.5   98.73   97.52\n",
       "8  11/21/2022      98.32   4499170   96.99  98.485    96.7\n",
       "9  11/18/2022      97.95   5964815   97.75   98.35   97.13"
      ]
     },
     "execution_count": 235,
     "metadata": {},
     "output_type": "execute_result"
    }
   ],
   "source": [
    "for colum in data:\n",
    "    if colum != 'Volume':\n",
    "        data[colum] = data[colum].apply(lambda x: x.replace('$',''))\n",
    "\n",
    "data.head(10)"
   ]
  },
  {
   "cell_type": "markdown",
   "metadata": {},
   "source": [
    "### Todas las columnas se pasan a tipo float"
   ]
  },
  {
   "cell_type": "code",
   "execution_count": 236,
   "metadata": {},
   "outputs": [],
   "source": [
    "data['Close/Last'] = data['Open'].astype(float)\n",
    "data['Open'] = data['Open'].astype(float)\n",
    "data['High'] = data['Open'].astype(float)\n",
    "data['Low'] = data['Open'].astype(float)"
   ]
  },
  {
   "cell_type": "markdown",
   "metadata": {},
   "source": [
    "### No se tienen datos faltantes"
   ]
  },
  {
   "cell_type": "code",
   "execution_count": 237,
   "metadata": {},
   "outputs": [
    {
     "data": {
      "text/plain": [
       "Date          0\n",
       "Close/Last    0\n",
       "Volume        0\n",
       "Open          0\n",
       "High          0\n",
       "Low           0\n",
       "dtype: int64"
      ]
     },
     "execution_count": 237,
     "metadata": {},
     "output_type": "execute_result"
    }
   ],
   "source": [
    "data.isnull().sum()"
   ]
  },
  {
   "cell_type": "markdown",
   "metadata": {},
   "source": [
    "### Regresión lineal mútilple\n",
    "\n",
    "Y = Close/Last\n",
    "\n"
   ]
  },
  {
   "cell_type": "code",
   "execution_count": 238,
   "metadata": {},
   "outputs": [],
   "source": [
    "from sklearn.model_selection import train_test_split\n",
    "from sklearn import linear_model"
   ]
  },
  {
   "cell_type": "code",
   "execution_count": 239,
   "metadata": {},
   "outputs": [
    {
     "data": {
      "text/html": [
       "<div>\n",
       "<style scoped>\n",
       "    .dataframe tbody tr th:only-of-type {\n",
       "        vertical-align: middle;\n",
       "    }\n",
       "\n",
       "    .dataframe tbody tr th {\n",
       "        vertical-align: top;\n",
       "    }\n",
       "\n",
       "    .dataframe thead th {\n",
       "        text-align: right;\n",
       "    }\n",
       "</style>\n",
       "<table border=\"1\" class=\"dataframe\">\n",
       "  <thead>\n",
       "    <tr style=\"text-align: right;\">\n",
       "      <th></th>\n",
       "      <th>Volume</th>\n",
       "      <th>Open</th>\n",
       "      <th>High</th>\n",
       "      <th>Low</th>\n",
       "    </tr>\n",
       "  </thead>\n",
       "  <tbody>\n",
       "    <tr>\n",
       "      <th>0</th>\n",
       "      <td>7916878</td>\n",
       "      <td>102.02</td>\n",
       "      <td>102.02</td>\n",
       "      <td>102.02</td>\n",
       "    </tr>\n",
       "    <tr>\n",
       "      <th>1</th>\n",
       "      <td>7452313</td>\n",
       "      <td>102.33</td>\n",
       "      <td>102.33</td>\n",
       "      <td>102.33</td>\n",
       "    </tr>\n",
       "    <tr>\n",
       "      <th>2</th>\n",
       "      <td>15000770</td>\n",
       "      <td>99.05</td>\n",
       "      <td>99.05</td>\n",
       "      <td>99.05</td>\n",
       "    </tr>\n",
       "    <tr>\n",
       "      <th>3</th>\n",
       "      <td>4423921</td>\n",
       "      <td>98.96</td>\n",
       "      <td>98.96</td>\n",
       "      <td>98.96</td>\n",
       "    </tr>\n",
       "    <tr>\n",
       "      <th>4</th>\n",
       "      <td>5257862</td>\n",
       "      <td>98.99</td>\n",
       "      <td>98.99</td>\n",
       "      <td>98.99</td>\n",
       "    </tr>\n",
       "    <tr>\n",
       "      <th>...</th>\n",
       "      <td>...</td>\n",
       "      <td>...</td>\n",
       "      <td>...</td>\n",
       "      <td>...</td>\n",
       "    </tr>\n",
       "    <tr>\n",
       "      <th>121</th>\n",
       "      <td>8695476</td>\n",
       "      <td>77.02</td>\n",
       "      <td>77.02</td>\n",
       "      <td>77.02</td>\n",
       "    </tr>\n",
       "    <tr>\n",
       "      <th>122</th>\n",
       "      <td>13248100</td>\n",
       "      <td>77.97</td>\n",
       "      <td>77.97</td>\n",
       "      <td>77.97</td>\n",
       "    </tr>\n",
       "    <tr>\n",
       "      <th>123</th>\n",
       "      <td>5178253</td>\n",
       "      <td>78.90</td>\n",
       "      <td>78.90</td>\n",
       "      <td>78.90</td>\n",
       "    </tr>\n",
       "    <tr>\n",
       "      <th>124</th>\n",
       "      <td>5517101</td>\n",
       "      <td>78.57</td>\n",
       "      <td>78.57</td>\n",
       "      <td>78.57</td>\n",
       "    </tr>\n",
       "    <tr>\n",
       "      <th>125</th>\n",
       "      <td>7239429</td>\n",
       "      <td>79.70</td>\n",
       "      <td>79.70</td>\n",
       "      <td>79.70</td>\n",
       "    </tr>\n",
       "  </tbody>\n",
       "</table>\n",
       "<p>126 rows × 4 columns</p>\n",
       "</div>"
      ],
      "text/plain": [
       "       Volume    Open    High     Low\n",
       "0     7916878  102.02  102.02  102.02\n",
       "1     7452313  102.33  102.33  102.33\n",
       "2    15000770   99.05   99.05   99.05\n",
       "3     4423921   98.96   98.96   98.96\n",
       "4     5257862   98.99   98.99   98.99\n",
       "..        ...     ...     ...     ...\n",
       "121   8695476   77.02   77.02   77.02\n",
       "122  13248100   77.97   77.97   77.97\n",
       "123   5178253   78.90   78.90   78.90\n",
       "124   5517101   78.57   78.57   78.57\n",
       "125   7239429   79.70   79.70   79.70\n",
       "\n",
       "[126 rows x 4 columns]"
      ]
     },
     "execution_count": 239,
     "metadata": {},
     "output_type": "execute_result"
    }
   ],
   "source": [
    "y = data['Close/Last']\n",
    "\n",
    "x = data.drop('Date',axis=1)\n",
    "x = x.drop('Close/Last',axis=1)\n",
    "x"
   ]
  },
  {
   "cell_type": "code",
   "execution_count": 240,
   "metadata": {},
   "outputs": [],
   "source": [
    "x_train, x_test, y_train, y_test = train_test_split(x, y, test_size=0.7, random_state=42)"
   ]
  },
  {
   "cell_type": "code",
   "execution_count": 241,
   "metadata": {},
   "outputs": [
    {
     "data": {
      "text/html": [
       "<style>#sk-container-id-11 {color: black;}#sk-container-id-11 pre{padding: 0;}#sk-container-id-11 div.sk-toggleable {background-color: white;}#sk-container-id-11 label.sk-toggleable__label {cursor: pointer;display: block;width: 100%;margin-bottom: 0;padding: 0.3em;box-sizing: border-box;text-align: center;}#sk-container-id-11 label.sk-toggleable__label-arrow:before {content: \"▸\";float: left;margin-right: 0.25em;color: #696969;}#sk-container-id-11 label.sk-toggleable__label-arrow:hover:before {color: black;}#sk-container-id-11 div.sk-estimator:hover label.sk-toggleable__label-arrow:before {color: black;}#sk-container-id-11 div.sk-toggleable__content {max-height: 0;max-width: 0;overflow: hidden;text-align: left;background-color: #f0f8ff;}#sk-container-id-11 div.sk-toggleable__content pre {margin: 0.2em;color: black;border-radius: 0.25em;background-color: #f0f8ff;}#sk-container-id-11 input.sk-toggleable__control:checked~div.sk-toggleable__content {max-height: 200px;max-width: 100%;overflow: auto;}#sk-container-id-11 input.sk-toggleable__control:checked~label.sk-toggleable__label-arrow:before {content: \"▾\";}#sk-container-id-11 div.sk-estimator input.sk-toggleable__control:checked~label.sk-toggleable__label {background-color: #d4ebff;}#sk-container-id-11 div.sk-label input.sk-toggleable__control:checked~label.sk-toggleable__label {background-color: #d4ebff;}#sk-container-id-11 input.sk-hidden--visually {border: 0;clip: rect(1px 1px 1px 1px);clip: rect(1px, 1px, 1px, 1px);height: 1px;margin: -1px;overflow: hidden;padding: 0;position: absolute;width: 1px;}#sk-container-id-11 div.sk-estimator {font-family: monospace;background-color: #f0f8ff;border: 1px dotted black;border-radius: 0.25em;box-sizing: border-box;margin-bottom: 0.5em;}#sk-container-id-11 div.sk-estimator:hover {background-color: #d4ebff;}#sk-container-id-11 div.sk-parallel-item::after {content: \"\";width: 100%;border-bottom: 1px solid gray;flex-grow: 1;}#sk-container-id-11 div.sk-label:hover label.sk-toggleable__label {background-color: #d4ebff;}#sk-container-id-11 div.sk-serial::before {content: \"\";position: absolute;border-left: 1px solid gray;box-sizing: border-box;top: 0;bottom: 0;left: 50%;z-index: 0;}#sk-container-id-11 div.sk-serial {display: flex;flex-direction: column;align-items: center;background-color: white;padding-right: 0.2em;padding-left: 0.2em;position: relative;}#sk-container-id-11 div.sk-item {position: relative;z-index: 1;}#sk-container-id-11 div.sk-parallel {display: flex;align-items: stretch;justify-content: center;background-color: white;position: relative;}#sk-container-id-11 div.sk-item::before, #sk-container-id-11 div.sk-parallel-item::before {content: \"\";position: absolute;border-left: 1px solid gray;box-sizing: border-box;top: 0;bottom: 0;left: 50%;z-index: -1;}#sk-container-id-11 div.sk-parallel-item {display: flex;flex-direction: column;z-index: 1;position: relative;background-color: white;}#sk-container-id-11 div.sk-parallel-item:first-child::after {align-self: flex-end;width: 50%;}#sk-container-id-11 div.sk-parallel-item:last-child::after {align-self: flex-start;width: 50%;}#sk-container-id-11 div.sk-parallel-item:only-child::after {width: 0;}#sk-container-id-11 div.sk-dashed-wrapped {border: 1px dashed gray;margin: 0 0.4em 0.5em 0.4em;box-sizing: border-box;padding-bottom: 0.4em;background-color: white;}#sk-container-id-11 div.sk-label label {font-family: monospace;font-weight: bold;display: inline-block;line-height: 1.2em;}#sk-container-id-11 div.sk-label-container {text-align: center;}#sk-container-id-11 div.sk-container {/* jupyter's `normalize.less` sets `[hidden] { display: none; }` but bootstrap.min.css set `[hidden] { display: none !important; }` so we also need the `!important` here to be able to override the default hidden behavior on the sphinx rendered scikit-learn.org. See: https://github.com/scikit-learn/scikit-learn/issues/21755 */display: inline-block !important;position: relative;}#sk-container-id-11 div.sk-text-repr-fallback {display: none;}</style><div id=\"sk-container-id-11\" class=\"sk-top-container\"><div class=\"sk-text-repr-fallback\"><pre>LinearRegression()</pre><b>In a Jupyter environment, please rerun this cell to show the HTML representation or trust the notebook. <br />On GitHub, the HTML representation is unable to render, please try loading this page with nbviewer.org.</b></div><div class=\"sk-container\" hidden><div class=\"sk-item\"><div class=\"sk-estimator sk-toggleable\"><input class=\"sk-toggleable__control sk-hidden--visually\" id=\"sk-estimator-id-11\" type=\"checkbox\" checked><label for=\"sk-estimator-id-11\" class=\"sk-toggleable__label sk-toggleable__label-arrow\">LinearRegression</label><div class=\"sk-toggleable__content\"><pre>LinearRegression()</pre></div></div></div></div></div>"
      ],
      "text/plain": [
       "LinearRegression()"
      ]
     },
     "execution_count": 241,
     "metadata": {},
     "output_type": "execute_result"
    }
   ],
   "source": [
    "model = linear_model.LinearRegression()\n",
    "model.fit(x_train,y_train)"
   ]
  },
  {
   "cell_type": "code",
   "execution_count": 242,
   "metadata": {},
   "outputs": [
    {
     "data": {
      "text/plain": [
       "array([ 87.77 ,  91.98 ,  71.08 ,  83.2  ,  82.95 ,  88.11 ,  88.385,\n",
       "        90.885,  72.43 ,  86.565,  98.99 ,  78.81 ,  87.   ,  80.03 ,\n",
       "        87.305,  91.67 ,  81.215,  95.21 ,  92.09 ,  96.52 ,  86.81 ,\n",
       "        85.61 ,  88.78 , 102.02 ,  89.565,  90.19 ,  87.51 ,  98.91 ,\n",
       "        78.39 ,  78.57 ,  84.1  ,  85.17 ,  85.97 ,  76.21 ,  78.9  ,\n",
       "        93.89 ,  81.11 ,  88.06 ,  87.09 ,  83.07 ,  73.06 ,  87.33 ,\n",
       "        83.87 ,  82.48 ,  97.75 ,  87.9  ,  83.7  ,  86.13 ,  73.855,\n",
       "        86.9  ,  86.5  ,  83.19 ,  99.64 ,  84.18 ,  73.09 ,  88.54 ,\n",
       "        83.9  ,  85.09 ,  91.605,  86.35 ,  90.01 ,  85.76 ,  98.5  ,\n",
       "        72.85 ,  84.75 ,  84.76 ,  78.36 ,  77.02 ,  96.99 ,  97.13 ,\n",
       "        84.16 ,  98.96 ,  90.92 ,  87.01 ,  85.382,  78.615,  98.49 ,\n",
       "        85.74 ,  76.01 ,  75.986,  91.15 ,  88.   ,  87.21 ,  84.68 ,\n",
       "        86.01 ,  85.11 ,  77.97 ,  86.94 ,  78.   ])"
      ]
     },
     "execution_count": 242,
     "metadata": {},
     "output_type": "execute_result"
    }
   ],
   "source": [
    "y_pred = model.predict(x_test)\n",
    "y_pred"
   ]
  },
  {
   "cell_type": "code",
   "execution_count": 243,
   "metadata": {},
   "outputs": [
    {
     "name": "stdout",
     "output_type": "stream",
     "text": [
      "89\n",
      "89\n"
     ]
    }
   ],
   "source": [
    "print(y_pred.shape[0])\n",
    "print(y_test.shape[0])"
   ]
  },
  {
   "cell_type": "code",
   "execution_count": 244,
   "metadata": {},
   "outputs": [],
   "source": [
    "y_pred, y_test = np.array(y_pred), np.array(y_test)"
   ]
  },
  {
   "cell_type": "markdown",
   "metadata": {},
   "source": [
    "### Métricas"
   ]
  },
  {
   "cell_type": "markdown",
   "metadata": {},
   "source": [
    "## MSE"
   ]
  },
  {
   "cell_type": "code",
   "execution_count": 245,
   "metadata": {},
   "outputs": [
    {
     "name": "stdout",
     "output_type": "stream",
     "text": [
      "Mean Square error manual:  2.269083053219989e-29\n",
      "Mean Square error function:  2.269083053219989e-29\n"
     ]
    }
   ],
   "source": [
    "from sklearn.metrics import mean_squared_error\n",
    "mse = 0\n",
    "def mean_square_error_manual(y_pred, y_test):\n",
    "    return np.square(np.subtract(y_pred, y_test)).mean()\n",
    "    \n",
    "    \n",
    "mse = mean_square_error_manual(y_pred,y_test)\n",
    "print(\"Mean Square error manual: \", mse)\n",
    "print(\"Mean Square error function: \", mean_squared_error(y_test,y_pred))\n",
    "    "
   ]
  },
  {
   "cell_type": "markdown",
   "metadata": {},
   "source": [
    "## RMSE"
   ]
  },
  {
   "cell_type": "code",
   "execution_count": 246,
   "metadata": {},
   "outputs": [
    {
     "name": "stdout",
     "output_type": "stream",
     "text": [
      "Root Mean Square error manual:  4.763489323195749e-15\n",
      "Root Mean Square error function:  4.763489323195749e-15\n"
     ]
    }
   ],
   "source": [
    "from sklearn.metrics import mean_squared_error\n",
    "import math \n",
    "rmse = 0\n",
    "def mean_square_error_manual(y_pred, y_test):\n",
    "    return np.sqrt(np.square(np.subtract(y_pred, y_test)).mean())\n",
    "    \n",
    "    \n",
    "rmse = mean_square_error_manual(y_pred,y_test)\n",
    "print(\"Root Mean Square error manual: \", rmse)\n",
    "print(\"Root Mean Square error function: \", np.sqrt(mean_squared_error(y_test,y_pred)))"
   ]
  },
  {
   "cell_type": "markdown",
   "metadata": {},
   "source": [
    "## MAE"
   ]
  },
  {
   "cell_type": "code",
   "execution_count": 247,
   "metadata": {},
   "outputs": [
    {
     "name": "stdout",
     "output_type": "stream",
     "text": [
      "Mean Absolute Error  manual:  1.5967252488991015e-15\n",
      "Mean Absolute Error function:  1.5967252488991015e-15\n"
     ]
    }
   ],
   "source": [
    "from sklearn.metrics import mean_absolute_error\n",
    "mae = 0\n",
    "def mean_absolute_error_manual(y_pred, y_test):\n",
    "    return abs(np.subtract(y_pred, y_test)).mean()\n",
    "    \n",
    "    \n",
    "mae = mean_absolute_error_manual(y_pred,y_test)\n",
    "print(\"Mean Absolute Error  manual: \", mae)\n",
    "print(\"Mean Absolute Error function: \", (mean_absolute_error_manual(y_test,y_pred)))"
   ]
  },
  {
   "cell_type": "markdown",
   "metadata": {},
   "source": [
    "## R2 Score"
   ]
  },
  {
   "cell_type": "code",
   "execution_count": 250,
   "metadata": {},
   "outputs": [
    {
     "name": "stdout",
     "output_type": "stream",
     "text": [
      "R2 Score manual:  1.0\n",
      "R2 Score function:  1.0\n"
     ]
    }
   ],
   "source": [
    "from sklearn.metrics import r2_score\n",
    "\n",
    "def r2_score_manual(y_pred, y_test):\n",
    "    y_temp = y_test.mean()\n",
    "    ss_total = ((y_test - y_temp) **2 ).sum()\n",
    "    ss_res = ((y_test - y_pred) **2 ).sum()\n",
    "    return (1 - (ss_res / ss_total))\n",
    "    \n",
    "    \n",
    "r2_score_m = r2_score_manual(y_pred,y_test)\n",
    "print(\"R2 Score manual: \", r2_score_m)\n",
    "print(\"R2 Score function: \", (r2_score(y_test,y_pred)))"
   ]
  }
 ],
 "metadata": {
  "kernelspec": {
   "display_name": "base",
   "language": "python",
   "name": "python3"
  },
  "language_info": {
   "codemirror_mode": {
    "name": "ipython",
    "version": 3
   },
   "file_extension": ".py",
   "mimetype": "text/x-python",
   "name": "python",
   "nbconvert_exporter": "python",
   "pygments_lexer": "ipython3",
   "version": "3.10.9"
  }
 },
 "nbformat": 4,
 "nbformat_minor": 2
}
