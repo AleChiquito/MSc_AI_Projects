{
 "cells": [
  {
   "cell_type": "code",
   "execution_count": 8,
   "metadata": {},
   "outputs": [],
   "source": [
    "import pandas as pd\n",
    "import math\n",
    "import matplotlib.pyplot as plt"
   ]
  },
  {
   "cell_type": "code",
   "execution_count": 9,
   "metadata": {},
   "outputs": [
    {
     "data": {
      "text/html": [
       "<div>\n",
       "<style scoped>\n",
       "    .dataframe tbody tr th:only-of-type {\n",
       "        vertical-align: middle;\n",
       "    }\n",
       "\n",
       "    .dataframe tbody tr th {\n",
       "        vertical-align: top;\n",
       "    }\n",
       "\n",
       "    .dataframe thead th {\n",
       "        text-align: right;\n",
       "    }\n",
       "</style>\n",
       "<table border=\"1\" class=\"dataframe\">\n",
       "  <thead>\n",
       "    <tr style=\"text-align: right;\">\n",
       "      <th></th>\n",
       "      <th>Unnamed: 0</th>\n",
       "      <th>Div</th>\n",
       "      <th>Date</th>\n",
       "      <th>HomeTeam</th>\n",
       "      <th>AwayTeam</th>\n",
       "      <th>HomeScore</th>\n",
       "      <th>AwayScore</th>\n",
       "      <th>Result</th>\n",
       "      <th>HTHG</th>\n",
       "      <th>HTAG</th>\n",
       "      <th>...</th>\n",
       "      <th>HST</th>\n",
       "      <th>AST</th>\n",
       "      <th>HomeFouls</th>\n",
       "      <th>AwayFouls</th>\n",
       "      <th>HomeCorners</th>\n",
       "      <th>AwayCorners</th>\n",
       "      <th>HomeYellow</th>\n",
       "      <th>AwayYellow</th>\n",
       "      <th>HomeRed</th>\n",
       "      <th>AwayRed</th>\n",
       "    </tr>\n",
       "  </thead>\n",
       "  <tbody>\n",
       "    <tr>\n",
       "      <th>0</th>\n",
       "      <td>0</td>\n",
       "      <td>F1</td>\n",
       "      <td>10/08/2018</td>\n",
       "      <td>Marseille</td>\n",
       "      <td>Toulouse</td>\n",
       "      <td>4</td>\n",
       "      <td>0</td>\n",
       "      <td>H</td>\n",
       "      <td>1</td>\n",
       "      <td>0</td>\n",
       "      <td>...</td>\n",
       "      <td>10</td>\n",
       "      <td>1</td>\n",
       "      <td>7</td>\n",
       "      <td>20</td>\n",
       "      <td>5</td>\n",
       "      <td>1</td>\n",
       "      <td>1</td>\n",
       "      <td>3</td>\n",
       "      <td>0</td>\n",
       "      <td>0</td>\n",
       "    </tr>\n",
       "    <tr>\n",
       "      <th>1</th>\n",
       "      <td>1</td>\n",
       "      <td>F1</td>\n",
       "      <td>11/08/2018</td>\n",
       "      <td>Angers</td>\n",
       "      <td>Nimes</td>\n",
       "      <td>3</td>\n",
       "      <td>4</td>\n",
       "      <td>A</td>\n",
       "      <td>1</td>\n",
       "      <td>1</td>\n",
       "      <td>...</td>\n",
       "      <td>7</td>\n",
       "      <td>5</td>\n",
       "      <td>20</td>\n",
       "      <td>12</td>\n",
       "      <td>5</td>\n",
       "      <td>1</td>\n",
       "      <td>2</td>\n",
       "      <td>2</td>\n",
       "      <td>0</td>\n",
       "      <td>1</td>\n",
       "    </tr>\n",
       "    <tr>\n",
       "      <th>2</th>\n",
       "      <td>2</td>\n",
       "      <td>F1</td>\n",
       "      <td>11/08/2018</td>\n",
       "      <td>Lille</td>\n",
       "      <td>Rennes</td>\n",
       "      <td>3</td>\n",
       "      <td>1</td>\n",
       "      <td>H</td>\n",
       "      <td>1</td>\n",
       "      <td>1</td>\n",
       "      <td>...</td>\n",
       "      <td>6</td>\n",
       "      <td>2</td>\n",
       "      <td>12</td>\n",
       "      <td>13</td>\n",
       "      <td>2</td>\n",
       "      <td>6</td>\n",
       "      <td>1</td>\n",
       "      <td>0</td>\n",
       "      <td>0</td>\n",
       "      <td>0</td>\n",
       "    </tr>\n",
       "    <tr>\n",
       "      <th>3</th>\n",
       "      <td>3</td>\n",
       "      <td>F1</td>\n",
       "      <td>11/08/2018</td>\n",
       "      <td>Montpellier</td>\n",
       "      <td>Dijon</td>\n",
       "      <td>1</td>\n",
       "      <td>2</td>\n",
       "      <td>A</td>\n",
       "      <td>1</td>\n",
       "      <td>0</td>\n",
       "      <td>...</td>\n",
       "      <td>7</td>\n",
       "      <td>4</td>\n",
       "      <td>15</td>\n",
       "      <td>21</td>\n",
       "      <td>4</td>\n",
       "      <td>2</td>\n",
       "      <td>2</td>\n",
       "      <td>2</td>\n",
       "      <td>0</td>\n",
       "      <td>0</td>\n",
       "    </tr>\n",
       "    <tr>\n",
       "      <th>4</th>\n",
       "      <td>4</td>\n",
       "      <td>F1</td>\n",
       "      <td>11/08/2018</td>\n",
       "      <td>Nantes</td>\n",
       "      <td>Monaco</td>\n",
       "      <td>1</td>\n",
       "      <td>3</td>\n",
       "      <td>A</td>\n",
       "      <td>0</td>\n",
       "      <td>0</td>\n",
       "      <td>...</td>\n",
       "      <td>4</td>\n",
       "      <td>6</td>\n",
       "      <td>8</td>\n",
       "      <td>15</td>\n",
       "      <td>7</td>\n",
       "      <td>2</td>\n",
       "      <td>1</td>\n",
       "      <td>0</td>\n",
       "      <td>0</td>\n",
       "      <td>0</td>\n",
       "    </tr>\n",
       "  </tbody>\n",
       "</table>\n",
       "<p>5 rows × 23 columns</p>\n",
       "</div>"
      ],
      "text/plain": [
       "   Unnamed: 0 Div        Date     HomeTeam  AwayTeam  HomeScore  AwayScore  \\\n",
       "0           0  F1  10/08/2018    Marseille  Toulouse          4          0   \n",
       "1           1  F1  11/08/2018       Angers     Nimes          3          4   \n",
       "2           2  F1  11/08/2018        Lille    Rennes          3          1   \n",
       "3           3  F1  11/08/2018  Montpellier     Dijon          1          2   \n",
       "4           4  F1  11/08/2018       Nantes    Monaco          1          3   \n",
       "\n",
       "  Result  HTHG  HTAG  ... HST  AST  HomeFouls  AwayFouls  HomeCorners  \\\n",
       "0      H     1     0  ...  10    1          7         20            5   \n",
       "1      A     1     1  ...   7    5         20         12            5   \n",
       "2      H     1     1  ...   6    2         12         13            2   \n",
       "3      A     1     0  ...   7    4         15         21            4   \n",
       "4      A     0     0  ...   4    6          8         15            7   \n",
       "\n",
       "   AwayCorners  HomeYellow  AwayYellow  HomeRed  AwayRed  \n",
       "0            1           1           3        0        0  \n",
       "1            1           2           2        0        1  \n",
       "2            6           1           0        0        0  \n",
       "3            2           2           2        0        0  \n",
       "4            2           1           0        0        0  \n",
       "\n",
       "[5 rows x 23 columns]"
      ]
     },
     "execution_count": 9,
     "metadata": {},
     "output_type": "execute_result"
    }
   ],
   "source": [
    "data = pd.read_csv('ligue1.csv')\n",
    "data.head(5)"
   ]
  },
  {
   "cell_type": "markdown",
   "metadata": {},
   "source": [
    "Div = League Division <br>\n",
    "Date = Match Date (dd/mm/yy) <br>\n",
    "HomeTeam = Home Team <br>\n",
    "AwayTeam = Away Team <br>\n",
    "HomeScore = Full Time Home Team Goals <br>\n",
    "AwayScore = Full Time Away Team Goals <br>\n",
    "Result = Full Time Result (H=Home Win, D=Draw, A=Away Win) <br>\n",
    "HTHG = Half Time Home Team Goals <br>\n",
    "HTAG = Half Time Away Team Goals <br>\n",
    "HTR = Half Time Result (H=Home Win, D=Draw, A=Away Win) <br>\n",
    "HomeShots = Home Team Shots <br>\n",
    "AwayShots = Away Team Shots <br>\n",
    "HST = Home Team Shots on Target <br>\n",
    "AST = Away Team Shots on Target <br>\n",
    "HomeFouls = Home Team Fouls Committed <br>\n",
    "AwayFouls = Away Team Fouls Committed <br>\n",
    "HomeCorners = Home Team Corners <br>\n",
    "AwayCorners= Away Team Corners <br>\n",
    "HomeYellow = Home Team Yellow Cards <br>\n",
    "AwayYellow = Away Team Yellow Cards <br>\n",
    "HomeRed = Home Team Red Cards <br>\n",
    "AwayRed = Away Team Red Cards <br>"
   ]
  },
  {
   "cell_type": "code",
   "execution_count": 10,
   "metadata": {},
   "outputs": [],
   "source": [
    "columnas_completas = ['Div', 'Date', 'HomeTeam', 'AwayTeam', 'Result', 'HTR','HomeScore', 'AwayScore', 'HTHG', 'HTAG', 'HomeShots', 'AwayShots', 'HST' ,'AST', 'HomeFouls', 'AwayFouls', 'HomeCorners', 'AwayCorners', 'HomeYellow', 'AwayYellow', 'HomeRed', 'AwayRed']\n",
    "columnas_discretas= ['Div', 'Date', 'HomeTeam', 'AwayTeam', 'Result', 'HTR']\n",
    "columnas_continuas = ['HomeScore', 'AwayScore', 'HTHG', 'HTAG', 'HomeShots', 'AwayShots', 'HST' ,'AST', 'HomeFouls', 'AwayFouls', 'HomeCorners', 'AwayCorners', 'HomeYellow', 'AwayYellow', 'HomeRed', 'AwayRed']"
   ]
  },
  {
   "cell_type": "code",
   "execution_count": 11,
   "metadata": {},
   "outputs": [],
   "source": [
    "def contar_numero_instancias(columns):\n",
    "    num_atributos = []\n",
    "    for column in columns:\n",
    "        suma = 0\n",
    "        for i in data[column]:\n",
    "            suma += 1\n",
    "        num_atributos.append(suma)\n",
    "    return num_atributos\n",
    "\n",
    "numero_instancias = contar_numero_instancias(columnas_completas)"
   ]
  },
  {
   "cell_type": "code",
   "execution_count": 12,
   "metadata": {},
   "outputs": [
    {
     "name": "stdout",
     "output_type": "stream",
     "text": [
      "No hay datos faltantes en el dataset\n"
     ]
    }
   ],
   "source": [
    "def faltantes():\n",
    "    ban, comparar = True, numero_instancias[0]\n",
    "    for i in range(len(numero_instancias)):\n",
    "        if numero_instancias[i] != comparar:\n",
    "            ban = False\n",
    "    if ban == True:\n",
    "        print(\"No hay datos faltantes en el dataset\")\n",
    "    else:\n",
    "        print(\"Hay datos faltantes en el dataset\")\n",
    "\n",
    "faltantes()        "
   ]
  },
  {
   "cell_type": "code",
   "execution_count": 13,
   "metadata": {},
   "outputs": [
    {
     "name": "stdout",
     "output_type": "stream",
     "text": [
      "El promedio de la columna  HomeScore  es:  1.4710526315789474\n",
      "El promedio de la columna  AwayScore  es:  1.0868421052631578\n",
      "El promedio de la columna  HTHG  es:  0.5973684210526315\n",
      "El promedio de la columna  HTAG  es:  0.43157894736842106\n",
      "El promedio de la columna  HomeShots  es:  13.526315789473685\n",
      "El promedio de la columna  AwayShots  es:  11.144736842105264\n",
      "El promedio de la columna  HST  es:  4.697368421052632\n",
      "El promedio de la columna  AST  es:  3.6342105263157896\n",
      "El promedio de la columna  HomeFouls  es:  12.83421052631579\n",
      "El promedio de la columna  AwayFouls  es:  13.521052631578947\n",
      "El promedio de la columna  HomeCorners  es:  5.307894736842106\n",
      "El promedio de la columna  AwayCorners  es:  4.247368421052632\n",
      "El promedio de la columna  HomeYellow  es:  1.6552631578947368\n",
      "El promedio de la columna  AwayYellow  es:  2.018421052631579\n",
      "El promedio de la columna  HomeRed  es:  0.11578947368421053\n",
      "El promedio de la columna  AwayRed  es:  0.14473684210526316\n"
     ]
    }
   ],
   "source": [
    "media = []\n",
    "def promedio_continuo(columns):\n",
    "    for i in columns:\n",
    "        suma = 0\n",
    "        for value in data[i]:\n",
    "            suma += value\n",
    "        suma = suma/len(data[i])\n",
    "        media.append(suma)\n",
    "        print('El promedio de la columna ', i , ' es: ', suma)\n",
    "        \n",
    "promedio_continuo(columnas_continuas)"
   ]
  },
  {
   "cell_type": "code",
   "execution_count": 14,
   "metadata": {},
   "outputs": [
    {
     "data": {
      "text/plain": [
       "Text(0, 0.5, '')"
      ]
     },
     "execution_count": 14,
     "metadata": {},
     "output_type": "execute_result"
    },
    {
     "data": {
      "image/png": "[encoded data removed]",
      "text/plain": [
       "<Figure size 640x480 with 1 Axes>"
      ]
     },
     "metadata": {},
     "output_type": "display_data"
    }
   ],
   "source": [
    "plt.plot(media)\n",
    "plt.xlabel('')\n",
    "plt.ylabel('')"
   ]
  },
  {
   "cell_type": "code",
   "execution_count": 15,
   "metadata": {},
   "outputs": [
    {
     "name": "stdout",
     "output_type": "stream",
     "text": [
      "El Máximo de la columna  HomeScore  es:  9\n",
      "El Máximo de la columna  AwayScore  es:  5\n",
      "El Máximo de la columna  HTHG  es:  3\n",
      "El Máximo de la columna  HTAG  es:  3\n",
      "El Máximo de la columna  HomeShots  es:  30\n",
      "El Máximo de la columna  AwayShots  es:  26\n",
      "El Máximo de la columna  HST  es:  13\n",
      "El Máximo de la columna  AST  es:  11\n",
      "El Máximo de la columna  HomeFouls  es:  27\n",
      "El Máximo de la columna  AwayFouls  es:  28\n",
      "El Máximo de la columna  HomeCorners  es:  18\n",
      "El Máximo de la columna  AwayCorners  es:  14\n",
      "El Máximo de la columna  HomeYellow  es:  6\n",
      "El Máximo de la columna  AwayYellow  es:  6\n",
      "El Máximo de la columna  HomeRed  es:  2\n",
      "El Máximo de la columna  AwayRed  es:  1\n"
     ]
    }
   ],
   "source": [
    "def max_continuo(columns):\n",
    "    for i in columns:\n",
    "        max = 0\n",
    "        for value in data[i]:\n",
    "            if max < value:\n",
    "                max = value\n",
    "        print('El Máximo de la columna ', i , ' es: ', max)\n",
    "\n",
    "max_continuo(columnas_continuas)"
   ]
  },
  {
   "cell_type": "code",
   "execution_count": 16,
   "metadata": {},
   "outputs": [
    {
     "name": "stdout",
     "output_type": "stream",
     "text": [
      "El mínimo de la columna  HomeScore  es:  0\n",
      "El mínimo de la columna  AwayScore  es:  0\n",
      "El mínimo de la columna  HTHG  es:  0\n",
      "El mínimo de la columna  HTAG  es:  0\n",
      "El mínimo de la columna  HomeShots  es:  2\n",
      "El mínimo de la columna  AwayShots  es:  1\n",
      "El mínimo de la columna  HST  es:  0\n",
      "El mínimo de la columna  AST  es:  0\n",
      "El mínimo de la columna  HomeFouls  es:  3\n",
      "El mínimo de la columna  AwayFouls  es:  2\n",
      "El mínimo de la columna  HomeCorners  es:  0\n",
      "El mínimo de la columna  AwayCorners  es:  0\n",
      "El mínimo de la columna  HomeYellow  es:  0\n",
      "El mínimo de la columna  AwayYellow  es:  0\n",
      "El mínimo de la columna  HomeRed  es:  0\n",
      "El mínimo de la columna  AwayRed  es:  0\n"
     ]
    }
   ],
   "source": [
    "def min_continuo(columns):\n",
    "    for i in columns:\n",
    "        min = 100\n",
    "        for value in data[i]:\n",
    "            if min > value:\n",
    "                min = value\n",
    "        print('El mínimo de la columna ', i , ' es: ', min)\n",
    "        \n",
    "min_continuo(columnas_continuas)\n",
    "        "
   ]
  },
  {
   "cell_type": "code",
   "execution_count": 17,
   "metadata": {},
   "outputs": [
    {
     "name": "stdout",
     "output_type": "stream",
     "text": [
      "La mediana de la columna  HomeScore  es:  1\n",
      "La mediana de la columna  AwayScore  es:  1\n",
      "La mediana de la columna  HTHG  es:  0\n",
      "La mediana de la columna  HTAG  es:  0\n",
      "La mediana de la columna  HomeShots  es:  13\n",
      "La mediana de la columna  AwayShots  es:  10\n",
      "La mediana de la columna  HST  es:  4\n",
      "La mediana de la columna  AST  es:  3\n",
      "La mediana de la columna  HomeFouls  es:  13\n",
      "La mediana de la columna  AwayFouls  es:  13\n",
      "La mediana de la columna  HomeCorners  es:  5\n",
      "La mediana de la columna  AwayCorners  es:  4\n",
      "La mediana de la columna  HomeYellow  es:  2\n",
      "La mediana de la columna  AwayYellow  es:  2\n",
      "La mediana de la columna  HomeRed  es:  0\n",
      "La mediana de la columna  AwayRed  es:  0\n"
     ]
    }
   ],
   "source": [
    "def mediana_continua(columns):\n",
    "    for column in columns:\n",
    "        lista_ordenada = data[column].sort_values()\n",
    "        divisor = len(lista_ordenada)/2\n",
    "        i = 0\n",
    "        for valor in lista_ordenada:\n",
    "            i += 1\n",
    "            if i == divisor:\n",
    "                mediana = valor\n",
    "        print('La mediana de la columna ',column,' es: ',mediana)\n",
    "\n",
    "mediana_continua(columnas_continuas)           "
   ]
  },
  {
   "cell_type": "code",
   "execution_count": 18,
   "metadata": {},
   "outputs": [
    {
     "name": "stdout",
     "output_type": "stream",
     "text": [
      "La desviación estándar de la columna  HomeScore  es:  1.2505213466324987\n",
      "La desviación estándar de la columna  AwayScore  es:  1.0946430009558972\n",
      "La desviación estándar de la columna  HTHG  es:  0.7289660303515338\n",
      "La desviación estándar de la columna  HTAG  es:  0.6522157335912783\n",
      "La desviación estándar de la columna  HomeShots  es:  4.706346930513822\n",
      "La desviación estándar de la columna  AwayShots  es:  4.609568880099361\n",
      "La desviación estándar de la columna  HST  es:  2.420338932861186\n",
      "La desviación estándar de la columna  AST  es:  2.105499309765863\n",
      "La desviación estándar de la columna  HomeFouls  es:  3.611238417870917\n",
      "La desviación estándar de la columna  AwayFouls  es:  3.8933105402628527\n",
      "La desviación estándar de la columna  HomeCorners  es:  2.718536155349156\n",
      "La desviación estándar de la columna  AwayCorners  es:  2.524156312153071\n",
      "La desviación estándar de la columna  HomeYellow  es:  1.1956820661816492\n",
      "La desviación estándar de la columna  AwayYellow  es:  1.257034090036305\n",
      "La desviación estándar de la columna  HomeRed  es:  0.3442143866142555\n",
      "La desviación estándar de la columna  AwayRed  es:  0.35229917157267554\n"
     ]
    }
   ],
   "source": [
    "ds_columnas = []\n",
    "def desviasion_estandar(columnas_continuas):\n",
    "    index_media = 0\n",
    "    for column in columnas_continuas:\n",
    "        ds = 0\n",
    "        for i in range(len(data[column])):\n",
    "            ds += (data[column][i] - media[index_media]) ** 2\n",
    "        ds = math.sqrt(ds / (len(data[column]) - 1))\n",
    "        index_media += 1\n",
    "        print('La desviación estándar de la columna ',column,' es: ',ds )\n",
    "    \n",
    "ds_columnas = desviasion_estandar(columnas_continuas)\n",
    "    "
   ]
  }
 ],
 "metadata": {
  "kernelspec": {
   "display_name": "base",
   "language": "python",
   "name": "python3"
  },
  "language_info": {
   "codemirror_mode": {
    "name": "ipython",
    "version": 3
   },
   "file_extension": ".py",
   "mimetype": "text/x-python",
   "name": "python",
   "nbconvert_exporter": "python",
   "pygments_lexer": "ipython3",
   "version": "3.10.9"
  },
  "orig_nbformat": 4
 },
 "nbformat": 4,
 "nbformat_minor": 2
}
