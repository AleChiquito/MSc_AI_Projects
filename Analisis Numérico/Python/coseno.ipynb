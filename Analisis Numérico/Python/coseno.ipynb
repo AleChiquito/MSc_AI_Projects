{
 "cells": [
  {
   "cell_type": "code",
   "execution_count": null,
   "metadata": {},
   "outputs": [],
   "source": [
    "import math\n",
    "\n",
    "def coseno():\n",
    "    "
   ]
  },
  {
   "cell_type": "code",
   "execution_count": null,
   "metadata": {},
   "outputs": [],
   "source": [
    "lim = int(input(\"Ingresa el número límite de la serie: \"))\n",
    "x = float(input(\"Ingresa el valor de x: \"))\n",
    "\n",
    "seno(x, lim)"
   ]
  }
 ],
 "metadata": {
  "language_info": {
   "name": "python"
  },
  "orig_nbformat": 4
 },
 "nbformat": 4,
 "nbformat_minor": 2
}
