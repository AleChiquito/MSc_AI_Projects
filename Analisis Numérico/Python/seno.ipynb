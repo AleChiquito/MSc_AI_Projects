{
 "cells": [
  {
   "cell_type": "code",
   "execution_count": 1,
   "metadata": {},
   "outputs": [],
   "source": [
    "import math\n",
    "\n",
    "def seno(x, lim):\n",
    "    sum = x\n",
    "    for i in range(3,lim+1,2):\n",
    "        sum += (math.pow(x,i))/(math.factorial(i))\n",
    "    print(sum)"
   ]
  },
  {
   "cell_type": "code",
   "execution_count": 2,
   "metadata": {},
   "outputs": [
    {
     "name": "stdout",
     "output_type": "stream",
     "text": [
      "5749.858906525573\n"
     ]
    }
   ],
   "source": [
    "lim = int(input(\"Ingresa el número límite de la serie: \"))\n",
    "x = float(input(\"Ingresa el valor de x: \"))\n",
    "\n",
    "seno(x, lim)"
   ]
  }
 ],
 "metadata": {
  "kernelspec": {
   "display_name": "base",
   "language": "python",
   "name": "python3"
  },
  "language_info": {
   "codemirror_mode": {
    "name": "ipython",
    "version": 3
   },
   "file_extension": ".py",
   "mimetype": "text/x-python",
   "name": "python",
   "nbconvert_exporter": "python",
   "pygments_lexer": "ipython3",
   "version": "3.10.9"
  },
  "orig_nbformat": 4
 },
 "nbformat": 4,
 "nbformat_minor": 2
}
