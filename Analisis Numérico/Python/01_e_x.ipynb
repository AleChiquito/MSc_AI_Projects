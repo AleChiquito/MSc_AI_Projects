{
  "cells": [
    {
      "cell_type": "markdown",
      "metadata": {},
      "source": [
        "# Función $e^x$\n",
        "\n",
        "$e^x = 1 + x + x^2/2! + x^3/3! +...+ x^n/n!$"
      ]
    },
    {
      "cell_type": "markdown",
      "metadata": {},
      "source": [
        "### Se crea función exponencial"
      ]
    },
    {
      "cell_type": "code",
      "execution_count": 1,
      "metadata": {
        "id": "hlxiQgzJ74SF"
      },
      "outputs": [],
      "source": [
        "import math\n",
        "\n",
        "def factorial(lim, x):\n",
        "  resultado, results = 0, []\n",
        "  for i in range(0,lim):\n",
        "    resultado_por_termino = ((x**i)/(math.factorial(i)))\n",
        "    resultado += resultado_por_termino\n",
        "    results.append(resultado_por_termino)\n",
        "  \n",
        "  return resultado, results"
      ]
    },
    {
      "cell_type": "markdown",
      "metadata": {},
      "source": [
        "### Función que gráfica los resultados de la serie"
      ]
    },
    {
      "cell_type": "code",
      "execution_count": 2,
      "metadata": {},
      "outputs": [],
      "source": [
        "def create_graph(results, lim, titulo):\n",
        "    plt.plot(results, range(0, lim), color='red', marker='o')\n",
        "    plt.title(titulo)\n",
        "    plt.xlabel(\"Resultado por termino\")\n",
        "    plt.ylabel(\"# de termino\")\n",
        "    plt.show()"
      ]
    },
    {
      "cell_type": "markdown",
      "metadata": {},
      "source": [
        "### Se pregunta el número de términos para tomar como criterio de paro, además se pregunta el valor de X"
      ]
    },
    {
      "cell_type": "code",
      "execution_count": 3,
      "metadata": {},
      "outputs": [],
      "source": [
        "import matplotlib.pyplot as plt\n",
        "\n",
        "lim = int(input(\"Ingresa el número límite de la serie: \"))\n",
        "x = float(input(\"Ingresa el valor de x: \"))\n",
        "\n"
      ]
    },
    {
      "cell_type": "markdown",
      "metadata": {},
      "source": [
        "### Se manda llamar la función exponencial y se crea la gráfica"
      ]
    },
    {
      "cell_type": "code",
      "execution_count": 4,
      "metadata": {
        "colab": {
          "base_uri": "https://localhost:8080/"
        },
        "id": "NuQuFPvj78Uy",
        "outputId": "75d76a32-b1b0-41f8-efe9-2cdbc5c9fdd2"
      },
      "outputs": [
        {
          "name": "stdout",
          "output_type": "stream",
          "text": [
            "El resultado es:  7.39\n"
          ]
        },
        {
          "data": {
            "image/png": "[encoded data removed]",
            "text/plain": [
              "<Figure size 640x480 with 1 Axes>"
            ]
          },
          "metadata": {},
          "output_type": "display_data"
        }
      ],
      "source": [
        "resultado, results = factorial(lim, x)\n",
        "print(\"El resultado es: \", round(resultado,2))\n",
        "create_graph(results, lim, \"Resultados por términos de función Exponencial\")"
      ]
    },
    {
      "cell_type": "markdown",
      "metadata": {},
      "source": [
        "### Se imprime el resultado por termino"
      ]
    },
    {
      "cell_type": "code",
      "execution_count": 5,
      "metadata": {},
      "outputs": [
        {
          "name": "stdout",
          "output_type": "stream",
          "text": [
            "Tesultado del término  1  :  1.0\n",
            "Tesultado del término  2  :  2.0\n",
            "Tesultado del término  3  :  2.0\n",
            "Tesultado del término  4  :  1.3333333333333333\n",
            "Tesultado del término  5  :  0.6666666666666666\n",
            "Tesultado del término  6  :  0.26666666666666666\n",
            "Tesultado del término  7  :  0.08888888888888889\n",
            "Tesultado del término  8  :  0.025396825396825397\n",
            "Tesultado del término  9  :  0.006349206349206349\n",
            "Tesultado del término  10  :  0.0014109347442680777\n"
          ]
        }
      ],
      "source": [
        "for i in range(0, lim):\n",
        "    print(\"Tesultado del término \", i+1, ' : ', results[i])   "
      ]
    },
    {
      "cell_type": "markdown",
      "metadata": {},
      "source": [
        "### Comparando el resultado"
      ]
    },
    {
      "cell_type": "code",
      "execution_count": 6,
      "metadata": {},
      "outputs": [
        {
          "data": {
            "text/latex": [
              "$\\displaystyle 7.38905609893065$"
            ],
            "text/plain": [
              "7.38905609893065"
            ]
          },
          "execution_count": 6,
          "metadata": {},
          "output_type": "execute_result"
        }
      ],
      "source": [
        "import sympy\n",
        "x = sympy.exp(x)\n",
        "x"
      ]
    }
  ],
  "metadata": {
    "colab": {
      "provenance": []
    },
    "kernelspec": {
      "display_name": "Python 3",
      "name": "python3"
    },
    "language_info": {
      "codemirror_mode": {
        "name": "ipython",
        "version": 3
      },
      "file_extension": ".py",
      "mimetype": "text/x-python",
      "name": "python",
      "nbconvert_exporter": "python",
      "pygments_lexer": "ipython3",
      "version": "3.10.9"
    }
  },
  "nbformat": 4,
  "nbformat_minor": 0
}
